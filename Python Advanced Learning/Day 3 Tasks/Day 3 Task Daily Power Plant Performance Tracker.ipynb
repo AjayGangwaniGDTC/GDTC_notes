{
 "cells": [
  {
   "cell_type": "markdown",
   "id": "7da01f77-4f7c-4e1e-b7fe-373f9531a0ca",
   "metadata": {},
   "source": [
    "# Daily Power Plant Performance Tracker"
   ]
  },
  {
   "cell_type": "markdown",
   "id": "6645d266-6c8f-411b-b019-f637fd3188d1",
   "metadata": {},
   "source": [
    "A power plant manager wants to monitor the daily performance of the plant. Each day, the plant logs:\n",
    "\n",
    "· The start time of power generation\n",
    "\n",
    "· The end time of power generation\n",
    "\n",
    "· The total energy produced during that period (in megawatt-hours, MWh)"
   ]
  },
  {
   "cell_type": "code",
   "execution_count": null,
   "id": "1b51a9c3-78c8-47bb-9d3a-01cdf4b1e078",
   "metadata": {},
   "outputs": [],
   "source": [
    "from datetime import datetime\n",
    "import math\n",
    "\n",
    "lst = []\n",
    "sum = 0\n",
    "average = 0\n",
    "while True:\n",
    "  date_start = input(\"Enter the start date and start time in (YYYY-MM-DD HH:MM:SS): \")\n",
    "  try:\n",
    "    # Use strptime() to parse the string based on the specified format\n",
    "    dt_object = datetime.strptime(date_start, \"%Y-%m-%d %H:%M:%S\")\n",
    "    break\n",
    "  except ValueError:\n",
    "    print(\"Invalid date and time format. Please use YYYY-MM-DD HH:MM:SS.\")\n",
    "\n",
    "while True:\n",
    "  date_end = input(\"Enter the end date and end time in (YYYY-MM-DD HH:MM:SS): \")\n",
    "  try:\n",
    "    # Use strptime() to parse the string based on the specified format\n",
    "    dt_object1 = datetime.strptime(date_end, \"%Y-%m-%d %H:%M:%S\")\n",
    "    if dt_object >= dt_object1:\n",
    "      raise ValueError(\"Please enter the end date and time only after start time\")\n",
    "    break\n",
    "  except ValueError as e:\n",
    "    if \"does not match format\" in str(e):\n",
    "      print(\"Invalid date and time format. Please use YYYY-MM-DD HH:MM:SS.\")\n",
    "    else:\n",
    "       print(f\"Error: {e}\")\n",
    "\n",
    "\n",
    "time_difference = dt_object1 - dt_object\n",
    "totalSeconds = time_difference.total_seconds()\n",
    "hours = totalSeconds/3600\n",
    "print(f\"Time Difference in hours is {hours} hour\")\n",
    "\n",
    "for i in range(math.ceil(hours)):\n",
    "  power = float(input(\"Enter the power consumption(in kWh) for each hour seperately: \"))/1000\n",
    "  lst.append(power)\n",
    "\n",
    "for i in lst:\n",
    "  sum += i\n",
    "average = sum/len(lst)\n",
    "print(f\"The average power usage is {average:.2f} MWh \")"
   ]
  },
  {
   "cell_type": "code",
   "execution_count": null,
   "id": "c4c10fc6-d0d0-4892-bc1e-69cf75a1e614",
   "metadata": {},
   "outputs": [],
   "source": []
  }
 ],
 "metadata": {
  "kernelspec": {
   "display_name": "Python 3 (ipykernel)",
   "language": "python",
   "name": "python3"
  },
  "language_info": {
   "codemirror_mode": {
    "name": "ipython",
    "version": 3
   },
   "file_extension": ".py",
   "mimetype": "text/x-python",
   "name": "python",
   "nbconvert_exporter": "python",
   "pygments_lexer": "ipython3",
   "version": "3.12.7"
  }
 },
 "nbformat": 4,
 "nbformat_minor": 5
}
