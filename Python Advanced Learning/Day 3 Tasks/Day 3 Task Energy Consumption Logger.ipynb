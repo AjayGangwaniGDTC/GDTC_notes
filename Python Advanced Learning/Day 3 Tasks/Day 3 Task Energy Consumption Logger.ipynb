{
 "cells": [
  {
   "cell_type": "markdown",
   "id": "f413bb28-72ef-40c6-9308-4070b4fbc2ee",
   "metadata": {},
   "source": [
    "# Energy Consumption Logger"
   ]
  },
  {
   "cell_type": "markdown",
   "id": "c80a95d3-498e-4de1-abdb-cb1558c61d53",
   "metadata": {},
   "source": [
    "A substation in a power grid records energy meter readings at regular intervals. Each reading includes a timestamp and the total energy consumed (in kilowatt-hours, kWh). You’re tasked with writing a Python script that:\n",
    "\n",
    "· Accepts two readings (start and end) with timestamps\n",
    "\n",
    "· Calculates the time difference in hours\n",
    "\n",
    "· Computes the average power usage (in kilowatts) over that period\n",
    "\n",
    "· Handles invalid input and future timestamps"
   ]
  },
  {
   "cell_type": "code",
   "execution_count": 1,
   "id": "580b77b0-aefb-428a-9e40-bcaa95667ab3",
   "metadata": {},
   "outputs": [
    {
     "name": "stdin",
     "output_type": "stream",
     "text": [
      "Enter the start date and start time in (YYYY-MM-DD HH:MM:SS):  2025-06-18 18:00:00\n",
      "Enter the end date and end time in (YYYY-MM-DD HH:MM:SS):  2025-06-18 19:30:00\n"
     ]
    },
    {
     "name": "stdout",
     "output_type": "stream",
     "text": [
      "Time Difference in hours is 1.5 hour\n"
     ]
    },
    {
     "name": "stdin",
     "output_type": "stream",
     "text": [
      "Enter the power consumption(in kWh) for each hour seperately:  1000\n",
      "Enter the power consumption(in kWh) for each hour seperately:  650\n"
     ]
    },
    {
     "name": "stdout",
     "output_type": "stream",
     "text": [
      "The average power usage is 825.0 kWh \n"
     ]
    }
   ],
   "source": [
    "from datetime import datetime\n",
    "import math\n",
    "\n",
    "lst = []\n",
    "sum = 0\n",
    "average = 0\n",
    "while True:\n",
    "  date_start = input(\"Enter the start date and start time in (YYYY-MM-DD HH:MM:SS): \")\n",
    "  try:\n",
    "    # Use strptime() to parse the string based on the specified format\n",
    "    dt_object = datetime.strptime(date_start, \"%Y-%m-%d %H:%M:%S\")\n",
    "    break\n",
    "  except ValueError:\n",
    "    print(\"Invalid date and time format. Please use YYYY-MM-DD HH:MM:SS.\")\n",
    "\n",
    "while True:\n",
    "  date_end = input(\"Enter the end date and end time in (YYYY-MM-DD HH:MM:SS): \")\n",
    "  try:\n",
    "    # Use strptime() to parse the string based on the specified format\n",
    "    dt_object1 = datetime.strptime(date_end, \"%Y-%m-%d %H:%M:%S\")\n",
    "    if dt_object >= dt_object1:\n",
    "      raise ValueError(\"Please enter the end date and time only after start time\")\n",
    "    break\n",
    "  except ValueError as e:\n",
    "    if \"does not match format\" in str(e):\n",
    "      print(\"Invalid date and time format. Please use YYYY-MM-DD HH:MM:SS.\")\n",
    "    else:\n",
    "       print(f\"Error: {e}\")\n",
    "\n",
    "\n",
    "time_difference = dt_object1 - dt_object\n",
    "totalSeconds = time_difference.total_seconds()\n",
    "hours = totalSeconds/3600\n",
    "print(f\"Time Difference in hours is {hours} hour\")\n",
    "\n",
    "for i in range(math.ceil(hours)):\n",
    "  power = float(input(\"Enter the power consumption(in kWh) for each hour seperately: \"))\n",
    "  lst.append(power)\n",
    "\n",
    "for i in lst:\n",
    "  sum += i\n",
    "average = sum/len(lst)\n",
    "print(f\"The average power usage is {average} kWh \")"
   ]
  },
  {
   "cell_type": "markdown",
   "id": "241cdf37-2ab1-488a-8eaf-22563f9373b6",
   "metadata": {},
   "source": [
    "# Daily Power Plant Performance Tracker"
   ]
  },
  {
   "cell_type": "code",
   "execution_count": 3,
   "id": "df41d048-1d59-4cc8-b9ce-c7e28f8665a6",
   "metadata": {},
   "outputs": [
    {
     "name": "stdin",
     "output_type": "stream",
     "text": [
      "Enter the start date and start time in (YYYY-MM-DD HH:MM:SS):  2025-06-18 18:00:00\n",
      "Enter the end date and end time in (YYYY-MM-DD HH:MM:SS):  2025-06-18 19:30:00\n"
     ]
    },
    {
     "name": "stdout",
     "output_type": "stream",
     "text": [
      "Time Difference in hours is 1.5 hour\n"
     ]
    },
    {
     "name": "stdin",
     "output_type": "stream",
     "text": [
      "Enter the power consumption(in kWh) for each hour seperately:  5000\n",
      "Enter the power consumption(in kWh) for each hour seperately:  6500\n"
     ]
    },
    {
     "name": "stdout",
     "output_type": "stream",
     "text": [
      "The average power usage is 5.75 MWh \n"
     ]
    }
   ],
   "source": [
    "from datetime import datetime\n",
    "import math\n",
    "\n",
    "lst = []\n",
    "sum = 0\n",
    "average = 0\n",
    "while True:\n",
    "  date_start = input(\"Enter the start date and start time in (YYYY-MM-DD HH:MM:SS): \")\n",
    "  try:\n",
    "    # Use strptime() to parse the string based on the specified format\n",
    "    dt_object = datetime.strptime(date_start, \"%Y-%m-%d %H:%M:%S\")\n",
    "    break\n",
    "  except ValueError:\n",
    "    print(\"Invalid date and time format. Please use YYYY-MM-DD HH:MM:SS.\")\n",
    "\n",
    "while True:\n",
    "  date_end = input(\"Enter the end date and end time in (YYYY-MM-DD HH:MM:SS): \")\n",
    "  try:\n",
    "    # Use strptime() to parse the string based on the specified format\n",
    "    dt_object1 = datetime.strptime(date_end, \"%Y-%m-%d %H:%M:%S\")\n",
    "    if dt_object >= dt_object1:\n",
    "      raise ValueError(\"Please enter the end date and time only after start time\")\n",
    "    break\n",
    "  except ValueError as e:\n",
    "    if \"does not match format\" in str(e):\n",
    "      print(\"Invalid date and time format. Please use YYYY-MM-DD HH:MM:SS.\")\n",
    "    else:\n",
    "       print(f\"Error: {e}\")\n",
    "\n",
    "\n",
    "time_difference = dt_object1 - dt_object\n",
    "totalSeconds = time_difference.total_seconds()\n",
    "hours = totalSeconds/3600\n",
    "print(f\"Time Difference in hours is {hours} hour\")\n",
    "\n",
    "for i in range(math.ceil(hours)):\n",
    "  power = float(input(\"Enter the power consumption(in kWh) for each hour seperately: \"))/1000\n",
    "  lst.append(power)\n",
    "\n",
    "for i in lst:\n",
    "  sum += i\n",
    "average = sum/len(lst)\n",
    "print(f\"The average power usage is {average:.2f} MWh \")"
   ]
  },
  {
   "cell_type": "markdown",
   "id": "683a8a9c-80c0-4d37-89df-f1249150e960",
   "metadata": {},
   "source": [
    " # Load Balancing Between Two Generators"
   ]
  },
  {
   "cell_type": "code",
   "execution_count": 4,
   "id": "84ec9459-570c-46e4-90ce-ec9c9279ef9e",
   "metadata": {},
   "outputs": [
    {
     "name": "stdin",
     "output_type": "stream",
     "text": [
      "Enter the demand(in MW):  8.6\n"
     ]
    },
    {
     "name": "stdout",
     "output_type": "stream",
     "text": [
      "Generator A can handle load up to 5 MW\n",
      "Generator B can handle load up to 3 MW\n"
     ]
    }
   ],
   "source": [
    "demand = float(input(\"Enter the demand(in MW): \"))\n",
    "a = 0.6 * demand\n",
    "b = (1-0.6) * demand\n",
    "\n",
    "print(f\"Generator A can handle load up to {a:.0f} MW\")\n",
    "print(f\"Generator B can handle load up to {b:.0f} MW\")"
   ]
  },
  {
   "cell_type": "code",
   "execution_count": null,
   "id": "07ad24b0-229d-450e-8ea5-f229dbdb2d43",
   "metadata": {},
   "outputs": [],
   "source": []
  }
 ],
 "metadata": {
  "kernelspec": {
   "display_name": "Python 3 (ipykernel)",
   "language": "python",
   "name": "python3"
  },
  "language_info": {
   "codemirror_mode": {
    "name": "ipython",
    "version": 3
   },
   "file_extension": ".py",
   "mimetype": "text/x-python",
   "name": "python",
   "nbconvert_exporter": "python",
   "pygments_lexer": "ipython3",
   "version": "3.12.7"
  }
 },
 "nbformat": 4,
 "nbformat_minor": 5
}
