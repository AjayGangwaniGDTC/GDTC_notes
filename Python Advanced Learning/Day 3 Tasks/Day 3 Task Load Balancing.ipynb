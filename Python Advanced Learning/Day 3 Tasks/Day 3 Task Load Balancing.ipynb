{
 "cells": [
  {
   "cell_type": "markdown",
   "id": "340ba306-0710-4b8d-8d94-cc29ee221509",
   "metadata": {},
   "source": [
    "# Load Balancing Between Two Generators"
   ]
  },
  {
   "cell_type": "markdown",
   "id": "dbc88ccb-3624-4adf-a6c2-252e06a413a5",
   "metadata": {},
   "source": [
    "A power plant has two generators. Generator A can handle up to 60% of the total load, and Generator B takes the rest. Given a total demand in megawatts (MW), calculate how much load each generator should handle and round the values to the nearest whole number."
   ]
  },
  {
   "cell_type": "code",
   "execution_count": 1,
   "id": "49951bb9-d611-4143-b699-a52451d99942",
   "metadata": {},
   "outputs": [
    {
     "name": "stdin",
     "output_type": "stream",
     "text": [
      "Enter the demand(in MW):  5.5\n"
     ]
    },
    {
     "name": "stdout",
     "output_type": "stream",
     "text": [
      "Generator A can handle load up to 3 MW\n",
      "Generator B can handle load up to 2 MW\n"
     ]
    }
   ],
   "source": [
    "demand = float(input(\"Enter the demand(in MW): \"))\n",
    "a = 0.6 * demand\n",
    "b = (1-0.6) * demand\n",
    "\n",
    "print(f\"Generator A can handle load up to {a:.0f} MW\")\n",
    "print(f\"Generator B can handle load up to {b:.0f} MW\")"
   ]
  },
  {
   "cell_type": "code",
   "execution_count": null,
   "id": "92a83b61-1b9f-4149-9f56-e6eeadbdc073",
   "metadata": {},
   "outputs": [],
   "source": []
  }
 ],
 "metadata": {
  "kernelspec": {
   "display_name": "Python 3 (ipykernel)",
   "language": "python",
   "name": "python3"
  },
  "language_info": {
   "codemirror_mode": {
    "name": "ipython",
    "version": 3
   },
   "file_extension": ".py",
   "mimetype": "text/x-python",
   "name": "python",
   "nbconvert_exporter": "python",
   "pygments_lexer": "ipython3",
   "version": "3.12.7"
  }
 },
 "nbformat": 4,
 "nbformat_minor": 5
}
