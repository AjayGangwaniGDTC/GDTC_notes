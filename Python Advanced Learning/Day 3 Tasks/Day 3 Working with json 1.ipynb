{
 "cells": [
  {
   "cell_type": "code",
   "execution_count": 1,
   "id": "e2878cc1-8472-449d-a362-f39ffc4ba556",
   "metadata": {},
   "outputs": [],
   "source": [
    "import json"
   ]
  },
  {
   "cell_type": "code",
   "execution_count": 8,
   "id": "3c8c78d1-aa60-415b-b274-fe48fdbf027c",
   "metadata": {},
   "outputs": [],
   "source": [
    "filename = \"scroll.json\"\n",
    "\n",
    "def load_data():\n",
    "    try:\n",
    "        with open(filename, 'r') as f:\n",
    "            return json.load(f)\n",
    "    except (FileNotFoundError, json.JSONDecodeError):\n",
    "        return []\n",
    "\n",
    "def save_data(data):\n",
    "    with open(filename, 'w') as f:\n",
    "        json.dump(data, f, indent=4)\n",
    "\n",
    "def insert_data():\n",
    "    data1 = load_data()\n",
    "    ids = int(input(\"Enter the id:\"))\n",
    "    if any(i['id'] == ids for i in data1) :\n",
    "        print(\"Data already exists\")\n",
    "        return\n",
    "    title = input(\"Enter the title:\")\n",
    "    category = input(\"Enter the category:\")\n",
    "    author = input(\"Enter the author:\")\n",
    "    tags = list(input(\"Enter the tags:\").split())\n",
    "    \n",
    "        \n",
    "    data1.append({'id':ids,'title':title,'category':category,'author':author,'tags':tags})\n",
    "    save_data(data1)"
   ]
  },
  {
   "cell_type": "code",
   "execution_count": 9,
   "id": "5a1f4b2e-12b6-476b-8545-0823e996ac26",
   "metadata": {},
   "outputs": [
    {
     "name": "stdin",
     "output_type": "stream",
     "text": [
      "Enter the id: 1\n"
     ]
    },
    {
     "name": "stdout",
     "output_type": "stream",
     "text": [
      "Data already exists\n"
     ]
    }
   ],
   "source": [
    "insert_data()"
   ]
  },
  {
   "cell_type": "code",
   "execution_count": 7,
   "id": "c8679891-437a-4ac2-b9bd-b4c86fe9c60e",
   "metadata": {},
   "outputs": [],
   "source": [
    "with open(\"scroll.json\", \"a\") as file:\n",
    "    json.dump(data, file)"
   ]
  },
  {
   "cell_type": "code",
   "execution_count": null,
   "id": "cf1ceff8-bfe0-4430-abee-06eb4397d3e3",
   "metadata": {},
   "outputs": [],
   "source": [
    "file"
   ]
  }
 ],
 "metadata": {
  "kernelspec": {
   "display_name": "Python 3 (ipykernel)",
   "language": "python",
   "name": "python3"
  },
  "language_info": {
   "codemirror_mode": {
    "name": "ipython",
    "version": 3
   },
   "file_extension": ".py",
   "mimetype": "text/x-python",
   "name": "python",
   "nbconvert_exporter": "python",
   "pygments_lexer": "ipython3",
   "version": "3.12.7"
  }
 },
 "nbformat": 4,
 "nbformat_minor": 5
}
