{
 "cells": [
  {
   "cell_type": "markdown",
   "id": "0e127844-ae65-4577-a84d-38fe26e0ce48",
   "metadata": {},
   "source": [
    "# NumPy array Broadcasting"
   ]
  },
  {
   "cell_type": "markdown",
   "id": "f232b2c8-7f42-43d5-9be9-1de085032975",
   "metadata": {},
   "source": [
    "broadcasting allows us to perform elements based operations.\n",
    "also useful when we want operation in current array.\n",
    "also useful when we work with different shape of arrays together for arithmetic operations."
   ]
  },
  {
   "cell_type": "raw",
   "id": "4c844a99-01ce-4592-8e5e-30973f3ec441",
   "metadata": {},
   "source": [
    "#it checks the shape of arrays from right to left\n",
    "1. either they are equal in size\n",
    "2. one of them is 1 \n",
    "\n",
    "if above condition don't match it will raise numpy array ValueError\n",
    "if any array in operation is small then numpy automatically fill it with 1 which all kind of array possible to broadcast\n",
    "\n",
    "True means broadcast possible else not\n",
    "\n",
    "Shape A   Shape B   Result    Possibility\n",
    "(3,1)     (1,4)     (3,4)     True\n",
    "(5,)      (1,5)     (1,5)     True\n",
    "(6,7)     (6,1)     (6,7)     True\n",
    "(3,2)     (2,3)     not       False\n",
    "(4,5)     (4,)      not       False"
   ]
  },
  {
   "cell_type": "markdown",
   "id": "4f1fa0db-82b8-4147-a81b-3af693d8daa8",
   "metadata": {},
   "source": [
    "# Scaler Broadcasting"
   ]
  },
  {
   "cell_type": "code",
   "execution_count": 2,
   "id": "ccf0e655-7c5e-470d-8629-bc965e56048e",
   "metadata": {},
   "outputs": [
    {
     "name": "stdout",
     "output_type": "stream",
     "text": [
      "[11 12 13]\n"
     ]
    }
   ],
   "source": [
    "import numpy as np \n",
    "\n",
    "a=np.array([1,2,3])\n",
    "result = a + 10\n",
    "print(result)"
   ]
  },
  {
   "cell_type": "markdown",
   "id": "7ea465eb-0685-4a7f-9dcb-932190da0a52",
   "metadata": {},
   "source": [
    "# 1D to 2D broadcasting"
   ]
  },
  {
   "cell_type": "code",
   "execution_count": 3,
   "id": "1ab96a5b-7923-4622-aa20-fed2f10d522b",
   "metadata": {},
   "outputs": [
    {
     "name": "stdout",
     "output_type": "stream",
     "text": [
      "[[10 20 30]\n",
      " [20 40 60]\n",
      " [30 60 90]]\n"
     ]
    }
   ],
   "source": [
    "a=np.array([[1],[2],[3]])\n",
    "b=np.array([10,20,30])\n",
    "result = a * b\n",
    "print(result)"
   ]
  },
  {
   "cell_type": "markdown",
   "id": "ed486840-720c-44d1-85df-131d844a92fc",
   "metadata": {},
   "source": [
    "# Row wise Broadcasting"
   ]
  },
  {
   "cell_type": "code",
   "execution_count": 4,
   "id": "cc8f7610-ee5a-45a1-9759-90b9f043bf3d",
   "metadata": {},
   "outputs": [],
   "source": [
    "base_load = np.array([[60],[70],[80]]) #shape(3,1)\n",
    "daily_factors = np.array([0.9,1.0,1.1,1.2]) #shape(4,)\n",
    "\n",
    "adjusted = base_load * daily_factors #shape(3,4)"
   ]
  },
  {
   "cell_type": "code",
   "execution_count": 5,
   "id": "3e9a6974-aacf-4b42-959d-9f7c0d20ab8e",
   "metadata": {},
   "outputs": [
    {
     "data": {
      "text/plain": [
       "array([[54., 60., 66., 72.],\n",
       "       [63., 70., 77., 84.],\n",
       "       [72., 80., 88., 96.]])"
      ]
     },
     "execution_count": 5,
     "metadata": {},
     "output_type": "execute_result"
    }
   ],
   "source": [
    "adjusted"
   ]
  },
  {
   "cell_type": "markdown",
   "id": "7fb6f020-4fab-42b8-b962-66d9bb4881ba",
   "metadata": {},
   "source": [
    "# Broadcasting using np.newaxis"
   ]
  },
  {
   "cell_type": "code",
   "execution_count": 6,
   "id": "1935ccef-f738-4f60-865a-68d459eb7298",
   "metadata": {},
   "outputs": [],
   "source": [
    "a=np.array([1,2,3]) # shape(3,)\n",
    "b=a[:, np.newaxis] # shape(3,1)\n",
    "c=np.array([10,20]) #shape(2,)\n",
    "result=b*c #shape(3,2)"
   ]
  },
  {
   "cell_type": "code",
   "execution_count": 7,
   "id": "6c279f0a-3815-43a3-ab9a-18a4fe550627",
   "metadata": {},
   "outputs": [
    {
     "data": {
      "text/plain": [
       "array([[10, 20],\n",
       "       [20, 40],\n",
       "       [30, 60]])"
      ]
     },
     "execution_count": 7,
     "metadata": {},
     "output_type": "execute_result"
    }
   ],
   "source": [
    "result"
   ]
  },
  {
   "cell_type": "code",
   "execution_count": 10,
   "id": "1d27d65a-bded-4b41-9ed3-6839d4427f01",
   "metadata": {},
   "outputs": [
    {
     "ename": "ValueError",
     "evalue": "operands could not be broadcast together with shapes (3,) (2,) ",
     "output_type": "error",
     "traceback": [
      "\u001b[1;31m---------------------------------------------------------------------------\u001b[0m",
      "\u001b[1;31mValueError\u001b[0m                                Traceback (most recent call last)",
      "Cell \u001b[1;32mIn[10], line 1\u001b[0m\n\u001b[1;32m----> 1\u001b[0m result \u001b[38;5;241m=\u001b[39m a\u001b[38;5;241m*\u001b[39mc\n",
      "\u001b[1;31mValueError\u001b[0m: operands could not be broadcast together with shapes (3,) (2,) "
     ]
    }
   ],
   "source": [
    "result = a*c #will generate error because level issue"
   ]
  },
  {
   "cell_type": "markdown",
   "id": "49eb4013-4b18-4b44-8888-877d522d52ef",
   "metadata": {},
   "source": [
    "# Column wise broadcasting using axis"
   ]
  },
  {
   "cell_type": "code",
   "execution_count": 11,
   "id": "71f58c85-9801-4ae2-8019-085d8bf1991a",
   "metadata": {},
   "outputs": [],
   "source": [
    "hourly_profile  = np.linspace(0.8,1.2,24) #shape(24,)\n",
    "load = np.array([100,120,90]) #shape(3,)\n",
    "hourly_matrix = load[: , np.newaxis] * hourly_profile #shape(3,24)"
   ]
  },
  {
   "cell_type": "code",
   "execution_count": 12,
   "id": "45f1bcc4-73f5-4ca8-9aed-53b63088ad1f",
   "metadata": {},
   "outputs": [
    {
     "data": {
      "text/plain": [
       "array([[ 80.        ,  81.73913043,  83.47826087,  85.2173913 ,\n",
       "         86.95652174,  88.69565217,  90.43478261,  92.17391304,\n",
       "         93.91304348,  95.65217391,  97.39130435,  99.13043478,\n",
       "        100.86956522, 102.60869565, 104.34782609, 106.08695652,\n",
       "        107.82608696, 109.56521739, 111.30434783, 113.04347826,\n",
       "        114.7826087 , 116.52173913, 118.26086957, 120.        ],\n",
       "       [ 96.        ,  98.08695652, 100.17391304, 102.26086957,\n",
       "        104.34782609, 106.43478261, 108.52173913, 110.60869565,\n",
       "        112.69565217, 114.7826087 , 116.86956522, 118.95652174,\n",
       "        121.04347826, 123.13043478, 125.2173913 , 127.30434783,\n",
       "        129.39130435, 131.47826087, 133.56521739, 135.65217391,\n",
       "        137.73913043, 139.82608696, 141.91304348, 144.        ],\n",
       "       [ 72.        ,  73.56521739,  75.13043478,  76.69565217,\n",
       "         78.26086957,  79.82608696,  81.39130435,  82.95652174,\n",
       "         84.52173913,  86.08695652,  87.65217391,  89.2173913 ,\n",
       "         90.7826087 ,  92.34782609,  93.91304348,  95.47826087,\n",
       "         97.04347826,  98.60869565, 100.17391304, 101.73913043,\n",
       "        103.30434783, 104.86956522, 106.43478261, 108.        ]])"
      ]
     },
     "execution_count": 12,
     "metadata": {},
     "output_type": "execute_result"
    }
   ],
   "source": [
    "hourly_matrix"
   ]
  },
  {
   "cell_type": "markdown",
   "id": "ba2d497e-3460-4c69-bcb3-7204a2e53371",
   "metadata": {},
   "source": [
    "# Conditional Broadcasting"
   ]
  },
  {
   "cell_type": "code",
   "execution_count": 13,
   "id": "83dfdaac-c244-4306-b96e-ca9cba322b09",
   "metadata": {},
   "outputs": [],
   "source": [
    "voltages = np.array([1.01,0.98,1.05,0.92])\n",
    "status = np.where(voltages<0.95, \"LOW\", \"OK\")"
   ]
  },
  {
   "cell_type": "code",
   "execution_count": 14,
   "id": "dd502ee4-0c69-4ebb-8588-a446e1cd5285",
   "metadata": {},
   "outputs": [
    {
     "data": {
      "text/plain": [
       "array(['OK', 'OK', 'OK', 'LOW'], dtype='<U3')"
      ]
     },
     "execution_count": 14,
     "metadata": {},
     "output_type": "execute_result"
    }
   ],
   "source": [
    "status"
   ]
  },
  {
   "cell_type": "markdown",
   "id": "1b5eb8c6-0499-4c39-b3dc-3b5d4df1b2bc",
   "metadata": {},
   "source": [
    "# Challenge 1:"
   ]
  },
  {
   "cell_type": "code",
   "execution_count": 52,
   "id": "417b044f-b04f-4f9a-b015-1c54b448dafe",
   "metadata": {},
   "outputs": [
    {
     "name": "stdout",
     "output_type": "stream",
     "text": [
      "[[ 20  40  60  80 100 120 140]\n",
      " [ 40  80 120 160 200 240 280]\n",
      " [ 60 120 180 240 300 360 420]\n",
      " [ 80 160 240 320 400 480 560]]\n"
     ]
    }
   ],
   "source": [
    "base_load = np.array([20,40,60,80])\n",
    "days_factor = np.array([1,2,3,4,5,6,7])\n",
    "\n",
    "weekly_load_matrix = base_load[:, np.newaxis] * days_factor\n",
    "print(weekly_load_matrix)"
   ]
  },
  {
   "cell_type": "markdown",
   "id": "2714a5bf-be33-4af3-ad68-b1e799c2718a",
   "metadata": {},
   "source": [
    "# Challenge 2:"
   ]
  },
  {
   "cell_type": "code",
   "execution_count": 56,
   "id": "374bbd70-8d70-4c5a-9742-46a5acb0ac4e",
   "metadata": {},
   "outputs": [],
   "source": [
    "hourly_profile = np.array([2,4,6,8,10,12])\n",
    "weekly_load_over_time = weekly_load_matrix[:,:, np.newaxis] + hourly_profile "
   ]
  },
  {
   "cell_type": "code",
   "execution_count": 57,
   "id": "1a2dc48b-c0e3-4001-a10f-c09d9578a120",
   "metadata": {},
   "outputs": [
    {
     "data": {
      "text/plain": [
       "array([[[ 22,  24,  26,  28,  30,  32],\n",
       "        [ 42,  44,  46,  48,  50,  52],\n",
       "        [ 62,  64,  66,  68,  70,  72],\n",
       "        [ 82,  84,  86,  88,  90,  92],\n",
       "        [102, 104, 106, 108, 110, 112],\n",
       "        [122, 124, 126, 128, 130, 132],\n",
       "        [142, 144, 146, 148, 150, 152]],\n",
       "\n",
       "       [[ 42,  44,  46,  48,  50,  52],\n",
       "        [ 82,  84,  86,  88,  90,  92],\n",
       "        [122, 124, 126, 128, 130, 132],\n",
       "        [162, 164, 166, 168, 170, 172],\n",
       "        [202, 204, 206, 208, 210, 212],\n",
       "        [242, 244, 246, 248, 250, 252],\n",
       "        [282, 284, 286, 288, 290, 292]],\n",
       "\n",
       "       [[ 62,  64,  66,  68,  70,  72],\n",
       "        [122, 124, 126, 128, 130, 132],\n",
       "        [182, 184, 186, 188, 190, 192],\n",
       "        [242, 244, 246, 248, 250, 252],\n",
       "        [302, 304, 306, 308, 310, 312],\n",
       "        [362, 364, 366, 368, 370, 372],\n",
       "        [422, 424, 426, 428, 430, 432]],\n",
       "\n",
       "       [[ 82,  84,  86,  88,  90,  92],\n",
       "        [162, 164, 166, 168, 170, 172],\n",
       "        [242, 244, 246, 248, 250, 252],\n",
       "        [322, 324, 326, 328, 330, 332],\n",
       "        [402, 404, 406, 408, 410, 412],\n",
       "        [482, 484, 486, 488, 490, 492],\n",
       "        [562, 564, 566, 568, 570, 572]]])"
      ]
     },
     "execution_count": 57,
     "metadata": {},
     "output_type": "execute_result"
    }
   ],
   "source": [
    "weekly_load_over_time"
   ]
  },
  {
   "cell_type": "code",
   "execution_count": 58,
   "id": "3d714acd-e050-4c38-ae3e-5b2f610a0839",
   "metadata": {},
   "outputs": [
    {
     "data": {
      "text/plain": [
       "(4, 7, 6)"
      ]
     },
     "execution_count": 58,
     "metadata": {},
     "output_type": "execute_result"
    }
   ],
   "source": [
    "weekly_load_over_time.shape"
   ]
  },
  {
   "cell_type": "code",
   "execution_count": null,
   "id": "d249b438-a9a1-419c-a6e7-a03489686b17",
   "metadata": {},
   "outputs": [],
   "source": []
  }
 ],
 "metadata": {
  "kernelspec": {
   "display_name": "Python 3 (ipykernel)",
   "language": "python",
   "name": "python3"
  },
  "language_info": {
   "codemirror_mode": {
    "name": "ipython",
    "version": 3
   },
   "file_extension": ".py",
   "mimetype": "text/x-python",
   "name": "python",
   "nbconvert_exporter": "python",
   "pygments_lexer": "ipython3",
   "version": "3.12.7"
  }
 },
 "nbformat": 4,
 "nbformat_minor": 5
}
