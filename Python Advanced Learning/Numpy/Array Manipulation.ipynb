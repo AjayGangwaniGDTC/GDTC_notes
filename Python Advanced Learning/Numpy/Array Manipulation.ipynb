{
 "cells": [
  {
   "cell_type": "markdown",
   "id": "d81f9b6a-70f3-4808-b97d-81a5bf148a42",
   "metadata": {},
   "source": [
    "# 1. Shape Manipulation\n",
    "\n",
    "- arr.reshape()\n",
    "- arr.ravel()\n",
    "- arr.flatten()\n",
    "- arr.resize()"
   ]
  },
  {
   "cell_type": "code",
   "execution_count": 11,
   "id": "4145df35-34a1-4696-8044-0a433d148e75",
   "metadata": {},
   "outputs": [
    {
     "data": {
      "text/plain": [
       "array([[1, 3, 5],\n",
       "       [2, 4, 6]])"
      ]
     },
     "execution_count": 11,
     "metadata": {},
     "output_type": "execute_result"
    }
   ],
   "source": [
    "import numpy as np \n",
    "\n",
    "# 1. arr.reshape()\n",
    "a=[1,2,3,4,5,6]\n",
    "arr=np.array(a)\n",
    "#want new shape of array based on arr\n",
    "#there are three types of order 'F': column major, 'C': Row major, 'A': row major\n",
    "b=arr.reshape((2,3), order='F')\n",
    "b"
   ]
  },
  {
   "cell_type": "code",
   "execution_count": 12,
   "id": "5e87e491-52b7-4be2-b2a3-7a967cbee57c",
   "metadata": {},
   "outputs": [
    {
     "data": {
      "text/plain": [
       "array([1, 3, 2, 4])"
      ]
     },
     "execution_count": 12,
     "metadata": {},
     "output_type": "execute_result"
    }
   ],
   "source": [
    "# 2. arr.ravel()\n",
    "a=np.array([[1,2],[3,4]])\n",
    "b=a.ravel(order='F')\n",
    "b"
   ]
  },
  {
   "cell_type": "code",
   "execution_count": 13,
   "id": "0d7265df-20cc-46ff-8073-97f4004d0cb3",
   "metadata": {},
   "outputs": [
    {
     "data": {
      "text/plain": [
       "array([1, 3, 2, 4])"
      ]
     },
     "execution_count": 13,
     "metadata": {},
     "output_type": "execute_result"
    }
   ],
   "source": [
    "# arr.flatten() used to flatten multidimensional array into vector\n",
    "a=np.array([[1,2],[3,4]])\n",
    "b=a.flatten(order='F')\n",
    "b"
   ]
  },
  {
   "cell_type": "code",
   "execution_count": 14,
   "id": "6865ea27-bcd7-487f-b480-66663bbc18e2",
   "metadata": {},
   "outputs": [
    {
     "data": {
      "text/plain": [
       "array([[[10, 20],\n",
       "        [30,  0],\n",
       "        [ 0,  0]],\n",
       "\n",
       "       [[ 0,  0],\n",
       "        [ 0,  0],\n",
       "        [ 0,  0]]])"
      ]
     },
     "execution_count": 14,
     "metadata": {},
     "output_type": "execute_result"
    }
   ],
   "source": [
    "#arr.resize()\n",
    "a=np.array([10,20,30])\n",
    "a.resize((2,3,2))\n",
    "a"
   ]
  },
  {
   "cell_type": "markdown",
   "id": "e18e674b-126e-4a02-9152-cb4d516e04d2",
   "metadata": {},
   "source": [
    "# 2. Transpose and Axies Manipulation\n",
    "\n",
    "- arr.transpose()\n",
    "- np.swapaxes()\n",
    "- np.moveaxis()"
   ]
  },
  {
   "cell_type": "code",
   "execution_count": 15,
   "id": "73870959-d416-4e34-84e3-873f58b76864",
   "metadata": {},
   "outputs": [],
   "source": [
    "#arr.transpose() converts rows in column and column in row\n",
    "a=np.array([[1,2], [3,4]])\n",
    "b=a.transpose()\n",
    "c=a.transpose(1,0)\n",
    "d=a.transpose(0,1)"
   ]
  },
  {
   "cell_type": "code",
   "execution_count": 16,
   "id": "34b7baaa-3ad2-4b5f-8f96-e9c8854f0b42",
   "metadata": {},
   "outputs": [
    {
     "data": {
      "text/plain": [
       "array([[1, 3],\n",
       "       [2, 4]])"
      ]
     },
     "execution_count": 16,
     "metadata": {},
     "output_type": "execute_result"
    }
   ],
   "source": [
    "b"
   ]
  },
  {
   "cell_type": "code",
   "execution_count": 17,
   "id": "61e58abd-957d-4e4f-bc82-6eb418f72d8f",
   "metadata": {},
   "outputs": [
    {
     "data": {
      "text/plain": [
       "array([[1, 3],\n",
       "       [2, 4]])"
      ]
     },
     "execution_count": 17,
     "metadata": {},
     "output_type": "execute_result"
    }
   ],
   "source": [
    "c"
   ]
  },
  {
   "cell_type": "code",
   "execution_count": 18,
   "id": "c55938cf-357b-4c50-8058-7d7bc7dc1198",
   "metadata": {},
   "outputs": [
    {
     "data": {
      "text/plain": [
       "array([[1, 2],\n",
       "       [3, 4]])"
      ]
     },
     "execution_count": 18,
     "metadata": {},
     "output_type": "execute_result"
    }
   ],
   "source": [
    "d"
   ]
  },
  {
   "cell_type": "code",
   "execution_count": 19,
   "id": "bce8ce5e-9696-4e94-b22c-f7c5e2179ad3",
   "metadata": {},
   "outputs": [],
   "source": [
    "# 2 np.swapaxes()\n",
    "a = np.array([[[1], [2]], [[3], [4]]]) #Shape:(2,2,1)\n",
    "b = np.swapaxes(a, 0, 2) # New Shape: (1,2,2)"
   ]
  },
  {
   "cell_type": "code",
   "execution_count": 20,
   "id": "951d9bc0-b969-4364-8817-7b670a65a1c6",
   "metadata": {},
   "outputs": [
    {
     "data": {
      "text/plain": [
       "array([[[1, 3],\n",
       "        [2, 4]]])"
      ]
     },
     "execution_count": 20,
     "metadata": {},
     "output_type": "execute_result"
    }
   ],
   "source": [
    "b"
   ]
  },
  {
   "cell_type": "code",
   "execution_count": 21,
   "id": "57bc2dbf-126e-4155-8474-8debbf205d83",
   "metadata": {},
   "outputs": [
    {
     "data": {
      "text/plain": [
       "array([[[1],\n",
       "        [2]],\n",
       "\n",
       "       [[3],\n",
       "        [4]]])"
      ]
     },
     "execution_count": 21,
     "metadata": {},
     "output_type": "execute_result"
    }
   ],
   "source": [
    "a"
   ]
  },
  {
   "cell_type": "code",
   "execution_count": 22,
   "id": "f9613a07-6b18-4bec-995c-f124c82e00aa",
   "metadata": {},
   "outputs": [],
   "source": [
    "#np.moveaxis()\n",
    "a=np.ones((2,3,4)) #Shape: (2,3,4)"
   ]
  },
  {
   "cell_type": "code",
   "execution_count": 23,
   "id": "78b08a08-eb14-41f7-9ee9-6bb26f0e9292",
   "metadata": {},
   "outputs": [],
   "source": [
    "b=np.moveaxis(a, 0, -1) #New Shape: (3,4,2)"
   ]
  },
  {
   "cell_type": "code",
   "execution_count": 24,
   "id": "98c585fe-f923-4a6a-be11-aadbcf49991e",
   "metadata": {},
   "outputs": [
    {
     "name": "stdout",
     "output_type": "stream",
     "text": [
      "Original shape: (2, 3, 4)\n",
      "New shape: (3, 4, 2)\n"
     ]
    }
   ],
   "source": [
    "# Create a 3D array: shape (2,3,4)\n",
    "a=np.arange(24).reshape(2,3,4)\n",
    "\n",
    "# Move axis 0 (first) to the last position\n",
    "b=np.moveaxis(a,0,-1)\n",
    "\n",
    "print(\"Original shape:\", a.shape) # (2,3,4)\n",
    "print(\"New shape:\", b.shape)      # (3,4,2)"
   ]
  },
  {
   "cell_type": "markdown",
   "id": "a497da2c-26ef-4abc-b0ba-a999aeab4590",
   "metadata": {},
   "source": [
    "# 3. Array Manipulation Joins\n",
    "\n",
    "- concatenate()\n",
    "- stack()\n",
    "- hstack()\n",
    "- vstack()"
   ]
  },
  {
   "cell_type": "code",
   "execution_count": 25,
   "id": "bcd6d5ba-856c-4655-be03-9cd3efed2083",
   "metadata": {},
   "outputs": [],
   "source": [
    "# concatenate()\n",
    "# used to join array sequence on basis of axis\n",
    "a = np.array([[1,2]]) # two dimension array\n",
    "b = np.array([[3,4]]) # two dimension array\n",
    "c = np.concatenate((a,b), axis = 0)"
   ]
  },
  {
   "cell_type": "code",
   "execution_count": 26,
   "id": "b9618464-0960-43bf-9702-cead77b0d671",
   "metadata": {},
   "outputs": [
    {
     "data": {
      "text/plain": [
       "(2, 2)"
      ]
     },
     "execution_count": 26,
     "metadata": {},
     "output_type": "execute_result"
    }
   ],
   "source": [
    "c.shape"
   ]
  },
  {
   "cell_type": "code",
   "execution_count": 28,
   "id": "d930d6bb-07ae-4765-90d0-1a98e7cf074c",
   "metadata": {},
   "outputs": [],
   "source": [
    "c = np.concatenate((a,b), axis = 1)"
   ]
  },
  {
   "cell_type": "code",
   "execution_count": 29,
   "id": "0ae53725-1f86-4bc3-9029-fe59e5f592d7",
   "metadata": {},
   "outputs": [
    {
     "data": {
      "text/plain": [
       "(1, 4)"
      ]
     },
     "execution_count": 29,
     "metadata": {},
     "output_type": "execute_result"
    }
   ],
   "source": [
    "c.shape"
   ]
  },
  {
   "cell_type": "code",
   "execution_count": 32,
   "id": "06b0af3a-6f67-474a-80da-9d16ded4321b",
   "metadata": {},
   "outputs": [],
   "source": [
    "# stack ()\n",
    "# joins array allow new dimension as well\n",
    "a = np.array([1,2]) # two dimension array\n",
    "b = np.array([3,4]) # two dimension array\n",
    "c = np.stack((a,b), axis = 1)"
   ]
  },
  {
   "cell_type": "code",
   "execution_count": 33,
   "id": "77ab058b-990f-4de1-bb2b-04883067d932",
   "metadata": {},
   "outputs": [
    {
     "data": {
      "text/plain": [
       "array([[1, 3],\n",
       "       [2, 4]])"
      ]
     },
     "execution_count": 33,
     "metadata": {},
     "output_type": "execute_result"
    }
   ],
   "source": [
    "c"
   ]
  },
  {
   "cell_type": "code",
   "execution_count": 34,
   "id": "368e9d13-3a1d-4429-9bae-a7db137ed2ca",
   "metadata": {},
   "outputs": [],
   "source": [
    "# hstack()\n",
    "a = np.array([1,2]) # two dimension array\n",
    "b = np.array([3,4]) # two dimension array\n",
    "c = np.hstack((a,b))"
   ]
  },
  {
   "cell_type": "code",
   "execution_count": 35,
   "id": "a27456b9-196c-4603-8cd0-2f04e762687b",
   "metadata": {},
   "outputs": [
    {
     "data": {
      "text/plain": [
       "array([1, 2, 3, 4])"
      ]
     },
     "execution_count": 35,
     "metadata": {},
     "output_type": "execute_result"
    }
   ],
   "source": [
    "c"
   ]
  },
  {
   "cell_type": "code",
   "execution_count": 36,
   "id": "43cdf1da-242b-449f-8723-1ccbe82ad8bd",
   "metadata": {},
   "outputs": [],
   "source": [
    "# vstack()\n",
    "a = np.array([1,2]) # two dimension array\n",
    "b = np.array([3,4]) # two dimension array\n",
    "c = np.stack((a,b))"
   ]
  },
  {
   "cell_type": "code",
   "execution_count": 37,
   "id": "7b435289-dba7-40a2-9b14-a3575cdc640a",
   "metadata": {},
   "outputs": [
    {
     "data": {
      "text/plain": [
       "array([[1, 2],\n",
       "       [3, 4]])"
      ]
     },
     "execution_count": 37,
     "metadata": {},
     "output_type": "execute_result"
    }
   ],
   "source": [
    "c"
   ]
  },
  {
   "cell_type": "code",
   "execution_count": null,
   "id": "b28b5cf2-2998-4010-8de2-7aaab8adebec",
   "metadata": {},
   "outputs": [],
   "source": []
  }
 ],
 "metadata": {
  "kernelspec": {
   "display_name": "Python 3 (ipykernel)",
   "language": "python",
   "name": "python3"
  },
  "language_info": {
   "codemirror_mode": {
    "name": "ipython",
    "version": 3
   },
   "file_extension": ".py",
   "mimetype": "text/x-python",
   "name": "python",
   "nbconvert_exporter": "python",
   "pygments_lexer": "ipython3",
   "version": "3.12.7"
  }
 },
 "nbformat": 4,
 "nbformat_minor": 5
}
