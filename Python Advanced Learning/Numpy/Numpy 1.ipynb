{
 "cells": [
  {
   "cell_type": "markdown",
   "id": "000292e3-a20c-4038-81e2-f721c140acf6",
   "metadata": {},
   "source": [
    "# Numpy"
   ]
  },
  {
   "cell_type": "markdown",
   "id": "d4f85de9-18ec-419b-90d5-eb8016ec3a95",
   "metadata": {},
   "source": [
    "it is numeric python array.\n",
    "array are fixed in a size and not dynamic like linked list.\n",
    "arrays are homogenous.\n",
    "it is useful for scientific computing in python.\n",
    "it provides us maths,science,slicing,grouping,merging,indexing functionality it can be 1D,2D,ND."
   ]
  },
  {
   "cell_type": "code",
   "execution_count": 1,
   "id": "97d78178-08f3-43cd-a6a5-2f0d3caa4a50",
   "metadata": {},
   "outputs": [],
   "source": [
    "#import numpy for learning purpose\n",
    "import numpy as np #np is alias to our numpy module"
   ]
  },
  {
   "cell_type": "markdown",
   "id": "4bfef1fc-9122-47e1-9b3f-f2a7d636df14",
   "metadata": {},
   "source": [
    "# 1. create numpy using python sequences"
   ]
  },
  {
   "cell_type": "code",
   "execution_count": 3,
   "id": "fbba1839-da7b-43c7-8779-ea9a2233ddaf",
   "metadata": {},
   "outputs": [],
   "source": [
    "#syntax\n",
    "# a=np.array(obj) # here obj can be list,tuple or 2d list\n",
    "l1=[10,20,30]\n",
    "a=np.array(l1)\n",
    "t=(11,22,33,44)\n",
    "b=np.array(t)\n",
    "l2=[[1,2],[5,6],[0,1]]\n",
    "c=np.array(l2)"
   ]
  },
  {
   "cell_type": "code",
   "execution_count": 4,
   "id": "f72082b1-a4c8-4d60-93f6-72ad338bdfae",
   "metadata": {},
   "outputs": [
    {
     "data": {
      "text/plain": [
       "array([10, 20, 30])"
      ]
     },
     "execution_count": 4,
     "metadata": {},
     "output_type": "execute_result"
    }
   ],
   "source": [
    "a"
   ]
  },
  {
   "cell_type": "code",
   "execution_count": 5,
   "id": "ff4f12e5-acb2-4cb9-8b6b-19f2418b7820",
   "metadata": {},
   "outputs": [
    {
     "data": {
      "text/plain": [
       "array([11, 22, 33, 44])"
      ]
     },
     "execution_count": 5,
     "metadata": {},
     "output_type": "execute_result"
    }
   ],
   "source": [
    "b"
   ]
  },
  {
   "cell_type": "code",
   "execution_count": 6,
   "id": "1498da4b-82b4-47b4-81f8-3230f3b4e9b1",
   "metadata": {},
   "outputs": [
    {
     "data": {
      "text/plain": [
       "array([[1, 2],\n",
       "       [5, 6],\n",
       "       [0, 1]])"
      ]
     },
     "execution_count": 6,
     "metadata": {},
     "output_type": "execute_result"
    }
   ],
   "source": [
    "c"
   ]
  },
  {
   "cell_type": "markdown",
   "id": "6aa37bfe-2e4e-4d3f-aaef-230fe7ca9d61",
   "metadata": {},
   "source": [
    "# 2. Create numpy array using initialization function"
   ]
  },
  {
   "cell_type": "code",
   "execution_count": 7,
   "id": "a5a51252-d42d-4e20-9c97-355257e0ae51",
   "metadata": {},
   "outputs": [],
   "source": [
    "#used to create an array with default value 0\n",
    "# syntax np.zeros((dimension in tuple))\n",
    "x=np.zeros((5)) #this will create single dimension\n",
    "y=np.zeros((3,5)) # 2 dimension\n",
    "z=np.zeros((3,2,5)) # 3 dimension"
   ]
  },
  {
   "cell_type": "code",
   "execution_count": 8,
   "id": "367d1c30-7aad-44a8-81a1-3be02eca1c62",
   "metadata": {},
   "outputs": [
    {
     "data": {
      "text/plain": [
       "array([0., 0., 0., 0., 0.])"
      ]
     },
     "execution_count": 8,
     "metadata": {},
     "output_type": "execute_result"
    }
   ],
   "source": [
    "x"
   ]
  },
  {
   "cell_type": "code",
   "execution_count": 9,
   "id": "485ccf16-540c-4521-9b66-1dbe487c617d",
   "metadata": {},
   "outputs": [
    {
     "data": {
      "text/plain": [
       "array([[0., 0., 0., 0., 0.],\n",
       "       [0., 0., 0., 0., 0.],\n",
       "       [0., 0., 0., 0., 0.]])"
      ]
     },
     "execution_count": 9,
     "metadata": {},
     "output_type": "execute_result"
    }
   ],
   "source": [
    "y"
   ]
  },
  {
   "cell_type": "code",
   "execution_count": 10,
   "id": "f21cd2b9-ce76-4210-8476-c9381a718393",
   "metadata": {},
   "outputs": [
    {
     "data": {
      "text/plain": [
       "array([[[0., 0., 0., 0., 0.],\n",
       "        [0., 0., 0., 0., 0.]],\n",
       "\n",
       "       [[0., 0., 0., 0., 0.],\n",
       "        [0., 0., 0., 0., 0.]],\n",
       "\n",
       "       [[0., 0., 0., 0., 0.],\n",
       "        [0., 0., 0., 0., 0.]]])"
      ]
     },
     "execution_count": 10,
     "metadata": {},
     "output_type": "execute_result"
    }
   ],
   "source": [
    "z"
   ]
  },
  {
   "cell_type": "code",
   "execution_count": 11,
   "id": "4cd972ba-b1e0-4933-8f84-e1ddfee70dbd",
   "metadata": {},
   "outputs": [],
   "source": [
    "#used to create an array with default value 1\n",
    "x=np.ones((2,3))"
   ]
  },
  {
   "cell_type": "code",
   "execution_count": 12,
   "id": "947f982a-7e2b-483c-8c0a-f6cd21d7c1d7",
   "metadata": {},
   "outputs": [
    {
     "data": {
      "text/plain": [
       "array([[1., 1., 1.],\n",
       "       [1., 1., 1.]])"
      ]
     },
     "execution_count": 12,
     "metadata": {},
     "output_type": "execute_result"
    }
   ],
   "source": [
    "x"
   ]
  },
  {
   "cell_type": "code",
   "execution_count": 13,
   "id": "bbd30e94-11a0-46fa-bced-d80e02dd6332",
   "metadata": {},
   "outputs": [],
   "source": [
    "#create an array with constant values or specific values\n",
    "const_array=np.full((5,3),10)"
   ]
  },
  {
   "cell_type": "code",
   "execution_count": 14,
   "id": "63b8bf24-d413-4669-8e6e-3c51fafbaf61",
   "metadata": {},
   "outputs": [
    {
     "data": {
      "text/plain": [
       "array([[10, 10, 10],\n",
       "       [10, 10, 10],\n",
       "       [10, 10, 10],\n",
       "       [10, 10, 10],\n",
       "       [10, 10, 10]])"
      ]
     },
     "execution_count": 14,
     "metadata": {},
     "output_type": "execute_result"
    }
   ],
   "source": [
    "const_array"
   ]
  },
  {
   "cell_type": "code",
   "execution_count": 15,
   "id": "cc20f177-ba5e-4721-aaa9-9980a1a70c0f",
   "metadata": {},
   "outputs": [],
   "source": [
    "#creating an identity matrix\n",
    "a_identity=np.eye(3)"
   ]
  },
  {
   "cell_type": "code",
   "execution_count": 16,
   "id": "7ff3ea84-5d67-4ea4-b7ab-2497b80c28e5",
   "metadata": {},
   "outputs": [
    {
     "data": {
      "text/plain": [
       "array([[1., 0., 0.],\n",
       "       [0., 1., 0.],\n",
       "       [0., 0., 1.]])"
      ]
     },
     "execution_count": 16,
     "metadata": {},
     "output_type": "execute_result"
    }
   ],
   "source": [
    "a_identity"
   ]
  },
  {
   "cell_type": "code",
   "execution_count": 17,
   "id": "68c8b017-ffaf-42bf-89c8-17e6ba124569",
   "metadata": {},
   "outputs": [],
   "source": [
    "unit=np.empty((2,2))"
   ]
  },
  {
   "cell_type": "code",
   "execution_count": 18,
   "id": "f30f53e8-5b83-4864-97f0-fd9541fcb296",
   "metadata": {},
   "outputs": [
    {
     "data": {
      "text/plain": [
       "array([[6.95199682e-310, 1.48539705e-313],\n",
       "       [1.33685735e-311, 6.23042070e-307]])"
      ]
     },
     "execution_count": 18,
     "metadata": {},
     "output_type": "execute_result"
    }
   ],
   "source": [
    "unit"
   ]
  },
  {
   "cell_type": "markdown",
   "id": "61b1a74c-20ee-40cc-926a-67a0cfc9edbd",
   "metadata": {},
   "source": [
    "# 3. Create numpy array using ranges and intervals\n"
   ]
  },
  {
   "cell_type": "code",
   "execution_count": null,
   "id": "6c022050-4991-4778-bb8f-c7c63dfc3e38",
   "metadata": {},
   "outputs": [],
   "source": [
    "# arange\n",
    "# linspace\n",
    "# logspace"
   ]
  },
  {
   "cell_type": "code",
   "execution_count": 19,
   "id": "1135f8ee-d288-4f78-a5a5-473cd4085c6d",
   "metadata": {},
   "outputs": [
    {
     "data": {
      "text/plain": [
       "array([0, 2, 4, 6, 8])"
      ]
     },
     "execution_count": 19,
     "metadata": {},
     "output_type": "execute_result"
    }
   ],
   "source": [
    "#arange work like range function in python\n",
    "x=np.arange(0,10,2)\n",
    "x"
   ]
  },
  {
   "cell_type": "code",
   "execution_count": 20,
   "id": "60586d75-6eef-499e-8ee3-e44e7e29eebc",
   "metadata": {},
   "outputs": [],
   "source": [
    "# 5 values between 0 and 1 inclusive 0 and 1\n",
    "y=np.linspace(0,1,5)"
   ]
  },
  {
   "cell_type": "code",
   "execution_count": 21,
   "id": "da541c1e-32e4-470d-b9bc-dcba1377fdeb",
   "metadata": {},
   "outputs": [
    {
     "data": {
      "text/plain": [
       "array([0.  , 0.25, 0.5 , 0.75, 1.  ])"
      ]
     },
     "execution_count": 21,
     "metadata": {},
     "output_type": "execute_result"
    }
   ],
   "source": [
    "y"
   ]
  },
  {
   "cell_type": "code",
   "execution_count": 22,
   "id": "09fb4fc0-624b-40da-9506-371197550560",
   "metadata": {},
   "outputs": [
    {
     "data": {
      "text/plain": [
       "array([  10.        ,   46.41588834,  215.443469  , 1000.        ])"
      ]
     },
     "execution_count": 22,
     "metadata": {},
     "output_type": "execute_result"
    }
   ],
   "source": [
    "# 4 values from 10^1 to 10^5\n",
    "c=np.logspace(1,3,4)\n",
    "c"
   ]
  },
  {
   "cell_type": "markdown",
   "id": "0579470b-0cd2-4e44-b0f7-fb453f174766",
   "metadata": {},
   "source": [
    "# 4. Create numpy array using random generator\n",
    "    np.random.rand() #uniform distribution\n",
    "    np.random.randn() #n distribution\n",
    "    np.random.randint() #int uniform distribution"
   ]
  },
  {
   "cell_type": "code",
   "execution_count": 23,
   "id": "38388048-d38e-4676-92e3-8375774c6c9e",
   "metadata": {},
   "outputs": [
    {
     "data": {
      "text/plain": [
       "array([[0.4615747 , 0.05758319, 0.11841276, 0.08136974],\n",
       "       [0.6580936 , 0.44850295, 0.25840664, 0.08626078],\n",
       "       [0.48389429, 0.22375944, 0.38755728, 0.18028298]])"
      ]
     },
     "execution_count": 23,
     "metadata": {},
     "output_type": "execute_result"
    }
   ],
   "source": [
    "uniform_a = np.random.rand(3,4)\n",
    "uniform_a"
   ]
  },
  {
   "cell_type": "code",
   "execution_count": 24,
   "id": "66482929-c7e3-40b2-8646-db96ce629391",
   "metadata": {},
   "outputs": [
    {
     "data": {
      "text/plain": [
       "array([[37, 23, 30],\n",
       "       [12, 22, 11],\n",
       "       [10, 27, 38]])"
      ]
     },
     "execution_count": 24,
     "metadata": {},
     "output_type": "execute_result"
    }
   ],
   "source": [
    "int_array = np.random.randint(10,50,size=(3,3))\n",
    "int_array"
   ]
  },
  {
   "cell_type": "code",
   "execution_count": 25,
   "id": "dbd35673-8d02-482b-b824-44edb63c2ecc",
   "metadata": {},
   "outputs": [
    {
     "data": {
      "text/plain": [
       "array([-0.60424218, -1.01348819, -0.53075486,  0.33733461,  1.56070948])"
      ]
     },
     "execution_count": 25,
     "metadata": {},
     "output_type": "execute_result"
    }
   ],
   "source": [
    "#normal distribution array\n",
    "normal_a=np.random.randn(5)\n",
    "normal_a"
   ]
  },
  {
   "cell_type": "markdown",
   "id": "6d86c964-1467-42cf-a2e6-e6c201823ff0",
   "metadata": {},
   "source": [
    "# NumPy Attributes"
   ]
  },
  {
   "cell_type": "code",
   "execution_count": 30,
   "id": "2ef6320d-e528-468b-8bcc-59bff7616771",
   "metadata": {},
   "outputs": [
    {
     "data": {
      "text/plain": [
       "(5,)"
      ]
     },
     "execution_count": 30,
     "metadata": {},
     "output_type": "execute_result"
    }
   ],
   "source": [
    "#shape used to get idea on array dimension and shape\n",
    "normal_a.shape"
   ]
  },
  {
   "cell_type": "code",
   "execution_count": 31,
   "id": "dfc39211-378f-41eb-a22d-d5755a85aef8",
   "metadata": {},
   "outputs": [
    {
     "name": "stdout",
     "output_type": "stream",
     "text": [
      "(2, 3)\n"
     ]
    }
   ],
   "source": [
    "a=np.array([[1,2,3],[4,5,6]])\n",
    "print(a.shape)"
   ]
  },
  {
   "cell_type": "code",
   "execution_count": 33,
   "id": "e0a9e68f-43c1-4dfc-aba6-8088864999bd",
   "metadata": {},
   "outputs": [
    {
     "name": "stdout",
     "output_type": "stream",
     "text": [
      "2\n"
     ]
    }
   ],
   "source": [
    "#ndim will share array is 2,1,3,4,5 dimension of array\n",
    "print(a.ndim)"
   ]
  },
  {
   "cell_type": "code",
   "execution_count": 34,
   "id": "77e742fa-e445-496d-a8fb-8ea7302ef0a4",
   "metadata": {},
   "outputs": [
    {
     "data": {
      "text/plain": [
       "dtype('int32')"
      ]
     },
     "execution_count": 34,
     "metadata": {},
     "output_type": "execute_result"
    }
   ],
   "source": [
    "#datatype of array\n",
    "a.dtype"
   ]
  },
  {
   "cell_type": "code",
   "execution_count": 35,
   "id": "2f68058f-6e2a-458d-b7c5-95d9cdeca4f9",
   "metadata": {},
   "outputs": [
    {
     "data": {
      "text/plain": [
       "6"
      ]
     },
     "execution_count": 35,
     "metadata": {},
     "output_type": "execute_result"
    }
   ],
   "source": [
    "#size of array\n",
    "a.size"
   ]
  },
  {
   "cell_type": "code",
   "execution_count": 36,
   "id": "19d00685-b78d-4e07-9624-8dde9401f83d",
   "metadata": {},
   "outputs": [
    {
     "data": {
      "text/plain": [
       "4"
      ]
     },
     "execution_count": 36,
     "metadata": {},
     "output_type": "execute_result"
    }
   ],
   "source": [
    "#itemsize return byte of each element\n",
    "a.itemsize"
   ]
  },
  {
   "cell_type": "code",
   "execution_count": 37,
   "id": "a2c8a854-d726-4e4b-8fd2-56997bd9be16",
   "metadata": {},
   "outputs": [
    {
     "data": {
      "text/plain": [
       "24"
      ]
     },
     "execution_count": 37,
     "metadata": {},
     "output_type": "execute_result"
    }
   ],
   "source": [
    "#nbytes returns total bytes occupies by array\n",
    "a.nbytes"
   ]
  },
  {
   "cell_type": "code",
   "execution_count": 39,
   "id": "4caac622-3d14-40f7-816d-74014bbf1fbf",
   "metadata": {},
   "outputs": [
    {
     "name": "stdout",
     "output_type": "stream",
     "text": [
      "Original array:\n",
      " [[1 2 3]\n",
      " [4 5 6]]\n",
      "Transpose array:\n",
      " [[1 4]\n",
      " [2 5]\n",
      " [3 6]]\n"
     ]
    }
   ],
   "source": [
    "#transpose of the array\n",
    "print(\"Original array:\\n\", a)\n",
    "print(\"Transpose array:\\n\",a.T)"
   ]
  },
  {
   "cell_type": "code",
   "execution_count": 40,
   "id": "e5f59cb7-8a30-40d8-8eb7-f69dfbc3512d",
   "metadata": {},
   "outputs": [
    {
     "name": "stdout",
     "output_type": "stream",
     "text": [
      "<memory at 0x000002760DD59150>\n"
     ]
    }
   ],
   "source": [
    "# data gives the pointer of memory where array is stored\n",
    "print(a.data)"
   ]
  },
  {
   "cell_type": "code",
   "execution_count": 42,
   "id": "afc95f56-92ac-4133-b542-cc08e43724d2",
   "metadata": {},
   "outputs": [
    {
     "name": "stdout",
     "output_type": "stream",
     "text": [
      "8\n",
      "5\n",
      "float64\n"
     ]
    }
   ],
   "source": [
    "#Exercise 1\n",
    "new_list=[1.01,0.98,1.00,1.02,0.99]\n",
    "new_array=np.array(new_list)\n",
    "\n",
    "print(new_array.itemsize)\n",
    "print(new_array.size)\n",
    "print(new_array.dtype)"
   ]
  },
  {
   "cell_type": "code",
   "execution_count": 43,
   "id": "0a9eeda2-1380-431b-b5b9-00ab3ac995ef",
   "metadata": {},
   "outputs": [
    {
     "data": {
      "text/plain": [
       "array([50, 50, 50, 50, 50])"
      ]
     },
     "execution_count": 43,
     "metadata": {},
     "output_type": "execute_result"
    }
   ],
   "source": [
    "#Exercise 2\n",
    "new_array = np.full((5,),50)\n",
    "new_array"
   ]
  },
  {
   "cell_type": "markdown",
   "id": "c5fceb70-aace-46d9-a04f-25bbe54440df",
   "metadata": {},
   "source": [
    "# NumPy Arithmetic Functions\n",
    "    np.add()\n",
    "    np.subtract()\n",
    "    np.multiply()\n",
    "    np.divide()\n",
    "    np.power()\n",
    "    np.mod()"
   ]
  },
  {
   "cell_type": "code",
   "execution_count": 44,
   "id": "a1190f39-52ca-4a56-95ff-d26960124b3e",
   "metadata": {},
   "outputs": [],
   "source": [
    "a=np.array([[1,2,3],[2,3,4]])\n",
    "b=np.array([[1,1,1],[2,2,2]])"
   ]
  },
  {
   "cell_type": "code",
   "execution_count": 45,
   "id": "8c095223-f943-4a0c-95cf-0cbb45551ca2",
   "metadata": {},
   "outputs": [
    {
     "data": {
      "text/plain": [
       "array([[1, 2, 3],\n",
       "       [2, 3, 4]])"
      ]
     },
     "execution_count": 45,
     "metadata": {},
     "output_type": "execute_result"
    }
   ],
   "source": [
    "a"
   ]
  },
  {
   "cell_type": "code",
   "execution_count": 46,
   "id": "edca36d7-8401-40c1-bff3-74906fe0bc82",
   "metadata": {},
   "outputs": [
    {
     "data": {
      "text/plain": [
       "array([[1, 1, 1],\n",
       "       [2, 2, 2]])"
      ]
     },
     "execution_count": 46,
     "metadata": {},
     "output_type": "execute_result"
    }
   ],
   "source": [
    "b"
   ]
  },
  {
   "cell_type": "code",
   "execution_count": 47,
   "id": "68ea7fa0-7016-45a2-87bd-9de058c1dd4b",
   "metadata": {},
   "outputs": [
    {
     "data": {
      "text/plain": [
       "dtype('int32')"
      ]
     },
     "execution_count": 47,
     "metadata": {},
     "output_type": "execute_result"
    }
   ],
   "source": [
    "a.dtype"
   ]
  },
  {
   "cell_type": "code",
   "execution_count": 48,
   "id": "5db8c345-d453-4344-ad42-b1e158f80896",
   "metadata": {},
   "outputs": [],
   "source": [
    "c=np.add(a,b)"
   ]
  },
  {
   "cell_type": "code",
   "execution_count": 49,
   "id": "34b14a3f-65fd-44ef-ae60-ddbcb8210127",
   "metadata": {},
   "outputs": [
    {
     "data": {
      "text/plain": [
       "array([[2, 3, 4],\n",
       "       [4, 5, 6]])"
      ]
     },
     "execution_count": 49,
     "metadata": {},
     "output_type": "execute_result"
    }
   ],
   "source": [
    "c"
   ]
  },
  {
   "cell_type": "code",
   "execution_count": 50,
   "id": "0348a990-c524-4346-9b94-526aad3bd338",
   "metadata": {},
   "outputs": [
    {
     "data": {
      "text/plain": [
       "array([[0, 1, 2],\n",
       "       [0, 1, 2]])"
      ]
     },
     "execution_count": 50,
     "metadata": {},
     "output_type": "execute_result"
    }
   ],
   "source": [
    "c=np.subtract(a,b)\n",
    "c"
   ]
  },
  {
   "cell_type": "code",
   "execution_count": 52,
   "id": "0b7392f9-4934-4cdf-8311-b384d198bc7d",
   "metadata": {},
   "outputs": [
    {
     "data": {
      "text/plain": [
       "array([[1, 2, 3],\n",
       "       [4, 6, 8]])"
      ]
     },
     "execution_count": 52,
     "metadata": {},
     "output_type": "execute_result"
    }
   ],
   "source": [
    "c=np.multiply(a,b)\n",
    "c"
   ]
  },
  {
   "cell_type": "code",
   "execution_count": 53,
   "id": "8858ec8f-4907-4a35-b21f-d176c3e3d4fa",
   "metadata": {},
   "outputs": [
    {
     "data": {
      "text/plain": [
       "array([[1. , 2. , 3. ],\n",
       "       [1. , 1.5, 2. ]])"
      ]
     },
     "execution_count": 53,
     "metadata": {},
     "output_type": "execute_result"
    }
   ],
   "source": [
    "c=np.divide(a,b)\n",
    "c"
   ]
  },
  {
   "cell_type": "code",
   "execution_count": 54,
   "id": "89b95b89-5b4d-4f46-888c-b460ce1aa7e6",
   "metadata": {},
   "outputs": [],
   "source": [
    "c=np.power(a,2)"
   ]
  },
  {
   "cell_type": "code",
   "execution_count": 55,
   "id": "a133118b-dcb5-468e-9f44-a4e59a2ff923",
   "metadata": {},
   "outputs": [
    {
     "data": {
      "text/plain": [
       "array([[ 1,  4,  9],\n",
       "       [ 4,  9, 16]], dtype=int32)"
      ]
     },
     "execution_count": 55,
     "metadata": {},
     "output_type": "execute_result"
    }
   ],
   "source": [
    "c"
   ]
  },
  {
   "cell_type": "code",
   "execution_count": 56,
   "id": "527dc251-554a-4ed9-a764-c0d82199d6ad",
   "metadata": {},
   "outputs": [
    {
     "data": {
      "text/plain": [
       "array([[0, 0, 0],\n",
       "       [0, 1, 0]])"
      ]
     },
     "execution_count": 56,
     "metadata": {},
     "output_type": "execute_result"
    }
   ],
   "source": [
    "c=np.mod(a,b)\n",
    "c"
   ]
  },
  {
   "cell_type": "markdown",
   "id": "33eaed41-0d2f-4cc2-be7b-d5532902ad2f",
   "metadata": {},
   "source": [
    "# Statistical Functions\n",
    "    np.mean()\n",
    "    np.median()\n",
    "    np.std()\n",
    "    np.var()\n",
    "    np.min()\n",
    "    np.max()"
   ]
  },
  {
   "cell_type": "code",
   "execution_count": 57,
   "id": "b52bb855-2784-4204-bcd3-ae6e5ce52f4d",
   "metadata": {},
   "outputs": [
    {
     "data": {
      "text/plain": [
       "array([10, 20, 30, 14, 25])"
      ]
     },
     "execution_count": 57,
     "metadata": {},
     "output_type": "execute_result"
    }
   ],
   "source": [
    "a=[10,20,30,14,25]\n",
    "arr=np.array(a)\n",
    "arr"
   ]
  },
  {
   "cell_type": "code",
   "execution_count": 58,
   "id": "7e6a9a39-fc2b-4423-b7aa-3cd345989f45",
   "metadata": {},
   "outputs": [
    {
     "data": {
      "text/plain": [
       "19.8"
      ]
     },
     "execution_count": 58,
     "metadata": {},
     "output_type": "execute_result"
    }
   ],
   "source": [
    "np.mean(arr)"
   ]
  },
  {
   "cell_type": "code",
   "execution_count": 59,
   "id": "52f96a60-3337-4bb1-a55e-1afe5b94a517",
   "metadata": {},
   "outputs": [
    {
     "data": {
      "text/plain": [
       "20.0"
      ]
     },
     "execution_count": 59,
     "metadata": {},
     "output_type": "execute_result"
    }
   ],
   "source": [
    "np.median(arr)"
   ]
  },
  {
   "cell_type": "code",
   "execution_count": 60,
   "id": "9bd3727e-9b2a-4e3b-afa2-bba70f474732",
   "metadata": {},
   "outputs": [
    {
     "data": {
      "text/plain": [
       "7.222188034107115"
      ]
     },
     "execution_count": 60,
     "metadata": {},
     "output_type": "execute_result"
    }
   ],
   "source": [
    "np.std(arr)"
   ]
  },
  {
   "cell_type": "code",
   "execution_count": 61,
   "id": "bfa1e3ff-1155-4807-93c6-5a50ea700d28",
   "metadata": {},
   "outputs": [
    {
     "data": {
      "text/plain": [
       "52.160000000000004"
      ]
     },
     "execution_count": 61,
     "metadata": {},
     "output_type": "execute_result"
    }
   ],
   "source": [
    "np.var(arr)"
   ]
  },
  {
   "cell_type": "code",
   "execution_count": 62,
   "id": "d9610a36-5c9e-40cb-8439-1a7b8dca0829",
   "metadata": {},
   "outputs": [
    {
     "data": {
      "text/plain": [
       "10"
      ]
     },
     "execution_count": 62,
     "metadata": {},
     "output_type": "execute_result"
    }
   ],
   "source": [
    "np.min(arr)"
   ]
  },
  {
   "cell_type": "code",
   "execution_count": 63,
   "id": "6afa37d6-6095-462e-8dac-643ea5f305ba",
   "metadata": {},
   "outputs": [
    {
     "data": {
      "text/plain": [
       "30"
      ]
     },
     "execution_count": 63,
     "metadata": {},
     "output_type": "execute_result"
    }
   ],
   "source": [
    "np.max(arr)"
   ]
  },
  {
   "cell_type": "markdown",
   "id": "4deda268-c964-4da1-8e5f-f33097226e71",
   "metadata": {},
   "source": [
    "# Trignometric Functions\n",
    "    np.sin() #sine\n",
    "    np.cos() #cosine\n",
    "    np.tan() #tangent\n",
    "    np.degrees() #radians to degree\n",
    "    np.radians() #degree to radians\n",
    "    np.arcsin() #inverse sine"
   ]
  },
  {
   "cell_type": "code",
   "execution_count": 64,
   "id": "9b113095-eb7d-4996-a2b9-373635d7cc03",
   "metadata": {},
   "outputs": [
    {
     "data": {
      "text/plain": [
       "array([10, 20, 30, 14, 25])"
      ]
     },
     "execution_count": 64,
     "metadata": {},
     "output_type": "execute_result"
    }
   ],
   "source": [
    "arr"
   ]
  },
  {
   "cell_type": "code",
   "execution_count": 65,
   "id": "9e0e2ecc-1e73-42fc-8be2-fef49a9692cf",
   "metadata": {},
   "outputs": [
    {
     "data": {
      "text/plain": [
       "1.0"
      ]
     },
     "execution_count": 65,
     "metadata": {},
     "output_type": "execute_result"
    }
   ],
   "source": [
    "np.sin(np.pi/2)"
   ]
  },
  {
   "cell_type": "markdown",
   "id": "02bae137-d538-4350-9310-25d03f09cf03",
   "metadata": {},
   "source": [
    "# Exponential and Logarithmic functions\n",
    "    np.exp() #Exponential\n",
    "    np.log() #Natural log\n",
    "    np.log10() #Base 10 log\n",
    "    np.log2() #Base 2 log"
   ]
  },
  {
   "cell_type": "code",
   "execution_count": 66,
   "id": "ce7e8987-8148-4a13-ab2b-b78504bf3997",
   "metadata": {},
   "outputs": [
    {
     "data": {
      "text/plain": [
       "array([10, 20, 30, 14, 25])"
      ]
     },
     "execution_count": 66,
     "metadata": {},
     "output_type": "execute_result"
    }
   ],
   "source": [
    "arr"
   ]
  },
  {
   "cell_type": "code",
   "execution_count": 67,
   "id": "58fd270e-b5ca-4501-accd-0081be13eee0",
   "metadata": {},
   "outputs": [
    {
     "data": {
      "text/plain": [
       "array([2.20264658e+04, 4.85165195e+08, 1.06864746e+13, 1.20260428e+06,\n",
       "       7.20048993e+10])"
      ]
     },
     "execution_count": 67,
     "metadata": {},
     "output_type": "execute_result"
    }
   ],
   "source": [
    "np.exp(arr)"
   ]
  },
  {
   "cell_type": "code",
   "execution_count": 68,
   "id": "b4451b2d-7fe8-4026-a8f0-b65aecd86da6",
   "metadata": {},
   "outputs": [
    {
     "data": {
      "text/plain": [
       "array([2.30258509, 2.99573227, 3.40119738, 2.63905733, 3.21887582])"
      ]
     },
     "execution_count": 68,
     "metadata": {},
     "output_type": "execute_result"
    }
   ],
   "source": [
    "np.log(arr)"
   ]
  },
  {
   "cell_type": "code",
   "execution_count": 69,
   "id": "a0f23ae1-e191-4f36-a15c-dc53d140e06f",
   "metadata": {},
   "outputs": [
    {
     "data": {
      "text/plain": [
       "array([1.        , 1.30103   , 1.47712125, 1.14612804, 1.39794001])"
      ]
     },
     "execution_count": 69,
     "metadata": {},
     "output_type": "execute_result"
    }
   ],
   "source": [
    "np.log10(arr)"
   ]
  },
  {
   "cell_type": "code",
   "execution_count": 70,
   "id": "1de137c0-cb32-472f-8c98-ecd62751735d",
   "metadata": {},
   "outputs": [
    {
     "data": {
      "text/plain": [
       "array([3.32192809, 4.32192809, 4.9068906 , 3.80735492, 4.64385619])"
      ]
     },
     "execution_count": 70,
     "metadata": {},
     "output_type": "execute_result"
    }
   ],
   "source": [
    "np.log2(arr)"
   ]
  },
  {
   "cell_type": "markdown",
   "id": "76ba367e-52c9-43bc-aa69-ca1ed8a809a0",
   "metadata": {},
   "source": [
    "# Rounding and Truncating Integer functions\n",
    "    np.round()\n",
    "    np.floor()\n",
    "    np.ceil()\n",
    "    np.trunc()"
   ]
  },
  {
   "cell_type": "code",
   "execution_count": 71,
   "id": "6770518b-ab34-4a9c-8260-6c8c12929368",
   "metadata": {},
   "outputs": [
    {
     "data": {
      "text/plain": [
       "array([1.25, 2.36, 4.05, 2.  , 1.16])"
      ]
     },
     "execution_count": 71,
     "metadata": {},
     "output_type": "execute_result"
    }
   ],
   "source": [
    "arr1=[1.25,2.36,4.05,2.0,1.16]\n",
    "new = np.array(arr1)\n",
    "new"
   ]
  },
  {
   "cell_type": "code",
   "execution_count": 72,
   "id": "3118d138-82eb-48bf-9008-2e1b3f9ce4d1",
   "metadata": {},
   "outputs": [
    {
     "data": {
      "text/plain": [
       "array([1., 2., 4., 2., 1.])"
      ]
     },
     "execution_count": 72,
     "metadata": {},
     "output_type": "execute_result"
    }
   ],
   "source": [
    "np.round(new)"
   ]
  },
  {
   "cell_type": "code",
   "execution_count": 73,
   "id": "0987b232-1925-4fc4-a4db-96d2033a4146",
   "metadata": {},
   "outputs": [
    {
     "data": {
      "text/plain": [
       "array([1., 2., 4., 2., 1.])"
      ]
     },
     "execution_count": 73,
     "metadata": {},
     "output_type": "execute_result"
    }
   ],
   "source": [
    "np.floor(new)"
   ]
  },
  {
   "cell_type": "code",
   "execution_count": 74,
   "id": "7bcf1957-42f1-4d74-9fbb-e9034a205478",
   "metadata": {},
   "outputs": [
    {
     "data": {
      "text/plain": [
       "array([2., 3., 5., 2., 2.])"
      ]
     },
     "execution_count": 74,
     "metadata": {},
     "output_type": "execute_result"
    }
   ],
   "source": [
    "np.ceil(new)"
   ]
  },
  {
   "cell_type": "code",
   "execution_count": 76,
   "id": "b0355c2a-6d0e-413c-a2a1-cdb7c28644c5",
   "metadata": {},
   "outputs": [
    {
     "data": {
      "text/plain": [
       "array([1., 2., 4., 2., 1.])"
      ]
     },
     "execution_count": 76,
     "metadata": {},
     "output_type": "execute_result"
    }
   ],
   "source": [
    "np.trunc(new)"
   ]
  },
  {
   "cell_type": "code",
   "execution_count": null,
   "id": "3efafb71-ded8-4ac6-9c42-c5c0f419785b",
   "metadata": {},
   "outputs": [],
   "source": []
  }
 ],
 "metadata": {
  "kernelspec": {
   "display_name": "Python 3 (ipykernel)",
   "language": "python",
   "name": "python3"
  },
  "language_info": {
   "codemirror_mode": {
    "name": "ipython",
    "version": 3
   },
   "file_extension": ".py",
   "mimetype": "text/x-python",
   "name": "python",
   "nbconvert_exporter": "python",
   "pygments_lexer": "ipython3",
   "version": "3.12.7"
  }
 },
 "nbformat": 4,
 "nbformat_minor": 5
}
