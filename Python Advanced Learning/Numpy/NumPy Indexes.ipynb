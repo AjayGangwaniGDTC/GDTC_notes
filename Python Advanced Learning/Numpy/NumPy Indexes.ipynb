{
 "cells": [
  {
   "cell_type": "markdown",
   "id": "50c73139-639a-44c8-91b6-8d72d9490ad8",
   "metadata": {},
   "source": [
    "# Numpy Indexes"
   ]
  },
  {
   "cell_type": "code",
   "execution_count": 2,
   "id": "0f73dfc1-7412-4dbb-b605-d8ba5da44bcb",
   "metadata": {},
   "outputs": [
    {
     "name": "stdout",
     "output_type": "stream",
     "text": [
      "10\n",
      "40\n"
     ]
    }
   ],
   "source": [
    "import numpy as np \n",
    "\n",
    "arr = np.array([10,20,30,40]) #single dimension array\n",
    "print(arr[0]) #10\n",
    "print(arr[-1]) #40(last element)"
   ]
  },
  {
   "cell_type": "code",
   "execution_count": 3,
   "id": "383e7983-ffdb-4de3-b487-5cd41073cdb7",
   "metadata": {},
   "outputs": [
    {
     "name": "stdout",
     "output_type": "stream",
     "text": [
      "6\n"
     ]
    }
   ],
   "source": [
    "grid = np.array([[1,2,3],[4,5,6]])\n",
    "print(grid[1][2]) #6"
   ]
  },
  {
   "cell_type": "code",
   "execution_count": 4,
   "id": "4ccc75de-1e6e-4903-8610-bac10d84e92a",
   "metadata": {},
   "outputs": [
    {
     "data": {
      "text/plain": [
       "6"
      ]
     },
     "execution_count": 4,
     "metadata": {},
     "output_type": "execute_result"
    }
   ],
   "source": [
    "grid[-1][-1]"
   ]
  },
  {
   "cell_type": "code",
   "execution_count": 5,
   "id": "59e4b0de-197e-4200-80d4-38dbcd256000",
   "metadata": {},
   "outputs": [
    {
     "name": "stdout",
     "output_type": "stream",
     "text": [
      "5\n",
      "4\n",
      "3\n",
      "2\n",
      "1\n",
      "1\n",
      "2\n",
      "3\n",
      "4\n",
      "5\n",
      "6\n"
     ]
    }
   ],
   "source": [
    "print(grid[-1][-2]) #5\n",
    "print(grid[-1][-3]) #4\n",
    "print(grid[-2][-1]) #3\n",
    "print(grid[-2][-2]) #2\n",
    "print(grid[-2][-3]) #1\n",
    "print(grid[0][0]) #1\n",
    "print(grid[0][1]) #2\n",
    "print(grid[0][2]) #3\n",
    "print(grid[1][0]) #4\n",
    "print(grid[1][1]) #5\n",
    "print(grid[1][2]) #6"
   ]
  },
  {
   "cell_type": "markdown",
   "id": "2a36552a-ddee-42f8-b931-1bfee41632c1",
   "metadata": {},
   "source": [
    "# Array Indexing and slicing"
   ]
  },
  {
   "cell_type": "code",
   "execution_count": 6,
   "id": "cb498859-5ddc-4ac0-a4f9-5bdaaf47630b",
   "metadata": {},
   "outputs": [
    {
     "name": "stdout",
     "output_type": "stream",
     "text": [
      "[20 30 40]\n",
      "[10 20 30]\n",
      "[10 30 50]\n",
      "[40 50 60]\n"
     ]
    }
   ],
   "source": [
    "arr = np.array([10,20,30,40,50,60])\n",
    "\n",
    "print(arr[1:4]) #[20,30,40]\n",
    "print(arr[:3]) #[10,20,30]\n",
    "print(arr[::2]) #Every second element [10,30,50]\n",
    "print(arr[-3:]) #[40,50,60]"
   ]
  },
  {
   "cell_type": "code",
   "execution_count": 7,
   "id": "fcf992d2-408d-4095-9c9b-3a088ae6194a",
   "metadata": {},
   "outputs": [
    {
     "name": "stdout",
     "output_type": "stream",
     "text": [
      "[[2 3]\n",
      " [5 6]]\n",
      "[1 4 7]\n",
      "[4 5 6]\n",
      "[[9 8 7]\n",
      " [6 5 4]\n",
      " [3 2 1]]\n"
     ]
    }
   ],
   "source": [
    "matrix = np.array([[1,2,3],\n",
    "                   [4,5,6],\n",
    "                   [7,8,9]])\n",
    "\n",
    "print(matrix[0:2, 1:]) #Rows 0-1, columns 1-end\n",
    "print(matrix[:,0]) #All rows , column 0\n",
    "print(matrix[1]) #Row 1\n",
    "print(matrix[::-1, ::-1])"
   ]
  },
  {
   "cell_type": "code",
   "execution_count": 9,
   "id": "22119fdc-db58-43f2-85f2-adefc4128ca7",
   "metadata": {},
   "outputs": [
    {
     "name": "stdout",
     "output_type": "stream",
     "text": [
      "[[[ 0  1  2  3]\n",
      "  [ 4  5  6  7]\n",
      "  [ 8  9 10 11]]\n",
      "\n",
      " [[12 13 14 15]\n",
      "  [16 17 18 19]\n",
      "  [20 21 22 23]]]\n"
     ]
    }
   ],
   "source": [
    "#create a 3d array with shape(2 blocks,3 rows, 4 columns)\n",
    "cube = np.arange(2*3*4).reshape(2,3,4)\n",
    "print(cube)"
   ]
  },
  {
   "cell_type": "code",
   "execution_count": 10,
   "id": "0a7237b5-7822-4f33-aac1-866a3d7f7fd4",
   "metadata": {},
   "outputs": [
    {
     "name": "stdout",
     "output_type": "stream",
     "text": [
      "[[ 1  2]\n",
      " [ 5  6]\n",
      " [ 9 10]]\n"
     ]
    }
   ],
   "source": [
    "print(cube[0, :, 1:3])"
   ]
  },
  {
   "cell_type": "code",
   "execution_count": 13,
   "id": "5d381042-74a6-4282-92d0-7b1e0a939301",
   "metadata": {},
   "outputs": [],
   "source": [
    "import numpy as np\n",
    "#shape: (2 days, 3 substations, 4 time blocks)\n",
    "voltages = np.array([\n",
    "    [[1.00, 1.01, 0.99, 0.98],\n",
    "     [1.02, 1.01, 0.97, 0.96],\n",
    "     [0.99, 1.00, 1.01, 0.98]],\n",
    "\n",
    "    [[1.03, 1.01, 0.95, 0.97],\n",
    "     [1.00, 1.02, 0.96, 0.94],\n",
    "     [0.98, 0.99, 1.00, 0.97]]\n",
    "])"
   ]
  },
  {
   "cell_type": "code",
   "execution_count": 24,
   "id": "d1d2dbda-368f-4cc8-b35a-621e3ac6d15d",
   "metadata": {},
   "outputs": [
    {
     "data": {
      "text/plain": [
       "0.97"
      ]
     },
     "execution_count": 24,
     "metadata": {},
     "output_type": "execute_result"
    }
   ],
   "source": [
    "# 1 Voltage at Day 1, substation 2 and timeblock 3\n",
    "voltages[0,1,2]"
   ]
  },
  {
   "cell_type": "code",
   "execution_count": 25,
   "id": "28dc2a3d-a81f-4281-b3e2-e9c24ccfa41f",
   "metadata": {},
   "outputs": [
    {
     "data": {
      "text/plain": [
       "array([1.03, 1.01, 0.95, 0.97])"
      ]
     },
     "execution_count": 25,
     "metadata": {},
     "output_type": "execute_result"
    }
   ],
   "source": [
    "# 2 Extract all time block from day 2 and substation 1\n",
    "voltages[1,0,:]"
   ]
  },
  {
   "cell_type": "code",
   "execution_count": 26,
   "id": "9705ab2a-3487-425b-b88f-899fd71ef060",
   "metadata": {},
   "outputs": [
    {
     "data": {
      "text/plain": [
       "array([[1.01, 1.01, 1.  ],\n",
       "       [1.01, 1.02, 0.99]])"
      ]
     },
     "execution_count": 26,
     "metadata": {},
     "output_type": "execute_result"
    }
   ],
   "source": [
    "# 3 Extract time block 2 for all substation on both days\n",
    "voltages[:,:,1]"
   ]
  },
  {
   "cell_type": "code",
   "execution_count": 27,
   "id": "4449161d-3304-4950-8a55-fa4a6c7be16a",
   "metadata": {},
   "outputs": [
    {
     "data": {
      "text/plain": [
       "array([[1.  , 1.01, 0.99, 0.98],\n",
       "       [1.02, 1.01, 0.97, 0.96],\n",
       "       [0.99, 1.  , 1.01, 0.98]])"
      ]
     },
     "execution_count": 27,
     "metadata": {},
     "output_type": "execute_result"
    }
   ],
   "source": [
    "# 4 all substation and timeblock on day 1/\n",
    "voltages[0,:,:]"
   ]
  },
  {
   "cell_type": "markdown",
   "id": "1a908a13-dc7b-4899-97ca-ecb751782b84",
   "metadata": {},
   "source": [
    "# Indexing and slicing functions\n",
    "\n",
    "- np.take() #Extract elements from array on based of indexes\n",
    "- np.compress() #filter using boolean\n",
    "- np.where() #conditional indexing\n",
    "- np.extract() #extract elements if condition is true\n",
    "- np.nonzero() #indices of non zero elements\n",
    "- np.flatnonzero() #flatten indices of non zero elements\n",
    "- np.argwhere() #indices and elements if condition is true"
   ]
  },
  {
   "cell_type": "code",
   "execution_count": 28,
   "id": "08522c76-a93e-40e3-b176-cb8128210ed3",
   "metadata": {},
   "outputs": [
    {
     "name": "stdout",
     "output_type": "stream",
     "text": [
      "[10 30 50]\n"
     ]
    }
   ],
   "source": [
    "#np.take()\n",
    "arr = np.array([10,20,30,40,50])\n",
    "indices = [0,2,4]\n",
    "\n",
    "result = np.take(arr, indices)\n",
    "print(result)"
   ]
  },
  {
   "cell_type": "code",
   "execution_count": 34,
   "id": "03d04c61-9945-423b-8b70-1f29b8d33cee",
   "metadata": {},
   "outputs": [
    {
     "name": "stdout",
     "output_type": "stream",
     "text": [
      "[[3 4]\n",
      " [5 6]]\n"
     ]
    }
   ],
   "source": [
    "#np.compress() filter along an axis using a boolean mask\n",
    "arr = np.array([[1,2], [3,4], [5,6]])\n",
    "mask = [False, True, True]\n",
    "result = np.compress(mask, arr, axis=0)\n",
    "print(result)"
   ]
  },
  {
   "cell_type": "code",
   "execution_count": 30,
   "id": "1a90b665-8c5a-450b-9f2a-5c83520627fb",
   "metadata": {},
   "outputs": [
    {
     "name": "stdout",
     "output_type": "stream",
     "text": [
      "[ 10  20  30 999 999]\n"
     ]
    }
   ],
   "source": [
    "#np.where() conditional selection and replacement\n",
    "arr = np.array([10,20,30,40,50])\n",
    "#Replace values > 30 with 999, else keep original\n",
    "result = np.where(arr > 30, 999, arr)\n",
    "print(result)"
   ]
  },
  {
   "cell_type": "code",
   "execution_count": 35,
   "id": "0568bd23-5cf8-4877-9869-0ece9c8bf6f9",
   "metadata": {},
   "outputs": [],
   "source": [
    "#np.extract() on the basis of where condition it extract elements\n",
    "arr = np.array([[1,2],[3,4],[5,6]])\n",
    "condition = arr % 2 == 0"
   ]
  },
  {
   "cell_type": "code",
   "execution_count": 36,
   "id": "5b290539-03e9-4014-911d-28eb3d8d090d",
   "metadata": {},
   "outputs": [
    {
     "data": {
      "text/plain": [
       "array([[False,  True],\n",
       "       [False,  True],\n",
       "       [False,  True]])"
      ]
     },
     "execution_count": 36,
     "metadata": {},
     "output_type": "execute_result"
    }
   ],
   "source": [
    "condition"
   ]
  },
  {
   "cell_type": "code",
   "execution_count": 37,
   "id": "0828f7af-1e72-4ba7-9eb9-f43ce064d436",
   "metadata": {},
   "outputs": [],
   "source": [
    "result = np.extract(condition, arr)"
   ]
  },
  {
   "cell_type": "code",
   "execution_count": 38,
   "id": "47402ca6-adf0-48f7-883a-b0b11cdec973",
   "metadata": {},
   "outputs": [
    {
     "data": {
      "text/plain": [
       "array([2, 4, 6])"
      ]
     },
     "execution_count": 38,
     "metadata": {},
     "output_type": "execute_result"
    }
   ],
   "source": [
    "result"
   ]
  },
  {
   "cell_type": "code",
   "execution_count": 39,
   "id": "584e7a84-c349-4ddc-ba30-f854bc8469ce",
   "metadata": {},
   "outputs": [
    {
     "name": "stdout",
     "output_type": "stream",
     "text": [
      "(array([0, 0, 1, 1, 1], dtype=int64), array([1, 2, 0, 1, 2], dtype=int64))\n"
     ]
    }
   ],
   "source": [
    "#np.nonzero() indices of non zero elements\n",
    "arr = np.array([[0, 1, 4],\n",
    "               [2, 2, 3]])\n",
    "result = np.nonzero(arr)\n",
    "print(result)"
   ]
  },
  {
   "cell_type": "code",
   "execution_count": 40,
   "id": "8bdc3a20-145b-40d5-a70c-8f08d3005f84",
   "metadata": {},
   "outputs": [
    {
     "name": "stdout",
     "output_type": "stream",
     "text": [
      "[1 3 5]\n"
     ]
    }
   ],
   "source": [
    "#np.flatnonzero() Indices of non-zero elements in flattened array\n",
    "arr = np.array([[0, 1, 0], [2, 0, 3]])\n",
    "\n",
    "result = np.flatnonzero(arr)\n",
    "print(result)"
   ]
  },
  {
   "cell_type": "code",
   "execution_count": 41,
   "id": "f9c128cd-789e-4795-83a1-76fec342f73d",
   "metadata": {},
   "outputs": [
    {
     "name": "stdout",
     "output_type": "stream",
     "text": [
      "[[1 1]\n",
      " [1 2]]\n"
     ]
    }
   ],
   "source": [
    "#np.argwhere() row wise indices of elements where condition is true\n",
    "arr = np.array([[1, 2, 3],\n",
    "                [4, 5, 6]])\n",
    "\n",
    "result = np.argwhere(arr > 4)\n",
    "print(result)"
   ]
  },
  {
   "cell_type": "markdown",
   "id": "e72e0418-6c51-47dd-8b3a-8a98ee8f0205",
   "metadata": {},
   "source": [
    "# Exercise"
   ]
  },
  {
   "cell_type": "code",
   "execution_count": 42,
   "id": "25193660-4ac5-430e-9f12-2234e2a52749",
   "metadata": {},
   "outputs": [],
   "source": [
    "import numpy as np\n",
    "\n",
    "arr = np.array([[10, 20, 0],\n",
    "                [0, 50, 60],\n",
    "                [70, 0, 90]])"
   ]
  },
  {
   "cell_type": "code",
   "execution_count": 43,
   "id": "9ccb576a-980d-44a8-b7dc-d0149b66dbad",
   "metadata": {},
   "outputs": [
    {
     "name": "stdout",
     "output_type": "stream",
     "text": [
      "[[10 20 -1]\n",
      " [-1 50 60]\n",
      " [70 -1 90]]\n"
     ]
    }
   ],
   "source": [
    "# 1. use np.where to replace all zeros with -1\n",
    "print(np.where(arr == 0, -1, arr))"
   ]
  },
  {
   "cell_type": "code",
   "execution_count": 46,
   "id": "75a2d0c6-9496-4972-a1b4-f69cec5feeed",
   "metadata": {},
   "outputs": [
    {
     "data": {
      "text/plain": [
       "array([60, 70, 90])"
      ]
     },
     "execution_count": 46,
     "metadata": {},
     "output_type": "execute_result"
    }
   ],
   "source": [
    "# 2. get all values greater than 50\n",
    "condition = arr>50\n",
    "result = np.extract(condition, arr)\n",
    "result"
   ]
  },
  {
   "cell_type": "code",
   "execution_count": 47,
   "id": "b5dc2c5e-c915-469a-9159-33f545b89f0d",
   "metadata": {},
   "outputs": [
    {
     "name": "stdout",
     "output_type": "stream",
     "text": [
      "(array([0, 0, 1, 1, 2, 2], dtype=int64), array([0, 1, 1, 2, 0, 2], dtype=int64))\n"
     ]
    }
   ],
   "source": [
    "# 3. find position of non zero elements\n",
    "print(np.nonzero(arr))"
   ]
  },
  {
   "cell_type": "code",
   "execution_count": 48,
   "id": "e8781f9e-3e24-4887-85ba-0a9b077a6a8b",
   "metadata": {},
   "outputs": [
    {
     "name": "stdout",
     "output_type": "stream",
     "text": [
      "[0 1 4 5 6 8]\n"
     ]
    }
   ],
   "source": [
    "# 4. get flat indices of non zero elements\n",
    "print(np.flatnonzero(arr))"
   ]
  },
  {
   "cell_type": "code",
   "execution_count": 49,
   "id": "bb3cab2c-ef78-4453-a2b9-a59fda906c9f",
   "metadata": {},
   "outputs": [
    {
     "name": "stdout",
     "output_type": "stream",
     "text": [
      "[[1 1]\n",
      " [1 2]\n",
      " [2 0]\n",
      " [2 2]]\n"
     ]
    }
   ],
   "source": [
    "# 5. get coordinate of elements which is > 30\n",
    "print(np.argwhere(arr>30))"
   ]
  },
  {
   "cell_type": "code",
   "execution_count": 50,
   "id": "8feffecb-347e-4d2a-a2ea-2b869e37b3cf",
   "metadata": {},
   "outputs": [
    {
     "name": "stdout",
     "output_type": "stream",
     "text": [
      "[10 50 90]\n"
     ]
    }
   ],
   "source": [
    "# 6. extract elements at flat indices [0,4,8]\n",
    "new_arr = arr.flatten()\n",
    "flat_indices = np.array([0, 4, 8])\n",
    "\n",
    "print(new_arr[flat_indices])"
   ]
  },
  {
   "cell_type": "code",
   "execution_count": 52,
   "id": "2e0a6906-308a-44f1-8936-c0d0d8fa7b7d",
   "metadata": {},
   "outputs": [
    {
     "data": {
      "text/plain": [
       "array([ True, False,  True])"
      ]
     },
     "execution_count": 52,
     "metadata": {},
     "output_type": "execute_result"
    }
   ],
   "source": [
    "# 7. select rows where first column is non zero \n",
    "condition = arr[:,0] != 0\n",
    "condition"
   ]
  },
  {
   "cell_type": "code",
   "execution_count": 56,
   "id": "d380cd1a-3588-44bd-aa83-48dda14531f1",
   "metadata": {},
   "outputs": [
    {
     "name": "stdout",
     "output_type": "stream",
     "text": [
      "[[10 20  0]\n",
      " [70  0 90]]\n"
     ]
    }
   ],
   "source": [
    "print(np.compress(condition, arr, axis=0))"
   ]
  },
  {
   "cell_type": "code",
   "execution_count": null,
   "id": "3be5a40b-1036-41f4-a1b6-b5282e1a31b4",
   "metadata": {},
   "outputs": [],
   "source": []
  }
 ],
 "metadata": {
  "kernelspec": {
   "display_name": "Python 3 (ipykernel)",
   "language": "python",
   "name": "python3"
  },
  "language_info": {
   "codemirror_mode": {
    "name": "ipython",
    "version": 3
   },
   "file_extension": ".py",
   "mimetype": "text/x-python",
   "name": "python",
   "nbconvert_exporter": "python",
   "pygments_lexer": "ipython3",
   "version": "3.12.7"
  }
 },
 "nbformat": 4,
 "nbformat_minor": 5
}
