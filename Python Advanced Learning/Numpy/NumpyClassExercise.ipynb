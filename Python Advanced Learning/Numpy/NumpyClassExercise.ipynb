{
 "cells": [
  {
   "cell_type": "markdown",
   "id": "30dc4390-4c2a-4a9f-9136-9e0403e81cd9",
   "metadata": {},
   "source": [
    "# Exercise 5: Substation Load Optimization\n",
    "\n",
    "Tasks\n",
    "1. Normalize the load values for each substation daily\n",
    "2. Identify hours when load exceeds 85% of its daily peak\n",
    "3. Reshape the data into (substation, day, hour) form"
   ]
  },
  {
   "cell_type": "code",
   "execution_count": 2,
   "id": "f32e0558-5745-41fa-9752-a772303c0271",
   "metadata": {},
   "outputs": [
    {
     "name": "stdout",
     "output_type": "stream",
     "text": [
      "[[117  86  84 123 136 100 105  85  83 127  96 135 103  50  40 147 112 130\n",
      "  108  77  44 101  73  73 106 104  98  70  54 103 146  58  78 135  43  74\n",
      "   65  46 143  70 113  85 110 143 120  96  52  76  50  79  57 126 148  53\n",
      "  140 127  72 124  40 149 139  61 101  60  70  71  63  44 101  88  97 130]\n",
      " [112 128 142  42 114 124 137 149  50 109 137 137  98 116 110  42 129  65\n",
      "  133 137 103  93 106 127 101 139  98 111  54 135  83 139  49  97  56  44\n",
      "  138 140 101 146 128 106 132 101  64  64  69 148  46  85  82  81  48 120\n",
      "   57  89 135  77 138 121 104  85  57 130  47  51  97 143 103  43  81  79]\n",
      " [ 74  61  95  41  86  61 129 103  78  66  43  55 102  79 142  91  89  64\n",
      "   83  82 148 105 133 146  77 142 130  72 126  41  51  53  80  80  63 117\n",
      "  117  62 125 117  98  99 132  55  91 108  92 133  99  74  74  45  59  85\n",
      "   50  67  50 102 129 108 143 136 137 130  54  63  41 138  66 137  75  49]\n",
      " [126  74  70  91  96 149  97  52 129 129  55  88 125 130  43 111  50  71\n",
      "   73  53 137  80 143 138  99  43 129  55 148  43 116 106  76 127 117 109\n",
      "  120  69  69  63 100  89  69  52  57 123  93 125  85  69  69 126 113  46\n",
      "   61 149 107  64 131 130 138  54  58 125 128 127  93  79  82  53  58 112]]\n"
     ]
    }
   ],
   "source": [
    "import numpy as np\n",
    "\n",
    "\n",
    "# 3 days × 24 hours = 72 time steps\n",
    "\n",
    "# 4 substations → each has 72 readings\n",
    "\n",
    "load_data = np.random.randint(40, 150, size=(4, 72)) # shape: (4 substations, 72 hourly readings)\n",
    "print(load_data)"
   ]
  },
  {
   "cell_type": "code",
   "execution_count": 12,
   "id": "2ffeabba-9274-4d37-bf1e-070ee24d9433",
   "metadata": {},
   "outputs": [],
   "source": [
    "# Task 1\n",
    "reshaped_data = load_data.reshape((4,3,24), order='C')"
   ]
  },
  {
   "cell_type": "code",
   "execution_count": 13,
   "id": "deba2748-30fb-4090-a5b8-269e244dad59",
   "metadata": {},
   "outputs": [],
   "source": [
    "# Task 2\n",
    "max_value = []\n",
    "min_value = []\n",
    "n,m,l = reshaped_data.shape\n",
    "normalised_data = np.zeros(reshaped_data.shape)\n",
    "\n",
    "for i in reshaped_data:\n",
    "    maximum = np.max(i)\n",
    "    max_value.append(maximum)\n",
    "    minimum = np.min(i)\n",
    "    min_value.append(minimum)\n",
    "\n",
    "for i in range(n):\n",
    "    for j in range(m):\n",
    "        for k in range(l):\n",
    "            normalised_data[i][j][k] = (reshaped_data[i][j][k] - min_value[i]) / (max_value[i] - min_value[i])"
   ]
  },
  {
   "cell_type": "code",
   "execution_count": 18,
   "id": "0e0ac4c0-68b6-4130-9aec-e3642941d3de",
   "metadata": {},
   "outputs": [],
   "source": [
    "# Task 3\n",
    "peak_mask = normalised_data > 0.85"
   ]
  },
  {
   "cell_type": "code",
   "execution_count": 19,
   "id": "425488f7-f165-45e2-9b5f-e930773e8279",
   "metadata": {},
   "outputs": [
    {
     "name": "stdout",
     "output_type": "stream",
     "text": [
      "(4, 72)\n",
      "(4, 3, 24)\n",
      "[[[False False False False  True False False False False False False\n",
      "    True False False False  True False False False False False False\n",
      "   False False]\n",
      "  [False False False False False False  True False False  True False\n",
      "   False False False  True False False False False  True False False\n",
      "   False False]\n",
      "  [False False False False  True False  True False False False False\n",
      "    True  True False False False False False False False False False\n",
      "   False False]]\n",
      "\n",
      " [[False False  True False False False  True  True False False  True\n",
      "    True False False False False False False  True  True False False\n",
      "   False False]\n",
      "  [False  True False False False  True False  True False False False\n",
      "   False  True  True False  True False False False False False False\n",
      "   False  True]\n",
      "  [False False False False False False False False  True False  True\n",
      "   False False False False False False False False  True False False\n",
      "   False False]]\n",
      "\n",
      " [[False False False False False False False False False False False\n",
      "   False False False  True False False False False False  True False\n",
      "    True  True]\n",
      "  [False  True False False False False False False False False False\n",
      "   False False False False False False False  True False False False\n",
      "   False  True]\n",
      "  [False False False False False False False False False False False\n",
      "   False  True  True  True False False False False  True False  True\n",
      "   False False]]\n",
      "\n",
      " [[False False False False False  True False False False False False\n",
      "   False False False False False False False False False  True False\n",
      "    True  True]\n",
      "  [False False False False  True False False False False False False\n",
      "   False False False False False False False False False False False\n",
      "   False False]\n",
      "  [False False False False False False False  True False False False\n",
      "   False  True False False False False False False False False False\n",
      "   False False]]]\n",
      "47\n"
     ]
    }
   ],
   "source": [
    "# Task 4\n",
    "print(load_data.shape)\n",
    "print(reshaped_data.shape)\n",
    "print(condition)\n",
    "print(peak_mask.sum())"
   ]
  },
  {
   "cell_type": "markdown",
   "id": "6e4f193c-d401-4834-90b7-556990ff8df7",
   "metadata": {},
   "source": [
    "# 1. Grid Stress Anomaly Segmentation\n",
    "Scenario:\n",
    "You have voltage data from 8 substations for 60 time steps under transient fault simulation.\n",
    "\n",
    "- Reshape to (4, 2, 60): 4 zones × 2 substations × time\n",
    "- Normalize voltage per zone and substation\n",
    "- Detect time points where voltage dips >15% from local max\n",
    "- Output boolean mask of anomalies shape: (4, 2, 60)"
   ]
  },
  {
   "cell_type": "code",
   "execution_count": 22,
   "id": "de35d8d4-94e7-4a79-b361-b117523d19ad",
   "metadata": {},
   "outputs": [],
   "source": [
    "import numpy as np\n",
    "\n",
    "np.random.seed(42)\n",
    "volts = np.random.normal(loc=230, scale=15, size=(8, 60))"
   ]
  },
  {
   "cell_type": "code",
   "execution_count": 46,
   "id": "bce8601f-8cc2-4fc9-a7c4-d13175540d7e",
   "metadata": {},
   "outputs": [],
   "source": [
    "# task 1\n",
    "reshaped_data = volts.reshape((4, 2, 60), order = 'C')"
   ]
  },
  {
   "cell_type": "code",
   "execution_count": 47,
   "id": "71ce7a50-7514-4b47-b21f-495949e5f2d1",
   "metadata": {},
   "outputs": [],
   "source": [
    "# Task 2\n",
    "max_value = []\n",
    "min_value = []\n",
    "n,m,l = reshaped_data.shape\n",
    "normalised_data = np.zeros(reshaped_data.shape)\n",
    "\n",
    "for i in reshaped_data:\n",
    "    maximum = np.max(i)\n",
    "    max_value.append(maximum)\n",
    "    minimum = np.min(i)\n",
    "    min_value.append(minimum)\n",
    "\n",
    "for i in range(n):\n",
    "    for j in range(m):\n",
    "        for k in range(l):\n",
    "            normalised_data[i][j][k] = (reshaped_data[i][j][k] - min_value[i]) / (max_value[i] - min_value[i])"
   ]
  },
  {
   "cell_type": "code",
   "execution_count": 48,
   "id": "f7c45f95-f397-4945-9072-2418cf9e8d7d",
   "metadata": {},
   "outputs": [],
   "source": [
    "# Task 3\n",
    "\n",
    "local_maximum = []\n",
    "n,m,l = reshaped_data.shape\n",
    "for i in range(n):\n",
    "    for j in range(m):\n",
    "        local_max = np.max(reshaped_data[i][j])\n",
    "        local_maximum.append(local_max)\n",
    "\n",
    "boolean_mask = reshaped_data > (local_maximum[i] * 0.85)\n",
    "time_points = np.extract(boolean_mask, reshaped_data)"
   ]
  },
  {
   "cell_type": "code",
   "execution_count": 49,
   "id": "1e66c474-07e2-4f84-8dd8-6875b193c610",
   "metadata": {},
   "outputs": [
    {
     "data": {
      "text/plain": [
       "array([[[False, False, False,  True, False, False,  True, False, False,\n",
       "         False, False, False, False, False, False, False, False, False,\n",
       "         False, False,  True, False, False, False, False, False, False,\n",
       "         False, False, False, False,  True, False, False, False, False,\n",
       "         False, False, False, False, False, False, False, False, False,\n",
       "         False, False,  True, False, False, False, False, False, False,\n",
       "          True, False, False, False, False,  True],\n",
       "        [False, False, False, False, False,  True, False,  True, False,\n",
       "         False, False,  True, False,  True, False, False, False, False,\n",
       "         False, False, False, False,  True, False, False, False, False,\n",
       "         False, False, False, False, False, False, False, False, False,\n",
       "         False, False, False, False, False, False, False, False, False,\n",
       "         False,  True, False, False, False, False, False, False,  True,\n",
       "         False, False, False, False,  True, False]],\n",
       "\n",
       "       [[False, False,  True, False, False,  True, False, False, False,\n",
       "         False, False, False, False, False, False,  True, False, False,\n",
       "         False, False, False,  True, False, False, False, False, False,\n",
       "         False, False, False, False, False, False, False, False, False,\n",
       "          True, False, False, False, False, False,  True, False, False,\n",
       "         False, False,  True, False, False, False, False, False, False,\n",
       "         False, False, False,  True, False,  True],\n",
       "        [False, False, False, False, False, False, False, False, False,\n",
       "         False, False, False, False, False, False, False, False, False,\n",
       "         False, False, False, False,  True,  True, False, False, False,\n",
       "         False, False,  True, False,  True, False, False, False, False,\n",
       "         False, False, False, False,  True, False, False, False, False,\n",
       "          True, False, False, False, False, False, False, False, False,\n",
       "          True, False, False, False, False, False]],\n",
       "\n",
       "       [[False, False, False, False, False, False, False, False,  True,\n",
       "         False, False, False,  True,  True, False, False,  True, False,\n",
       "         False, False, False, False, False, False, False, False,  True,\n",
       "         False, False, False,  True, False,  True, False, False, False,\n",
       "         False, False, False, False, False, False,  True, False,  True,\n",
       "         False, False, False, False, False, False, False, False, False,\n",
       "         False, False, False, False, False, False],\n",
       "        [False, False, False, False, False, False,  True, False, False,\n",
       "         False, False,  True, False, False,  True, False, False, False,\n",
       "         False, False, False, False, False,  True, False, False,  True,\n",
       "         False, False, False, False, False, False, False,  True, False,\n",
       "         False, False, False, False, False, False, False, False, False,\n",
       "         False, False, False, False, False, False,  True, False, False,\n",
       "         False, False, False, False, False, False]],\n",
       "\n",
       "       [[False,  True, False, False, False, False, False, False, False,\n",
       "         False, False, False,  True, False,  True, False, False, False,\n",
       "          True, False, False, False, False, False, False, False, False,\n",
       "          True, False, False, False, False, False,  True,  True, False,\n",
       "         False,  True, False,  True, False, False, False, False, False,\n",
       "         False, False, False, False, False, False, False, False,  True,\n",
       "         False, False,  True, False,  True, False],\n",
       "        [ True,  True, False, False, False,  True, False, False,  True,\n",
       "         False, False, False, False, False,  True, False,  True, False,\n",
       "         False, False, False, False, False, False, False, False, False,\n",
       "         False, False, False, False, False, False, False, False, False,\n",
       "         False, False, False, False,  True, False, False, False, False,\n",
       "         False, False, False, False, False, False, False, False,  True,\n",
       "          True, False, False, False,  True,  True]]])"
      ]
     },
     "execution_count": 49,
     "metadata": {},
     "output_type": "execute_result"
    }
   ],
   "source": [
    "# Task 4\n",
    "\n",
    "boolean_mask"
   ]
  },
  {
   "cell_type": "markdown",
   "id": "5797a367-b158-4bd9-b1df-a262e100691d",
   "metadata": {},
   "source": [
    "# 2. Switched Axis Control Reordering\n",
    "Scenario:\n",
    "You simulate power flows across 5 feeders and 6 load points with 48 samples each.\n",
    "\n",
    "- Move the time axis to the front: → shape (48, 5, 6)\n",
    "- Then flatten the feeder-load plane → shape: (48, 30)"
   ]
  },
  {
   "cell_type": "code",
   "execution_count": 50,
   "id": "e8f9e9ec-c84c-4166-b374-5453a93a9b46",
   "metadata": {},
   "outputs": [],
   "source": [
    "data = np.random.rand(5, 6, 48) # Shape: (feeder, load_point, time)"
   ]
  },
  {
   "cell_type": "code",
   "execution_count": 56,
   "id": "9b4a5d3f-8baf-48f9-bf37-77a55a7cd670",
   "metadata": {},
   "outputs": [
    {
     "data": {
      "text/plain": [
       "(48, 5, 6)"
      ]
     },
     "execution_count": 56,
     "metadata": {},
     "output_type": "execute_result"
    }
   ],
   "source": [
    "new_data = np.moveaxis(data, 2, 0)\n",
    "new_data.shape"
   ]
  },
  {
   "cell_type": "code",
   "execution_count": 57,
   "id": "970aa11c-7828-47e4-982d-6104e2fdd064",
   "metadata": {},
   "outputs": [
    {
     "data": {
      "text/plain": [
       "(48, 30)"
      ]
     },
     "execution_count": 57,
     "metadata": {},
     "output_type": "execute_result"
    }
   ],
   "source": [
    "rehaped_data = new_data.reshape((48, 30), order='C')\n",
    "rehaped_data.shape"
   ]
  },
  {
   "cell_type": "markdown",
   "id": "7b1fd617-41b6-4a61-8b38-09b77b11c316",
   "metadata": {},
   "source": [
    "# 3. Sensor Grid Merging and Slicing\n",
    "\n",
    "Scenario:\n",
    "You collect readings from two separate sensor networks (left and right) each of shape (12, 24)—rows × cols.\n",
    "\n",
    "- Horizontally stack them to shape (12, 48)\n",
    "- Extract:\n",
    "    - Top-left quadrant → (6, 24)\n",
    "    - Bottom-right quadrant → (6, 24)"
   ]
  },
  {
   "cell_type": "code",
   "execution_count": 68,
   "id": "039ed18f-6d29-4548-895d-ab588a40d48a",
   "metadata": {},
   "outputs": [],
   "source": [
    "left = np.random.randint(50, 100, size=(12, 24))\n",
    "right = np.random.randint(40, 90, size=(12, 24))"
   ]
  },
  {
   "cell_type": "code",
   "execution_count": 80,
   "id": "05a95eab-45ac-4189-b70a-9c62dce40f16",
   "metadata": {},
   "outputs": [
    {
     "data": {
      "text/plain": [
       "(12, 48)"
      ]
     },
     "execution_count": 80,
     "metadata": {},
     "output_type": "execute_result"
    }
   ],
   "source": [
    "horizontal = np.hstack((left, right))\n",
    "horizontal.shape"
   ]
  },
  {
   "cell_type": "code",
   "execution_count": 79,
   "id": "7c3de31e-5c12-4aa2-9f5d-1e3b256a1062",
   "metadata": {},
   "outputs": [
    {
     "name": "stdout",
     "output_type": "stream",
     "text": [
      "(6, 24)\n",
      "(6, 24)\n"
     ]
    }
   ],
   "source": [
    "top_left = horizontal[0:6,0:24]\n",
    "bottom_right = horizontal[6:12,24:48]\n",
    "print(top_left.shape)\n",
    "print(bottom_right.shape)"
   ]
  },
  {
   "cell_type": "markdown",
   "id": "d495379a-0164-4c52-8eb8-9e8bddf3fa56",
   "metadata": {},
   "source": [
    "# 4. Dynamic Threshold Filtering in 3D\n",
    "\n",
    "Scenario:\n",
    "Load measurements across 10 transformers, 3 phases, and 96 time slots.\n",
    "\n",
    "- For each transformer, compute mean load across all phases\n",
    "-  Identify time points where load in any phase > 1.15 × mean"
   ]
  },
  {
   "cell_type": "code",
   "execution_count": 81,
   "id": "53dd4bfd-cd23-48dd-b275-1a27ba193985",
   "metadata": {},
   "outputs": [],
   "source": [
    "load = np.random.normal(loc=100, scale=10, size=(10, 3, 96))"
   ]
  },
  {
   "cell_type": "code",
   "execution_count": 88,
   "id": "8856d3f4-1b9a-4128-bc43-d5b12068fa1c",
   "metadata": {},
   "outputs": [],
   "source": [
    "# Task 1\n",
    "mean_load = np.mean(load, axis=1, keepdims=True)"
   ]
  },
  {
   "cell_type": "code",
   "execution_count": 90,
   "id": "458cc8de-8b66-4aa9-86fe-a4da72232bc3",
   "metadata": {},
   "outputs": [],
   "source": [
    "# Task 2\n",
    "condition = load > 1.15 * mean_load\n",
    "identify_time = np.extract(condition, load)"
   ]
  },
  {
   "cell_type": "markdown",
   "id": "610698f0-a429-457a-8646-60e2dea79735",
   "metadata": {},
   "source": [
    "# 5. Rolling 3D Array Transformation\n",
    "\n",
    "Scenario:\n",
    "You simulate demand across 12 substations over 72 hours, in 3-hour chunks.\n",
    "\n",
    "- Create a rolling window view with:\n",
    "    - Shape = (12, 70, 3) → sliding window of 3 hours\n",
    "- Then compute the standard deviation across each window per substation"
   ]
  },
  {
   "cell_type": "code",
   "execution_count": 2,
   "id": "d24419d5-24ae-4293-8b04-481dd4325c15",
   "metadata": {},
   "outputs": [],
   "source": [
    "import numpy as np \n",
    "\n",
    "substation_data = np.random.randint(80, 180, size=(12, 72))"
   ]
  },
  {
   "cell_type": "code",
   "execution_count": 5,
   "id": "21184c3b-63e7-41dc-b331-d403bdf63c01",
   "metadata": {},
   "outputs": [],
   "source": [
    "#Task 1\n",
    "rolling_window = np.lib.stride_tricks.sliding_window_view(substation_data, window_shape=3, axis=1)"
   ]
  },
  {
   "cell_type": "code",
   "execution_count": 6,
   "id": "bd6f1976-2c9a-4491-ba40-24816d3a7ea3",
   "metadata": {},
   "outputs": [
    {
     "data": {
      "text/plain": [
       "array([[37.24990679, 34.12070079, 28.54625875, 29.48822741,  7.31816613,\n",
       "         6.37704216, 26.23398983, 23.62672686,  1.69967317, 18.66071334,\n",
       "        18.15366507, 24.14309195,  8.04155872, 25.1705295 , 23.32857094,\n",
       "         8.21921867,  9.67241209,  4.96655481, 11.0855261 , 11.86029792,\n",
       "        35.05234181, 38.43898484, 35.6121078 , 35.83604641, 33.82635396,\n",
       "        27.95631513, 12.72792206, 12.08304597, 11.0855261 ,  9.46337971,\n",
       "         5.88784058,  5.55777733,  6.12825877, 11.4406682 , 20.46134567,\n",
       "        15.19502843, 20.53181813, 33.2565783 , 34.45125381, 26.71246068,\n",
       "        20.85398976, 16.00694294, 31.84336666, 38.26225294,  5.73488351,\n",
       "        11.84154645, 19.60158724, 24.115463  , 11.22497216, 38.42163742,\n",
       "        30.26916289, 24.16609195, 26.98147513, 22.04540769, 12.08304597,\n",
       "        35.78019316, 34.98888712, 22.52899366, 26.54974367, 26.73325021,\n",
       "        28.08320969, 28.77885026, 35.6931366 , 33.67491648, 35.49021774,\n",
       "        14.05544576,  4.92160769, 41.77186719, 41.5879256 , 36.24913792],\n",
       "       [28.77885026, 28.24889378, 13.49073756, 16.30950643, 21.45279055,\n",
       "        10.65624491, 31.01612484, 30.86889841, 30.86889841, 22.98308557,\n",
       "        17.44196727, 24.23954528, 24.99777768, 26.28053779, 25.52558629,\n",
       "        28.60069929, 31.58410289, 37.02551673, 38.43898484,  8.80656321,\n",
       "        10.49867717,  7.25718035,  7.78888096, 24.75210429, 23.62672686,\n",
       "        24.72964932, 24.22578975, 14.61354014, 11.81336343,  0.94280904,\n",
       "         5.71547607,  7.03957069, 11.5181017 , 14.52201394, 24.93101594,\n",
       "        25.39028686, 29.43920289, 30.47403266,  9.87702159, 15.45603083,\n",
       "        13.12334646, 12.83225104,  5.43650214, 23.47102232, 28.01586852,\n",
       "        11.26449683, 18.26350338, 14.69693846, 10.19803903,  6.164414  ,\n",
       "         9.03081146,  5.35412613, 19.66949132, 29.42787794, 28.17800561,\n",
       "        28.45268978, 12.25651754, 36.01234356, 38.99572626, 32.41741644,\n",
       "        31.12341027, 27.58018612, 34.29609631, 31.11626941, 39.54182034,\n",
       "        37.67698974, 42.55192906,  3.55902608, 10.14341604, 30.68477726],\n",
       "       [37.15732319, 33.48963355, 24.34474618, 29.40899333, 31.35105882,\n",
       "        27.52372714, 14.05544576,  7.58653778, 11.58543146, 12.55211359,\n",
       "        13.96026106, 15.10702559, 27.35365099, 35.21678893, 11.55662388,\n",
       "        26.39865316, 19.09624745,  1.24721913, 29.70970661, 31.94787421,\n",
       "        21.17125934, 20.15495528,  6.18241233,  6.64997911, 19.60158724,\n",
       "        19.93879524,  6.4807407 , 12.6578917 ,  8.05536398, 11.34313302,\n",
       "        21.23414441, 26.23398983, 24.34474618, 32.88701196,  8.99382504,\n",
       "         2.49443826,  5.73488351, 33.62869145, 37.20513704, 38.31738799,\n",
       "        35.12200956, 11.0855261 , 26.39865316, 30.64129385, 32.89376841,\n",
       "        17.21110752, 14.98888477, 30.24345659, 33.55923453, 27.45096639,\n",
       "        25.92724864,  8.01387685,  7.78888096, 17.68238295, 16.67999467,\n",
       "        19.60158724,  6.23609564,  6.23609564,  8.49836586, 17.56891194,\n",
       "        34.08160142, 34.72751071, 30.94439457, 34.3737626 ,  4.49691252,\n",
       "        10.61445555, 23.84673283, 25.77250904, 11.58543146,  4.3204938 ],\n",
       "       [34.45125381, 30.61952899, 17.68238295,  0.81649658,  4.49691252,\n",
       "        22.69116323, 23.61261433, 23.09882152,  7.31816613, 21.40093456,\n",
       "        23.9072281 , 26.8824602 , 29.23848301, 28.9942523 , 38.42163742,\n",
       "        40.67213078, 18.20866704, 20.03885115, 18.83849487, 21.74600857,\n",
       "        11.46976702, 13.96026106, 20.60744202, 26.24669291, 34.98888712,\n",
       "        16.77961726, 17.74510887,  5.35412613, 23.42363479, 21.35935912,\n",
       "        12.91854825, 19.75404319, 28.33137248, 27.76088375, 17.61312642,\n",
       "        11.5758369 , 13.27487183, 15.57776193, 24.99777768, 27.77688887,\n",
       "        34.56395039, 13.47425529, 19.70335561, 21.27596453, 12.36482466,\n",
       "         9.89949494, 33.32999983, 35.17890782, 39.4151691 , 40.47221269,\n",
       "        36.74234614, 18.70828693, 14.33720878, 16.26857912, 11.55662388,\n",
       "        10.96458947, 31.13768706, 29.48822741,  6.68331255,  9.41629793,\n",
       "        25.24986249, 20.51016008,  8.7305339 , 22.44994432, 22.04540769,\n",
       "        19.6468827 , 20.39607805, 14.70449667, 14.29063407, 13.0979218 ],\n",
       "       [ 4.10960934, 10.03327796,  9.53356643, 11.77568116, 11.8977122 ,\n",
       "        13.27487183, 15.92342788, 38.47365621, 34.61534663, 14.05544576,\n",
       "        14.05544576, 13.19932658, 12.32882801, 16.77961726, 18.08006883,\n",
       "         2.44948974, 24.3082062 , 25.7207223 , 32.31442746, 32.99831646,\n",
       "        31.67894499,  3.39934634,  5.35412613, 30.40102337, 31.01612484,\n",
       "        33.70789555, 33.23652609,  7.78888096,  8.52447457, 22.36564826,\n",
       "        16.26857912, 14.65908895, 24.53568829, 19.36204764,  7.25718035,\n",
       "         7.25718035, 26.91963348, 30.73543015, 36.80881537, 35.10935298,\n",
       "        40.14418458, 29.69848481, 23.32857094,  5.35412613, 17.55625878,\n",
       "        12.22929089,  8.21921867,  5.90668172, 15.76916823, 18.15366507,\n",
       "        14.8548533 , 13.27487183, 11.5758369 , 11.11555467,  8.21921867,\n",
       "         4.98887652, 12.83225104, 23.27134623, 38.28837944, 15.74801575,\n",
       "        40.54901013, 35.9536739 , 34.12070079, 31.53833646, 11.26449683,\n",
       "         3.29983165,  6.94422222, 17.10750323, 21.64871051, 32.16968898],\n",
       "       [18.51725922, 16.51934892, 14.72714802, 13.88844444,  8.25967446,\n",
       "         3.09120617, 11.5758369 , 14.76482306, 20.04993766, 21.54581681,\n",
       "         6.68331255, 11.46976702, 31.4960315 , 35.17890782, 39.88594851,\n",
       "        36.35931793, 11.32352517,  3.29983165,  2.1602469 ,  1.88561808,\n",
       "        11.78511302, 10.33870828, 15.1510909 , 16.04853749, 20.92844954,\n",
       "        10.14341604,  9.28559218,  7.9302515 , 13.1402689 , 23.32857094,\n",
       "        28.66279044, 27.72483844, 28.54625875, 31.03045099, 32.35566239,\n",
       "        28.24889378, 13.9124245 ,  7.78888096, 16.35712553, 31.25522179,\n",
       "        35.14098588, 29.91469353, 20.28683207, 25.36839679, 24.5673677 ,\n",
       "        21.56128217, 25.24986249,  1.69967317, 36.80579664, 40.73764298,\n",
       "        39.34745509, 40.7458246 , 18.37268504, 13.6381817 ,  8.65383666,\n",
       "         6.12825877, 33.32999983, 39.14928692, 35.92584956, 17.9691093 ,\n",
       "        26.19160171, 25.84999463, 16.04853749, 13.69509239, 11.5181017 ,\n",
       "         7.78888096,  8.05536398, 15.10702559, 12.67543556, 12.28368385],\n",
       "       [16.53951497,  4.10960934, 11.11555467, 11.26449683, 18.80307303,\n",
       "        12.55211359,  9.7410928 , 30.92284305, 29.95923156, 36.52700675,\n",
       "        23.67840085, 38.85299931, 30.16988933, 26.19584361, 11.5181017 ,\n",
       "        14.61354014, 29.48822741, 36.34097779, 36.34097779,  6.01849003,\n",
       "        19.13112647, 23.09882152, 35.19785347, 36.88119063, 35.12200956,\n",
       "         9.84321537, 40.94169296, 38.75564475, 34.10115671, 10.33870828,\n",
       "        14.83988619, 36.17549815, 27.35365099, 25.31139401, 18.4571576 ,\n",
       "        17.9691093 , 24.4176621 , 17.04894914,  2.1602469 ,  4.02768199,\n",
       "         4.24264069, 14.14213562, 29.10135545, 18.87385022, 16.41814714,\n",
       "        12.97005097, 24.115463  , 18.57118437, 33.10924678, 28.19377394,\n",
       "        30.26916289, 32.75159029, 31.68946548, 21.07657995, 18.20866704,\n",
       "        23.7954244 , 18.78533707, 24.38578821,  5.88784058, 13.29995823,\n",
       "        18.00617178, 35.51838335, 38.87015422, 22.99275248, 21.27596453,\n",
       "        26.73740617, 28.59292842, 26.24245923, 26.51205177, 27.81286673],\n",
       "       [27.52372714,  7.13364485, 14.96662955, 27.27636339, 17.3781472 ,\n",
       "        12.49888884, 32.42769735, 32.83629428,  9.03081146,  4.02768199,\n",
       "         5.90668172,  5.90668172, 27.10883415, 25.97862369, 31.62629005,\n",
       "        39.3022476 , 39.40671122, 12.75408431, 25.46893533, 33.06895153,\n",
       "        32.70406023, 16.41814714,  6.68331255, 12.6578917 ,  9.89949494,\n",
       "        29.69100126, 31.47838765, 33.29664648, 23.42363479, 22.6421436 ,\n",
       "        23.09882152, 27.9801517 , 31.59465496, 43.37690118, 40.43375927,\n",
       "        32.56787783, 25.31139401, 15.32608524, 21.2498366 , 21.27596453,\n",
       "        10.20892855, 38.12552368, 37.85058344, 27.88468317, 19.15434386,\n",
       "         4.54606057, 11.8977122 , 12.91854825, 21.13974666, 20.11632836,\n",
       "        15.89549202, 15.1510909 , 17.55625878, 17.55625878, 13.02134999,\n",
       "        24.55379581, 20.2155056 , 36.50570732, 23.42363479,  7.58653778,\n",
       "        37.38389433, 39.19467084, 43.87102309, 27.39018478, 26.78722747,\n",
       "        33.58901937, 35.34905311,  8.7305339 , 16.33673434, 17.79513042],\n",
       "       [29.16999981, 30.26916289, 29.74334659,  5.43650214,  5.71547607,\n",
       "        30.73543015, 29.94810326, 29.48822741, 23.15647258, 24.07396011,\n",
       "        11.04536102,  7.31816613, 21.45279055, 24.68917892, 25.77250904,\n",
       "        21.23414441, 18.018509  , 20.07209229, 17.24979871, 28.57738033,\n",
       "        15.45603083, 10.33870828, 30.01110905, 30.01110905, 36.91732505,\n",
       "        38.91015292, 39.85250585, 36.62725154, 29.78067979, 21.92917894,\n",
       "         9.09212113,  9.84321537, 14.71960144, 19.61292091, 12.83225104,\n",
       "        15.64182428, 16.49915823, 16.99019325, 28.59292842, 28.96357866,\n",
       "        19.15434386, 15.57776193, 13.47425529, 24.28076514, 15.06283137,\n",
       "        20.00555478, 16.43843734, 16.43843734,  7.78888096, 25.24986249,\n",
       "        30.07028803, 27.52372714, 18.40289832, 17.93197021, 16.673332  ,\n",
       "         5.09901951, 25.7207223 , 24.52662952, 23.58436394, 10.87300429,\n",
       "        11.72840806, 11.8977122 ,  9.7410928 , 13.42468704, 13.27487183,\n",
       "        32.88701196, 34.58644564, 36.33486235,  3.26598632, 14.97405163],\n",
       "       [22.21611027, 19.94993734, 16.00694294,  8.33999734,  8.7305339 ,\n",
       "        23.79075451, 33.9705755 , 34.87437773, 32.10745846, 35.11251755,\n",
       "        41.88078318, 41.6839964 ,  4.96655481, 24.28076514, 20.85398976,\n",
       "        11.8977122 ,  8.17856276, 11.84154645, 31.63331577, 31.18760438,\n",
       "        33.17629676, 13.47425529, 15.08494467, 37.24990679, 37.70941527,\n",
       "        34.12070079, 30.40833219, 32.56787783, 27.36177382, 15.45603083,\n",
       "        19.66949132, 19.66949132, 24.85960579,  8.65383666, 23.47102232,\n",
       "        27.64456949, 28.43706501, 20.7578633 , 20.7578633 , 27.06781607,\n",
       "        35.50586806, 38.43898484, 37.49666652, 34.84250278,  8.60232527,\n",
       "        13.19932658, 14.05544576, 19.25847577,  8.6409876 , 15.1510909 ,\n",
       "        29.78067979, 34.96982827, 19.01461426, 17.82008854, 22.30595337,\n",
       "        29.16999981, 31.15552385,  1.69967317, 33.72766751, 35.39303133,\n",
       "        31.68946548, 28.77885026, 16.35712553, 20.41785711, 28.33137248,\n",
       "        30.15883876, 31.03045099,  9.79795897, 17.98765008, 17.15290711],\n",
       "       [19.34482417, 17.79513042,  9.41629793, 12.68419839, 27.53583524,\n",
       "        29.95923156, 29.74334659, 25.59079696, 25.59079696, 21.01322335,\n",
       "        21.48384406, 24.55379581, 23.93045479,  8.28653526, 21.63844316,\n",
       "        21.07657995,  2.1602469 , 11.43095213, 12.25651754, 44.78342948,\n",
       "        39.55586766, 29.70970661, 26.41127705, 31.71049598, 31.47838765,\n",
       "         9.7410928 , 23.69716345, 24.39034417, 28.54625875, 21.85304454,\n",
       "        10.8012345 , 12.83225104,  5.88784058, 25.62984372, 19.36204764,\n",
       "         7.9302515 , 18.54723699, 29.80305726, 30.47403266, 26.54555832,\n",
       "        26.54555832, 30.81485933, 34.29609631,  7.84573486, 24.14309195,\n",
       "        18.62495339, 24.28076514, 30.68477726, 29.87752779, 17.10750323,\n",
       "        27.0472837 , 27.5317998 , 31.58410289, 16.11072796, 14.70449667,\n",
       "        25.72936066, 16.673332  , 20.36882149, 35.15995197, 15.96524002,\n",
       "        35.33647785, 32.96799795, 30.26916289, 28.71701006, 13.9124245 ,\n",
       "         5.90668172,  6.4807407 ,  6.3420992 ,  4.96655481, 25.31578339],\n",
       "       [18.73202842, 18.05547009, 25.4863798 , 28.98658694, 25.39028686,\n",
       "        32.56105376, 26.54974367, 29.70970661, 26.28053779, 28.01586852,\n",
       "        31.08411527, 31.62629005, 29.40521496, 20.06655592, 16.08311744,\n",
       "        20.46134567, 22.29100466, 27.45096639, 23.61261433, 23.61261433,\n",
       "        22.51419305, 10.49867717, 26.73325021, 39.20317447, 24.49489743,\n",
       "        26.24669291,  7.36357401, 25.13961018, 25.03774928, 31.37939876,\n",
       "        23.76271589,  4.49691252, 32.35566239, 29.20045662, 17.56891194,\n",
       "        22.12590237, 22.75961335, 17.1464282 , 21.11871208, 28.76726535,\n",
       "        28.89444391,  6.94422222, 17.2819752 , 16.49915823, 14.38363267,\n",
       "        13.02134999,  9.09212113, 33.02524287, 33.32999983, 31.50661306,\n",
       "        23.29997616, 25.94010194, 23.66901397, 24.12467616, 33.07567082,\n",
       "        39.93606001,  3.29983165, 15.08494467, 22.93953405, 17.59419096,\n",
       "        23.93045479, 25.30261295,  6.68331255, 13.06394529, 16.97710877,\n",
       "        16.97710877, 10.98483804,  9.20144916,  8.99382504, 32.88701196]])"
      ]
     },
     "execution_count": 6,
     "metadata": {},
     "output_type": "execute_result"
    }
   ],
   "source": [
    "# Task 2\n",
    "standard_deviation = np.std(rolling_window, axis = 2)\n",
    "standard_deviation"
   ]
  },
  {
   "cell_type": "code",
   "execution_count": 7,
   "id": "074388f4-3f10-4692-820f-08e53f0b9beb",
   "metadata": {},
   "outputs": [
    {
     "name": "stdout",
     "output_type": "stream",
     "text": [
      "(2,)\n"
     ]
    }
   ],
   "source": [
    "a =[2]\n",
    "b = tuple(a)\n",
    "print(b)"
   ]
  },
  {
   "cell_type": "code",
   "execution_count": null,
   "id": "aa36323f-bb3d-44dc-83d4-3921a3087545",
   "metadata": {},
   "outputs": [],
   "source": []
  }
 ],
 "metadata": {
  "kernelspec": {
   "display_name": "Python 3 (ipykernel)",
   "language": "python",
   "name": "python3"
  },
  "language_info": {
   "codemirror_mode": {
    "name": "ipython",
    "version": 3
   },
   "file_extension": ".py",
   "mimetype": "text/x-python",
   "name": "python",
   "nbconvert_exporter": "python",
   "pygments_lexer": "ipython3",
   "version": "3.12.7"
  }
 },
 "nbformat": 4,
 "nbformat_minor": 5
}
