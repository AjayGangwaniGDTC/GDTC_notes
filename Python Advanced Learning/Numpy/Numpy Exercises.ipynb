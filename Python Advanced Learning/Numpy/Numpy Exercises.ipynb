{
 "cells": [
  {
   "cell_type": "code",
   "execution_count": 1,
   "metadata": {
    "colab": {
     "base_uri": "https://localhost:8080/"
    },
    "executionInfo": {
     "elapsed": 37,
     "status": "ok",
     "timestamp": 1751511345172,
     "user": {
      "displayName": "Ajay Gangwani",
      "userId": "07034925156851625974"
     },
     "user_tz": -330
    },
    "id": "kM08u6TWMVFl",
    "outputId": "2ba562a0-e795-4a69-c2d0-a4ef08d42198"
   },
   "outputs": [
    {
     "name": "stdout",
     "output_type": "stream",
     "text": [
      "S1 → Load: 88 MW | Voltage: 1.01 p.u. | Growth: 4.8% | Peak x1.13\n",
      "S2 → Load: 78 MW | Voltage: 0.97 p.u. | Growth: 5.1% | Peak x1.13\n",
      "S3 → Load: 64 MW | Voltage: 0.97 p.u. | Growth: 3.1% | Peak x1.13\n",
      "S4 → Load: 92 MW | Voltage: 0.96 p.u. | Growth: 5.9% | Peak x1.15\n",
      "S5 → Load: 57 MW | Voltage: 1.04 p.u. | Growth: 5.5% | Peak x1.18\n"
     ]
    }
   ],
   "source": [
    "import numpy as np\n",
    "\n",
    "# Set seed for reproducibility\n",
    "np.random.seed(42)\n",
    "\n",
    "# Substation IDs\n",
    "substations = np.array(['S1', 'S2', 'S3', 'S4', 'S5'])\n",
    "\n",
    "# Base load in MW (random between 50 and 100)\n",
    "base_load = np.random.randint(50, 101, size=5)\n",
    "\n",
    "# Voltage magnitudes (in per unit, realistic range)\n",
    "voltages = np.round(np.random.uniform(0.95, 1.05, size=5), 2)\n",
    "\n",
    "# Annual growth rate (between 3% and 6%)\n",
    "growth_rate = np.round(np.random.uniform(0.03, 0.06, size=5), 3)\n",
    "\n",
    "# Peak season multiplier (between 1.1 and 1.25)\n",
    "peak_multiplier = np.round(np.random.uniform(1.1, 1.25, size=5), 2)\n",
    "\n",
    "# Display synthetic data\n",
    "for i in range(5):\n",
    "    print(f\"{substations[i]} → Load: {base_load[i]} MW | Voltage: {voltages[i]} p.u. | Growth: {growth_rate[i]*100:.1f}% | Peak x{peak_multiplier[i]}\")"
   ]
  },
  {
   "cell_type": "markdown",
   "metadata": {},
   "source": [
    "# Category 1: Regenerated Arithmetic Operations Exercises (Set 1 of 7)"
   ]
  },
  {
   "cell_type": "code",
   "execution_count": 23,
   "metadata": {
    "colab": {
     "base_uri": "https://localhost:8080/"
    },
    "executionInfo": {
     "elapsed": 67,
     "status": "ok",
     "timestamp": 1751511457989,
     "user": {
      "displayName": "Ajay Gangwani",
      "userId": "07034925156851625974"
     },
     "user_tz": -330
    },
    "id": "m39aJsw-NlF5",
    "outputId": "cd3247df-3711-4027-e22b-b74ea13dd9fb"
   },
   "outputs": [
    {
     "data": {
      "text/plain": [
       "array([111.24719909, 100.02491312,  74.5544036 , 122.53710844,\n",
       "        74.49672037])"
      ]
     },
     "execution_count": 23,
     "metadata": {},
     "output_type": "execute_result"
    }
   ],
   "source": [
    "# Exercise 1: Projected Load After 5 Years\n",
    "years = 5\n",
    "future_load = base_load * (1 + growth_rate) ** years\n",
    "future_load"
   ]
  },
  {
   "cell_type": "code",
   "execution_count": 24,
   "metadata": {
    "colab": {
     "base_uri": "https://localhost:8080/"
    },
    "executionInfo": {
     "elapsed": 39,
     "status": "ok",
     "timestamp": 1751511515957,
     "user": {
      "displayName": "Ajay Gangwani",
      "userId": "07034925156851625974"
     },
     "user_tz": -330
    },
    "id": "7X8ccFlkOAam",
    "outputId": "96146e04-c5bf-45bc-8441-5e2791426cc7"
   },
   "outputs": [
    {
     "data": {
      "text/plain": [
       "array([23.24719909, 22.02491312, 10.5544036 , 30.53710844, 17.49672037])"
      ]
     },
     "execution_count": 24,
     "metadata": {},
     "output_type": "execute_result"
    }
   ],
   "source": [
    "# Exercise 2: Load Increase Over 5 Years\n",
    "load_increase = future_load - base_load\n",
    "load_increase"
   ]
  },
  {
   "cell_type": "code",
   "execution_count": 25,
   "metadata": {
    "colab": {
     "base_uri": "https://localhost:8080/"
    },
    "executionInfo": {
     "elapsed": 90,
     "status": "ok",
     "timestamp": 1751511612746,
     "user": {
      "displayName": "Ajay Gangwani",
      "userId": "07034925156851625974"
     },
     "user_tz": -330
    },
    "id": "l-Cz31JXOg5G",
    "outputId": "cb88c0bb-e436-489d-a66d-3c3e7b8ed748"
   },
   "outputs": [
    {
     "data": {
      "text/plain": [
       "array([ 99.44,  88.14,  72.32, 105.8 ,  67.26])"
      ]
     },
     "execution_count": 25,
     "metadata": {},
     "output_type": "execute_result"
    }
   ],
   "source": [
    "# Exercise 3: Peak Season Load\n",
    "peak_load = base_load * peak_multiplier\n",
    "peak_load"
   ]
  },
  {
   "cell_type": "code",
   "execution_count": 26,
   "metadata": {
    "colab": {
     "base_uri": "https://localhost:8080/"
    },
    "executionInfo": {
     "elapsed": 17,
     "status": "ok",
     "timestamp": 1751511651196,
     "user": {
      "displayName": "Ajay Gangwani",
      "userId": "07034925156851625974"
     },
     "user_tz": -330
    },
    "id": "nOKvQczZOk4Q",
    "outputId": "f24bdc4c-91e0-4558-d85a-b548270dcefc"
   },
   "outputs": [
    {
     "data": {
      "text/plain": [
       "array([0.88571429, 0.6       , 0.2       , 1.        , 0.        ])"
      ]
     },
     "execution_count": 26,
     "metadata": {},
     "output_type": "execute_result"
    }
   ],
   "source": [
    "# Exercise 4: Load Normalization\n",
    "normalized_load = (base_load - base_load.min()) / (base_load.max() - base_load.min())\n",
    "normalized_load"
   ]
  },
  {
   "cell_type": "code",
   "execution_count": 27,
   "metadata": {
    "colab": {
     "base_uri": "https://localhost:8080/"
    },
    "executionInfo": {
     "elapsed": 117,
     "status": "ok",
     "timestamp": 1751511682666,
     "user": {
      "displayName": "Ajay Gangwani",
      "userId": "07034925156851625974"
     },
     "user_tz": -330
    },
    "id": "-ROnAv53OuRK",
    "outputId": "9c890426-7e6b-411b-8c52-28372f2d3a19"
   },
   "outputs": [
    {
     "data": {
      "text/plain": [
       "array([87.12871287, 80.41237113, 65.97938144, 95.83333333, 54.80769231])"
      ]
     },
     "execution_count": 27,
     "metadata": {},
     "output_type": "execute_result"
    }
   ],
   "source": [
    "# Exercise 5: Load-to-Voltage Ratio\n",
    "lv_ratio = base_load / voltages\n",
    "lv_ratio"
   ]
  },
  {
   "cell_type": "markdown",
   "metadata": {},
   "source": [
    "# Category 2: Array Manipulation (Set 2 of 7)"
   ]
  },
  {
   "cell_type": "code",
   "execution_count": 28,
   "metadata": {
    "colab": {
     "base_uri": "https://localhost:8080/"
    },
    "executionInfo": {
     "elapsed": 63,
     "status": "ok",
     "timestamp": 1751511737204,
     "user": {
      "displayName": "Ajay Gangwani",
      "userId": "07034925156851625974"
     },
     "user_tz": -330
    },
    "id": "H6iU1IvBO2EN",
    "outputId": "b47c6b65-ac87-40df-87ea-d7facce5f739"
   },
   "outputs": [
    {
     "data": {
      "text/plain": [
       "array([['S1', '88', '1.01'],\n",
       "       ['S2', '78', '0.97'],\n",
       "       ['S3', '64', '0.97'],\n",
       "       ['S4', '92', '0.96'],\n",
       "       ['S5', '57', '1.04']], dtype='<U32')"
      ]
     },
     "execution_count": 28,
     "metadata": {},
     "output_type": "execute_result"
    }
   ],
   "source": [
    "# Exercise 1: Combine Substation Data\n",
    "# Combine substations, base load, and voltages into a structured array\n",
    "grid_info = np.column_stack((substations, base_load, voltages))\n",
    "grid_info"
   ]
  },
  {
   "cell_type": "code",
   "execution_count": 29,
   "metadata": {
    "colab": {
     "base_uri": "https://localhost:8080/"
    },
    "executionInfo": {
     "elapsed": 76,
     "status": "ok",
     "timestamp": 1751511801499,
     "user": {
      "displayName": "Ajay Gangwani",
      "userId": "07034925156851625974"
     },
     "user_tz": -330
    },
    "id": "o0QMw16MPG3K",
    "outputId": "6caa0902-4bb7-42f9-8475-5029427f4ff4"
   },
   "outputs": [
    {
     "data": {
      "text/plain": [
       "array([['S1', '88', '1.01'],\n",
       "       ['S2', '78', '0.97'],\n",
       "       ['S3', '64', '0.97'],\n",
       "       ['S4', '92', '0.96'],\n",
       "       ['S5', '57', '1.04'],\n",
       "       ['S6', '85', '1.01']], dtype='<U32')"
      ]
     },
     "execution_count": 29,
     "metadata": {},
     "output_type": "execute_result"
    }
   ],
   "source": [
    "# Exercise 2: Add a New Substation\n",
    "# New substation data\n",
    "new_data = np.array([['S6', 85, 1.01]])\n",
    "\n",
    "# Append to existing grid\n",
    "grid_info = np.vstack((grid_info, new_data))\n",
    "grid_info"
   ]
  },
  {
   "cell_type": "code",
   "execution_count": 30,
   "metadata": {
    "colab": {
     "base_uri": "https://localhost:8080/"
    },
    "executionInfo": {
     "elapsed": 33,
     "status": "ok",
     "timestamp": 1751511842531,
     "user": {
      "displayName": "Ajay Gangwani",
      "userId": "07034925156851625974"
     },
     "user_tz": -330
    },
    "id": "xswnv3kSPTAb",
    "outputId": "9cb7684f-634d-41e3-c414-f0940d093bf5"
   },
   "outputs": [
    {
     "data": {
      "text/plain": [
       "array([['S1', '88', '1.01'],\n",
       "       ['S2', '78', '0.97'],\n",
       "       ['S4', '92', '0.96'],\n",
       "       ['S5', '57', '1.04'],\n",
       "       ['S6', '85', '1.01']], dtype='<U32')"
      ]
     },
     "execution_count": 30,
     "metadata": {},
     "output_type": "execute_result"
    }
   ],
   "source": [
    "# Exercise 3: Remove a Faulty Substation\n",
    "# Remove substation at index 2 (S3)\n",
    "grid_info = np.delete(grid_info, 2, axis=0)\n",
    "grid_info"
   ]
  },
  {
   "cell_type": "code",
   "execution_count": 31,
   "metadata": {
    "colab": {
     "base_uri": "https://localhost:8080/"
    },
    "executionInfo": {
     "elapsed": 106,
     "status": "ok",
     "timestamp": 1751511881800,
     "user": {
      "displayName": "Ajay Gangwani",
      "userId": "07034925156851625974"
     },
     "user_tz": -330
    },
    "id": "Tu1rrpAaPdkE",
    "outputId": "b57bed8a-019a-40bd-c3fc-112b82151455"
   },
   "outputs": [
    {
     "data": {
      "text/plain": [
       "array([88, 78, 64, 92, 57])"
      ]
     },
     "execution_count": 31,
     "metadata": {},
     "output_type": "execute_result"
    }
   ],
   "source": [
    "# Exercise 4: Flatten Load Data\n",
    "# Flatten base load for ML input\n",
    "flat_load = base_load.flatten()\n",
    "flat_load"
   ]
  },
  {
   "cell_type": "code",
   "execution_count": 32,
   "metadata": {
    "colab": {
     "base_uri": "https://localhost:8080/"
    },
    "executionInfo": {
     "elapsed": 102,
     "status": "ok",
     "timestamp": 1751511926682,
     "user": {
      "displayName": "Ajay Gangwani",
      "userId": "07034925156851625974"
     },
     "user_tz": -330
    },
    "id": "eTjrZxVePo7G",
    "outputId": "137fad9a-9541-4f3a-9031-6a70fcc61ba4"
   },
   "outputs": [
    {
     "data": {
      "text/plain": [
       "array([['S1', 'S2', 'S4', 'S5', 'S6'],\n",
       "       ['88', '78', '92', '57', '85'],\n",
       "       ['1.01', '0.97', '0.96', '1.04', '1.01']], dtype='<U32')"
      ]
     },
     "execution_count": 32,
     "metadata": {},
     "output_type": "execute_result"
    }
   ],
   "source": [
    "# Exercise 5: Transpose Grid Matrix\n",
    "# Transpose for column-wise operations\n",
    "transposed = grid_info.T\n",
    "transposed"
   ]
  },
  {
   "cell_type": "markdown",
   "metadata": {},
   "source": [
    "# Category 3: Broadcasting (Set 3 of 7)"
   ]
  },
  {
   "cell_type": "code",
   "execution_count": 33,
   "metadata": {
    "colab": {
     "base_uri": "https://localhost:8080/"
    },
    "executionInfo": {
     "elapsed": 18,
     "status": "ok",
     "timestamp": 1751511978024,
     "user": {
      "displayName": "Ajay Gangwani",
      "userId": "07034925156851625974"
     },
     "user_tz": -330
    },
    "id": "_b3Ni2UEPz0j",
    "outputId": "3e4053c0-2b87-43b4-9fcb-98b4c1ee3aec"
   },
   "outputs": [
    {
     "data": {
      "text/plain": [
       "array([ 98,  88,  74, 102,  67])"
      ]
     },
     "execution_count": 33,
     "metadata": {},
     "output_type": "execute_result"
    }
   ],
   "source": [
    "# Exercise 1: Add Reserve Margin to All Loads\n",
    "reserve_margin = 10  # MW\n",
    "adjusted_load = base_load + reserve_margin\n",
    "adjusted_load"
   ]
  },
  {
   "cell_type": "code",
   "execution_count": 34,
   "metadata": {
    "colab": {
     "base_uri": "https://localhost:8080/"
    },
    "executionInfo": {
     "elapsed": 58,
     "status": "ok",
     "timestamp": 1751512040973,
     "user": {
      "displayName": "Ajay Gangwani",
      "userId": "07034925156851625974"
     },
     "user_tz": -330
    },
    "id": "czCXTdxbP-XA",
    "outputId": "0fc72a8d-26a3-42cf-85b5-ea4fb967830e"
   },
   "outputs": [
    {
     "data": {
      "text/plain": [
       "array([87.12871287, 80.41237113, 65.97938144, 95.83333333, 54.80769231])"
      ]
     },
     "execution_count": 34,
     "metadata": {},
     "output_type": "execute_result"
    }
   ],
   "source": [
    "# Exercise 2: Normalize Load by Voltage\n",
    "normalized = base_load / voltages\n",
    "normalized"
   ]
  },
  {
   "cell_type": "code",
   "execution_count": 35,
   "metadata": {
    "colab": {
     "base_uri": "https://localhost:8080/"
    },
    "executionInfo": {
     "elapsed": 13,
     "status": "ok",
     "timestamp": 1751512073132,
     "user": {
      "displayName": "Ajay Gangwani",
      "userId": "07034925156851625974"
     },
     "user_tz": -330
    },
    "id": "kEnWTMOKQNJd",
    "outputId": "31718d17-7840-4fa3-976f-9100c1371455"
   },
   "outputs": [
    {
     "data": {
      "text/plain": [
       "array([ 12.2,   2.2, -11.8,  16.2, -18.8])"
      ]
     },
     "execution_count": 35,
     "metadata": {},
     "output_type": "execute_result"
    }
   ],
   "source": [
    "# Exercise 3: Subtract Regional Average Load\n",
    "regional_avg = np.mean(base_load)\n",
    "load_deviation = base_load - regional_avg\n",
    "load_deviation"
   ]
  },
  {
   "cell_type": "code",
   "execution_count": 36,
   "metadata": {
    "id": "nkk7F4jcQZNf"
   },
   "outputs": [
    {
     "data": {
      "text/plain": [
       "array([96.8 , 93.6 , 73.6 , 96.6 , 71.25])"
      ]
     },
     "execution_count": 36,
     "metadata": {},
     "output_type": "execute_result"
    }
   ],
   "source": [
    "# Exercise 4: Multiply Load by Seasonal Factors\n",
    "seasonal_factors = np.array([1.1, 1.2, 1.15, 1.05, 1.25])\n",
    "seasonal_load = base_load * seasonal_factors\n",
    "seasonal_load"
   ]
  },
  {
   "cell_type": "code",
   "execution_count": 42,
   "metadata": {
    "id": "9G0lsa67RKpw"
   },
   "outputs": [
    {
     "data": {
      "text/plain": [
       "array([[ 83.6 ,  88.  ,  92.4 ,  96.8 ,  79.2 ],\n",
       "       [ 74.1 ,  78.  ,  81.9 ,  85.8 ,  70.2 ],\n",
       "       [ 60.8 ,  64.  ,  67.2 ,  70.4 ,  57.6 ],\n",
       "       [ 87.4 ,  92.  ,  96.6 , 101.2 ,  82.8 ],\n",
       "       [ 54.15,  57.  ,  59.85,  62.7 ,  51.3 ]])"
      ]
     },
     "execution_count": 42,
     "metadata": {},
     "output_type": "execute_result"
    }
   ],
   "source": [
    "\n",
    "# Exercise 5: Broadcast 1D Array to 2D Matrix\n",
    "# Create 2D matrix of 5 days of load\n",
    "daily_variation = np.array([0.95, 1.0, 1.05, 1.1, 0.9])\n",
    "load_matrix = base_load[:, np.newaxis] * daily_variation\n",
    "load_matrix"
   ]
  },
  {
   "cell_type": "markdown",
   "metadata": {},
   "source": [
    "# Category 4: Broadcasting with Different Shapes (Set 4 of 7)"
   ]
  },
  {
   "cell_type": "code",
   "execution_count": 43,
   "metadata": {
    "id": "Zfq61fiyRab8"
   },
   "outputs": [
    {
     "data": {
      "text/plain": [
       "array([[ 83.6 ,  88.  ,  92.4 ,  96.8 , 105.6 , 101.2 ,  79.2 ],\n",
       "       [ 74.1 ,  78.  ,  81.9 ,  85.8 ,  93.6 ,  89.7 ,  70.2 ],\n",
       "       [ 60.8 ,  64.  ,  67.2 ,  70.4 ,  76.8 ,  73.6 ,  57.6 ],\n",
       "       [ 87.4 ,  92.  ,  96.6 , 101.2 , 110.4 , 105.8 ,  82.8 ],\n",
       "       [ 54.15,  57.  ,  59.85,  62.7 ,  68.4 ,  65.55,  51.3 ]])"
      ]
     },
     "execution_count": 43,
     "metadata": {},
     "output_type": "execute_result"
    }
   ],
   "source": [
    "# Exercise 1: Weekly Load Profile (5 substations × 7 days)\n",
    "# Daily variation factors (Mon–Sun)\n",
    "daily_factors = np.array([0.95, 1.0, 1.05, 1.1, 1.2, 1.15, 0.9])  # shape (7,)\n",
    "\n",
    "# Broadcast base_load (5,) to (5, 7)\n",
    "weekly_load = base_load[:, np.newaxis] * daily_factors\n",
    "weekly_load"
   ]
  },
  {
   "cell_type": "code",
   "execution_count": 44,
   "metadata": {
    "id": "h1ozZg1PRpDO"
   },
   "outputs": [
    {
     "data": {
      "text/plain": [
       "array([ 52.8       ,  55.09565217,  57.39130435,  59.68695652,\n",
       "        61.9826087 ,  64.27826087,  66.57391304,  68.86956522,\n",
       "        71.16521739,  73.46086957,  75.75652174,  78.05217391,\n",
       "        80.34782609,  82.64347826,  84.93913043,  87.23478261,\n",
       "        89.53043478,  91.82608696,  94.12173913,  96.4173913 ,\n",
       "        98.71304348, 101.00869565, 103.30434783, 105.6       ])"
      ]
     },
     "execution_count": 44,
     "metadata": {},
     "output_type": "execute_result"
    }
   ],
   "source": [
    "# Exercise 2: Hourly Load Curve for One Substation\n",
    "# Hourly profile (normalized)\n",
    "hourly_profile = np.linspace(0.6, 1.2, 24)  # shape (24,)\n",
    "\n",
    "# Load for substation S1 across 24 hours\n",
    "hourly_load_S1 = base_load[0] * hourly_profile\n",
    "hourly_load_S1"
   ]
  },
  {
   "cell_type": "code",
   "execution_count": 46,
   "metadata": {
    "colab": {
     "base_uri": "https://localhost:8080/",
     "height": 280
    },
    "executionInfo": {
     "elapsed": 113,
     "status": "error",
     "timestamp": 1751512540588,
     "user": {
      "displayName": "Ajay Gangwani",
      "userId": "07034925156851625974"
     },
     "user_tz": -330
    },
    "id": "vO2XpVHHR986",
    "outputId": "7eff932f-0199-4c14-b9b3-7cc431682789"
   },
   "outputs": [
    {
     "data": {
      "text/plain": [
       "array([[ 52.8       ,  55.09565217,  57.39130435,  59.68695652,\n",
       "         61.9826087 ,  64.27826087,  66.57391304,  68.86956522,\n",
       "         71.16521739,  73.46086957,  75.75652174,  78.05217391,\n",
       "         80.34782609,  82.64347826,  84.93913043,  87.23478261,\n",
       "         89.53043478,  91.82608696,  94.12173913,  96.4173913 ,\n",
       "         98.71304348, 101.00869565, 103.30434783, 105.6       ],\n",
       "       [ 46.8       ,  48.83478261,  50.86956522,  52.90434783,\n",
       "         54.93913043,  56.97391304,  59.00869565,  61.04347826,\n",
       "         63.07826087,  65.11304348,  67.14782609,  69.1826087 ,\n",
       "         71.2173913 ,  73.25217391,  75.28695652,  77.32173913,\n",
       "         79.35652174,  81.39130435,  83.42608696,  85.46086957,\n",
       "         87.49565217,  89.53043478,  91.56521739,  93.6       ],\n",
       "       [ 38.4       ,  40.06956522,  41.73913043,  43.40869565,\n",
       "         45.07826087,  46.74782609,  48.4173913 ,  50.08695652,\n",
       "         51.75652174,  53.42608696,  55.09565217,  56.76521739,\n",
       "         58.43478261,  60.10434783,  61.77391304,  63.44347826,\n",
       "         65.11304348,  66.7826087 ,  68.45217391,  70.12173913,\n",
       "         71.79130435,  73.46086957,  75.13043478,  76.8       ],\n",
       "       [ 55.2       ,  57.6       ,  60.        ,  62.4       ,\n",
       "         64.8       ,  67.2       ,  69.6       ,  72.        ,\n",
       "         74.4       ,  76.8       ,  79.2       ,  81.6       ,\n",
       "         84.        ,  86.4       ,  88.8       ,  91.2       ,\n",
       "         93.6       ,  96.        ,  98.4       , 100.8       ,\n",
       "        103.2       , 105.6       , 108.        , 110.4       ],\n",
       "       [ 34.2       ,  35.68695652,  37.17391304,  38.66086957,\n",
       "         40.14782609,  41.63478261,  43.12173913,  44.60869565,\n",
       "         46.09565217,  47.5826087 ,  49.06956522,  50.55652174,\n",
       "         52.04347826,  53.53043478,  55.0173913 ,  56.50434783,\n",
       "         57.99130435,  59.47826087,  60.96521739,  62.45217391,\n",
       "         63.93913043,  65.42608696,  66.91304348,  68.4       ]])"
      ]
     },
     "execution_count": 46,
     "metadata": {},
     "output_type": "execute_result"
    }
   ],
   "source": [
    "# Exercise 3: Full Grid Hourly Load Matrix (5 substations × 24 hours)\n",
    "# Reshape base_load to (5, 1)\n",
    "substation_matrix = base_load[:, np.newaxis]  # shape (5, 1)\n",
    "\n",
    "# Broadcast with hourly_profile (24,) → result: (5, 24)\n",
    "hourly_matrix = substation_matrix * hourly_profile\n",
    "hourly_matrix"
   ]
  },
  {
   "cell_type": "code",
   "execution_count": 47,
   "metadata": {
    "id": "_xgf9bdSSFG_"
   },
   "outputs": [
    {
     "data": {
      "text/plain": [
       "array([ 12.2,   2.2, -11.8,  16.2, -18.8])"
      ]
     },
     "execution_count": 47,
     "metadata": {},
     "output_type": "execute_result"
    }
   ],
   "source": [
    "# Exercise 4: Subtract Regional Mean from Each Substation (Centering)\n",
    "regional_mean = np.mean(base_load)  # scalar\n",
    "centered_load = base_load - regional_mean\n",
    "centered_load"
   ]
  },
  {
   "cell_type": "code",
   "execution_count": 48,
   "metadata": {
    "id": "irkfr_VLSMgG"
   },
   "outputs": [
    {
     "data": {
      "text/plain": [
       "array([[ 85.6 ,  90.  ,  94.4 ,  98.8 , 107.6 , 103.2 ,  81.2 ],\n",
       "       [ 73.1 ,  77.  ,  80.9 ,  84.8 ,  92.6 ,  88.7 ,  69.2 ],\n",
       "       [ 60.8 ,  64.  ,  67.2 ,  70.4 ,  76.8 ,  73.6 ,  57.6 ],\n",
       "       [ 90.4 ,  95.  ,  99.6 , 104.2 , 113.4 , 108.8 ,  85.8 ],\n",
       "       [ 52.15,  55.  ,  57.85,  60.7 ,  66.4 ,  63.55,  49.3 ]])"
      ]
     },
     "execution_count": 48,
     "metadata": {},
     "output_type": "execute_result"
    }
   ],
   "source": [
    "# Exercise 5: Add Load Adjustment Matrix (5×1) to Weekly Load (5×7)\n",
    "# Adjustment per substation (e.g., due to DERs or losses)\n",
    "adjustment = np.array([[2], [-1], [0], [3], [-2]])  # shape (5, 1)\n",
    "\n",
    "# Apply to weekly load\n",
    "adjusted_weekly = weekly_load + adjustment\n",
    "adjusted_weekly"
   ]
  },
  {
   "cell_type": "markdown",
   "metadata": {
    "id": "OClLbTVESQWO"
   },
   "source": [
    "# Category 5: Indexing and Slicing (Set 5 of 7)"
   ]
  },
  {
   "cell_type": "code",
   "execution_count": 50,
   "metadata": {},
   "outputs": [
    {
     "data": {
      "text/plain": [
       "array([['S1', '72', '1.01'],\n",
       "       ['S2', '95', '0.98'],\n",
       "       ['S3', '60', '1.0'],\n",
       "       ['S4', '88', '1.02'],\n",
       "       ['S5', '77', '0.99']], dtype='<U32')"
      ]
     },
     "execution_count": 50,
     "metadata": {},
     "output_type": "execute_result"
    }
   ],
   "source": [
    "import numpy as np\n",
    "\n",
    "\n",
    "# Substation IDs\n",
    "\n",
    "substations = np.array(['S1', 'S2', 'S3', 'S4', 'S5'])\n",
    "\n",
    "\n",
    "# Base load in MW\n",
    "\n",
    "base_load = np.array([72, 95, 60, 88, 77])\n",
    "\n",
    "\n",
    "# Voltage magnitudes (in p.u.)\n",
    "\n",
    "voltages = np.array([1.01, 0.98, 1.00, 1.02, 0.99])\n",
    "\n",
    "\n",
    "# Combine into a 2D array: [Substation, Load, Voltage]\n",
    "\n",
    "grid_matrix = np.column_stack((substations, base_load, voltages))\n",
    "grid_matrix"
   ]
  },
  {
   "cell_type": "code",
   "execution_count": 62,
   "metadata": {},
   "outputs": [
    {
     "data": {
      "text/plain": [
       "array([['S1', '72', '1.01'],\n",
       "       ['S2', '95', '0.98'],\n",
       "       ['S3', '60', '1.0']], dtype='<U32')"
      ]
     },
     "execution_count": 62,
     "metadata": {},
     "output_type": "execute_result"
    }
   ],
   "source": [
    "# Exercise 1: Slice First Three Substations\n",
    "# Explanation: Extracts data for S1, S2, and S3. Useful for regional filtering.\n",
    "\n",
    "sliced_array = grid_matrix[:3]\n",
    "sliced_array"
   ]
  },
  {
   "cell_type": "code",
   "execution_count": 64,
   "metadata": {},
   "outputs": [
    {
     "data": {
      "text/plain": [
       "'88'"
      ]
     },
     "execution_count": 64,
     "metadata": {},
     "output_type": "execute_result"
    }
   ],
   "source": [
    "# Exercise 2: Access Load of Substation S4\n",
    "# Explanation: Direct indexing to retrieve a specific value.\n",
    "\n",
    "accessing_load = grid_matrix[3, 1]\n",
    "accessing_load"
   ]
  },
  {
   "cell_type": "code",
   "execution_count": 66,
   "metadata": {},
   "outputs": [
    {
     "data": {
      "text/plain": [
       "array([1.01, 0.98, 1.  , 1.02, 0.99])"
      ]
     },
     "execution_count": 66,
     "metadata": {},
     "output_type": "execute_result"
    }
   ],
   "source": [
    "# Exercise 3: Get All Voltage Values\n",
    "# Explanation: Extracts the entire voltage column. .astype(float) ensures numeric type.\n",
    "\n",
    "accessing_voltage = grid_matrix[:,2].astype(float)\n",
    "accessing_voltage"
   ]
  },
  {
   "cell_type": "code",
   "execution_count": 72,
   "metadata": {},
   "outputs": [
    {
     "data": {
      "text/plain": [
       "array([['S5', '77', '0.99'],\n",
       "       ['S4', '88', '1.02'],\n",
       "       ['S3', '60', '1.0'],\n",
       "       ['S2', '95', '0.98'],\n",
       "       ['S1', '72', '1.01']], dtype='<U32')"
      ]
     },
     "execution_count": 72,
     "metadata": {},
     "output_type": "execute_result"
    }
   ],
   "source": [
    "# Exercise 4: Reverse Substation Order\n",
    "# Explanation: Slices with negative step to reverse the array. Useful for chronological or priority-based sorting.\n",
    "\n",
    "reverse_substation = grid_matrix[::-1]\n",
    "reverse_substation"
   ]
  },
  {
   "cell_type": "code",
   "execution_count": 74,
   "metadata": {},
   "outputs": [
    {
     "data": {
      "text/plain": [
       "array([['S1', '72', '1.01'],\n",
       "       ['S3', '60', '1.0'],\n",
       "       ['S5', '77', '0.99']], dtype='<U32')"
      ]
     },
     "execution_count": 74,
     "metadata": {},
     "output_type": "execute_result"
    }
   ],
   "source": [
    "# Exercise 5: Select Alternate Substations\n",
    "# Explanation: Selects S1, S3, S5. Great for sampling or load balancing simulations.\n",
    "\n",
    "alternate_substations = grid_matrix[::2]\n",
    "alternate_substations"
   ]
  },
  {
   "cell_type": "markdown",
   "metadata": {},
   "source": [
    "# Category 6: Reshaping Arrays (Set 6 of 7)"
   ]
  },
  {
   "cell_type": "code",
   "execution_count": 75,
   "metadata": {},
   "outputs": [],
   "source": [
    "import numpy as np\n",
    "\n",
    "\n",
    "# Base load for 5 substations over 7 days (MW)\n",
    "\n",
    "np.random.seed(42)\n",
    "\n",
    "base_load = np.random.randint(60, 100, size=(5, 7)) # shape (5, 7)"
   ]
  },
  {
   "cell_type": "code",
   "execution_count": 77,
   "metadata": {},
   "outputs": [
    {
     "data": {
      "text/plain": [
       "(35,)"
      ]
     },
     "execution_count": 77,
     "metadata": {},
     "output_type": "execute_result"
    }
   ],
   "source": [
    "# Exercise 1: Flatten Weekly Load to 1D\n",
    "# Explanation: Converts (5, 7) to (35,) Use case: Feeding into ML models or plotting time series\n",
    "\n",
    "flatten_load = base_load.flatten()\n",
    "flatten_load.shape"
   ]
  },
  {
   "cell_type": "code",
   "execution_count": 79,
   "metadata": {},
   "outputs": [
    {
     "data": {
      "text/plain": [
       "(7, 5)"
      ]
     },
     "execution_count": 79,
     "metadata": {},
     "output_type": "execute_result"
    }
   ],
   "source": [
    "# Exercise 2: Reshape to 7×5 (Days × Substations)\n",
    "# Explanation: Transposes logic without .T Use case: Day-wise analysis across substations\n",
    "\n",
    "transposed_matrix = base_load.reshape((7, 5))\n",
    "transposed_matrix.shape"
   ]
  },
  {
   "cell_type": "code",
   "execution_count": 82,
   "metadata": {},
   "outputs": [
    {
     "data": {
      "text/plain": [
       "(5, 7, 1)"
      ]
     },
     "execution_count": 82,
     "metadata": {},
     "output_type": "execute_result"
    }
   ],
   "source": [
    "# Exercise 3: Add Hourly Dimension (5 substations × 7 days × 1 hour)\n",
    "# Explanation: Adds a third dimension Use case: Prepping for hourly expansion via broadcasting\n",
    "\n",
    "hourly_dimension = base_load.reshape((5,7,1))\n",
    "hourly_dimension.shape"
   ]
  },
  {
   "cell_type": "code",
   "execution_count": 83,
   "metadata": {},
   "outputs": [
    {
     "data": {
      "text/plain": [
       "(5, 7)"
      ]
     },
     "execution_count": 83,
     "metadata": {},
     "output_type": "execute_result"
    }
   ],
   "source": [
    "# Exercise 4: Reshape to 1D and Back to 2D\n",
    "# Explanation: Demonstrates reversible reshaping Use case: Data compression and restoration\n",
    "\n",
    "reshaping = flatten_load.reshape((5,7))\n",
    "reshaping.shape"
   ]
  },
  {
   "cell_type": "code",
   "execution_count": 87,
   "metadata": {},
   "outputs": [
    {
     "data": {
      "text/plain": [
       "(1, 35)"
      ]
     },
     "execution_count": 87,
     "metadata": {},
     "output_type": "execute_result"
    }
   ],
   "source": [
    "# Exercise 5: Reshape with Unknown Dimension\n",
    "# Explanation: NumPy infers second dimension (35 columns) Use case: Useful when only one dimension is known\n",
    "\n",
    "unknown_dimension = base_load.reshape(1,-1)\n",
    "unknown_dimension.shape"
   ]
  },
  {
   "cell_type": "markdown",
   "metadata": {},
   "source": [
    "# Category 7: Data Cleaning (Set 7 of 7)"
   ]
  },
  {
   "cell_type": "code",
   "execution_count": 88,
   "metadata": {},
   "outputs": [],
   "source": [
    "# Exercise 1: Identify Negative Voltage Readings\n",
    "# Explanation: Creates a boolean mask for invalid (negative) voltage values.\n",
    "\n",
    "voltages = np.array([1.01, 0.98, -1.02, 1.00, -0.95])\n",
    "faulty_mask = voltages < 0"
   ]
  },
  {
   "cell_type": "code",
   "execution_count": 96,
   "metadata": {},
   "outputs": [
    {
     "data": {
      "text/plain": [
       "array([1.01, 0.98,  nan, 1.  ,  nan])"
      ]
     },
     "execution_count": 96,
     "metadata": {},
     "output_type": "execute_result"
    }
   ],
   "source": [
    "# Exercise 2: Replace Negative Voltages with NaN\n",
    "# Explanation: Marks faulty readings as missing using np.nan.\n",
    "\n",
    "replacing = np.where(faulty_mask, np.nan, voltages)\n",
    "replacing"
   ]
  },
  {
   "cell_type": "code",
   "execution_count": 97,
   "metadata": {},
   "outputs": [
    {
     "data": {
      "text/plain": [
       "array([1.01, 0.98, 1.  ])"
      ]
     },
     "execution_count": 97,
     "metadata": {},
     "output_type": "execute_result"
    }
   ],
   "source": [
    "# Exercise 3: Remove Substations with Faulty Load\n",
    "# Explanation: Filters out negative load values (e.g., due to sensor glitches).\n",
    "\n",
    "filtered_values = voltages[voltages > 0]\n",
    "filtered_values"
   ]
  },
  {
   "cell_type": "code",
   "execution_count": 98,
   "metadata": {},
   "outputs": [
    {
     "data": {
      "text/plain": [
       "array([1.  , 0.98, 0.9 , 1.  , 0.9 ])"
      ]
     },
     "execution_count": 98,
     "metadata": {},
     "output_type": "execute_result"
    }
   ],
   "source": [
    "# Exercise 4: Clip Voltage to Acceptable Range\n",
    "# Explanation: Ensures all voltages stay within operational bounds.\n",
    "\n",
    "clipped_voltage = np.clip(voltages, 0.90,1.00)\n",
    "clipped_voltage"
   ]
  },
  {
   "cell_type": "code",
   "execution_count": 107,
   "metadata": {},
   "outputs": [
    {
     "data": {
      "text/plain": [
       "array([ True, False, False,  True, False])"
      ]
     },
     "execution_count": 107,
     "metadata": {},
     "output_type": "execute_result"
    }
   ],
   "source": [
    "# Exercise 5: Detect Outliers Using Z-Score\n",
    "# Explanation: Flags substations with anomalous load values.\n",
    "\n",
    "mean_data = np.mean(voltages)\n",
    "std_deviation = np.std(voltages)\n",
    "\n",
    "z_score = (voltages - mean_data) / std_deviation\n",
    "outliers = z_score > 0.80\n",
    "outliers"
   ]
  },
  {
   "cell_type": "markdown",
   "metadata": {},
   "source": [
    "# Category 8: Missing Value Replacement (Set 8 of 8)"
   ]
  },
  {
   "cell_type": "code",
   "execution_count": 110,
   "metadata": {},
   "outputs": [
    {
     "data": {
      "text/plain": [
       "array([1.01      , 0.98      , 0.99666667, 1.        , 0.99666667])"
      ]
     },
     "execution_count": 110,
     "metadata": {},
     "output_type": "execute_result"
    }
   ],
   "source": [
    "# Exercise 1: Replace NaNs with Mean Voltage\n",
    "# Explanation: Imputes missing values using the column mean.\n",
    "\n",
    "mean_voltage = np.nanmean(replacing)\n",
    "voltages_filled = np.where(np.isnan(replacing), mean_voltage, replacing)\n",
    "voltages_filled"
   ]
  },
  {
   "cell_type": "code",
   "execution_count": 112,
   "metadata": {},
   "outputs": [
    {
     "data": {
      "text/plain": [
       "array([1.01, 0.98, 0.98, 1.  , 1.  ])"
      ]
     },
     "execution_count": 112,
     "metadata": {},
     "output_type": "execute_result"
    }
   ],
   "source": [
    "# Exercise 2: Forward Fill Missing Load (1D)\n",
    "# Explanation: Fills missing values with the last known good value.\n",
    "\n",
    "for i in range(1, len(replacing)):\n",
    "    if np.isnan(replacing[i]):\n",
    "        replacing[i] = replacing[i - 1]\n",
    "replacing"
   ]
  },
  {
   "cell_type": "code",
   "execution_count": null,
   "metadata": {},
   "outputs": [],
   "source": [
    "# Exercise 3: Interpolate Missing Voltages\n",
    "# Explanation: Uses linear interpolation to estimate missing values.\n",
    "\n"
   ]
  },
  {
   "cell_type": "code",
   "execution_count": 113,
   "metadata": {},
   "outputs": [
    {
     "data": {
      "text/plain": [
       "array([1.01, 0.98, 0.98, 1.  , 1.  ])"
      ]
     },
     "execution_count": 113,
     "metadata": {},
     "output_type": "execute_result"
    }
   ],
   "source": [
    "# Exercise 4: Replace NaNs with Median\n",
    "# Explanation: Median is more robust to outliers than mean.\n",
    "\n",
    "median_voltage = np.nanmedian(replacing)\n",
    "voltages_filled1 = np.where(np.isnan(replacing), median_voltage, replacing)\n",
    "voltages_filled1"
   ]
  },
  {
   "cell_type": "code",
   "execution_count": 118,
   "metadata": {},
   "outputs": [
    {
     "data": {
      "text/plain": [
       "array([1.26, 0.46, 0.48, 1.25, 0.85])"
      ]
     },
     "execution_count": 118,
     "metadata": {},
     "output_type": "execute_result"
    }
   ],
   "source": [
    "# Exercise 5: Replace Missing with Substation-Specific Default\n",
    "# Explanation: Uses predefined fallback values per substation.\n",
    "\n",
    "default = np.array([1.01, 0.46, 1.2, 1.10, 0.85])\n",
    "replacing = np.array([1.26, np.nan, 0.48, 1.25, np.nan])\n",
    "filled_custom = np.where(np.isnan(replacing), default, replacing)\n",
    "filled_custom"
   ]
  },
  {
   "cell_type": "code",
   "execution_count": null,
   "metadata": {},
   "outputs": [],
   "source": []
  }
 ],
 "metadata": {
  "colab": {
   "authorship_tag": "ABX9TyNjGyEy5JH//eJ8yW2/Gm51",
   "provenance": [
    {
     "file_id": "1f2S31JKoyFmeBdxNRsQ5OjyssOv4JHAd",
     "timestamp": 1751512771322
    }
   ]
  },
  "kernelspec": {
   "display_name": "Python 3 (ipykernel)",
   "language": "python",
   "name": "python3"
  },
  "language_info": {
   "codemirror_mode": {
    "name": "ipython",
    "version": 3
   },
   "file_extension": ".py",
   "mimetype": "text/x-python",
   "name": "python",
   "nbconvert_exporter": "python",
   "pygments_lexer": "ipython3",
   "version": "3.12.7"
  }
 },
 "nbformat": 4,
 "nbformat_minor": 4
}
