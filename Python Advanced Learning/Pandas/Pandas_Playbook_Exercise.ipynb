{
  "nbformat": 4,
  "nbformat_minor": 0,
  "metadata": {
    "colab": {
      "provenance": []
    },
    "kernelspec": {
      "name": "python3",
      "display_name": "Python 3"
    },
    "language_info": {
      "name": "python"
    }
  },
  "cells": [
    {
      "cell_type": "code",
      "execution_count": 83,
      "metadata": {
        "id": "qDqC2qzzEclx"
      },
      "outputs": [],
      "source": [
        "import pandas as pd\n",
        "import numpy as np\n",
        "\n",
        "np.random.seed(42)\n",
        "\n",
        "# Setup\n",
        "companies = ['AlphaCorp', 'BetaLtd', 'GammaInc', 'DeltaTech', 'EpsilonCo']\n",
        "dates = pd.date_range(start='2023-01-01', periods=20, freq='B')  # 20 business days\n",
        "df = pd.DataFrame({\n",
        "    'Company': np.random.choice(companies, 100),\n",
        "    'Date': np.random.choice(dates, 100),\n",
        "    'Open': np.random.uniform(100, 500, 100).round(2),\n",
        "    'High': np.random.uniform(105, 510, 100).round(2),\n",
        "    'Low': np.random.uniform(95, 495, 100).round(2),\n",
        "    'Close': np.random.uniform(100, 500, 100).round(2),\n",
        "    'Volume': np.random.randint(10000, 100000, 100)\n",
        "})"
      ]
    },
    {
      "cell_type": "code",
      "source": [
        "# Inject missing values & duplicates\n",
        "df.loc[np.random.choice(df.index, 8), 'Close'] = np.nan\n",
        "df.loc[np.random.choice(df.index, 5), 'Company'] = np.nan\n",
        "df = pd.concat([df, df.sample(5, random_state=1)], ignore_index=True)  # Add duplicates\n",
        "\n",
        "# Display sample\n",
        "df.head()"
      ],
      "metadata": {
        "colab": {
          "base_uri": "https://localhost:8080/",
          "height": 206
        },
        "id": "B_oSqghcEqhX",
        "outputId": "dfc1c938-9a00-429d-cd3b-fbc1434fdf87"
      },
      "execution_count": 84,
      "outputs": [
        {
          "output_type": "execute_result",
          "data": {
            "text/plain": [
              "     Company       Date    Open    High     Low   Close  Volume\n",
              "0  DeltaTech 2023-01-10  434.12  405.01  249.44  249.95   65393\n",
              "1  EpsilonCo 2023-01-12  228.31  387.29  479.48  214.28   83553\n",
              "2   GammaInc 2023-01-11  174.61  389.51  457.14  447.44   16941\n",
              "3  EpsilonCo 2023-01-17  116.31  250.59  173.32  189.44   35934\n",
              "4  EpsilonCo 2023-01-03  336.36  223.90  122.74  485.29   33386"
            ],
            "text/html": [
              "\n",
              "  <div id=\"df-ae7cfa60-6085-4930-b4a2-8ef010cd2c63\" class=\"colab-df-container\">\n",
              "    <div>\n",
              "<style scoped>\n",
              "    .dataframe tbody tr th:only-of-type {\n",
              "        vertical-align: middle;\n",
              "    }\n",
              "\n",
              "    .dataframe tbody tr th {\n",
              "        vertical-align: top;\n",
              "    }\n",
              "\n",
              "    .dataframe thead th {\n",
              "        text-align: right;\n",
              "    }\n",
              "</style>\n",
              "<table border=\"1\" class=\"dataframe\">\n",
              "  <thead>\n",
              "    <tr style=\"text-align: right;\">\n",
              "      <th></th>\n",
              "      <th>Company</th>\n",
              "      <th>Date</th>\n",
              "      <th>Open</th>\n",
              "      <th>High</th>\n",
              "      <th>Low</th>\n",
              "      <th>Close</th>\n",
              "      <th>Volume</th>\n",
              "    </tr>\n",
              "  </thead>\n",
              "  <tbody>\n",
              "    <tr>\n",
              "      <th>0</th>\n",
              "      <td>DeltaTech</td>\n",
              "      <td>2023-01-10</td>\n",
              "      <td>434.12</td>\n",
              "      <td>405.01</td>\n",
              "      <td>249.44</td>\n",
              "      <td>249.95</td>\n",
              "      <td>65393</td>\n",
              "    </tr>\n",
              "    <tr>\n",
              "      <th>1</th>\n",
              "      <td>EpsilonCo</td>\n",
              "      <td>2023-01-12</td>\n",
              "      <td>228.31</td>\n",
              "      <td>387.29</td>\n",
              "      <td>479.48</td>\n",
              "      <td>214.28</td>\n",
              "      <td>83553</td>\n",
              "    </tr>\n",
              "    <tr>\n",
              "      <th>2</th>\n",
              "      <td>GammaInc</td>\n",
              "      <td>2023-01-11</td>\n",
              "      <td>174.61</td>\n",
              "      <td>389.51</td>\n",
              "      <td>457.14</td>\n",
              "      <td>447.44</td>\n",
              "      <td>16941</td>\n",
              "    </tr>\n",
              "    <tr>\n",
              "      <th>3</th>\n",
              "      <td>EpsilonCo</td>\n",
              "      <td>2023-01-17</td>\n",
              "      <td>116.31</td>\n",
              "      <td>250.59</td>\n",
              "      <td>173.32</td>\n",
              "      <td>189.44</td>\n",
              "      <td>35934</td>\n",
              "    </tr>\n",
              "    <tr>\n",
              "      <th>4</th>\n",
              "      <td>EpsilonCo</td>\n",
              "      <td>2023-01-03</td>\n",
              "      <td>336.36</td>\n",
              "      <td>223.90</td>\n",
              "      <td>122.74</td>\n",
              "      <td>485.29</td>\n",
              "      <td>33386</td>\n",
              "    </tr>\n",
              "  </tbody>\n",
              "</table>\n",
              "</div>\n",
              "    <div class=\"colab-df-buttons\">\n",
              "\n",
              "  <div class=\"colab-df-container\">\n",
              "    <button class=\"colab-df-convert\" onclick=\"convertToInteractive('df-ae7cfa60-6085-4930-b4a2-8ef010cd2c63')\"\n",
              "            title=\"Convert this dataframe to an interactive table.\"\n",
              "            style=\"display:none;\">\n",
              "\n",
              "  <svg xmlns=\"http://www.w3.org/2000/svg\" height=\"24px\" viewBox=\"0 -960 960 960\">\n",
              "    <path d=\"M120-120v-720h720v720H120Zm60-500h600v-160H180v160Zm220 220h160v-160H400v160Zm0 220h160v-160H400v160ZM180-400h160v-160H180v160Zm440 0h160v-160H620v160ZM180-180h160v-160H180v160Zm440 0h160v-160H620v160Z\"/>\n",
              "  </svg>\n",
              "    </button>\n",
              "\n",
              "  <style>\n",
              "    .colab-df-container {\n",
              "      display:flex;\n",
              "      gap: 12px;\n",
              "    }\n",
              "\n",
              "    .colab-df-convert {\n",
              "      background-color: #E8F0FE;\n",
              "      border: none;\n",
              "      border-radius: 50%;\n",
              "      cursor: pointer;\n",
              "      display: none;\n",
              "      fill: #1967D2;\n",
              "      height: 32px;\n",
              "      padding: 0 0 0 0;\n",
              "      width: 32px;\n",
              "    }\n",
              "\n",
              "    .colab-df-convert:hover {\n",
              "      background-color: #E2EBFA;\n",
              "      box-shadow: 0px 1px 2px rgba(60, 64, 67, 0.3), 0px 1px 3px 1px rgba(60, 64, 67, 0.15);\n",
              "      fill: #174EA6;\n",
              "    }\n",
              "\n",
              "    .colab-df-buttons div {\n",
              "      margin-bottom: 4px;\n",
              "    }\n",
              "\n",
              "    [theme=dark] .colab-df-convert {\n",
              "      background-color: #3B4455;\n",
              "      fill: #D2E3FC;\n",
              "    }\n",
              "\n",
              "    [theme=dark] .colab-df-convert:hover {\n",
              "      background-color: #434B5C;\n",
              "      box-shadow: 0px 1px 3px 1px rgba(0, 0, 0, 0.15);\n",
              "      filter: drop-shadow(0px 1px 2px rgba(0, 0, 0, 0.3));\n",
              "      fill: #FFFFFF;\n",
              "    }\n",
              "  </style>\n",
              "\n",
              "    <script>\n",
              "      const buttonEl =\n",
              "        document.querySelector('#df-ae7cfa60-6085-4930-b4a2-8ef010cd2c63 button.colab-df-convert');\n",
              "      buttonEl.style.display =\n",
              "        google.colab.kernel.accessAllowed ? 'block' : 'none';\n",
              "\n",
              "      async function convertToInteractive(key) {\n",
              "        const element = document.querySelector('#df-ae7cfa60-6085-4930-b4a2-8ef010cd2c63');\n",
              "        const dataTable =\n",
              "          await google.colab.kernel.invokeFunction('convertToInteractive',\n",
              "                                                    [key], {});\n",
              "        if (!dataTable) return;\n",
              "\n",
              "        const docLinkHtml = 'Like what you see? Visit the ' +\n",
              "          '<a target=\"_blank\" href=https://colab.research.google.com/notebooks/data_table.ipynb>data table notebook</a>'\n",
              "          + ' to learn more about interactive tables.';\n",
              "        element.innerHTML = '';\n",
              "        dataTable['output_type'] = 'display_data';\n",
              "        await google.colab.output.renderOutput(dataTable, element);\n",
              "        const docLink = document.createElement('div');\n",
              "        docLink.innerHTML = docLinkHtml;\n",
              "        element.appendChild(docLink);\n",
              "      }\n",
              "    </script>\n",
              "  </div>\n",
              "\n",
              "\n",
              "    <div id=\"df-e0fbd3de-2cea-4663-af5a-389028fe1b1d\">\n",
              "      <button class=\"colab-df-quickchart\" onclick=\"quickchart('df-e0fbd3de-2cea-4663-af5a-389028fe1b1d')\"\n",
              "                title=\"Suggest charts\"\n",
              "                style=\"display:none;\">\n",
              "\n",
              "<svg xmlns=\"http://www.w3.org/2000/svg\" height=\"24px\"viewBox=\"0 0 24 24\"\n",
              "     width=\"24px\">\n",
              "    <g>\n",
              "        <path d=\"M19 3H5c-1.1 0-2 .9-2 2v14c0 1.1.9 2 2 2h14c1.1 0 2-.9 2-2V5c0-1.1-.9-2-2-2zM9 17H7v-7h2v7zm4 0h-2V7h2v10zm4 0h-2v-4h2v4z\"/>\n",
              "    </g>\n",
              "</svg>\n",
              "      </button>\n",
              "\n",
              "<style>\n",
              "  .colab-df-quickchart {\n",
              "      --bg-color: #E8F0FE;\n",
              "      --fill-color: #1967D2;\n",
              "      --hover-bg-color: #E2EBFA;\n",
              "      --hover-fill-color: #174EA6;\n",
              "      --disabled-fill-color: #AAA;\n",
              "      --disabled-bg-color: #DDD;\n",
              "  }\n",
              "\n",
              "  [theme=dark] .colab-df-quickchart {\n",
              "      --bg-color: #3B4455;\n",
              "      --fill-color: #D2E3FC;\n",
              "      --hover-bg-color: #434B5C;\n",
              "      --hover-fill-color: #FFFFFF;\n",
              "      --disabled-bg-color: #3B4455;\n",
              "      --disabled-fill-color: #666;\n",
              "  }\n",
              "\n",
              "  .colab-df-quickchart {\n",
              "    background-color: var(--bg-color);\n",
              "    border: none;\n",
              "    border-radius: 50%;\n",
              "    cursor: pointer;\n",
              "    display: none;\n",
              "    fill: var(--fill-color);\n",
              "    height: 32px;\n",
              "    padding: 0;\n",
              "    width: 32px;\n",
              "  }\n",
              "\n",
              "  .colab-df-quickchart:hover {\n",
              "    background-color: var(--hover-bg-color);\n",
              "    box-shadow: 0 1px 2px rgba(60, 64, 67, 0.3), 0 1px 3px 1px rgba(60, 64, 67, 0.15);\n",
              "    fill: var(--button-hover-fill-color);\n",
              "  }\n",
              "\n",
              "  .colab-df-quickchart-complete:disabled,\n",
              "  .colab-df-quickchart-complete:disabled:hover {\n",
              "    background-color: var(--disabled-bg-color);\n",
              "    fill: var(--disabled-fill-color);\n",
              "    box-shadow: none;\n",
              "  }\n",
              "\n",
              "  .colab-df-spinner {\n",
              "    border: 2px solid var(--fill-color);\n",
              "    border-color: transparent;\n",
              "    border-bottom-color: var(--fill-color);\n",
              "    animation:\n",
              "      spin 1s steps(1) infinite;\n",
              "  }\n",
              "\n",
              "  @keyframes spin {\n",
              "    0% {\n",
              "      border-color: transparent;\n",
              "      border-bottom-color: var(--fill-color);\n",
              "      border-left-color: var(--fill-color);\n",
              "    }\n",
              "    20% {\n",
              "      border-color: transparent;\n",
              "      border-left-color: var(--fill-color);\n",
              "      border-top-color: var(--fill-color);\n",
              "    }\n",
              "    30% {\n",
              "      border-color: transparent;\n",
              "      border-left-color: var(--fill-color);\n",
              "      border-top-color: var(--fill-color);\n",
              "      border-right-color: var(--fill-color);\n",
              "    }\n",
              "    40% {\n",
              "      border-color: transparent;\n",
              "      border-right-color: var(--fill-color);\n",
              "      border-top-color: var(--fill-color);\n",
              "    }\n",
              "    60% {\n",
              "      border-color: transparent;\n",
              "      border-right-color: var(--fill-color);\n",
              "    }\n",
              "    80% {\n",
              "      border-color: transparent;\n",
              "      border-right-color: var(--fill-color);\n",
              "      border-bottom-color: var(--fill-color);\n",
              "    }\n",
              "    90% {\n",
              "      border-color: transparent;\n",
              "      border-bottom-color: var(--fill-color);\n",
              "    }\n",
              "  }\n",
              "</style>\n",
              "\n",
              "      <script>\n",
              "        async function quickchart(key) {\n",
              "          const quickchartButtonEl =\n",
              "            document.querySelector('#' + key + ' button');\n",
              "          quickchartButtonEl.disabled = true;  // To prevent multiple clicks.\n",
              "          quickchartButtonEl.classList.add('colab-df-spinner');\n",
              "          try {\n",
              "            const charts = await google.colab.kernel.invokeFunction(\n",
              "                'suggestCharts', [key], {});\n",
              "          } catch (error) {\n",
              "            console.error('Error during call to suggestCharts:', error);\n",
              "          }\n",
              "          quickchartButtonEl.classList.remove('colab-df-spinner');\n",
              "          quickchartButtonEl.classList.add('colab-df-quickchart-complete');\n",
              "        }\n",
              "        (() => {\n",
              "          let quickchartButtonEl =\n",
              "            document.querySelector('#df-e0fbd3de-2cea-4663-af5a-389028fe1b1d button');\n",
              "          quickchartButtonEl.style.display =\n",
              "            google.colab.kernel.accessAllowed ? 'block' : 'none';\n",
              "        })();\n",
              "      </script>\n",
              "    </div>\n",
              "\n",
              "    </div>\n",
              "  </div>\n"
            ],
            "application/vnd.google.colaboratory.intrinsic+json": {
              "type": "dataframe",
              "variable_name": "df",
              "summary": "{\n  \"name\": \"df\",\n  \"rows\": 105,\n  \"fields\": [\n    {\n      \"column\": \"Company\",\n      \"properties\": {\n        \"dtype\": \"category\",\n        \"num_unique_values\": 5,\n        \"samples\": [\n          \"EpsilonCo\",\n          \"AlphaCorp\",\n          \"GammaInc\"\n        ],\n        \"semantic_type\": \"\",\n        \"description\": \"\"\n      }\n    },\n    {\n      \"column\": \"Date\",\n      \"properties\": {\n        \"dtype\": \"date\",\n        \"min\": \"2023-01-02 00:00:00\",\n        \"max\": \"2023-01-27 00:00:00\",\n        \"num_unique_values\": 19,\n        \"samples\": [\n          \"2023-01-10 00:00:00\",\n          \"2023-01-02 00:00:00\",\n          \"2023-01-13 00:00:00\"\n        ],\n        \"semantic_type\": \"\",\n        \"description\": \"\"\n      }\n    },\n    {\n      \"column\": \"Open\",\n      \"properties\": {\n        \"dtype\": \"number\",\n        \"std\": 119.96098821094209,\n        \"min\": 102.02,\n        \"max\": 496.02,\n        \"num_unique_values\": 100,\n        \"samples\": [\n          485.45,\n          359.85,\n          388.98\n        ],\n        \"semantic_type\": \"\",\n        \"description\": \"\"\n      }\n    },\n    {\n      \"column\": \"High\",\n      \"properties\": {\n        \"dtype\": \"number\",\n        \"std\": 111.0714183419427,\n        \"min\": 110.83,\n        \"max\": 500.22,\n        \"num_unique_values\": 100,\n        \"samples\": [\n          256.72,\n          168.36,\n          121.5\n        ],\n        \"semantic_type\": \"\",\n        \"description\": \"\"\n      }\n    },\n    {\n      \"column\": \"Low\",\n      \"properties\": {\n        \"dtype\": \"number\",\n        \"std\": 129.34383063046016,\n        \"min\": 99.34,\n        \"max\": 491.2,\n        \"num_unique_values\": 100,\n        \"samples\": [\n          245.5,\n          364.01,\n          375.39\n        ],\n        \"semantic_type\": \"\",\n        \"description\": \"\"\n      }\n    },\n    {\n      \"column\": \"Close\",\n      \"properties\": {\n        \"dtype\": \"number\",\n        \"std\": 124.39334089379517,\n        \"min\": 104.86,\n        \"max\": 499.89,\n        \"num_unique_values\": 92,\n        \"samples\": [\n          390.29,\n          480.16,\n          287.48\n        ],\n        \"semantic_type\": \"\",\n        \"description\": \"\"\n      }\n    },\n    {\n      \"column\": \"Volume\",\n      \"properties\": {\n        \"dtype\": \"number\",\n        \"std\": 27646,\n        \"min\": 10055,\n        \"max\": 98869,\n        \"num_unique_values\": 100,\n        \"samples\": [\n          14621,\n          26907,\n          69399\n        ],\n        \"semantic_type\": \"\",\n        \"description\": \"\"\n      }\n    }\n  ]\n}"
            }
          },
          "metadata": {},
          "execution_count": 84
        }
      ]
    },
    {
      "cell_type": "markdown",
      "source": [
        "# 1. Data Cleaning Exercises"
      ],
      "metadata": {
        "id": "ZrBhilzRExnC"
      }
    },
    {
      "cell_type": "markdown",
      "source": [
        "## 1. Identify all missing values."
      ],
      "metadata": {
        "id": "1Sa90BNMFMVZ"
      }
    },
    {
      "cell_type": "code",
      "source": [
        "missing_values = df.isna().sum()\n",
        "missing_values"
      ],
      "metadata": {
        "colab": {
          "base_uri": "https://localhost:8080/",
          "height": 0
        },
        "id": "UfscNmiGEtlG",
        "outputId": "f31b7e42-42e5-4301-bd39-0fd25a276839"
      },
      "execution_count": 85,
      "outputs": [
        {
          "output_type": "execute_result",
          "data": {
            "text/plain": [
              "Company    5\n",
              "Date       0\n",
              "Open       0\n",
              "High       0\n",
              "Low        0\n",
              "Close      8\n",
              "Volume     0\n",
              "dtype: int64"
            ],
            "text/html": [
              "<div>\n",
              "<style scoped>\n",
              "    .dataframe tbody tr th:only-of-type {\n",
              "        vertical-align: middle;\n",
              "    }\n",
              "\n",
              "    .dataframe tbody tr th {\n",
              "        vertical-align: top;\n",
              "    }\n",
              "\n",
              "    .dataframe thead th {\n",
              "        text-align: right;\n",
              "    }\n",
              "</style>\n",
              "<table border=\"1\" class=\"dataframe\">\n",
              "  <thead>\n",
              "    <tr style=\"text-align: right;\">\n",
              "      <th></th>\n",
              "      <th>0</th>\n",
              "    </tr>\n",
              "  </thead>\n",
              "  <tbody>\n",
              "    <tr>\n",
              "      <th>Company</th>\n",
              "      <td>5</td>\n",
              "    </tr>\n",
              "    <tr>\n",
              "      <th>Date</th>\n",
              "      <td>0</td>\n",
              "    </tr>\n",
              "    <tr>\n",
              "      <th>Open</th>\n",
              "      <td>0</td>\n",
              "    </tr>\n",
              "    <tr>\n",
              "      <th>High</th>\n",
              "      <td>0</td>\n",
              "    </tr>\n",
              "    <tr>\n",
              "      <th>Low</th>\n",
              "      <td>0</td>\n",
              "    </tr>\n",
              "    <tr>\n",
              "      <th>Close</th>\n",
              "      <td>8</td>\n",
              "    </tr>\n",
              "    <tr>\n",
              "      <th>Volume</th>\n",
              "      <td>0</td>\n",
              "    </tr>\n",
              "  </tbody>\n",
              "</table>\n",
              "</div><br><label><b>dtype:</b> int64</label>"
            ]
          },
          "metadata": {},
          "execution_count": 85
        }
      ]
    },
    {
      "cell_type": "markdown",
      "source": [
        "## 2. Fill missing 'Close' values with forward fill grouped by Company."
      ],
      "metadata": {
        "id": "tjKeZbakFYML"
      }
    },
    {
      "cell_type": "code",
      "source": [
        "df['Close'] = df.groupby('Company')['Close'].ffill()"
      ],
      "metadata": {
        "id": "rxVirQCYFQFH"
      },
      "execution_count": 86,
      "outputs": []
    },
    {
      "cell_type": "markdown",
      "source": [
        "## 3. Drop rows where 'Company' is missing."
      ],
      "metadata": {
        "id": "vOICMMaHFfB5"
      }
    },
    {
      "cell_type": "code",
      "source": [
        "df = df.dropna(subset=['Company'])"
      ],
      "metadata": {
        "id": "V-fDR3aBFbYA"
      },
      "execution_count": 87,
      "outputs": []
    },
    {
      "cell_type": "markdown",
      "source": [
        "## 4. Detect and remove exact duplicate rows."
      ],
      "metadata": {
        "id": "9qC1vpTlFp2d"
      }
    },
    {
      "cell_type": "code",
      "source": [
        "df = df.drop_duplicates()"
      ],
      "metadata": {
        "id": "dMygoFnOFjpv"
      },
      "execution_count": 88,
      "outputs": []
    },
    {
      "cell_type": "markdown",
      "source": [
        "## 5. Create a daily_range = High - Low column and check for negative or zero values."
      ],
      "metadata": {
        "id": "rYeWkQ7kFuxZ"
      }
    },
    {
      "cell_type": "code",
      "source": [
        "df['daily_range'] = df['High'] - df['Low']\n",
        "invalid_range = df[df['daily_range'] <= 0]"
      ],
      "metadata": {
        "id": "Z7cmBswnFtvm"
      },
      "execution_count": 89,
      "outputs": []
    },
    {
      "cell_type": "markdown",
      "source": [
        "# 2. MultiIndex Exercises"
      ],
      "metadata": {
        "id": "hdT_97iDF9ma"
      }
    },
    {
      "cell_type": "markdown",
      "source": [
        "## 1. Create a MultiIndex on ['Company', 'Date']."
      ],
      "metadata": {
        "id": "6JKVWKMJGBuB"
      }
    },
    {
      "cell_type": "code",
      "source": [
        "df_mi = df.set_index(['Company', 'Date']).sort_index()"
      ],
      "metadata": {
        "id": "ldhyO4jlF3gp"
      },
      "execution_count": 90,
      "outputs": []
    },
    {
      "cell_type": "markdown",
      "source": [
        "## 2. Slice all records for 'DeltaTech'."
      ],
      "metadata": {
        "id": "k8O-WE4HGKxO"
      }
    },
    {
      "cell_type": "code",
      "source": [
        "delta_df = df_mi.loc['DeltaTech']"
      ],
      "metadata": {
        "id": "9JDqnoSkGH9c"
      },
      "execution_count": 91,
      "outputs": []
    },
    {
      "cell_type": "markdown",
      "source": [
        "## 3. Slice data for 'BetaLtd' between 2023-01-05 and 2023-01-15."
      ],
      "metadata": {
        "id": "zhoJZYMdGWGr"
      }
    },
    {
      "cell_type": "code",
      "source": [
        "beta_df = df_mi.loc[('BetaLtd', '2023-01-05'):('BetaLtd', '2023-01-15')]"
      ],
      "metadata": {
        "id": "Od1Dxd5eGQkw"
      },
      "execution_count": 92,
      "outputs": []
    },
    {
      "cell_type": "markdown",
      "source": [
        "## 4. Use .xs() to extract data for a specific date across all companies."
      ],
      "metadata": {
        "id": "K5Q2roV5Gqfk"
      }
    },
    {
      "cell_type": "code",
      "source": [
        "specific_date = df_mi.xs('2023-01-10', level='Date')"
      ],
      "metadata": {
        "id": "7IIMUE1QGbLx"
      },
      "execution_count": 93,
      "outputs": []
    },
    {
      "cell_type": "markdown",
      "source": [
        "## 5. Swap index levels and sort by Date first, then Company."
      ],
      "metadata": {
        "id": "8FJGhA7xG2Jx"
      }
    },
    {
      "cell_type": "code",
      "source": [
        "swapped = df_mi.swaplevel().sort_index()"
      ],
      "metadata": {
        "id": "2PaeQsMdG0RG"
      },
      "execution_count": 94,
      "outputs": []
    },
    {
      "cell_type": "markdown",
      "source": [
        "# 3. Index Manipulation Exercises"
      ],
      "metadata": {
        "id": "nMIPf5AhHBmc"
      }
    },
    {
      "cell_type": "markdown",
      "source": [
        "## 1. Set 'Date' as index, keeping it as a column too."
      ],
      "metadata": {
        "id": "xVDj8IgQHO3I"
      }
    },
    {
      "cell_type": "code",
      "source": [
        "df = df.set_index('Date', drop=False)"
      ],
      "metadata": {
        "id": "wczZZCc3G9Pe"
      },
      "execution_count": 95,
      "outputs": []
    },
    {
      "cell_type": "markdown",
      "source": [
        "## 2. Reset index completely after filtering outliers."
      ],
      "metadata": {
        "id": "yeR_bwDiHVYa"
      }
    },
    {
      "cell_type": "code",
      "source": [
        "filtered = df[df['Volume'] > 50000].reset_index(drop=True)"
      ],
      "metadata": {
        "id": "OfV0qUTeHS4W"
      },
      "execution_count": 96,
      "outputs": []
    },
    {
      "cell_type": "markdown",
      "source": [
        "## 3. Use .reindex() to align to full trading calendar for January."
      ],
      "metadata": {
        "id": "7a1NDd8uHrjT"
      }
    },
    {
      "cell_type": "code",
      "source": [
        "df_re = df.drop_duplicates()\n",
        "df_re = df_re[~df_re.index.duplicated(keep='first')]\n",
        "full_calendar = pd.date_range('2023-01-01', '2023-01-31', freq='B')\n",
        "df_reindexed = df_re.reindex(full_calendar)"
      ],
      "metadata": {
        "id": "dexIrVzCHbBp"
      },
      "execution_count": 97,
      "outputs": []
    },
    {
      "cell_type": "markdown",
      "source": [
        "## 4. Sort your index and use .loc[] to slice by date."
      ],
      "metadata": {
        "id": "LPGzWuK3JuFW"
      }
    },
    {
      "cell_type": "code",
      "source": [
        "df = df.sort_index()\n",
        "jan_5_to_10 = df.loc['2023-01-05':'2023-01-10']"
      ],
      "metadata": {
        "id": "620SIo2qJm89"
      },
      "execution_count": 100,
      "outputs": []
    },
    {
      "cell_type": "markdown",
      "source": [
        "## 5. Rebuild MultiIndex with ['Date', 'Company'] and forward-fill missing Close."
      ],
      "metadata": {
        "id": "-FAqdoz3J6LO"
      }
    },
    {
      "cell_type": "code",
      "source": [
        "df_reset = df.reset_index(drop=True)\n",
        "df_mi2 = df_reset.set_index(['Date', 'Company']).sort_index()\n",
        "df_mi2['Close'] = df_mi2['Close'].ffill()"
      ],
      "metadata": {
        "id": "eG-uu_xLJ3aS"
      },
      "execution_count": 101,
      "outputs": []
    },
    {
      "cell_type": "markdown",
      "source": [
        "# 4. Aggregation with .agg()"
      ],
      "metadata": {
        "id": "T1C6Pa_OKA0_"
      }
    },
    {
      "cell_type": "markdown",
      "source": [
        "## 1. For each company, compute mean Open, max High, min Low."
      ],
      "metadata": {
        "id": "nYKcK74DKFnS"
      }
    },
    {
      "cell_type": "code",
      "source": [
        "summary = df.groupby('Company').agg({\n",
        "    'Open': 'mean',\n",
        "    'High': 'max',\n",
        "    'Low': 'min'\n",
        "})"
      ],
      "metadata": {
        "id": "2voQCAbzJ_Y1"
      },
      "execution_count": 102,
      "outputs": []
    },
    {
      "cell_type": "markdown",
      "source": [
        "## 2. Create custom function to return (High + Low) / 2 and apply across the DataFrame."
      ],
      "metadata": {
        "id": "sOGpE0kqKM4g"
      }
    },
    {
      "cell_type": "code",
      "source": [
        "def midpoint(row):\n",
        "    return (row['High'] + row['Low']) / 2\n",
        "df['Mid'] = df.apply(midpoint, axis=1)"
      ],
      "metadata": {
        "id": "Ok-AekGbKMUo"
      },
      "execution_count": 103,
      "outputs": []
    },
    {
      "cell_type": "markdown",
      "source": [
        "## 3. Group by Company and get Volume sum and Close std using .agg()."
      ],
      "metadata": {
        "id": "GZ9kXbTeKdBs"
      }
    },
    {
      "cell_type": "code",
      "source": [
        "vol_close = df.groupby('Company').agg({\n",
        "    'Volume': 'sum',\n",
        "    'Close': 'std'\n",
        "})"
      ],
      "metadata": {
        "id": "1nYs8i2AKcCz"
      },
      "execution_count": 104,
      "outputs": []
    },
    {
      "cell_type": "markdown",
      "source": [
        "## 4. Calculate average volume per company per day."
      ],
      "metadata": {
        "id": "E6HuE0CPKnzc"
      }
    },
    {
      "cell_type": "code",
      "source": [
        "df = df.drop(columns='Date')\n",
        "avg_vol = df.groupby(['Company', 'Date'])['Volume'].mean()"
      ],
      "metadata": {
        "id": "4hsc0glvKnGp"
      },
      "execution_count": 106,
      "outputs": []
    },
    {
      "cell_type": "markdown",
      "source": [
        "## 5. Aggregate Company-wise trading ranges using a lambda: High - Low."
      ],
      "metadata": {
        "id": "atQ5KiqjK84e"
      }
    },
    {
      "cell_type": "code",
      "source": [
        "range_agg = df.groupby('Company').agg(trading_range=('High', lambda x: x.max() - x.min()))\n",
        "range_agg"
      ],
      "metadata": {
        "colab": {
          "base_uri": "https://localhost:8080/",
          "height": 237
        },
        "id": "NxfolfXtKtqQ",
        "outputId": "53de9c63-20c7-4751-8ccb-0189ccc111a9"
      },
      "execution_count": 109,
      "outputs": [
        {
          "output_type": "execute_result",
          "data": {
            "text/plain": [
              "           trading_range\n",
              "Company                 \n",
              "AlphaCorp         370.55\n",
              "BetaLtd           375.31\n",
              "DeltaTech         376.59\n",
              "EpsilonCo         336.19\n",
              "GammaInc          368.44"
            ],
            "text/html": [
              "\n",
              "  <div id=\"df-76fe7f57-40a2-4654-b768-c8b4be22cf8f\" class=\"colab-df-container\">\n",
              "    <div>\n",
              "<style scoped>\n",
              "    .dataframe tbody tr th:only-of-type {\n",
              "        vertical-align: middle;\n",
              "    }\n",
              "\n",
              "    .dataframe tbody tr th {\n",
              "        vertical-align: top;\n",
              "    }\n",
              "\n",
              "    .dataframe thead th {\n",
              "        text-align: right;\n",
              "    }\n",
              "</style>\n",
              "<table border=\"1\" class=\"dataframe\">\n",
              "  <thead>\n",
              "    <tr style=\"text-align: right;\">\n",
              "      <th></th>\n",
              "      <th>trading_range</th>\n",
              "    </tr>\n",
              "    <tr>\n",
              "      <th>Company</th>\n",
              "      <th></th>\n",
              "    </tr>\n",
              "  </thead>\n",
              "  <tbody>\n",
              "    <tr>\n",
              "      <th>AlphaCorp</th>\n",
              "      <td>370.55</td>\n",
              "    </tr>\n",
              "    <tr>\n",
              "      <th>BetaLtd</th>\n",
              "      <td>375.31</td>\n",
              "    </tr>\n",
              "    <tr>\n",
              "      <th>DeltaTech</th>\n",
              "      <td>376.59</td>\n",
              "    </tr>\n",
              "    <tr>\n",
              "      <th>EpsilonCo</th>\n",
              "      <td>336.19</td>\n",
              "    </tr>\n",
              "    <tr>\n",
              "      <th>GammaInc</th>\n",
              "      <td>368.44</td>\n",
              "    </tr>\n",
              "  </tbody>\n",
              "</table>\n",
              "</div>\n",
              "    <div class=\"colab-df-buttons\">\n",
              "\n",
              "  <div class=\"colab-df-container\">\n",
              "    <button class=\"colab-df-convert\" onclick=\"convertToInteractive('df-76fe7f57-40a2-4654-b768-c8b4be22cf8f')\"\n",
              "            title=\"Convert this dataframe to an interactive table.\"\n",
              "            style=\"display:none;\">\n",
              "\n",
              "  <svg xmlns=\"http://www.w3.org/2000/svg\" height=\"24px\" viewBox=\"0 -960 960 960\">\n",
              "    <path d=\"M120-120v-720h720v720H120Zm60-500h600v-160H180v160Zm220 220h160v-160H400v160Zm0 220h160v-160H400v160ZM180-400h160v-160H180v160Zm440 0h160v-160H620v160ZM180-180h160v-160H180v160Zm440 0h160v-160H620v160Z\"/>\n",
              "  </svg>\n",
              "    </button>\n",
              "\n",
              "  <style>\n",
              "    .colab-df-container {\n",
              "      display:flex;\n",
              "      gap: 12px;\n",
              "    }\n",
              "\n",
              "    .colab-df-convert {\n",
              "      background-color: #E8F0FE;\n",
              "      border: none;\n",
              "      border-radius: 50%;\n",
              "      cursor: pointer;\n",
              "      display: none;\n",
              "      fill: #1967D2;\n",
              "      height: 32px;\n",
              "      padding: 0 0 0 0;\n",
              "      width: 32px;\n",
              "    }\n",
              "\n",
              "    .colab-df-convert:hover {\n",
              "      background-color: #E2EBFA;\n",
              "      box-shadow: 0px 1px 2px rgba(60, 64, 67, 0.3), 0px 1px 3px 1px rgba(60, 64, 67, 0.15);\n",
              "      fill: #174EA6;\n",
              "    }\n",
              "\n",
              "    .colab-df-buttons div {\n",
              "      margin-bottom: 4px;\n",
              "    }\n",
              "\n",
              "    [theme=dark] .colab-df-convert {\n",
              "      background-color: #3B4455;\n",
              "      fill: #D2E3FC;\n",
              "    }\n",
              "\n",
              "    [theme=dark] .colab-df-convert:hover {\n",
              "      background-color: #434B5C;\n",
              "      box-shadow: 0px 1px 3px 1px rgba(0, 0, 0, 0.15);\n",
              "      filter: drop-shadow(0px 1px 2px rgba(0, 0, 0, 0.3));\n",
              "      fill: #FFFFFF;\n",
              "    }\n",
              "  </style>\n",
              "\n",
              "    <script>\n",
              "      const buttonEl =\n",
              "        document.querySelector('#df-76fe7f57-40a2-4654-b768-c8b4be22cf8f button.colab-df-convert');\n",
              "      buttonEl.style.display =\n",
              "        google.colab.kernel.accessAllowed ? 'block' : 'none';\n",
              "\n",
              "      async function convertToInteractive(key) {\n",
              "        const element = document.querySelector('#df-76fe7f57-40a2-4654-b768-c8b4be22cf8f');\n",
              "        const dataTable =\n",
              "          await google.colab.kernel.invokeFunction('convertToInteractive',\n",
              "                                                    [key], {});\n",
              "        if (!dataTable) return;\n",
              "\n",
              "        const docLinkHtml = 'Like what you see? Visit the ' +\n",
              "          '<a target=\"_blank\" href=https://colab.research.google.com/notebooks/data_table.ipynb>data table notebook</a>'\n",
              "          + ' to learn more about interactive tables.';\n",
              "        element.innerHTML = '';\n",
              "        dataTable['output_type'] = 'display_data';\n",
              "        await google.colab.output.renderOutput(dataTable, element);\n",
              "        const docLink = document.createElement('div');\n",
              "        docLink.innerHTML = docLinkHtml;\n",
              "        element.appendChild(docLink);\n",
              "      }\n",
              "    </script>\n",
              "  </div>\n",
              "\n",
              "\n",
              "    <div id=\"df-35c525c1-e0cb-4ada-acde-7ee4ff03aa4a\">\n",
              "      <button class=\"colab-df-quickchart\" onclick=\"quickchart('df-35c525c1-e0cb-4ada-acde-7ee4ff03aa4a')\"\n",
              "                title=\"Suggest charts\"\n",
              "                style=\"display:none;\">\n",
              "\n",
              "<svg xmlns=\"http://www.w3.org/2000/svg\" height=\"24px\"viewBox=\"0 0 24 24\"\n",
              "     width=\"24px\">\n",
              "    <g>\n",
              "        <path d=\"M19 3H5c-1.1 0-2 .9-2 2v14c0 1.1.9 2 2 2h14c1.1 0 2-.9 2-2V5c0-1.1-.9-2-2-2zM9 17H7v-7h2v7zm4 0h-2V7h2v10zm4 0h-2v-4h2v4z\"/>\n",
              "    </g>\n",
              "</svg>\n",
              "      </button>\n",
              "\n",
              "<style>\n",
              "  .colab-df-quickchart {\n",
              "      --bg-color: #E8F0FE;\n",
              "      --fill-color: #1967D2;\n",
              "      --hover-bg-color: #E2EBFA;\n",
              "      --hover-fill-color: #174EA6;\n",
              "      --disabled-fill-color: #AAA;\n",
              "      --disabled-bg-color: #DDD;\n",
              "  }\n",
              "\n",
              "  [theme=dark] .colab-df-quickchart {\n",
              "      --bg-color: #3B4455;\n",
              "      --fill-color: #D2E3FC;\n",
              "      --hover-bg-color: #434B5C;\n",
              "      --hover-fill-color: #FFFFFF;\n",
              "      --disabled-bg-color: #3B4455;\n",
              "      --disabled-fill-color: #666;\n",
              "  }\n",
              "\n",
              "  .colab-df-quickchart {\n",
              "    background-color: var(--bg-color);\n",
              "    border: none;\n",
              "    border-radius: 50%;\n",
              "    cursor: pointer;\n",
              "    display: none;\n",
              "    fill: var(--fill-color);\n",
              "    height: 32px;\n",
              "    padding: 0;\n",
              "    width: 32px;\n",
              "  }\n",
              "\n",
              "  .colab-df-quickchart:hover {\n",
              "    background-color: var(--hover-bg-color);\n",
              "    box-shadow: 0 1px 2px rgba(60, 64, 67, 0.3), 0 1px 3px 1px rgba(60, 64, 67, 0.15);\n",
              "    fill: var(--button-hover-fill-color);\n",
              "  }\n",
              "\n",
              "  .colab-df-quickchart-complete:disabled,\n",
              "  .colab-df-quickchart-complete:disabled:hover {\n",
              "    background-color: var(--disabled-bg-color);\n",
              "    fill: var(--disabled-fill-color);\n",
              "    box-shadow: none;\n",
              "  }\n",
              "\n",
              "  .colab-df-spinner {\n",
              "    border: 2px solid var(--fill-color);\n",
              "    border-color: transparent;\n",
              "    border-bottom-color: var(--fill-color);\n",
              "    animation:\n",
              "      spin 1s steps(1) infinite;\n",
              "  }\n",
              "\n",
              "  @keyframes spin {\n",
              "    0% {\n",
              "      border-color: transparent;\n",
              "      border-bottom-color: var(--fill-color);\n",
              "      border-left-color: var(--fill-color);\n",
              "    }\n",
              "    20% {\n",
              "      border-color: transparent;\n",
              "      border-left-color: var(--fill-color);\n",
              "      border-top-color: var(--fill-color);\n",
              "    }\n",
              "    30% {\n",
              "      border-color: transparent;\n",
              "      border-left-color: var(--fill-color);\n",
              "      border-top-color: var(--fill-color);\n",
              "      border-right-color: var(--fill-color);\n",
              "    }\n",
              "    40% {\n",
              "      border-color: transparent;\n",
              "      border-right-color: var(--fill-color);\n",
              "      border-top-color: var(--fill-color);\n",
              "    }\n",
              "    60% {\n",
              "      border-color: transparent;\n",
              "      border-right-color: var(--fill-color);\n",
              "    }\n",
              "    80% {\n",
              "      border-color: transparent;\n",
              "      border-right-color: var(--fill-color);\n",
              "      border-bottom-color: var(--fill-color);\n",
              "    }\n",
              "    90% {\n",
              "      border-color: transparent;\n",
              "      border-bottom-color: var(--fill-color);\n",
              "    }\n",
              "  }\n",
              "</style>\n",
              "\n",
              "      <script>\n",
              "        async function quickchart(key) {\n",
              "          const quickchartButtonEl =\n",
              "            document.querySelector('#' + key + ' button');\n",
              "          quickchartButtonEl.disabled = true;  // To prevent multiple clicks.\n",
              "          quickchartButtonEl.classList.add('colab-df-spinner');\n",
              "          try {\n",
              "            const charts = await google.colab.kernel.invokeFunction(\n",
              "                'suggestCharts', [key], {});\n",
              "          } catch (error) {\n",
              "            console.error('Error during call to suggestCharts:', error);\n",
              "          }\n",
              "          quickchartButtonEl.classList.remove('colab-df-spinner');\n",
              "          quickchartButtonEl.classList.add('colab-df-quickchart-complete');\n",
              "        }\n",
              "        (() => {\n",
              "          let quickchartButtonEl =\n",
              "            document.querySelector('#df-35c525c1-e0cb-4ada-acde-7ee4ff03aa4a button');\n",
              "          quickchartButtonEl.style.display =\n",
              "            google.colab.kernel.accessAllowed ? 'block' : 'none';\n",
              "        })();\n",
              "      </script>\n",
              "    </div>\n",
              "\n",
              "  <div id=\"id_79265085-cd6f-4fbb-8e86-55c4adc6ba1d\">\n",
              "    <style>\n",
              "      .colab-df-generate {\n",
              "        background-color: #E8F0FE;\n",
              "        border: none;\n",
              "        border-radius: 50%;\n",
              "        cursor: pointer;\n",
              "        display: none;\n",
              "        fill: #1967D2;\n",
              "        height: 32px;\n",
              "        padding: 0 0 0 0;\n",
              "        width: 32px;\n",
              "      }\n",
              "\n",
              "      .colab-df-generate:hover {\n",
              "        background-color: #E2EBFA;\n",
              "        box-shadow: 0px 1px 2px rgba(60, 64, 67, 0.3), 0px 1px 3px 1px rgba(60, 64, 67, 0.15);\n",
              "        fill: #174EA6;\n",
              "      }\n",
              "\n",
              "      [theme=dark] .colab-df-generate {\n",
              "        background-color: #3B4455;\n",
              "        fill: #D2E3FC;\n",
              "      }\n",
              "\n",
              "      [theme=dark] .colab-df-generate:hover {\n",
              "        background-color: #434B5C;\n",
              "        box-shadow: 0px 1px 3px 1px rgba(0, 0, 0, 0.15);\n",
              "        filter: drop-shadow(0px 1px 2px rgba(0, 0, 0, 0.3));\n",
              "        fill: #FFFFFF;\n",
              "      }\n",
              "    </style>\n",
              "    <button class=\"colab-df-generate\" onclick=\"generateWithVariable('range_agg')\"\n",
              "            title=\"Generate code using this dataframe.\"\n",
              "            style=\"display:none;\">\n",
              "\n",
              "  <svg xmlns=\"http://www.w3.org/2000/svg\" height=\"24px\"viewBox=\"0 0 24 24\"\n",
              "       width=\"24px\">\n",
              "    <path d=\"M7,19H8.4L18.45,9,17,7.55,7,17.6ZM5,21V16.75L18.45,3.32a2,2,0,0,1,2.83,0l1.4,1.43a1.91,1.91,0,0,1,.58,1.4,1.91,1.91,0,0,1-.58,1.4L9.25,21ZM18.45,9,17,7.55Zm-12,3A5.31,5.31,0,0,0,4.9,8.1,5.31,5.31,0,0,0,1,6.5,5.31,5.31,0,0,0,4.9,4.9,5.31,5.31,0,0,0,6.5,1,5.31,5.31,0,0,0,8.1,4.9,5.31,5.31,0,0,0,12,6.5,5.46,5.46,0,0,0,6.5,12Z\"/>\n",
              "  </svg>\n",
              "    </button>\n",
              "    <script>\n",
              "      (() => {\n",
              "      const buttonEl =\n",
              "        document.querySelector('#id_79265085-cd6f-4fbb-8e86-55c4adc6ba1d button.colab-df-generate');\n",
              "      buttonEl.style.display =\n",
              "        google.colab.kernel.accessAllowed ? 'block' : 'none';\n",
              "\n",
              "      buttonEl.onclick = () => {\n",
              "        google.colab.notebook.generateWithVariable('range_agg');\n",
              "      }\n",
              "      })();\n",
              "    </script>\n",
              "  </div>\n",
              "\n",
              "    </div>\n",
              "  </div>\n"
            ],
            "application/vnd.google.colaboratory.intrinsic+json": {
              "type": "dataframe",
              "variable_name": "range_agg",
              "summary": "{\n  \"name\": \"range_agg\",\n  \"rows\": 5,\n  \"fields\": [\n    {\n      \"column\": \"Company\",\n      \"properties\": {\n        \"dtype\": \"string\",\n        \"num_unique_values\": 5,\n        \"samples\": [\n          \"BetaLtd\",\n          \"GammaInc\",\n          \"DeltaTech\"\n        ],\n        \"semantic_type\": \"\",\n        \"description\": \"\"\n      }\n    },\n    {\n      \"column\": \"trading_range\",\n      \"properties\": {\n        \"dtype\": \"number\",\n        \"std\": 16.676413883086504,\n        \"min\": 336.19,\n        \"max\": 376.59000000000003,\n        \"num_unique_values\": 5,\n        \"samples\": [\n          375.31,\n          368.44000000000005,\n          376.59000000000003\n        ],\n        \"semantic_type\": \"\",\n        \"description\": \"\"\n      }\n    }\n  ]\n}"
            }
          },
          "metadata": {},
          "execution_count": 109
        }
      ]
    },
    {
      "cell_type": "markdown",
      "source": [
        "# 5. GroupBy Exercises"
      ],
      "metadata": {
        "id": "aFePrEh5LUqy"
      }
    },
    {
      "cell_type": "markdown",
      "source": [
        "## 1. Total Volume per Company."
      ],
      "metadata": {
        "id": "M3NnEbi-LZEi"
      }
    },
    {
      "cell_type": "code",
      "source": [
        "total_vol = df.groupby('Company')['Volume'].sum()"
      ],
      "metadata": {
        "id": "YeC1rimmLPIP"
      },
      "execution_count": 111,
      "outputs": []
    },
    {
      "cell_type": "markdown",
      "source": [
        "## 2. Average Close price per trading day."
      ],
      "metadata": {
        "id": "M28LPUBVLcm-"
      }
    },
    {
      "cell_type": "code",
      "source": [
        "avg_close = df.groupby('Date')['Close'].mean()"
      ],
      "metadata": {
        "id": "uPux3FNHLb7K"
      },
      "execution_count": 112,
      "outputs": []
    },
    {
      "cell_type": "markdown",
      "source": [
        "## 3. For each Company, show top trading day by Volume."
      ],
      "metadata": {
        "id": "GMcfgTLcLhmF"
      }
    },
    {
      "cell_type": "code",
      "source": [
        "top_day = df.loc[df.groupby('Company')['Volume'].idxmax()]"
      ],
      "metadata": {
        "id": "ha2dmeZ3Lg0X"
      },
      "execution_count": 113,
      "outputs": []
    },
    {
      "cell_type": "markdown",
      "source": [
        "## 4. Count trading days per company with Close over 300."
      ],
      "metadata": {
        "id": "artle1bsLvHE"
      }
    },
    {
      "cell_type": "code",
      "source": [
        "count_high_close = df[df['Close'] > 300].groupby('Company').size()"
      ],
      "metadata": {
        "id": "5O0ZorMwLqKk"
      },
      "execution_count": 115,
      "outputs": []
    },
    {
      "cell_type": "markdown",
      "source": [
        "## 5. Group by Date, get company with lowest Close each day."
      ],
      "metadata": {
        "id": "mSNKnJ06L0uN"
      }
    },
    {
      "cell_type": "code",
      "source": [
        "lowest_close = df.loc[df.groupby('Date')['Close'].idxmin()]"
      ],
      "metadata": {
        "id": "4a-Sz9MmL0Ky"
      },
      "execution_count": 116,
      "outputs": []
    },
    {
      "cell_type": "markdown",
      "source": [
        "# 6. Filtering with .filter() and Conditions"
      ],
      "metadata": {
        "id": "CFS1aWdbL8GY"
      }
    },
    {
      "cell_type": "markdown",
      "source": [
        "## 1. Companies with average Close > 400."
      ],
      "metadata": {
        "id": "U47H_sjfL-hl"
      }
    },
    {
      "cell_type": "code",
      "source": [
        "high_avg_close = df.groupby('Company').filter(lambda x: x['Close'].mean() > 400)"
      ],
      "metadata": {
        "id": "7S9LoGHEL5rW"
      },
      "execution_count": 117,
      "outputs": []
    },
    {
      "cell_type": "markdown",
      "source": [
        "## 2. Keep only trading days where total volume > 300,000 across all companies."
      ],
      "metadata": {
        "id": "ZG73hZjVMHgF"
      }
    },
    {
      "cell_type": "code",
      "source": [
        "volume_days = df.groupby('Date').filter(lambda x: x['Volume'].sum() > 300000)"
      ],
      "metadata": {
        "id": "vvNbk5RlMG6B"
      },
      "execution_count": 118,
      "outputs": []
    },
    {
      "cell_type": "markdown",
      "source": [
        "## 3. Filter out companies with less than 3 trading records."
      ],
      "metadata": {
        "id": "95dQG3XKMQf_"
      }
    },
    {
      "cell_type": "code",
      "source": [
        "active_companies = df.groupby('Company').filter(lambda x: len(x) >= 3)"
      ],
      "metadata": {
        "id": "zH33-4ewMOBE"
      },
      "execution_count": 119,
      "outputs": []
    },
    {
      "cell_type": "markdown",
      "source": [
        "## 4. Find days where Open < Close by at least 10% (bullish days)."
      ],
      "metadata": {
        "id": "9oK1IEp5MVXP"
      }
    },
    {
      "cell_type": "code",
      "source": [
        "bullish = df[df['Close'] >= 1.1 * df['Open']]"
      ],
      "metadata": {
        "id": "AOHrTnLJMUmt"
      },
      "execution_count": 120,
      "outputs": []
    },
    {
      "cell_type": "markdown",
      "source": [
        "## 5. Use groupby().filter() to find companies where High exceeds 500 on any day."
      ],
      "metadata": {
        "id": "5n7kS-CqMhHK"
      }
    },
    {
      "cell_type": "code",
      "source": [
        "high_spike = df.groupby('Company').filter(lambda x: (x['High'] > 500).any())"
      ],
      "metadata": {
        "id": "NdF5caUMMc0Y"
      },
      "execution_count": 121,
      "outputs": []
    },
    {
      "cell_type": "markdown",
      "source": [
        "# 7. Slicing Exercises"
      ],
      "metadata": {
        "id": "HFCa-bNLMofJ"
      }
    },
    {
      "cell_type": "markdown",
      "source": [
        "## 1. Using .loc[] slice rows for 'AlphaCorp' from '2023-01-03' to '2023-01-10'."
      ],
      "metadata": {
        "id": "F_e6KRYHMr-u"
      }
    },
    {
      "cell_type": "code",
      "source": [
        "df_reset = df.reset_index()\n",
        "df_mi = df_reset.set_index(['Company', 'Date']).sort_index()\n",
        "\n",
        "alpha_slice = df_mi.loc[('AlphaCorp', '2023-01-03'):('AlphaCorp', '2023-01-10')]"
      ],
      "metadata": {
        "id": "dgM_x3GOMlNy"
      },
      "execution_count": 124,
      "outputs": []
    },
    {
      "cell_type": "markdown",
      "source": [
        "## 2. Use .iloc[] to get the last 10 rows of the cleaned dataset."
      ],
      "metadata": {
        "id": "J-K61QyhNI5O"
      }
    },
    {
      "cell_type": "code",
      "source": [
        "last_10 = df.iloc[-10:]"
      ],
      "metadata": {
        "id": "rAkImo4ZM-ms"
      },
      "execution_count": 125,
      "outputs": []
    },
    {
      "cell_type": "markdown",
      "source": [
        "## 3. Extract all rows where Close is in top 10%."
      ],
      "metadata": {
        "id": "6g7myKpxNTXa"
      }
    },
    {
      "cell_type": "code",
      "source": [
        "top_10_percent = df[df['Close'] >= df['Close'].quantile(0.9)]"
      ],
      "metadata": {
        "id": "94zqglaJNPfo"
      },
      "execution_count": 126,
      "outputs": []
    },
    {
      "cell_type": "markdown",
      "source": [
        "## 4. Slice Close prices only for 'GammaInc' using .xs() from MultiIndex."
      ],
      "metadata": {
        "id": "GrvQqIuMNYx9"
      }
    },
    {
      "cell_type": "code",
      "source": [
        "gamma_close = df_mi.xs('GammaInc')['Close']"
      ],
      "metadata": {
        "id": "AkEM8pHzNWwv"
      },
      "execution_count": 127,
      "outputs": []
    },
    {
      "cell_type": "markdown",
      "source": [
        "## 5. Chain slicing + filtering to find days where range (High - Low) > 100 and Volume > 80,000."
      ],
      "metadata": {
        "id": "y1Q0tlCONk_s"
      }
    },
    {
      "cell_type": "code",
      "source": [
        "big_days = df[(df['High'] - df['Low'] > 100) & (df['Volume'] > 80000)]"
      ],
      "metadata": {
        "id": "cks5JEusNgLC"
      },
      "execution_count": 128,
      "outputs": []
    },
    {
      "cell_type": "code",
      "source": [],
      "metadata": {
        "id": "gKkx-BXmNn8H"
      },
      "execution_count": null,
      "outputs": []
    }
  ]
}