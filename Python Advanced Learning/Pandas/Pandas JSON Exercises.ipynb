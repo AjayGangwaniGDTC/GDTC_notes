{
 "cells": [
  {
   "cell_type": "code",
   "execution_count": 100,
   "id": "ab1b3dae-0e2a-475f-8156-43ee7d7f1763",
   "metadata": {},
   "outputs": [],
   "source": [
    "import json\n",
    "\n",
    "# Synthetic JSON Dataset: smart_meter_data.json\n",
    "data = {\n",
    "  \"region\": \"West\",\n",
    "  \"city\": \"Mumbai\",\n",
    "  \"meters\": [\n",
    "    {\n",
    "      \"meter_id\": \"MTR001\",\n",
    "      \"customer\": {\"name\": \"Asha\", \"type\": \"Residential\"},\n",
    "      \"readings\": [\n",
    "        {\"timestamp\": \"2025-07-01T00:00\", \"kWh\": 1.2},\n",
    "        {\"timestamp\": \"2025-07-01T01:00\", \"kWh\": None},\n",
    "        {\"timestamp\": \"2025-07-01T02:00\", \"kWh\": 1.5}\n",
    "      ]\n",
    "    },\n",
    "    {\n",
    "      \"meter_id\": \"MTR002\",\n",
    "      \"customer\": {\"name\": \"Ravi\", \"type\": \"Commercial\"},\n",
    "      \"readings\": [\n",
    "        {\"timestamp\": \"2025-07-01T00:00\", \"kWh\": 5.0},\n",
    "        {\"timestamp\": \"2025-07-01T01:00\", \"kWh\": 5.5},\n",
    "        {\"timestamp\": \"2025-07-01T02:00\", \"kWh\": \"error\"}\n",
    "      ]\n",
    "    }\n",
    "  ]\n",
    "}\n",
    "with open('smart_meter_data.json','w') as f:\n",
    "    json.dump(data, f)"
   ]
  },
  {
   "cell_type": "code",
   "execution_count": 101,
   "id": "53b43fc4-5aa9-4ed6-8879-27c5b4639ae8",
   "metadata": {},
   "outputs": [],
   "source": [
    "with open('smart_meter_data.json','r') as f:\n",
    "    raw_data = json.load(f)"
   ]
  },
  {
   "cell_type": "markdown",
   "id": "dbb5aefa-5f7e-46be-bb1a-fda6c6650300",
   "metadata": {},
   "source": [
    "## 1.\tLoad the JSON file and print its keys and structure."
   ]
  },
  {
   "cell_type": "code",
   "execution_count": 102,
   "id": "d8e69e10-b102-4afb-835e-ea2a7239de17",
   "metadata": {},
   "outputs": [
    {
     "data": {
      "text/plain": [
       "{'region': 'West',\n",
       " 'city': 'Mumbai',\n",
       " 'meters': [{'meter_id': 'MTR001',\n",
       "   'customer': {'name': 'Asha', 'type': 'Residential'},\n",
       "   'readings': [{'timestamp': '2025-07-01T00:00', 'kWh': 1.2},\n",
       "    {'timestamp': '2025-07-01T01:00', 'kWh': None},\n",
       "    {'timestamp': '2025-07-01T02:00', 'kWh': 1.5}]},\n",
       "  {'meter_id': 'MTR002',\n",
       "   'customer': {'name': 'Ravi', 'type': 'Commercial'},\n",
       "   'readings': [{'timestamp': '2025-07-01T00:00', 'kWh': 5.0},\n",
       "    {'timestamp': '2025-07-01T01:00', 'kWh': 5.5},\n",
       "    {'timestamp': '2025-07-01T02:00', 'kWh': 'error'}]}]}"
      ]
     },
     "execution_count": 102,
     "metadata": {},
     "output_type": "execute_result"
    }
   ],
   "source": [
    "raw_data"
   ]
  },
  {
   "cell_type": "markdown",
   "id": "7f517866-a7ea-42c5-9d42-a72106ba7888",
   "metadata": {},
   "source": [
    "## 2.\tFlatten the readings list using json_normalize."
   ]
  },
  {
   "cell_type": "code",
   "execution_count": 103,
   "id": "a69f319b-5bf5-42de-8cbc-a98a98e3ac8f",
   "metadata": {},
   "outputs": [],
   "source": [
    "from pandas import json_normalize\n",
    "\n",
    "df = json_normalize(\n",
    "    raw_data['meters'],\n",
    "    record_path = 'readings',\n",
    "    meta = ['meter_id', ['customer', 'name'], ['customer', 'type']],\n",
    "    meta_prefix = 'meta_',\n",
    "    errors = 'ignore'\n",
    ")"
   ]
  },
  {
   "cell_type": "code",
   "execution_count": 104,
   "id": "55c16144-aae2-4220-8e4c-13d18ebc3b77",
   "metadata": {},
   "outputs": [],
   "source": [
    "df.columns = df.columns.str.replace('meta_', '', regex=False)\n",
    "df.columns = df.columns.str.replace('.', '_', regex=False)"
   ]
  },
  {
   "cell_type": "code",
   "execution_count": 105,
   "id": "63a029f6-4838-4f3d-a056-73c92861b380",
   "metadata": {},
   "outputs": [
    {
     "data": {
      "text/html": [
       "<div>\n",
       "<style scoped>\n",
       "    .dataframe tbody tr th:only-of-type {\n",
       "        vertical-align: middle;\n",
       "    }\n",
       "\n",
       "    .dataframe tbody tr th {\n",
       "        vertical-align: top;\n",
       "    }\n",
       "\n",
       "    .dataframe thead th {\n",
       "        text-align: right;\n",
       "    }\n",
       "</style>\n",
       "<table border=\"1\" class=\"dataframe\">\n",
       "  <thead>\n",
       "    <tr style=\"text-align: right;\">\n",
       "      <th></th>\n",
       "      <th>timestamp</th>\n",
       "      <th>kWh</th>\n",
       "      <th>meter_id</th>\n",
       "      <th>customer_name</th>\n",
       "      <th>customer_type</th>\n",
       "    </tr>\n",
       "  </thead>\n",
       "  <tbody>\n",
       "    <tr>\n",
       "      <th>0</th>\n",
       "      <td>2025-07-01T00:00</td>\n",
       "      <td>1.2</td>\n",
       "      <td>MTR001</td>\n",
       "      <td>Asha</td>\n",
       "      <td>Residential</td>\n",
       "    </tr>\n",
       "    <tr>\n",
       "      <th>1</th>\n",
       "      <td>2025-07-01T01:00</td>\n",
       "      <td>None</td>\n",
       "      <td>MTR001</td>\n",
       "      <td>Asha</td>\n",
       "      <td>Residential</td>\n",
       "    </tr>\n",
       "    <tr>\n",
       "      <th>2</th>\n",
       "      <td>2025-07-01T02:00</td>\n",
       "      <td>1.5</td>\n",
       "      <td>MTR001</td>\n",
       "      <td>Asha</td>\n",
       "      <td>Residential</td>\n",
       "    </tr>\n",
       "    <tr>\n",
       "      <th>3</th>\n",
       "      <td>2025-07-01T00:00</td>\n",
       "      <td>5.0</td>\n",
       "      <td>MTR002</td>\n",
       "      <td>Ravi</td>\n",
       "      <td>Commercial</td>\n",
       "    </tr>\n",
       "    <tr>\n",
       "      <th>4</th>\n",
       "      <td>2025-07-01T01:00</td>\n",
       "      <td>5.5</td>\n",
       "      <td>MTR002</td>\n",
       "      <td>Ravi</td>\n",
       "      <td>Commercial</td>\n",
       "    </tr>\n",
       "    <tr>\n",
       "      <th>5</th>\n",
       "      <td>2025-07-01T02:00</td>\n",
       "      <td>error</td>\n",
       "      <td>MTR002</td>\n",
       "      <td>Ravi</td>\n",
       "      <td>Commercial</td>\n",
       "    </tr>\n",
       "  </tbody>\n",
       "</table>\n",
       "</div>"
      ],
      "text/plain": [
       "          timestamp    kWh meter_id customer_name customer_type\n",
       "0  2025-07-01T00:00    1.2   MTR001          Asha   Residential\n",
       "1  2025-07-01T01:00   None   MTR001          Asha   Residential\n",
       "2  2025-07-01T02:00    1.5   MTR001          Asha   Residential\n",
       "3  2025-07-01T00:00    5.0   MTR002          Ravi    Commercial\n",
       "4  2025-07-01T01:00    5.5   MTR002          Ravi    Commercial\n",
       "5  2025-07-01T02:00  error   MTR002          Ravi    Commercial"
      ]
     },
     "execution_count": 105,
     "metadata": {},
     "output_type": "execute_result"
    }
   ],
   "source": [
    "df"
   ]
  },
  {
   "cell_type": "markdown",
   "id": "5175becb-5bdb-43fd-90a3-d9846fb2ad45",
   "metadata": {},
   "source": [
    "## 3.\tExtract meter ID, customer name, and type from nested objects."
   ]
  },
  {
   "cell_type": "code",
   "execution_count": 106,
   "id": "b80bbc18-a16a-4793-9097-b9889cb314c9",
   "metadata": {},
   "outputs": [
    {
     "data": {
      "text/html": [
       "<div>\n",
       "<style scoped>\n",
       "    .dataframe tbody tr th:only-of-type {\n",
       "        vertical-align: middle;\n",
       "    }\n",
       "\n",
       "    .dataframe tbody tr th {\n",
       "        vertical-align: top;\n",
       "    }\n",
       "\n",
       "    .dataframe thead th {\n",
       "        text-align: right;\n",
       "    }\n",
       "</style>\n",
       "<table border=\"1\" class=\"dataframe\">\n",
       "  <thead>\n",
       "    <tr style=\"text-align: right;\">\n",
       "      <th></th>\n",
       "      <th>meter_id</th>\n",
       "      <th>customer_name</th>\n",
       "      <th>customer_type</th>\n",
       "    </tr>\n",
       "  </thead>\n",
       "  <tbody>\n",
       "    <tr>\n",
       "      <th>0</th>\n",
       "      <td>MTR001</td>\n",
       "      <td>Asha</td>\n",
       "      <td>Residential</td>\n",
       "    </tr>\n",
       "    <tr>\n",
       "      <th>1</th>\n",
       "      <td>MTR001</td>\n",
       "      <td>Asha</td>\n",
       "      <td>Residential</td>\n",
       "    </tr>\n",
       "    <tr>\n",
       "      <th>2</th>\n",
       "      <td>MTR001</td>\n",
       "      <td>Asha</td>\n",
       "      <td>Residential</td>\n",
       "    </tr>\n",
       "    <tr>\n",
       "      <th>3</th>\n",
       "      <td>MTR002</td>\n",
       "      <td>Ravi</td>\n",
       "      <td>Commercial</td>\n",
       "    </tr>\n",
       "    <tr>\n",
       "      <th>4</th>\n",
       "      <td>MTR002</td>\n",
       "      <td>Ravi</td>\n",
       "      <td>Commercial</td>\n",
       "    </tr>\n",
       "    <tr>\n",
       "      <th>5</th>\n",
       "      <td>MTR002</td>\n",
       "      <td>Ravi</td>\n",
       "      <td>Commercial</td>\n",
       "    </tr>\n",
       "  </tbody>\n",
       "</table>\n",
       "</div>"
      ],
      "text/plain": [
       "  meter_id customer_name customer_type\n",
       "0   MTR001          Asha   Residential\n",
       "1   MTR001          Asha   Residential\n",
       "2   MTR001          Asha   Residential\n",
       "3   MTR002          Ravi    Commercial\n",
       "4   MTR002          Ravi    Commercial\n",
       "5   MTR002          Ravi    Commercial"
      ]
     },
     "execution_count": 106,
     "metadata": {},
     "output_type": "execute_result"
    }
   ],
   "source": [
    "df[['meter_id','customer_name','customer_type']]"
   ]
  },
  {
   "cell_type": "markdown",
   "id": "08a2e972-9929-48fb-a19c-48a497d62723",
   "metadata": {},
   "source": [
    "## 4.\tConvert timestamp to datetime format."
   ]
  },
  {
   "cell_type": "code",
   "execution_count": 107,
   "id": "9e1159ca-e6df-4dd2-bddd-2a8acc3d5c31",
   "metadata": {},
   "outputs": [],
   "source": [
    "import pandas as pd \n",
    "\n",
    "df['timestamp'] = pd.to_datetime(df['timestamp'])"
   ]
  },
  {
   "cell_type": "markdown",
   "id": "e73383fb-7316-46f2-a760-507201fad255",
   "metadata": {},
   "source": [
    "## 5.\tConvert kWh column to numeric, handling errors."
   ]
  },
  {
   "cell_type": "code",
   "execution_count": 108,
   "id": "6ddfe65a-56c4-47f8-b39b-0d2c352e953d",
   "metadata": {},
   "outputs": [],
   "source": [
    "df['kWh'] = pd.to_numeric(df['kWh'], errors='coerce')"
   ]
  },
  {
   "cell_type": "markdown",
   "id": "ef899c46-e06a-4c2d-96cb-3f55a4590e8f",
   "metadata": {},
   "source": [
    "## 6.\tUse forward fill to treat nulls in kWh."
   ]
  },
  {
   "cell_type": "code",
   "execution_count": 109,
   "id": "63856545-1ce6-4ed1-bc50-98bfc7b6fc90",
   "metadata": {},
   "outputs": [
    {
     "name": "stderr",
     "output_type": "stream",
     "text": [
      "C:\\Users\\AjayGangwani\\AppData\\Local\\Temp\\ipykernel_25552\\521021686.py:1: FutureWarning: A value is trying to be set on a copy of a DataFrame or Series through chained assignment using an inplace method.\n",
      "The behavior will change in pandas 3.0. This inplace method will never work because the intermediate object on which we are setting values always behaves as a copy.\n",
      "\n",
      "For example, when doing 'df[col].method(value, inplace=True)', try using 'df.method({col: value}, inplace=True)' or df[col] = df[col].method(value) instead, to perform the operation inplace on the original object.\n",
      "\n",
      "\n",
      "  df['kWh'].fillna(method='ffill', inplace=True)\n",
      "C:\\Users\\AjayGangwani\\AppData\\Local\\Temp\\ipykernel_25552\\521021686.py:1: FutureWarning: Series.fillna with 'method' is deprecated and will raise in a future version. Use obj.ffill() or obj.bfill() instead.\n",
      "  df['kWh'].fillna(method='ffill', inplace=True)\n"
     ]
    }
   ],
   "source": [
    "df['kWh'].fillna(method='ffill', inplace=True)"
   ]
  },
  {
   "cell_type": "code",
   "execution_count": 110,
   "id": "1b79bd64-7216-4eb1-9fbd-93091d2fae21",
   "metadata": {},
   "outputs": [
    {
     "data": {
      "text/html": [
       "<div>\n",
       "<style scoped>\n",
       "    .dataframe tbody tr th:only-of-type {\n",
       "        vertical-align: middle;\n",
       "    }\n",
       "\n",
       "    .dataframe tbody tr th {\n",
       "        vertical-align: top;\n",
       "    }\n",
       "\n",
       "    .dataframe thead th {\n",
       "        text-align: right;\n",
       "    }\n",
       "</style>\n",
       "<table border=\"1\" class=\"dataframe\">\n",
       "  <thead>\n",
       "    <tr style=\"text-align: right;\">\n",
       "      <th></th>\n",
       "      <th>timestamp</th>\n",
       "      <th>kWh</th>\n",
       "      <th>meter_id</th>\n",
       "      <th>customer_name</th>\n",
       "      <th>customer_type</th>\n",
       "    </tr>\n",
       "  </thead>\n",
       "  <tbody>\n",
       "    <tr>\n",
       "      <th>0</th>\n",
       "      <td>2025-07-01 00:00:00</td>\n",
       "      <td>1.2</td>\n",
       "      <td>MTR001</td>\n",
       "      <td>Asha</td>\n",
       "      <td>Residential</td>\n",
       "    </tr>\n",
       "    <tr>\n",
       "      <th>1</th>\n",
       "      <td>2025-07-01 01:00:00</td>\n",
       "      <td>1.2</td>\n",
       "      <td>MTR001</td>\n",
       "      <td>Asha</td>\n",
       "      <td>Residential</td>\n",
       "    </tr>\n",
       "    <tr>\n",
       "      <th>2</th>\n",
       "      <td>2025-07-01 02:00:00</td>\n",
       "      <td>1.5</td>\n",
       "      <td>MTR001</td>\n",
       "      <td>Asha</td>\n",
       "      <td>Residential</td>\n",
       "    </tr>\n",
       "    <tr>\n",
       "      <th>3</th>\n",
       "      <td>2025-07-01 00:00:00</td>\n",
       "      <td>5.0</td>\n",
       "      <td>MTR002</td>\n",
       "      <td>Ravi</td>\n",
       "      <td>Commercial</td>\n",
       "    </tr>\n",
       "    <tr>\n",
       "      <th>4</th>\n",
       "      <td>2025-07-01 01:00:00</td>\n",
       "      <td>5.5</td>\n",
       "      <td>MTR002</td>\n",
       "      <td>Ravi</td>\n",
       "      <td>Commercial</td>\n",
       "    </tr>\n",
       "    <tr>\n",
       "      <th>5</th>\n",
       "      <td>2025-07-01 02:00:00</td>\n",
       "      <td>5.5</td>\n",
       "      <td>MTR002</td>\n",
       "      <td>Ravi</td>\n",
       "      <td>Commercial</td>\n",
       "    </tr>\n",
       "  </tbody>\n",
       "</table>\n",
       "</div>"
      ],
      "text/plain": [
       "            timestamp  kWh meter_id customer_name customer_type\n",
       "0 2025-07-01 00:00:00  1.2   MTR001          Asha   Residential\n",
       "1 2025-07-01 01:00:00  1.2   MTR001          Asha   Residential\n",
       "2 2025-07-01 02:00:00  1.5   MTR001          Asha   Residential\n",
       "3 2025-07-01 00:00:00  5.0   MTR002          Ravi    Commercial\n",
       "4 2025-07-01 01:00:00  5.5   MTR002          Ravi    Commercial\n",
       "5 2025-07-01 02:00:00  5.5   MTR002          Ravi    Commercial"
      ]
     },
     "execution_count": 110,
     "metadata": {},
     "output_type": "execute_result"
    }
   ],
   "source": [
    "df"
   ]
  },
  {
   "cell_type": "markdown",
   "id": "94c8076e-c8c2-4f9a-98f9-8858da7f0b91",
   "metadata": {},
   "source": [
    "## 7.\tReplace remaining missing values with 0."
   ]
  },
  {
   "cell_type": "code",
   "execution_count": 111,
   "id": "d3f52f47-0866-4abe-90ed-5dc387fd9113",
   "metadata": {},
   "outputs": [],
   "source": [
    "df.fillna(0, inplace = True)"
   ]
  },
  {
   "cell_type": "code",
   "execution_count": 112,
   "id": "507374a5-7845-401e-a529-99ef5f4d147a",
   "metadata": {},
   "outputs": [
    {
     "data": {
      "text/html": [
       "<div>\n",
       "<style scoped>\n",
       "    .dataframe tbody tr th:only-of-type {\n",
       "        vertical-align: middle;\n",
       "    }\n",
       "\n",
       "    .dataframe tbody tr th {\n",
       "        vertical-align: top;\n",
       "    }\n",
       "\n",
       "    .dataframe thead th {\n",
       "        text-align: right;\n",
       "    }\n",
       "</style>\n",
       "<table border=\"1\" class=\"dataframe\">\n",
       "  <thead>\n",
       "    <tr style=\"text-align: right;\">\n",
       "      <th></th>\n",
       "      <th>timestamp</th>\n",
       "      <th>kWh</th>\n",
       "      <th>meter_id</th>\n",
       "      <th>customer_name</th>\n",
       "      <th>customer_type</th>\n",
       "    </tr>\n",
       "  </thead>\n",
       "  <tbody>\n",
       "    <tr>\n",
       "      <th>0</th>\n",
       "      <td>2025-07-01 00:00:00</td>\n",
       "      <td>1.2</td>\n",
       "      <td>MTR001</td>\n",
       "      <td>Asha</td>\n",
       "      <td>Residential</td>\n",
       "    </tr>\n",
       "    <tr>\n",
       "      <th>1</th>\n",
       "      <td>2025-07-01 01:00:00</td>\n",
       "      <td>1.2</td>\n",
       "      <td>MTR001</td>\n",
       "      <td>Asha</td>\n",
       "      <td>Residential</td>\n",
       "    </tr>\n",
       "    <tr>\n",
       "      <th>2</th>\n",
       "      <td>2025-07-01 02:00:00</td>\n",
       "      <td>1.5</td>\n",
       "      <td>MTR001</td>\n",
       "      <td>Asha</td>\n",
       "      <td>Residential</td>\n",
       "    </tr>\n",
       "    <tr>\n",
       "      <th>3</th>\n",
       "      <td>2025-07-01 00:00:00</td>\n",
       "      <td>5.0</td>\n",
       "      <td>MTR002</td>\n",
       "      <td>Ravi</td>\n",
       "      <td>Commercial</td>\n",
       "    </tr>\n",
       "    <tr>\n",
       "      <th>4</th>\n",
       "      <td>2025-07-01 01:00:00</td>\n",
       "      <td>5.5</td>\n",
       "      <td>MTR002</td>\n",
       "      <td>Ravi</td>\n",
       "      <td>Commercial</td>\n",
       "    </tr>\n",
       "    <tr>\n",
       "      <th>5</th>\n",
       "      <td>2025-07-01 02:00:00</td>\n",
       "      <td>5.5</td>\n",
       "      <td>MTR002</td>\n",
       "      <td>Ravi</td>\n",
       "      <td>Commercial</td>\n",
       "    </tr>\n",
       "  </tbody>\n",
       "</table>\n",
       "</div>"
      ],
      "text/plain": [
       "            timestamp  kWh meter_id customer_name customer_type\n",
       "0 2025-07-01 00:00:00  1.2   MTR001          Asha   Residential\n",
       "1 2025-07-01 01:00:00  1.2   MTR001          Asha   Residential\n",
       "2 2025-07-01 02:00:00  1.5   MTR001          Asha   Residential\n",
       "3 2025-07-01 00:00:00  5.0   MTR002          Ravi    Commercial\n",
       "4 2025-07-01 01:00:00  5.5   MTR002          Ravi    Commercial\n",
       "5 2025-07-01 02:00:00  5.5   MTR002          Ravi    Commercial"
      ]
     },
     "execution_count": 112,
     "metadata": {},
     "output_type": "execute_result"
    }
   ],
   "source": [
    "df"
   ]
  },
  {
   "cell_type": "markdown",
   "id": "cb679879-8d8d-4e76-82d8-a432cdf1d0c6",
   "metadata": {},
   "source": [
    "## 8.\tFilter only Residential type customers."
   ]
  },
  {
   "cell_type": "code",
   "execution_count": 113,
   "id": "e39b3b6b-1d3e-4392-8a89-99195fd593da",
   "metadata": {},
   "outputs": [
    {
     "data": {
      "text/html": [
       "<div>\n",
       "<style scoped>\n",
       "    .dataframe tbody tr th:only-of-type {\n",
       "        vertical-align: middle;\n",
       "    }\n",
       "\n",
       "    .dataframe tbody tr th {\n",
       "        vertical-align: top;\n",
       "    }\n",
       "\n",
       "    .dataframe thead th {\n",
       "        text-align: right;\n",
       "    }\n",
       "</style>\n",
       "<table border=\"1\" class=\"dataframe\">\n",
       "  <thead>\n",
       "    <tr style=\"text-align: right;\">\n",
       "      <th></th>\n",
       "      <th>timestamp</th>\n",
       "      <th>kWh</th>\n",
       "      <th>meter_id</th>\n",
       "      <th>customer_name</th>\n",
       "      <th>customer_type</th>\n",
       "    </tr>\n",
       "  </thead>\n",
       "  <tbody>\n",
       "    <tr>\n",
       "      <th>0</th>\n",
       "      <td>2025-07-01 00:00:00</td>\n",
       "      <td>1.2</td>\n",
       "      <td>MTR001</td>\n",
       "      <td>Asha</td>\n",
       "      <td>Residential</td>\n",
       "    </tr>\n",
       "    <tr>\n",
       "      <th>1</th>\n",
       "      <td>2025-07-01 01:00:00</td>\n",
       "      <td>1.2</td>\n",
       "      <td>MTR001</td>\n",
       "      <td>Asha</td>\n",
       "      <td>Residential</td>\n",
       "    </tr>\n",
       "    <tr>\n",
       "      <th>2</th>\n",
       "      <td>2025-07-01 02:00:00</td>\n",
       "      <td>1.5</td>\n",
       "      <td>MTR001</td>\n",
       "      <td>Asha</td>\n",
       "      <td>Residential</td>\n",
       "    </tr>\n",
       "  </tbody>\n",
       "</table>\n",
       "</div>"
      ],
      "text/plain": [
       "            timestamp  kWh meter_id customer_name customer_type\n",
       "0 2025-07-01 00:00:00  1.2   MTR001          Asha   Residential\n",
       "1 2025-07-01 01:00:00  1.2   MTR001          Asha   Residential\n",
       "2 2025-07-01 02:00:00  1.5   MTR001          Asha   Residential"
      ]
     },
     "execution_count": 113,
     "metadata": {},
     "output_type": "execute_result"
    }
   ],
   "source": [
    "df.query(\"customer_type == 'Residential'\")"
   ]
  },
  {
   "cell_type": "markdown",
   "id": "6002fdab-ff7a-4f55-9f6b-eaed130654bb",
   "metadata": {},
   "source": [
    "## 9.\tSlice data from 1 AM to 2 AM."
   ]
  },
  {
   "cell_type": "code",
   "execution_count": 114,
   "id": "4862699b-a23f-40ef-aa85-1fcb719ac605",
   "metadata": {},
   "outputs": [
    {
     "name": "stdout",
     "output_type": "stream",
     "text": [
      "<class 'pandas.core.frame.DataFrame'>\n",
      "RangeIndex: 6 entries, 0 to 5\n",
      "Data columns (total 5 columns):\n",
      " #   Column         Non-Null Count  Dtype         \n",
      "---  ------         --------------  -----         \n",
      " 0   timestamp      6 non-null      datetime64[ns]\n",
      " 1   kWh            6 non-null      float64       \n",
      " 2   meter_id       6 non-null      object        \n",
      " 3   customer_name  6 non-null      object        \n",
      " 4   customer_type  6 non-null      object        \n",
      "dtypes: datetime64[ns](1), float64(1), object(3)\n",
      "memory usage: 372.0+ bytes\n"
     ]
    }
   ],
   "source": [
    "df.info()"
   ]
  },
  {
   "cell_type": "code",
   "execution_count": 128,
   "id": "85afbe57-947f-4cb6-9c7e-cf952a80b2cf",
   "metadata": {},
   "outputs": [
    {
     "data": {
      "text/html": [
       "<div>\n",
       "<style scoped>\n",
       "    .dataframe tbody tr th:only-of-type {\n",
       "        vertical-align: middle;\n",
       "    }\n",
       "\n",
       "    .dataframe tbody tr th {\n",
       "        vertical-align: top;\n",
       "    }\n",
       "\n",
       "    .dataframe thead th {\n",
       "        text-align: right;\n",
       "    }\n",
       "</style>\n",
       "<table border=\"1\" class=\"dataframe\">\n",
       "  <thead>\n",
       "    <tr style=\"text-align: right;\">\n",
       "      <th></th>\n",
       "      <th>timestamp</th>\n",
       "      <th>kWh</th>\n",
       "      <th>meter_id</th>\n",
       "      <th>customer_name</th>\n",
       "      <th>customer_type</th>\n",
       "    </tr>\n",
       "  </thead>\n",
       "  <tbody>\n",
       "    <tr>\n",
       "      <th>1</th>\n",
       "      <td>2025-07-01 01:00:00</td>\n",
       "      <td>1.2</td>\n",
       "      <td>MTR001</td>\n",
       "      <td>Asha</td>\n",
       "      <td>Residential</td>\n",
       "    </tr>\n",
       "    <tr>\n",
       "      <th>2</th>\n",
       "      <td>2025-07-01 02:00:00</td>\n",
       "      <td>1.5</td>\n",
       "      <td>MTR001</td>\n",
       "      <td>Asha</td>\n",
       "      <td>Residential</td>\n",
       "    </tr>\n",
       "    <tr>\n",
       "      <th>4</th>\n",
       "      <td>2025-07-01 01:00:00</td>\n",
       "      <td>5.5</td>\n",
       "      <td>MTR002</td>\n",
       "      <td>Ravi</td>\n",
       "      <td>Commercial</td>\n",
       "    </tr>\n",
       "    <tr>\n",
       "      <th>5</th>\n",
       "      <td>2025-07-01 02:00:00</td>\n",
       "      <td>5.5</td>\n",
       "      <td>MTR002</td>\n",
       "      <td>Ravi</td>\n",
       "      <td>Commercial</td>\n",
       "    </tr>\n",
       "  </tbody>\n",
       "</table>\n",
       "</div>"
      ],
      "text/plain": [
       "            timestamp  kWh meter_id customer_name customer_type\n",
       "1 2025-07-01 01:00:00  1.2   MTR001          Asha   Residential\n",
       "2 2025-07-01 02:00:00  1.5   MTR001          Asha   Residential\n",
       "4 2025-07-01 01:00:00  5.5   MTR002          Ravi    Commercial\n",
       "5 2025-07-01 02:00:00  5.5   MTR002          Ravi    Commercial"
      ]
     },
     "execution_count": 128,
     "metadata": {},
     "output_type": "execute_result"
    }
   ],
   "source": [
    "import datetime\n",
    "\n",
    "df[df['timestamp'].dt.time.between(datetime.time(1,0), datetime.time(2,0))]"
   ]
  },
  {
   "cell_type": "markdown",
   "id": "2ab5fcaf-f868-4fcb-b660-2300065ef8c4",
   "metadata": {},
   "source": [
    "## 10.\tAdd a column called hour based on timestamp."
   ]
  },
  {
   "cell_type": "code",
   "execution_count": 129,
   "id": "bd222fd9-36ea-4eef-bbd7-89cdcacb209d",
   "metadata": {},
   "outputs": [],
   "source": [
    "df['hour'] = df['timestamp'].dt.hour"
   ]
  },
  {
   "cell_type": "code",
   "execution_count": 130,
   "id": "293c3e2b-a937-417a-b3a7-dfca10f59866",
   "metadata": {},
   "outputs": [
    {
     "data": {
      "text/html": [
       "<div>\n",
       "<style scoped>\n",
       "    .dataframe tbody tr th:only-of-type {\n",
       "        vertical-align: middle;\n",
       "    }\n",
       "\n",
       "    .dataframe tbody tr th {\n",
       "        vertical-align: top;\n",
       "    }\n",
       "\n",
       "    .dataframe thead th {\n",
       "        text-align: right;\n",
       "    }\n",
       "</style>\n",
       "<table border=\"1\" class=\"dataframe\">\n",
       "  <thead>\n",
       "    <tr style=\"text-align: right;\">\n",
       "      <th></th>\n",
       "      <th>timestamp</th>\n",
       "      <th>kWh</th>\n",
       "      <th>meter_id</th>\n",
       "      <th>customer_name</th>\n",
       "      <th>customer_type</th>\n",
       "      <th>hour</th>\n",
       "    </tr>\n",
       "  </thead>\n",
       "  <tbody>\n",
       "    <tr>\n",
       "      <th>0</th>\n",
       "      <td>2025-07-01 00:00:00</td>\n",
       "      <td>1.2</td>\n",
       "      <td>MTR001</td>\n",
       "      <td>Asha</td>\n",
       "      <td>Residential</td>\n",
       "      <td>0</td>\n",
       "    </tr>\n",
       "    <tr>\n",
       "      <th>1</th>\n",
       "      <td>2025-07-01 01:00:00</td>\n",
       "      <td>1.2</td>\n",
       "      <td>MTR001</td>\n",
       "      <td>Asha</td>\n",
       "      <td>Residential</td>\n",
       "      <td>1</td>\n",
       "    </tr>\n",
       "    <tr>\n",
       "      <th>2</th>\n",
       "      <td>2025-07-01 02:00:00</td>\n",
       "      <td>1.5</td>\n",
       "      <td>MTR001</td>\n",
       "      <td>Asha</td>\n",
       "      <td>Residential</td>\n",
       "      <td>2</td>\n",
       "    </tr>\n",
       "    <tr>\n",
       "      <th>3</th>\n",
       "      <td>2025-07-01 00:00:00</td>\n",
       "      <td>5.0</td>\n",
       "      <td>MTR002</td>\n",
       "      <td>Ravi</td>\n",
       "      <td>Commercial</td>\n",
       "      <td>0</td>\n",
       "    </tr>\n",
       "    <tr>\n",
       "      <th>4</th>\n",
       "      <td>2025-07-01 01:00:00</td>\n",
       "      <td>5.5</td>\n",
       "      <td>MTR002</td>\n",
       "      <td>Ravi</td>\n",
       "      <td>Commercial</td>\n",
       "      <td>1</td>\n",
       "    </tr>\n",
       "    <tr>\n",
       "      <th>5</th>\n",
       "      <td>2025-07-01 02:00:00</td>\n",
       "      <td>5.5</td>\n",
       "      <td>MTR002</td>\n",
       "      <td>Ravi</td>\n",
       "      <td>Commercial</td>\n",
       "      <td>2</td>\n",
       "    </tr>\n",
       "  </tbody>\n",
       "</table>\n",
       "</div>"
      ],
      "text/plain": [
       "            timestamp  kWh meter_id customer_name customer_type  hour\n",
       "0 2025-07-01 00:00:00  1.2   MTR001          Asha   Residential     0\n",
       "1 2025-07-01 01:00:00  1.2   MTR001          Asha   Residential     1\n",
       "2 2025-07-01 02:00:00  1.5   MTR001          Asha   Residential     2\n",
       "3 2025-07-01 00:00:00  5.0   MTR002          Ravi    Commercial     0\n",
       "4 2025-07-01 01:00:00  5.5   MTR002          Ravi    Commercial     1\n",
       "5 2025-07-01 02:00:00  5.5   MTR002          Ravi    Commercial     2"
      ]
     },
     "execution_count": 130,
     "metadata": {},
     "output_type": "execute_result"
    }
   ],
   "source": [
    "df"
   ]
  },
  {
   "cell_type": "markdown",
   "id": "09e956f3-cef7-49e6-9949-b2076fcac267",
   "metadata": {},
   "source": [
    "## 11.\tGroup by meter_id and get average usage."
   ]
  },
  {
   "cell_type": "code",
   "execution_count": 133,
   "id": "9650865a-f3e5-4b74-af6b-10ba65532fd9",
   "metadata": {},
   "outputs": [
    {
     "data": {
      "text/plain": [
       "meter_id\n",
       "MTR001    1.300000\n",
       "MTR002    5.333333\n",
       "Name: kWh, dtype: float64"
      ]
     },
     "execution_count": 133,
     "metadata": {},
     "output_type": "execute_result"
    }
   ],
   "source": [
    "average_usage = df.groupby('meter_id')['kWh'].mean()\n",
    "average_usage"
   ]
  },
  {
   "cell_type": "markdown",
   "id": "333db7f0-a667-4904-b724-328064220eb1",
   "metadata": {},
   "source": [
    "## 12.\tFlag rows where kWh exceeds 4.0 as an anomaly."
   ]
  },
  {
   "cell_type": "code",
   "execution_count": 135,
   "id": "083c3384-7521-4732-a1e7-4991e211b71b",
   "metadata": {},
   "outputs": [
    {
     "data": {
      "text/html": [
       "<div>\n",
       "<style scoped>\n",
       "    .dataframe tbody tr th:only-of-type {\n",
       "        vertical-align: middle;\n",
       "    }\n",
       "\n",
       "    .dataframe tbody tr th {\n",
       "        vertical-align: top;\n",
       "    }\n",
       "\n",
       "    .dataframe thead th {\n",
       "        text-align: right;\n",
       "    }\n",
       "</style>\n",
       "<table border=\"1\" class=\"dataframe\">\n",
       "  <thead>\n",
       "    <tr style=\"text-align: right;\">\n",
       "      <th></th>\n",
       "      <th>timestamp</th>\n",
       "      <th>kWh</th>\n",
       "      <th>meter_id</th>\n",
       "      <th>customer_name</th>\n",
       "      <th>customer_type</th>\n",
       "      <th>hour</th>\n",
       "    </tr>\n",
       "  </thead>\n",
       "  <tbody>\n",
       "    <tr>\n",
       "      <th>3</th>\n",
       "      <td>2025-07-01 00:00:00</td>\n",
       "      <td>5.0</td>\n",
       "      <td>MTR002</td>\n",
       "      <td>Ravi</td>\n",
       "      <td>Commercial</td>\n",
       "      <td>0</td>\n",
       "    </tr>\n",
       "    <tr>\n",
       "      <th>4</th>\n",
       "      <td>2025-07-01 01:00:00</td>\n",
       "      <td>5.5</td>\n",
       "      <td>MTR002</td>\n",
       "      <td>Ravi</td>\n",
       "      <td>Commercial</td>\n",
       "      <td>1</td>\n",
       "    </tr>\n",
       "    <tr>\n",
       "      <th>5</th>\n",
       "      <td>2025-07-01 02:00:00</td>\n",
       "      <td>5.5</td>\n",
       "      <td>MTR002</td>\n",
       "      <td>Ravi</td>\n",
       "      <td>Commercial</td>\n",
       "      <td>2</td>\n",
       "    </tr>\n",
       "  </tbody>\n",
       "</table>\n",
       "</div>"
      ],
      "text/plain": [
       "            timestamp  kWh meter_id customer_name customer_type  hour\n",
       "3 2025-07-01 00:00:00  5.0   MTR002          Ravi    Commercial     0\n",
       "4 2025-07-01 01:00:00  5.5   MTR002          Ravi    Commercial     1\n",
       "5 2025-07-01 02:00:00  5.5   MTR002          Ravi    Commercial     2"
      ]
     },
     "execution_count": 135,
     "metadata": {},
     "output_type": "execute_result"
    }
   ],
   "source": [
    "df[df['kWh'] > 4.0]"
   ]
  },
  {
   "cell_type": "markdown",
   "id": "7c9eedf0-2800-41ca-8adb-24509eb8d488",
   "metadata": {},
   "source": [
    "## 13.\tCreate a pivot table showing average kWh by hour."
   ]
  },
  {
   "cell_type": "code",
   "execution_count": 141,
   "id": "55849cdb-1b20-4c85-90c5-b603ffb96418",
   "metadata": {},
   "outputs": [],
   "source": [
    "average_kWh_by_hour = df.groupby('hour')['kWh'].mean()"
   ]
  },
  {
   "cell_type": "code",
   "execution_count": 142,
   "id": "857dfd53-eac1-4b76-9cff-f4383a22d2ec",
   "metadata": {},
   "outputs": [
    {
     "name": "stdout",
     "output_type": "stream",
     "text": [
      "hour\n",
      "0    3.10\n",
      "1    3.35\n",
      "2    3.50\n",
      "Name: kWh, dtype: float64\n"
     ]
    }
   ],
   "source": [
    "print(average_kWh_by_hour)"
   ]
  },
  {
   "cell_type": "code",
   "execution_count": null,
   "id": "f482b114-1cb1-4c59-9730-32d902d6cde0",
   "metadata": {},
   "outputs": [],
   "source": []
  }
 ],
 "metadata": {
  "kernelspec": {
   "display_name": "Python 3 (ipykernel)",
   "language": "python",
   "name": "python3"
  },
  "language_info": {
   "codemirror_mode": {
    "name": "ipython",
    "version": 3
   },
   "file_extension": ".py",
   "mimetype": "text/x-python",
   "name": "python",
   "nbconvert_exporter": "python",
   "pygments_lexer": "ipython3",
   "version": "3.12.7"
  }
 },
 "nbformat": 4,
 "nbformat_minor": 5
}
