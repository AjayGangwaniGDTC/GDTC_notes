{
 "cells": [
  {
   "cell_type": "code",
   "execution_count": 2,
   "id": "76f7f3d5-1d20-4e9d-9407-165c86b2c620",
   "metadata": {},
   "outputs": [
    {
     "data": {
      "text/html": [
       "<div>\n",
       "<style scoped>\n",
       "    .dataframe tbody tr th:only-of-type {\n",
       "        vertical-align: middle;\n",
       "    }\n",
       "\n",
       "    .dataframe tbody tr th {\n",
       "        vertical-align: top;\n",
       "    }\n",
       "\n",
       "    .dataframe thead th {\n",
       "        text-align: right;\n",
       "    }\n",
       "</style>\n",
       "<table border=\"1\" class=\"dataframe\">\n",
       "  <thead>\n",
       "    <tr style=\"text-align: right;\">\n",
       "      <th></th>\n",
       "      <th>A</th>\n",
       "      <th>B</th>\n",
       "    </tr>\n",
       "  </thead>\n",
       "  <tbody>\n",
       "    <tr>\n",
       "      <th>0</th>\n",
       "      <td>1</td>\n",
       "      <td>5</td>\n",
       "    </tr>\n",
       "    <tr>\n",
       "      <th>1</th>\n",
       "      <td>2</td>\n",
       "      <td>6</td>\n",
       "    </tr>\n",
       "    <tr>\n",
       "      <th>2</th>\n",
       "      <td>3</td>\n",
       "      <td>7</td>\n",
       "    </tr>\n",
       "    <tr>\n",
       "      <th>3</th>\n",
       "      <td>4</td>\n",
       "      <td>8</td>\n",
       "    </tr>\n",
       "  </tbody>\n",
       "</table>\n",
       "</div>"
      ],
      "text/plain": [
       "   A  B\n",
       "0  1  5\n",
       "1  2  6\n",
       "2  3  7\n",
       "3  4  8"
      ]
     },
     "execution_count": 2,
     "metadata": {},
     "output_type": "execute_result"
    }
   ],
   "source": [
    "df = pd.DataFrame({'A': [1,2,3,4], 'B': [5,6,7,8]})\n",
    "df"
   ]
  },
  {
   "cell_type": "code",
   "execution_count": 3,
   "id": "020cc322-35c2-4d43-92f7-718f985bbb00",
   "metadata": {},
   "outputs": [
    {
     "data": {
      "text/html": [
       "<div>\n",
       "<style scoped>\n",
       "    .dataframe tbody tr th:only-of-type {\n",
       "        vertical-align: middle;\n",
       "    }\n",
       "\n",
       "    .dataframe tbody tr th {\n",
       "        vertical-align: top;\n",
       "    }\n",
       "\n",
       "    .dataframe thead th {\n",
       "        text-align: right;\n",
       "    }\n",
       "</style>\n",
       "<table border=\"1\" class=\"dataframe\">\n",
       "  <thead>\n",
       "    <tr style=\"text-align: right;\">\n",
       "      <th></th>\n",
       "      <th>A</th>\n",
       "      <th>B</th>\n",
       "    </tr>\n",
       "  </thead>\n",
       "  <tbody>\n",
       "    <tr>\n",
       "      <th>mean</th>\n",
       "      <td>2.500000</td>\n",
       "      <td>6.500000</td>\n",
       "    </tr>\n",
       "    <tr>\n",
       "      <th>std</th>\n",
       "      <td>1.290994</td>\n",
       "      <td>1.290994</td>\n",
       "    </tr>\n",
       "    <tr>\n",
       "      <th>var</th>\n",
       "      <td>1.666667</td>\n",
       "      <td>1.666667</td>\n",
       "    </tr>\n",
       "    <tr>\n",
       "      <th>min</th>\n",
       "      <td>1.000000</td>\n",
       "      <td>5.000000</td>\n",
       "    </tr>\n",
       "    <tr>\n",
       "      <th>max</th>\n",
       "      <td>4.000000</td>\n",
       "      <td>8.000000</td>\n",
       "    </tr>\n",
       "    <tr>\n",
       "      <th>count</th>\n",
       "      <td>4.000000</td>\n",
       "      <td>4.000000</td>\n",
       "    </tr>\n",
       "  </tbody>\n",
       "</table>\n",
       "</div>"
      ],
      "text/plain": [
       "              A         B\n",
       "mean   2.500000  6.500000\n",
       "std    1.290994  1.290994\n",
       "var    1.666667  1.666667\n",
       "min    1.000000  5.000000\n",
       "max    4.000000  8.000000\n",
       "count  4.000000  4.000000"
      ]
     },
     "execution_count": 3,
     "metadata": {},
     "output_type": "execute_result"
    }
   ],
   "source": [
    "# 3 statistical and 3 summarization features\n",
    "df.agg(['mean', 'std', 'var', 'min', 'max', 'count'])"
   ]
  },
  {
   "cell_type": "code",
   "execution_count": 7,
   "id": "8bcc76b4-fcc1-480d-be59-93a3007034a3",
   "metadata": {},
   "outputs": [
    {
     "data": {
      "text/html": [
       "<div>\n",
       "<style scoped>\n",
       "    .dataframe tbody tr th:only-of-type {\n",
       "        vertical-align: middle;\n",
       "    }\n",
       "\n",
       "    .dataframe tbody tr th {\n",
       "        vertical-align: top;\n",
       "    }\n",
       "\n",
       "    .dataframe thead th {\n",
       "        text-align: right;\n",
       "    }\n",
       "</style>\n",
       "<table border=\"1\" class=\"dataframe\">\n",
       "  <thead>\n",
       "    <tr style=\"text-align: right;\">\n",
       "      <th></th>\n",
       "      <th>A</th>\n",
       "      <th>B</th>\n",
       "    </tr>\n",
       "  </thead>\n",
       "  <tbody>\n",
       "    <tr>\n",
       "      <th>any</th>\n",
       "      <td>False</td>\n",
       "      <td>True</td>\n",
       "    </tr>\n",
       "    <tr>\n",
       "      <th>all</th>\n",
       "      <td>False</td>\n",
       "      <td>False</td>\n",
       "    </tr>\n",
       "  </tbody>\n",
       "</table>\n",
       "</div>"
      ],
      "text/plain": [
       "         A      B\n",
       "any  False   True\n",
       "all  False  False"
      ]
     },
     "execution_count": 7,
     "metadata": {},
     "output_type": "execute_result"
    }
   ],
   "source": [
    "(df > 6).agg(['any', 'all'])"
   ]
  },
  {
   "cell_type": "code",
   "execution_count": 6,
   "id": "b988382c-ce55-4b81-9ee0-596902e6def3",
   "metadata": {},
   "outputs": [
    {
     "data": {
      "text/html": [
       "<div>\n",
       "<style scoped>\n",
       "    .dataframe tbody tr th:only-of-type {\n",
       "        vertical-align: middle;\n",
       "    }\n",
       "\n",
       "    .dataframe tbody tr th {\n",
       "        vertical-align: top;\n",
       "    }\n",
       "\n",
       "    .dataframe thead th {\n",
       "        text-align: right;\n",
       "    }\n",
       "</style>\n",
       "<table border=\"1\" class=\"dataframe\">\n",
       "  <thead>\n",
       "    <tr style=\"text-align: right;\">\n",
       "      <th></th>\n",
       "      <th>A</th>\n",
       "      <th>B</th>\n",
       "    </tr>\n",
       "  </thead>\n",
       "  <tbody>\n",
       "    <tr>\n",
       "      <th>0</th>\n",
       "      <td>1</td>\n",
       "      <td>5</td>\n",
       "    </tr>\n",
       "    <tr>\n",
       "      <th>1</th>\n",
       "      <td>2</td>\n",
       "      <td>6</td>\n",
       "    </tr>\n",
       "    <tr>\n",
       "      <th>2</th>\n",
       "      <td>3</td>\n",
       "      <td>7</td>\n",
       "    </tr>\n",
       "    <tr>\n",
       "      <th>3</th>\n",
       "      <td>4</td>\n",
       "      <td>8</td>\n",
       "    </tr>\n",
       "  </tbody>\n",
       "</table>\n",
       "</div>"
      ],
      "text/plain": [
       "   A  B\n",
       "0  1  5\n",
       "1  2  6\n",
       "2  3  7\n",
       "3  4  8"
      ]
     },
     "execution_count": 6,
     "metadata": {},
     "output_type": "execute_result"
    }
   ],
   "source": [
    "df"
   ]
  },
  {
   "cell_type": "code",
   "execution_count": 8,
   "id": "605f6812-f904-4d7b-ada4-c31353a8bf88",
   "metadata": {},
   "outputs": [],
   "source": [
    "def range_func(x):\n",
    "    return x.max() - x.min()"
   ]
  },
  {
   "cell_type": "code",
   "execution_count": 10,
   "id": "cd1191fc-0388-4483-85e4-f4d7f3a14ef1",
   "metadata": {},
   "outputs": [
    {
     "name": "stdout",
     "output_type": "stream",
     "text": [
      "A    3\n",
      "dtype: int64\n"
     ]
    }
   ],
   "source": [
    "x = df.agg({'A':range_func})\n",
    "print(x)"
   ]
  },
  {
   "cell_type": "code",
   "execution_count": 11,
   "id": "744a7011-e25f-4fd2-bea0-614031807152",
   "metadata": {},
   "outputs": [
    {
     "data": {
      "text/html": [
       "<div>\n",
       "<style scoped>\n",
       "    .dataframe tbody tr th:only-of-type {\n",
       "        vertical-align: middle;\n",
       "    }\n",
       "\n",
       "    .dataframe tbody tr th {\n",
       "        vertical-align: top;\n",
       "    }\n",
       "\n",
       "    .dataframe thead th {\n",
       "        text-align: right;\n",
       "    }\n",
       "</style>\n",
       "<table border=\"1\" class=\"dataframe\">\n",
       "  <thead>\n",
       "    <tr style=\"text-align: right;\">\n",
       "      <th></th>\n",
       "      <th>Category</th>\n",
       "      <th>Value</th>\n",
       "    </tr>\n",
       "  </thead>\n",
       "  <tbody>\n",
       "    <tr>\n",
       "      <th>0</th>\n",
       "      <td>A</td>\n",
       "      <td>10</td>\n",
       "    </tr>\n",
       "    <tr>\n",
       "      <th>1</th>\n",
       "      <td>A</td>\n",
       "      <td>20</td>\n",
       "    </tr>\n",
       "    <tr>\n",
       "      <th>2</th>\n",
       "      <td>B</td>\n",
       "      <td>30</td>\n",
       "    </tr>\n",
       "    <tr>\n",
       "      <th>3</th>\n",
       "      <td>B</td>\n",
       "      <td>40</td>\n",
       "    </tr>\n",
       "  </tbody>\n",
       "</table>\n",
       "</div>"
      ],
      "text/plain": [
       "  Category  Value\n",
       "0        A     10\n",
       "1        A     20\n",
       "2        B     30\n",
       "3        B     40"
      ]
     },
     "execution_count": 11,
     "metadata": {},
     "output_type": "execute_result"
    }
   ],
   "source": [
    "df = pd.DataFrame({\n",
    "    'Category': ['A', 'A', 'B', 'B'],\n",
    "    'Value': [10,20,30,40]\n",
    "})\n",
    "df"
   ]
  },
  {
   "cell_type": "code",
   "execution_count": 12,
   "id": "d8f8a1a7-4e15-4af2-9295-481086941f81",
   "metadata": {},
   "outputs": [
    {
     "data": {
      "text/html": [
       "<div>\n",
       "<style scoped>\n",
       "    .dataframe tbody tr th:only-of-type {\n",
       "        vertical-align: middle;\n",
       "    }\n",
       "\n",
       "    .dataframe tbody tr th {\n",
       "        vertical-align: top;\n",
       "    }\n",
       "\n",
       "    .dataframe thead tr th {\n",
       "        text-align: left;\n",
       "    }\n",
       "\n",
       "    .dataframe thead tr:last-of-type th {\n",
       "        text-align: right;\n",
       "    }\n",
       "</style>\n",
       "<table border=\"1\" class=\"dataframe\">\n",
       "  <thead>\n",
       "    <tr>\n",
       "      <th></th>\n",
       "      <th colspan=\"3\" halign=\"left\">Value</th>\n",
       "    </tr>\n",
       "    <tr>\n",
       "      <th></th>\n",
       "      <th>sum</th>\n",
       "      <th>count</th>\n",
       "      <th>mean</th>\n",
       "    </tr>\n",
       "    <tr>\n",
       "      <th>Category</th>\n",
       "      <th></th>\n",
       "      <th></th>\n",
       "      <th></th>\n",
       "    </tr>\n",
       "  </thead>\n",
       "  <tbody>\n",
       "    <tr>\n",
       "      <th>A</th>\n",
       "      <td>30</td>\n",
       "      <td>2</td>\n",
       "      <td>15.0</td>\n",
       "    </tr>\n",
       "    <tr>\n",
       "      <th>B</th>\n",
       "      <td>70</td>\n",
       "      <td>2</td>\n",
       "      <td>35.0</td>\n",
       "    </tr>\n",
       "  </tbody>\n",
       "</table>\n",
       "</div>"
      ],
      "text/plain": [
       "         Value            \n",
       "           sum count  mean\n",
       "Category                  \n",
       "A           30     2  15.0\n",
       "B           70     2  35.0"
      ]
     },
     "execution_count": 12,
     "metadata": {},
     "output_type": "execute_result"
    }
   ],
   "source": [
    "df.groupby('Category').agg(['sum', 'count', 'mean'])"
   ]
  },
  {
   "cell_type": "code",
   "execution_count": 13,
   "id": "babd7144-3774-4dde-9ee4-487a0c73693b",
   "metadata": {},
   "outputs": [],
   "source": [
    "df = pd.DataFrame({\n",
    "    'Team': ['A', 'A', 'B', 'B'],\n",
    "    'Points': [10,20,30,40]\n",
    "})"
   ]
  },
  {
   "cell_type": "code",
   "execution_count": 14,
   "id": "58c991fb-a83b-4919-8ea4-140f4f740f26",
   "metadata": {},
   "outputs": [
    {
     "data": {
      "text/html": [
       "<div>\n",
       "<style scoped>\n",
       "    .dataframe tbody tr th:only-of-type {\n",
       "        vertical-align: middle;\n",
       "    }\n",
       "\n",
       "    .dataframe tbody tr th {\n",
       "        vertical-align: top;\n",
       "    }\n",
       "\n",
       "    .dataframe thead th {\n",
       "        text-align: right;\n",
       "    }\n",
       "</style>\n",
       "<table border=\"1\" class=\"dataframe\">\n",
       "  <thead>\n",
       "    <tr style=\"text-align: right;\">\n",
       "      <th></th>\n",
       "      <th>Team</th>\n",
       "      <th>Points</th>\n",
       "    </tr>\n",
       "  </thead>\n",
       "  <tbody>\n",
       "    <tr>\n",
       "      <th>0</th>\n",
       "      <td>A</td>\n",
       "      <td>10</td>\n",
       "    </tr>\n",
       "    <tr>\n",
       "      <th>1</th>\n",
       "      <td>A</td>\n",
       "      <td>20</td>\n",
       "    </tr>\n",
       "    <tr>\n",
       "      <th>2</th>\n",
       "      <td>B</td>\n",
       "      <td>30</td>\n",
       "    </tr>\n",
       "    <tr>\n",
       "      <th>3</th>\n",
       "      <td>B</td>\n",
       "      <td>40</td>\n",
       "    </tr>\n",
       "  </tbody>\n",
       "</table>\n",
       "</div>"
      ],
      "text/plain": [
       "  Team  Points\n",
       "0    A      10\n",
       "1    A      20\n",
       "2    B      30\n",
       "3    B      40"
      ]
     },
     "execution_count": 14,
     "metadata": {},
     "output_type": "execute_result"
    }
   ],
   "source": [
    "df"
   ]
  },
  {
   "cell_type": "code",
   "execution_count": 19,
   "id": "3fe0842f-512a-494b-bac4-ceb5075b2656",
   "metadata": {},
   "outputs": [],
   "source": [
    "grouped = df.groupby('Team')"
   ]
  },
  {
   "cell_type": "code",
   "execution_count": 16,
   "id": "7e68b624-a592-47bd-85c1-9cbe468e7cde",
   "metadata": {},
   "outputs": [],
   "source": [
    "x = grouped['Points'].sum()"
   ]
  },
  {
   "cell_type": "code",
   "execution_count": 17,
   "id": "756f0974-d0d4-402f-a984-8c31c641b1f6",
   "metadata": {},
   "outputs": [
    {
     "data": {
      "text/plain": [
       "Team\n",
       "A    30\n",
       "B    70\n",
       "Name: Points, dtype: int64"
      ]
     },
     "execution_count": 17,
     "metadata": {},
     "output_type": "execute_result"
    }
   ],
   "source": [
    "x"
   ]
  },
  {
   "cell_type": "code",
   "execution_count": 20,
   "id": "d69edea7-a55a-4987-ab80-eb38cc625f21",
   "metadata": {},
   "outputs": [],
   "source": [
    "# Multi column groupby\n",
    "\n",
    "df = pd.DataFrame({\n",
    "    'Team': ['A', 'A', 'B', 'B'],\n",
    "    'Position': ['Forward', 'Guard', 'Forward', 'Guard'],\n",
    "    'Points': [10,20,30,40]\n",
    "})"
   ]
  },
  {
   "cell_type": "code",
   "execution_count": 21,
   "id": "bf3d361c-d99c-44d3-8ca2-bd7c1900ee4a",
   "metadata": {},
   "outputs": [
    {
     "data": {
      "text/html": [
       "<div>\n",
       "<style scoped>\n",
       "    .dataframe tbody tr th:only-of-type {\n",
       "        vertical-align: middle;\n",
       "    }\n",
       "\n",
       "    .dataframe tbody tr th {\n",
       "        vertical-align: top;\n",
       "    }\n",
       "\n",
       "    .dataframe thead th {\n",
       "        text-align: right;\n",
       "    }\n",
       "</style>\n",
       "<table border=\"1\" class=\"dataframe\">\n",
       "  <thead>\n",
       "    <tr style=\"text-align: right;\">\n",
       "      <th></th>\n",
       "      <th>Team</th>\n",
       "      <th>Position</th>\n",
       "      <th>Points</th>\n",
       "    </tr>\n",
       "  </thead>\n",
       "  <tbody>\n",
       "    <tr>\n",
       "      <th>0</th>\n",
       "      <td>A</td>\n",
       "      <td>Forward</td>\n",
       "      <td>10</td>\n",
       "    </tr>\n",
       "    <tr>\n",
       "      <th>1</th>\n",
       "      <td>A</td>\n",
       "      <td>Guard</td>\n",
       "      <td>20</td>\n",
       "    </tr>\n",
       "    <tr>\n",
       "      <th>2</th>\n",
       "      <td>B</td>\n",
       "      <td>Forward</td>\n",
       "      <td>30</td>\n",
       "    </tr>\n",
       "    <tr>\n",
       "      <th>3</th>\n",
       "      <td>B</td>\n",
       "      <td>Guard</td>\n",
       "      <td>40</td>\n",
       "    </tr>\n",
       "  </tbody>\n",
       "</table>\n",
       "</div>"
      ],
      "text/plain": [
       "  Team Position  Points\n",
       "0    A  Forward      10\n",
       "1    A    Guard      20\n",
       "2    B  Forward      30\n",
       "3    B    Guard      40"
      ]
     },
     "execution_count": 21,
     "metadata": {},
     "output_type": "execute_result"
    }
   ],
   "source": [
    "df"
   ]
  },
  {
   "cell_type": "code",
   "execution_count": 22,
   "id": "6f9d0773-ddc2-41ec-9db3-b73d28611e3d",
   "metadata": {},
   "outputs": [
    {
     "name": "stdout",
     "output_type": "stream",
     "text": [
      "Team  Position\n",
      "A     Forward     10\n",
      "      Guard       20\n",
      "B     Forward     30\n",
      "      Guard       40\n",
      "Name: Points, dtype: int64\n"
     ]
    }
   ],
   "source": [
    "print(df.groupby(['Team','Position'])['Points'].sum())"
   ]
  },
  {
   "cell_type": "code",
   "execution_count": 23,
   "id": "90dc58ec-64ac-4cad-9e0f-de4a71dec782",
   "metadata": {},
   "outputs": [
    {
     "data": {
      "text/html": [
       "<div>\n",
       "<style scoped>\n",
       "    .dataframe tbody tr th:only-of-type {\n",
       "        vertical-align: middle;\n",
       "    }\n",
       "\n",
       "    .dataframe tbody tr th {\n",
       "        vertical-align: top;\n",
       "    }\n",
       "\n",
       "    .dataframe thead tr th {\n",
       "        text-align: left;\n",
       "    }\n",
       "\n",
       "    .dataframe thead tr:last-of-type th {\n",
       "        text-align: right;\n",
       "    }\n",
       "</style>\n",
       "<table border=\"1\" class=\"dataframe\">\n",
       "  <thead>\n",
       "    <tr>\n",
       "      <th></th>\n",
       "      <th colspan=\"3\" halign=\"left\">Points</th>\n",
       "    </tr>\n",
       "    <tr>\n",
       "      <th></th>\n",
       "      <th>sum</th>\n",
       "      <th>mean</th>\n",
       "      <th>max</th>\n",
       "    </tr>\n",
       "    <tr>\n",
       "      <th>Team</th>\n",
       "      <th></th>\n",
       "      <th></th>\n",
       "      <th></th>\n",
       "    </tr>\n",
       "  </thead>\n",
       "  <tbody>\n",
       "    <tr>\n",
       "      <th>A</th>\n",
       "      <td>30</td>\n",
       "      <td>15.0</td>\n",
       "      <td>20</td>\n",
       "    </tr>\n",
       "    <tr>\n",
       "      <th>B</th>\n",
       "      <td>70</td>\n",
       "      <td>35.0</td>\n",
       "      <td>40</td>\n",
       "    </tr>\n",
       "  </tbody>\n",
       "</table>\n",
       "</div>"
      ],
      "text/plain": [
       "     Points          \n",
       "        sum  mean max\n",
       "Team                 \n",
       "A        30  15.0  20\n",
       "B        70  35.0  40"
      ]
     },
     "execution_count": 23,
     "metadata": {},
     "output_type": "execute_result"
    }
   ],
   "source": [
    "df.groupby('Team').agg({'Points': ['sum', 'mean', 'max']})"
   ]
  },
  {
   "cell_type": "code",
   "execution_count": 24,
   "id": "20f21483-de1e-4832-b25a-b04b22d90fa5",
   "metadata": {},
   "outputs": [
    {
     "data": {
      "text/html": [
       "<div>\n",
       "<style scoped>\n",
       "    .dataframe tbody tr th:only-of-type {\n",
       "        vertical-align: middle;\n",
       "    }\n",
       "\n",
       "    .dataframe tbody tr th {\n",
       "        vertical-align: top;\n",
       "    }\n",
       "\n",
       "    .dataframe thead th {\n",
       "        text-align: right;\n",
       "    }\n",
       "</style>\n",
       "<table border=\"1\" class=\"dataframe\">\n",
       "  <thead>\n",
       "    <tr style=\"text-align: right;\">\n",
       "      <th></th>\n",
       "      <th>Points</th>\n",
       "    </tr>\n",
       "    <tr>\n",
       "      <th>Team</th>\n",
       "      <th></th>\n",
       "    </tr>\n",
       "  </thead>\n",
       "  <tbody>\n",
       "    <tr>\n",
       "      <th>A</th>\n",
       "      <td>10</td>\n",
       "    </tr>\n",
       "    <tr>\n",
       "      <th>B</th>\n",
       "      <td>10</td>\n",
       "    </tr>\n",
       "  </tbody>\n",
       "</table>\n",
       "</div>"
      ],
      "text/plain": [
       "      Points\n",
       "Team        \n",
       "A         10\n",
       "B         10"
      ]
     },
     "execution_count": 24,
     "metadata": {},
     "output_type": "execute_result"
    }
   ],
   "source": [
    "# Custom aggregation using groupby\n",
    "def range_func(x):\n",
    "    return x.max() - x.min()\n",
    "\n",
    "df.groupby('Team').agg({'Points': range_func})"
   ]
  },
  {
   "cell_type": "code",
   "execution_count": 29,
   "id": "d938a6e2-7275-4c83-a2de-be0600b198aa",
   "metadata": {},
   "outputs": [
    {
     "name": "stdout",
     "output_type": "stream",
     "text": [
      "  Team Position  Points  Points_mean\n",
      "2    B  Forward      30         35.0\n",
      "3    B    Guard      40         35.0\n"
     ]
    }
   ],
   "source": [
    "# filter on group by\n",
    "print(df.groupby('Team').filter(lambda x: x['Points'].mean() > 15))"
   ]
  },
  {
   "cell_type": "code",
   "execution_count": 26,
   "id": "697859fa-3ef4-44fb-b0c5-88e8ae303d1a",
   "metadata": {},
   "outputs": [],
   "source": [
    "# broadcasting on group by\n",
    "df['Points_mean'] = df.groupby('Team')['Points'].transform('mean')"
   ]
  },
  {
   "cell_type": "code",
   "execution_count": 27,
   "id": "e6424265-2736-4ab8-9fed-7756134216b2",
   "metadata": {},
   "outputs": [
    {
     "data": {
      "text/html": [
       "<div>\n",
       "<style scoped>\n",
       "    .dataframe tbody tr th:only-of-type {\n",
       "        vertical-align: middle;\n",
       "    }\n",
       "\n",
       "    .dataframe tbody tr th {\n",
       "        vertical-align: top;\n",
       "    }\n",
       "\n",
       "    .dataframe thead th {\n",
       "        text-align: right;\n",
       "    }\n",
       "</style>\n",
       "<table border=\"1\" class=\"dataframe\">\n",
       "  <thead>\n",
       "    <tr style=\"text-align: right;\">\n",
       "      <th></th>\n",
       "      <th>Team</th>\n",
       "      <th>Position</th>\n",
       "      <th>Points</th>\n",
       "      <th>Points_mean</th>\n",
       "    </tr>\n",
       "  </thead>\n",
       "  <tbody>\n",
       "    <tr>\n",
       "      <th>0</th>\n",
       "      <td>A</td>\n",
       "      <td>Forward</td>\n",
       "      <td>10</td>\n",
       "      <td>15.0</td>\n",
       "    </tr>\n",
       "    <tr>\n",
       "      <th>1</th>\n",
       "      <td>A</td>\n",
       "      <td>Guard</td>\n",
       "      <td>20</td>\n",
       "      <td>15.0</td>\n",
       "    </tr>\n",
       "    <tr>\n",
       "      <th>2</th>\n",
       "      <td>B</td>\n",
       "      <td>Forward</td>\n",
       "      <td>30</td>\n",
       "      <td>35.0</td>\n",
       "    </tr>\n",
       "    <tr>\n",
       "      <th>3</th>\n",
       "      <td>B</td>\n",
       "      <td>Guard</td>\n",
       "      <td>40</td>\n",
       "      <td>35.0</td>\n",
       "    </tr>\n",
       "  </tbody>\n",
       "</table>\n",
       "</div>"
      ],
      "text/plain": [
       "  Team Position  Points  Points_mean\n",
       "0    A  Forward      10         15.0\n",
       "1    A    Guard      20         15.0\n",
       "2    B  Forward      30         35.0\n",
       "3    B    Guard      40         35.0"
      ]
     },
     "execution_count": 27,
     "metadata": {},
     "output_type": "execute_result"
    }
   ],
   "source": [
    "df"
   ]
  },
  {
   "cell_type": "markdown",
   "id": "ecfbecf4-f79e-41b7-aea2-cb0ab1e8151d",
   "metadata": {},
   "source": [
    "# Case Study\n",
    "## Groupby and aggregate Methods Exercise"
   ]
  },
  {
   "cell_type": "code",
   "execution_count": 30,
   "id": "7b4e1f0e-a08e-4304-93e0-1965c1d09508",
   "metadata": {},
   "outputs": [],
   "source": [
    "import pandas as pd\n",
    "# Sample Power Grid Utility data\n",
    "data = {\n",
    "    'Region': ['North', 'North', 'East', 'East', 'East', 'South', 'South', 'West', 'West', 'West'],\n",
    "    'Substation': ['N1', 'N2', 'E1', 'E2', 'E3', 'S1', 'S2', 'W1', 'W2', 'W3'],\n",
    "    'Energy_Consumed_MWh': [1200, 1400, 1100, 1000, 1050, 950, 970, 1800, 1750, 1690],\n",
    "    'Energy_Supplied_MWh': [1250, 1450, 1150, 1080, 1100, 1000, 990, 1850, 1800, 1700],\n",
    "    'Outage_Hours': [2, 3, 1, 0, 1, 2, 3, 4, 3, 2],\n",
    "    'Billing_Cycle': ['2023-Q1', '2023-Q1', '2023-Q1', '2023-Q1', '2023-Q2', '2023-Q2', '2023-Q2', '2023-Q1', '2023-Q2', '2023-Q2']\n",
    "}\n",
    "df = pd.DataFrame(data)"
   ]
  },
  {
   "cell_type": "code",
   "execution_count": 31,
   "id": "23739ffb-cb07-4778-8b1d-329959380259",
   "metadata": {},
   "outputs": [
    {
     "data": {
      "text/html": [
       "<div>\n",
       "<style scoped>\n",
       "    .dataframe tbody tr th:only-of-type {\n",
       "        vertical-align: middle;\n",
       "    }\n",
       "\n",
       "    .dataframe tbody tr th {\n",
       "        vertical-align: top;\n",
       "    }\n",
       "\n",
       "    .dataframe thead th {\n",
       "        text-align: right;\n",
       "    }\n",
       "</style>\n",
       "<table border=\"1\" class=\"dataframe\">\n",
       "  <thead>\n",
       "    <tr style=\"text-align: right;\">\n",
       "      <th></th>\n",
       "      <th>Region</th>\n",
       "      <th>Substation</th>\n",
       "      <th>Energy_Consumed_MWh</th>\n",
       "      <th>Energy_Supplied_MWh</th>\n",
       "      <th>Outage_Hours</th>\n",
       "      <th>Billing_Cycle</th>\n",
       "    </tr>\n",
       "  </thead>\n",
       "  <tbody>\n",
       "    <tr>\n",
       "      <th>0</th>\n",
       "      <td>North</td>\n",
       "      <td>N1</td>\n",
       "      <td>1200</td>\n",
       "      <td>1250</td>\n",
       "      <td>2</td>\n",
       "      <td>2023-Q1</td>\n",
       "    </tr>\n",
       "    <tr>\n",
       "      <th>1</th>\n",
       "      <td>North</td>\n",
       "      <td>N2</td>\n",
       "      <td>1400</td>\n",
       "      <td>1450</td>\n",
       "      <td>3</td>\n",
       "      <td>2023-Q1</td>\n",
       "    </tr>\n",
       "    <tr>\n",
       "      <th>2</th>\n",
       "      <td>East</td>\n",
       "      <td>E1</td>\n",
       "      <td>1100</td>\n",
       "      <td>1150</td>\n",
       "      <td>1</td>\n",
       "      <td>2023-Q1</td>\n",
       "    </tr>\n",
       "    <tr>\n",
       "      <th>3</th>\n",
       "      <td>East</td>\n",
       "      <td>E2</td>\n",
       "      <td>1000</td>\n",
       "      <td>1080</td>\n",
       "      <td>0</td>\n",
       "      <td>2023-Q1</td>\n",
       "    </tr>\n",
       "    <tr>\n",
       "      <th>4</th>\n",
       "      <td>East</td>\n",
       "      <td>E3</td>\n",
       "      <td>1050</td>\n",
       "      <td>1100</td>\n",
       "      <td>1</td>\n",
       "      <td>2023-Q2</td>\n",
       "    </tr>\n",
       "    <tr>\n",
       "      <th>5</th>\n",
       "      <td>South</td>\n",
       "      <td>S1</td>\n",
       "      <td>950</td>\n",
       "      <td>1000</td>\n",
       "      <td>2</td>\n",
       "      <td>2023-Q2</td>\n",
       "    </tr>\n",
       "    <tr>\n",
       "      <th>6</th>\n",
       "      <td>South</td>\n",
       "      <td>S2</td>\n",
       "      <td>970</td>\n",
       "      <td>990</td>\n",
       "      <td>3</td>\n",
       "      <td>2023-Q2</td>\n",
       "    </tr>\n",
       "    <tr>\n",
       "      <th>7</th>\n",
       "      <td>West</td>\n",
       "      <td>W1</td>\n",
       "      <td>1800</td>\n",
       "      <td>1850</td>\n",
       "      <td>4</td>\n",
       "      <td>2023-Q1</td>\n",
       "    </tr>\n",
       "    <tr>\n",
       "      <th>8</th>\n",
       "      <td>West</td>\n",
       "      <td>W2</td>\n",
       "      <td>1750</td>\n",
       "      <td>1800</td>\n",
       "      <td>3</td>\n",
       "      <td>2023-Q2</td>\n",
       "    </tr>\n",
       "    <tr>\n",
       "      <th>9</th>\n",
       "      <td>West</td>\n",
       "      <td>W3</td>\n",
       "      <td>1690</td>\n",
       "      <td>1700</td>\n",
       "      <td>2</td>\n",
       "      <td>2023-Q2</td>\n",
       "    </tr>\n",
       "  </tbody>\n",
       "</table>\n",
       "</div>"
      ],
      "text/plain": [
       "  Region Substation  Energy_Consumed_MWh  Energy_Supplied_MWh  Outage_Hours Billing_Cycle\n",
       "0  North         N1                 1200                 1250             2       2023-Q1\n",
       "1  North         N2                 1400                 1450             3       2023-Q1\n",
       "2   East         E1                 1100                 1150             1       2023-Q1\n",
       "3   East         E2                 1000                 1080             0       2023-Q1\n",
       "4   East         E3                 1050                 1100             1       2023-Q2\n",
       "5  South         S1                  950                 1000             2       2023-Q2\n",
       "6  South         S2                  970                  990             3       2023-Q2\n",
       "7   West         W1                 1800                 1850             4       2023-Q1\n",
       "8   West         W2                 1750                 1800             3       2023-Q2\n",
       "9   West         W3                 1690                 1700             2       2023-Q2"
      ]
     },
     "execution_count": 31,
     "metadata": {},
     "output_type": "execute_result"
    }
   ],
   "source": [
    "df"
   ]
  },
  {
   "cell_type": "code",
   "execution_count": 34,
   "id": "c7b003b3-db4d-45b2-80a7-ad1e9eb56277",
   "metadata": {},
   "outputs": [
    {
     "data": {
      "text/plain": [
       "Region                 0\n",
       "Substation             0\n",
       "Energy_Consumed_MWh    0\n",
       "Energy_Supplied_MWh    0\n",
       "Outage_Hours           0\n",
       "Billing_Cycle          0\n",
       "dtype: int64"
      ]
     },
     "execution_count": 34,
     "metadata": {},
     "output_type": "execute_result"
    }
   ],
   "source": [
    "df.isnull().sum()"
   ]
  },
  {
   "cell_type": "code",
   "execution_count": 35,
   "id": "f47feab1-6834-456b-9950-fe3457c75e9b",
   "metadata": {},
   "outputs": [
    {
     "name": "stdout",
     "output_type": "stream",
     "text": [
      "<class 'pandas.core.frame.DataFrame'>\n",
      "RangeIndex: 10 entries, 0 to 9\n",
      "Data columns (total 6 columns):\n",
      " #   Column               Non-Null Count  Dtype \n",
      "---  ------               --------------  ----- \n",
      " 0   Region               10 non-null     object\n",
      " 1   Substation           10 non-null     object\n",
      " 2   Energy_Consumed_MWh  10 non-null     int64 \n",
      " 3   Energy_Supplied_MWh  10 non-null     int64 \n",
      " 4   Outage_Hours         10 non-null     int64 \n",
      " 5   Billing_Cycle        10 non-null     object\n",
      "dtypes: int64(3), object(3)\n",
      "memory usage: 612.0+ bytes\n"
     ]
    }
   ],
   "source": [
    "df.info()"
   ]
  },
  {
   "cell_type": "markdown",
   "id": "cc6d6cf7-32cd-47b3-9da3-6dd81acf39b9",
   "metadata": {},
   "source": [
    "## 1. Total Energy Consumption per Region"
   ]
  },
  {
   "cell_type": "code",
   "execution_count": 37,
   "id": "b859b86c-c646-48e5-91f4-3f9d1ade746d",
   "metadata": {},
   "outputs": [
    {
     "data": {
      "text/plain": [
       "Region\n",
       "East     3150\n",
       "North    2600\n",
       "South    1920\n",
       "West     5240\n",
       "Name: Energy_Consumed_MWh, dtype: int64"
      ]
     },
     "execution_count": 37,
     "metadata": {},
     "output_type": "execute_result"
    }
   ],
   "source": [
    "# Group by Region and calculate total Energy_Consumed_MWh.\n",
    "df.groupby('Region')['Energy_Consumed_MWh'].sum()"
   ]
  },
  {
   "cell_type": "markdown",
   "id": "c8605656-0d52-4b73-b489-6821eabf15f6",
   "metadata": {},
   "source": [
    "## 2. Max and Min Outage per Region"
   ]
  },
  {
   "cell_type": "code",
   "execution_count": 38,
   "id": "439d75dd-5278-4dc2-933d-89747ccaa089",
   "metadata": {},
   "outputs": [
    {
     "data": {
      "text/html": [
       "<div>\n",
       "<style scoped>\n",
       "    .dataframe tbody tr th:only-of-type {\n",
       "        vertical-align: middle;\n",
       "    }\n",
       "\n",
       "    .dataframe tbody tr th {\n",
       "        vertical-align: top;\n",
       "    }\n",
       "\n",
       "    .dataframe thead th {\n",
       "        text-align: right;\n",
       "    }\n",
       "</style>\n",
       "<table border=\"1\" class=\"dataframe\">\n",
       "  <thead>\n",
       "    <tr style=\"text-align: right;\">\n",
       "      <th></th>\n",
       "      <th>max</th>\n",
       "      <th>min</th>\n",
       "    </tr>\n",
       "    <tr>\n",
       "      <th>Region</th>\n",
       "      <th></th>\n",
       "      <th></th>\n",
       "    </tr>\n",
       "  </thead>\n",
       "  <tbody>\n",
       "    <tr>\n",
       "      <th>East</th>\n",
       "      <td>1</td>\n",
       "      <td>0</td>\n",
       "    </tr>\n",
       "    <tr>\n",
       "      <th>North</th>\n",
       "      <td>3</td>\n",
       "      <td>2</td>\n",
       "    </tr>\n",
       "    <tr>\n",
       "      <th>South</th>\n",
       "      <td>3</td>\n",
       "      <td>2</td>\n",
       "    </tr>\n",
       "    <tr>\n",
       "      <th>West</th>\n",
       "      <td>4</td>\n",
       "      <td>2</td>\n",
       "    </tr>\n",
       "  </tbody>\n",
       "</table>\n",
       "</div>"
      ],
      "text/plain": [
       "        max  min\n",
       "Region          \n",
       "East      1    0\n",
       "North     3    2\n",
       "South     3    2\n",
       "West      4    2"
      ]
     },
     "execution_count": 38,
     "metadata": {},
     "output_type": "execute_result"
    }
   ],
   "source": [
    "# Group by Region and get the maximum and minimum Outage_Hours.\n",
    "df.groupby('Region')['Outage_Hours'].agg(['max', 'min'])"
   ]
  },
  {
   "cell_type": "markdown",
   "id": "20d814bc-daf3-419d-bcc7-681225c3d8a7",
   "metadata": {},
   "source": [
    "## 3. Average Loss % per Region"
   ]
  },
  {
   "cell_type": "code",
   "execution_count": 39,
   "id": "8ec521ef-0379-45ce-9d3e-dfa4fa6c77f2",
   "metadata": {},
   "outputs": [],
   "source": [
    "# function to calculate loss in percentage \n",
    "def compute_loss_percent(group):\n",
    "    loss = group['Energy_Supplied_MWh'].sum() - group['Energy_Consumed_MWh'].sum()\n",
    "    return (loss / group['Energy_Supplied_MWh'].sum()) * 100\n"
   ]
  },
  {
   "cell_type": "code",
   "execution_count": 40,
   "id": "b87c99d6-a6a7-4288-8fb6-8c50b808f9d7",
   "metadata": {},
   "outputs": [
    {
     "name": "stderr",
     "output_type": "stream",
     "text": [
      "C:\\Users\\AjayGangwani\\AppData\\Local\\Temp\\ipykernel_3012\\852789910.py:1: DeprecationWarning: DataFrameGroupBy.apply operated on the grouping columns. This behavior is deprecated, and in a future version of pandas the grouping columns will be excluded from the operation. Either pass `include_groups=False` to exclude the groupings or explicitly select the grouping columns after groupby to silence this warning.\n",
      "  df.groupby('Region').apply(compute_loss_percent).round(2).rename(\"Loss_Percent (%)\")\n"
     ]
    },
    {
     "data": {
      "text/plain": [
       "Region\n",
       "East     5.41\n",
       "North    3.70\n",
       "South    3.52\n",
       "West     2.06\n",
       "Name: Loss_Percent (%), dtype: float64"
      ]
     },
     "execution_count": 40,
     "metadata": {},
     "output_type": "execute_result"
    }
   ],
   "source": [
    "df.groupby('Region').apply(compute_loss_percent).round(2).rename(\"Loss_Percent (%)\")"
   ]
  },
  {
   "cell_type": "markdown",
   "id": "18ccde41-81a8-4bdf-bc3f-013e0551f30d",
   "metadata": {},
   "source": [
    "## 4: Normalize Energy Consumption within Region"
   ]
  },
  {
   "cell_type": "code",
   "execution_count": 41,
   "id": "37968c60-9f1d-4b8a-8280-66eb82cb7ec1",
   "metadata": {},
   "outputs": [],
   "source": [
    "df['Normalized_Consumption'] = df.groupby('Region')['Energy_Consumed_MWh'].transform(lambda x: (x - x.mean()) / x.std())"
   ]
  },
  {
   "cell_type": "code",
   "execution_count": 42,
   "id": "186fdd10-6063-4d23-93fc-12112c6a1cbf",
   "metadata": {},
   "outputs": [
    {
     "data": {
      "text/html": [
       "<div>\n",
       "<style scoped>\n",
       "    .dataframe tbody tr th:only-of-type {\n",
       "        vertical-align: middle;\n",
       "    }\n",
       "\n",
       "    .dataframe tbody tr th {\n",
       "        vertical-align: top;\n",
       "    }\n",
       "\n",
       "    .dataframe thead th {\n",
       "        text-align: right;\n",
       "    }\n",
       "</style>\n",
       "<table border=\"1\" class=\"dataframe\">\n",
       "  <thead>\n",
       "    <tr style=\"text-align: right;\">\n",
       "      <th></th>\n",
       "      <th>Region</th>\n",
       "      <th>Substation</th>\n",
       "      <th>Energy_Consumed_MWh</th>\n",
       "      <th>Energy_Supplied_MWh</th>\n",
       "      <th>Outage_Hours</th>\n",
       "      <th>Billing_Cycle</th>\n",
       "      <th>Normalized_Consumption</th>\n",
       "    </tr>\n",
       "  </thead>\n",
       "  <tbody>\n",
       "    <tr>\n",
       "      <th>0</th>\n",
       "      <td>North</td>\n",
       "      <td>N1</td>\n",
       "      <td>1200</td>\n",
       "      <td>1250</td>\n",
       "      <td>2</td>\n",
       "      <td>2023-Q1</td>\n",
       "      <td>-0.707107</td>\n",
       "    </tr>\n",
       "    <tr>\n",
       "      <th>1</th>\n",
       "      <td>North</td>\n",
       "      <td>N2</td>\n",
       "      <td>1400</td>\n",
       "      <td>1450</td>\n",
       "      <td>3</td>\n",
       "      <td>2023-Q1</td>\n",
       "      <td>0.707107</td>\n",
       "    </tr>\n",
       "    <tr>\n",
       "      <th>2</th>\n",
       "      <td>East</td>\n",
       "      <td>E1</td>\n",
       "      <td>1100</td>\n",
       "      <td>1150</td>\n",
       "      <td>1</td>\n",
       "      <td>2023-Q1</td>\n",
       "      <td>1.000000</td>\n",
       "    </tr>\n",
       "    <tr>\n",
       "      <th>3</th>\n",
       "      <td>East</td>\n",
       "      <td>E2</td>\n",
       "      <td>1000</td>\n",
       "      <td>1080</td>\n",
       "      <td>0</td>\n",
       "      <td>2023-Q1</td>\n",
       "      <td>-1.000000</td>\n",
       "    </tr>\n",
       "    <tr>\n",
       "      <th>4</th>\n",
       "      <td>East</td>\n",
       "      <td>E3</td>\n",
       "      <td>1050</td>\n",
       "      <td>1100</td>\n",
       "      <td>1</td>\n",
       "      <td>2023-Q2</td>\n",
       "      <td>0.000000</td>\n",
       "    </tr>\n",
       "    <tr>\n",
       "      <th>5</th>\n",
       "      <td>South</td>\n",
       "      <td>S1</td>\n",
       "      <td>950</td>\n",
       "      <td>1000</td>\n",
       "      <td>2</td>\n",
       "      <td>2023-Q2</td>\n",
       "      <td>-0.707107</td>\n",
       "    </tr>\n",
       "    <tr>\n",
       "      <th>6</th>\n",
       "      <td>South</td>\n",
       "      <td>S2</td>\n",
       "      <td>970</td>\n",
       "      <td>990</td>\n",
       "      <td>3</td>\n",
       "      <td>2023-Q2</td>\n",
       "      <td>0.707107</td>\n",
       "    </tr>\n",
       "    <tr>\n",
       "      <th>7</th>\n",
       "      <td>West</td>\n",
       "      <td>W1</td>\n",
       "      <td>1800</td>\n",
       "      <td>1850</td>\n",
       "      <td>4</td>\n",
       "      <td>2023-Q1</td>\n",
       "      <td>0.968364</td>\n",
       "    </tr>\n",
       "    <tr>\n",
       "      <th>8</th>\n",
       "      <td>West</td>\n",
       "      <td>W2</td>\n",
       "      <td>1750</td>\n",
       "      <td>1800</td>\n",
       "      <td>3</td>\n",
       "      <td>2023-Q2</td>\n",
       "      <td>0.060523</td>\n",
       "    </tr>\n",
       "    <tr>\n",
       "      <th>9</th>\n",
       "      <td>West</td>\n",
       "      <td>W3</td>\n",
       "      <td>1690</td>\n",
       "      <td>1700</td>\n",
       "      <td>2</td>\n",
       "      <td>2023-Q2</td>\n",
       "      <td>-1.028887</td>\n",
       "    </tr>\n",
       "  </tbody>\n",
       "</table>\n",
       "</div>"
      ],
      "text/plain": [
       "  Region Substation  Energy_Consumed_MWh  Energy_Supplied_MWh  Outage_Hours Billing_Cycle  Normalized_Consumption\n",
       "0  North         N1                 1200                 1250             2       2023-Q1               -0.707107\n",
       "1  North         N2                 1400                 1450             3       2023-Q1                0.707107\n",
       "2   East         E1                 1100                 1150             1       2023-Q1                1.000000\n",
       "3   East         E2                 1000                 1080             0       2023-Q1               -1.000000\n",
       "4   East         E3                 1050                 1100             1       2023-Q2                0.000000\n",
       "5  South         S1                  950                 1000             2       2023-Q2               -0.707107\n",
       "6  South         S2                  970                  990             3       2023-Q2                0.707107\n",
       "7   West         W1                 1800                 1850             4       2023-Q1                0.968364\n",
       "8   West         W2                 1750                 1800             3       2023-Q2                0.060523\n",
       "9   West         W3                 1690                 1700             2       2023-Q2               -1.028887"
      ]
     },
     "execution_count": 42,
     "metadata": {},
     "output_type": "execute_result"
    }
   ],
   "source": [
    "df"
   ]
  },
  {
   "cell_type": "markdown",
   "id": "1acef42c-4802-42eb-95ca-0385be919e49",
   "metadata": {},
   "source": [
    "## 5. Regions With Average Outage > 2"
   ]
  },
  {
   "cell_type": "code",
   "execution_count": 44,
   "id": "700ec9af-f715-4f49-984c-ce304b7dcfac",
   "metadata": {},
   "outputs": [
    {
     "data": {
      "text/html": [
       "<div>\n",
       "<style scoped>\n",
       "    .dataframe tbody tr th:only-of-type {\n",
       "        vertical-align: middle;\n",
       "    }\n",
       "\n",
       "    .dataframe tbody tr th {\n",
       "        vertical-align: top;\n",
       "    }\n",
       "\n",
       "    .dataframe thead th {\n",
       "        text-align: right;\n",
       "    }\n",
       "</style>\n",
       "<table border=\"1\" class=\"dataframe\">\n",
       "  <thead>\n",
       "    <tr style=\"text-align: right;\">\n",
       "      <th></th>\n",
       "      <th>Region</th>\n",
       "      <th>Substation</th>\n",
       "      <th>Energy_Consumed_MWh</th>\n",
       "      <th>Energy_Supplied_MWh</th>\n",
       "      <th>Outage_Hours</th>\n",
       "      <th>Billing_Cycle</th>\n",
       "      <th>Normalized_Consumption</th>\n",
       "    </tr>\n",
       "  </thead>\n",
       "  <tbody>\n",
       "    <tr>\n",
       "      <th>0</th>\n",
       "      <td>North</td>\n",
       "      <td>N1</td>\n",
       "      <td>1200</td>\n",
       "      <td>1250</td>\n",
       "      <td>2</td>\n",
       "      <td>2023-Q1</td>\n",
       "      <td>-0.707107</td>\n",
       "    </tr>\n",
       "    <tr>\n",
       "      <th>1</th>\n",
       "      <td>North</td>\n",
       "      <td>N2</td>\n",
       "      <td>1400</td>\n",
       "      <td>1450</td>\n",
       "      <td>3</td>\n",
       "      <td>2023-Q1</td>\n",
       "      <td>0.707107</td>\n",
       "    </tr>\n",
       "    <tr>\n",
       "      <th>5</th>\n",
       "      <td>South</td>\n",
       "      <td>S1</td>\n",
       "      <td>950</td>\n",
       "      <td>1000</td>\n",
       "      <td>2</td>\n",
       "      <td>2023-Q2</td>\n",
       "      <td>-0.707107</td>\n",
       "    </tr>\n",
       "    <tr>\n",
       "      <th>6</th>\n",
       "      <td>South</td>\n",
       "      <td>S2</td>\n",
       "      <td>970</td>\n",
       "      <td>990</td>\n",
       "      <td>3</td>\n",
       "      <td>2023-Q2</td>\n",
       "      <td>0.707107</td>\n",
       "    </tr>\n",
       "    <tr>\n",
       "      <th>7</th>\n",
       "      <td>West</td>\n",
       "      <td>W1</td>\n",
       "      <td>1800</td>\n",
       "      <td>1850</td>\n",
       "      <td>4</td>\n",
       "      <td>2023-Q1</td>\n",
       "      <td>0.968364</td>\n",
       "    </tr>\n",
       "    <tr>\n",
       "      <th>8</th>\n",
       "      <td>West</td>\n",
       "      <td>W2</td>\n",
       "      <td>1750</td>\n",
       "      <td>1800</td>\n",
       "      <td>3</td>\n",
       "      <td>2023-Q2</td>\n",
       "      <td>0.060523</td>\n",
       "    </tr>\n",
       "    <tr>\n",
       "      <th>9</th>\n",
       "      <td>West</td>\n",
       "      <td>W3</td>\n",
       "      <td>1690</td>\n",
       "      <td>1700</td>\n",
       "      <td>2</td>\n",
       "      <td>2023-Q2</td>\n",
       "      <td>-1.028887</td>\n",
       "    </tr>\n",
       "  </tbody>\n",
       "</table>\n",
       "</div>"
      ],
      "text/plain": [
       "  Region Substation  Energy_Consumed_MWh  Energy_Supplied_MWh  Outage_Hours Billing_Cycle  Normalized_Consumption\n",
       "0  North         N1                 1200                 1250             2       2023-Q1               -0.707107\n",
       "1  North         N2                 1400                 1450             3       2023-Q1                0.707107\n",
       "5  South         S1                  950                 1000             2       2023-Q2               -0.707107\n",
       "6  South         S2                  970                  990             3       2023-Q2                0.707107\n",
       "7   West         W1                 1800                 1850             4       2023-Q1                0.968364\n",
       "8   West         W2                 1750                 1800             3       2023-Q2                0.060523\n",
       "9   West         W3                 1690                 1700             2       2023-Q2               -1.028887"
      ]
     },
     "execution_count": 44,
     "metadata": {},
     "output_type": "execute_result"
    }
   ],
   "source": [
    "# calculate avg outage\n",
    "avg_outages = df.groupby('Region')['Outage_Hours'].mean()\n",
    "#get region with highoutage get it intolist \n",
    "regions_with_high_outages = avg_outages[avg_outages > 2].index.tolist()\n",
    "#filter using isin\n",
    "df[df['Region'].isin(regions_with_high_outages)]"
   ]
  },
  {
   "cell_type": "markdown",
   "id": "572ca0f9-1d8e-4e23-a37c-2dce17017916",
   "metadata": {},
   "source": [
    "## 6. Most Efficient Substation"
   ]
  },
  {
   "cell_type": "code",
   "execution_count": 45,
   "id": "fcc3d30b-38a6-4320-bbaf-e05055d98eb8",
   "metadata": {},
   "outputs": [
    {
     "data": {
      "text/html": [
       "<div>\n",
       "<style scoped>\n",
       "    .dataframe tbody tr th:only-of-type {\n",
       "        vertical-align: middle;\n",
       "    }\n",
       "\n",
       "    .dataframe tbody tr th {\n",
       "        vertical-align: top;\n",
       "    }\n",
       "\n",
       "    .dataframe thead th {\n",
       "        text-align: right;\n",
       "    }\n",
       "</style>\n",
       "<table border=\"1\" class=\"dataframe\">\n",
       "  <thead>\n",
       "    <tr style=\"text-align: right;\">\n",
       "      <th></th>\n",
       "      <th>Region</th>\n",
       "      <th>Substation</th>\n",
       "      <th>Energy_Consumed_MWh</th>\n",
       "      <th>Energy_Supplied_MWh</th>\n",
       "      <th>Outage_Hours</th>\n",
       "      <th>Billing_Cycle</th>\n",
       "      <th>Normalized_Consumption</th>\n",
       "      <th>Loss</th>\n",
       "    </tr>\n",
       "  </thead>\n",
       "  <tbody>\n",
       "    <tr>\n",
       "      <th>9</th>\n",
       "      <td>West</td>\n",
       "      <td>W3</td>\n",
       "      <td>1690</td>\n",
       "      <td>1700</td>\n",
       "      <td>2</td>\n",
       "      <td>2023-Q2</td>\n",
       "      <td>-1.028887</td>\n",
       "      <td>10</td>\n",
       "    </tr>\n",
       "  </tbody>\n",
       "</table>\n",
       "</div>"
      ],
      "text/plain": [
       "  Region Substation  Energy_Consumed_MWh  Energy_Supplied_MWh  Outage_Hours Billing_Cycle  Normalized_Consumption  Loss\n",
       "9   West         W3                 1690                 1700             2       2023-Q2               -1.028887    10"
      ]
     },
     "execution_count": 45,
     "metadata": {},
     "output_type": "execute_result"
    }
   ],
   "source": [
    "df['Loss'] = df['Energy_Supplied_MWh'] - df['Energy_Consumed_MWh']\n",
    "df[df['Loss'] == df['Loss'].min()]"
   ]
  },
  {
   "cell_type": "markdown",
   "id": "d9a209b1-2c20-4bec-ae60-a56d2fdad420",
   "metadata": {},
   "source": [
    "## 7. Total Supplied Energy per Billing Cycle"
   ]
  },
  {
   "cell_type": "code",
   "execution_count": 46,
   "id": "94cd1a1d-fd9f-436b-bcac-3e31f810a64d",
   "metadata": {},
   "outputs": [
    {
     "data": {
      "text/plain": [
       "Billing_Cycle\n",
       "2023-Q1    6780\n",
       "2023-Q2    6590\n",
       "Name: Energy_Supplied_MWh, dtype: int64"
      ]
     },
     "execution_count": 46,
     "metadata": {},
     "output_type": "execute_result"
    }
   ],
   "source": [
    "df.groupby('Billing_Cycle')['Energy_Supplied_MWh'].sum()"
   ]
  },
  {
   "cell_type": "markdown",
   "id": "0ca31226-18fe-4fad-93e3-3f0a52230c41",
   "metadata": {},
   "source": [
    "## 8. Multiple Aggregations per Region"
   ]
  },
  {
   "cell_type": "code",
   "execution_count": 48,
   "id": "d7ae4db0-f4fe-4de9-8856-f2d1452d10fd",
   "metadata": {},
   "outputs": [
    {
     "data": {
      "text/html": [
       "<div>\n",
       "<style scoped>\n",
       "    .dataframe tbody tr th:only-of-type {\n",
       "        vertical-align: middle;\n",
       "    }\n",
       "\n",
       "    .dataframe tbody tr th {\n",
       "        vertical-align: top;\n",
       "    }\n",
       "\n",
       "    .dataframe thead th {\n",
       "        text-align: right;\n",
       "    }\n",
       "</style>\n",
       "<table border=\"1\" class=\"dataframe\">\n",
       "  <thead>\n",
       "    <tr style=\"text-align: right;\">\n",
       "      <th></th>\n",
       "      <th>Energy_Consumed_MWh</th>\n",
       "      <th>Energy_Supplied_MWh</th>\n",
       "      <th>Outage_Hours</th>\n",
       "    </tr>\n",
       "    <tr>\n",
       "      <th>Region</th>\n",
       "      <th></th>\n",
       "      <th></th>\n",
       "      <th></th>\n",
       "    </tr>\n",
       "  </thead>\n",
       "  <tbody>\n",
       "    <tr>\n",
       "      <th>East</th>\n",
       "      <td>1050.000000</td>\n",
       "      <td>1150</td>\n",
       "      <td>2</td>\n",
       "    </tr>\n",
       "    <tr>\n",
       "      <th>North</th>\n",
       "      <td>1300.000000</td>\n",
       "      <td>1450</td>\n",
       "      <td>5</td>\n",
       "    </tr>\n",
       "    <tr>\n",
       "      <th>South</th>\n",
       "      <td>960.000000</td>\n",
       "      <td>1000</td>\n",
       "      <td>5</td>\n",
       "    </tr>\n",
       "    <tr>\n",
       "      <th>West</th>\n",
       "      <td>1746.666667</td>\n",
       "      <td>1850</td>\n",
       "      <td>9</td>\n",
       "    </tr>\n",
       "  </tbody>\n",
       "</table>\n",
       "</div>"
      ],
      "text/plain": [
       "        Energy_Consumed_MWh  Energy_Supplied_MWh  Outage_Hours\n",
       "Region                                                        \n",
       "East            1050.000000                 1150             2\n",
       "North           1300.000000                 1450             5\n",
       "South            960.000000                 1000             5\n",
       "West            1746.666667                 1850             9"
      ]
     },
     "execution_count": 48,
     "metadata": {},
     "output_type": "execute_result"
    }
   ],
   "source": [
    "df.groupby('Region').agg({\n",
    "    'Energy_Consumed_MWh': 'mean',\n",
    "    'Energy_Supplied_MWh': 'max',\n",
    "    'Outage_Hours': 'sum'\n",
    "})"
   ]
  },
  {
   "cell_type": "markdown",
   "id": "2cd2b92e-f076-4454-98e9-86701f3d2a8f",
   "metadata": {},
   "source": [
    "## 9. Outage Severity Flag + Count"
   ]
  },
  {
   "cell_type": "code",
   "execution_count": 52,
   "id": "c39a86ab-58eb-4aa0-ba68-d802372aa3cd",
   "metadata": {},
   "outputs": [
    {
     "data": {
      "text/plain": [
       "Region\n",
       "East     0\n",
       "North    1\n",
       "South    1\n",
       "West     2\n",
       "Name: Severe_Outage, dtype: int64"
      ]
     },
     "execution_count": 52,
     "metadata": {},
     "output_type": "execute_result"
    }
   ],
   "source": [
    "df['Severe_Outage'] = df['Outage_Hours'] >= 3\n",
    "df.groupby('Region')['Severe_Outage'].sum()"
   ]
  },
  {
   "cell_type": "code",
   "execution_count": 53,
   "id": "572f0212-89ea-4649-91d2-e76a9c635da1",
   "metadata": {},
   "outputs": [
    {
     "data": {
      "text/html": [
       "<div>\n",
       "<style scoped>\n",
       "    .dataframe tbody tr th:only-of-type {\n",
       "        vertical-align: middle;\n",
       "    }\n",
       "\n",
       "    .dataframe tbody tr th {\n",
       "        vertical-align: top;\n",
       "    }\n",
       "\n",
       "    .dataframe thead th {\n",
       "        text-align: right;\n",
       "    }\n",
       "</style>\n",
       "<table border=\"1\" class=\"dataframe\">\n",
       "  <thead>\n",
       "    <tr style=\"text-align: right;\">\n",
       "      <th></th>\n",
       "      <th>Region</th>\n",
       "      <th>Substation</th>\n",
       "      <th>Energy_Consumed_MWh</th>\n",
       "      <th>Energy_Supplied_MWh</th>\n",
       "      <th>Outage_Hours</th>\n",
       "      <th>Billing_Cycle</th>\n",
       "      <th>Normalized_Consumption</th>\n",
       "      <th>Loss</th>\n",
       "      <th>Severe_Outage</th>\n",
       "    </tr>\n",
       "  </thead>\n",
       "  <tbody>\n",
       "    <tr>\n",
       "      <th>0</th>\n",
       "      <td>North</td>\n",
       "      <td>N1</td>\n",
       "      <td>1200</td>\n",
       "      <td>1250</td>\n",
       "      <td>2</td>\n",
       "      <td>2023-Q1</td>\n",
       "      <td>-0.707107</td>\n",
       "      <td>50</td>\n",
       "      <td>False</td>\n",
       "    </tr>\n",
       "    <tr>\n",
       "      <th>1</th>\n",
       "      <td>North</td>\n",
       "      <td>N2</td>\n",
       "      <td>1400</td>\n",
       "      <td>1450</td>\n",
       "      <td>3</td>\n",
       "      <td>2023-Q1</td>\n",
       "      <td>0.707107</td>\n",
       "      <td>50</td>\n",
       "      <td>True</td>\n",
       "    </tr>\n",
       "    <tr>\n",
       "      <th>2</th>\n",
       "      <td>East</td>\n",
       "      <td>E1</td>\n",
       "      <td>1100</td>\n",
       "      <td>1150</td>\n",
       "      <td>1</td>\n",
       "      <td>2023-Q1</td>\n",
       "      <td>1.000000</td>\n",
       "      <td>50</td>\n",
       "      <td>False</td>\n",
       "    </tr>\n",
       "    <tr>\n",
       "      <th>3</th>\n",
       "      <td>East</td>\n",
       "      <td>E2</td>\n",
       "      <td>1000</td>\n",
       "      <td>1080</td>\n",
       "      <td>0</td>\n",
       "      <td>2023-Q1</td>\n",
       "      <td>-1.000000</td>\n",
       "      <td>80</td>\n",
       "      <td>False</td>\n",
       "    </tr>\n",
       "    <tr>\n",
       "      <th>4</th>\n",
       "      <td>East</td>\n",
       "      <td>E3</td>\n",
       "      <td>1050</td>\n",
       "      <td>1100</td>\n",
       "      <td>1</td>\n",
       "      <td>2023-Q2</td>\n",
       "      <td>0.000000</td>\n",
       "      <td>50</td>\n",
       "      <td>False</td>\n",
       "    </tr>\n",
       "    <tr>\n",
       "      <th>5</th>\n",
       "      <td>South</td>\n",
       "      <td>S1</td>\n",
       "      <td>950</td>\n",
       "      <td>1000</td>\n",
       "      <td>2</td>\n",
       "      <td>2023-Q2</td>\n",
       "      <td>-0.707107</td>\n",
       "      <td>50</td>\n",
       "      <td>False</td>\n",
       "    </tr>\n",
       "    <tr>\n",
       "      <th>6</th>\n",
       "      <td>South</td>\n",
       "      <td>S2</td>\n",
       "      <td>970</td>\n",
       "      <td>990</td>\n",
       "      <td>3</td>\n",
       "      <td>2023-Q2</td>\n",
       "      <td>0.707107</td>\n",
       "      <td>20</td>\n",
       "      <td>True</td>\n",
       "    </tr>\n",
       "    <tr>\n",
       "      <th>7</th>\n",
       "      <td>West</td>\n",
       "      <td>W1</td>\n",
       "      <td>1800</td>\n",
       "      <td>1850</td>\n",
       "      <td>4</td>\n",
       "      <td>2023-Q1</td>\n",
       "      <td>0.968364</td>\n",
       "      <td>50</td>\n",
       "      <td>True</td>\n",
       "    </tr>\n",
       "    <tr>\n",
       "      <th>8</th>\n",
       "      <td>West</td>\n",
       "      <td>W2</td>\n",
       "      <td>1750</td>\n",
       "      <td>1800</td>\n",
       "      <td>3</td>\n",
       "      <td>2023-Q2</td>\n",
       "      <td>0.060523</td>\n",
       "      <td>50</td>\n",
       "      <td>True</td>\n",
       "    </tr>\n",
       "    <tr>\n",
       "      <th>9</th>\n",
       "      <td>West</td>\n",
       "      <td>W3</td>\n",
       "      <td>1690</td>\n",
       "      <td>1700</td>\n",
       "      <td>2</td>\n",
       "      <td>2023-Q2</td>\n",
       "      <td>-1.028887</td>\n",
       "      <td>10</td>\n",
       "      <td>False</td>\n",
       "    </tr>\n",
       "  </tbody>\n",
       "</table>\n",
       "</div>"
      ],
      "text/plain": [
       "  Region Substation  Energy_Consumed_MWh  ...  Normalized_Consumption  Loss Severe_Outage\n",
       "0  North         N1                 1200  ...               -0.707107    50         False\n",
       "1  North         N2                 1400  ...                0.707107    50          True\n",
       "2   East         E1                 1100  ...                1.000000    50         False\n",
       "3   East         E2                 1000  ...               -1.000000    80         False\n",
       "4   East         E3                 1050  ...                0.000000    50         False\n",
       "5  South         S1                  950  ...               -0.707107    50         False\n",
       "6  South         S2                  970  ...                0.707107    20          True\n",
       "7   West         W1                 1800  ...                0.968364    50          True\n",
       "8   West         W2                 1750  ...                0.060523    50          True\n",
       "9   West         W3                 1690  ...               -1.028887    10         False\n",
       "\n",
       "[10 rows x 9 columns]"
      ]
     },
     "execution_count": 53,
     "metadata": {},
     "output_type": "execute_result"
    }
   ],
   "source": [
    "df"
   ]
  },
  {
   "cell_type": "markdown",
   "id": "e2632ac0-afd0-4e95-b695-072a423814d4",
   "metadata": {},
   "source": [
    "## 10 Pivot Table of Average Consumption"
   ]
  },
  {
   "cell_type": "code",
   "execution_count": 54,
   "id": "04c4fe3f-6e5e-41aa-9b04-3973da55ba2d",
   "metadata": {},
   "outputs": [
    {
     "data": {
      "text/html": [
       "<div>\n",
       "<style scoped>\n",
       "    .dataframe tbody tr th:only-of-type {\n",
       "        vertical-align: middle;\n",
       "    }\n",
       "\n",
       "    .dataframe tbody tr th {\n",
       "        vertical-align: top;\n",
       "    }\n",
       "\n",
       "    .dataframe thead th {\n",
       "        text-align: right;\n",
       "    }\n",
       "</style>\n",
       "<table border=\"1\" class=\"dataframe\">\n",
       "  <thead>\n",
       "    <tr style=\"text-align: right;\">\n",
       "      <th>Billing_Cycle</th>\n",
       "      <th>2023-Q1</th>\n",
       "      <th>2023-Q2</th>\n",
       "    </tr>\n",
       "    <tr>\n",
       "      <th>Region</th>\n",
       "      <th></th>\n",
       "      <th></th>\n",
       "    </tr>\n",
       "  </thead>\n",
       "  <tbody>\n",
       "    <tr>\n",
       "      <th>East</th>\n",
       "      <td>1050.0</td>\n",
       "      <td>1050.0</td>\n",
       "    </tr>\n",
       "    <tr>\n",
       "      <th>North</th>\n",
       "      <td>1300.0</td>\n",
       "      <td>NaN</td>\n",
       "    </tr>\n",
       "    <tr>\n",
       "      <th>South</th>\n",
       "      <td>NaN</td>\n",
       "      <td>960.0</td>\n",
       "    </tr>\n",
       "    <tr>\n",
       "      <th>West</th>\n",
       "      <td>1800.0</td>\n",
       "      <td>1720.0</td>\n",
       "    </tr>\n",
       "  </tbody>\n",
       "</table>\n",
       "</div>"
      ],
      "text/plain": [
       "Billing_Cycle  2023-Q1  2023-Q2\n",
       "Region                         \n",
       "East            1050.0   1050.0\n",
       "North           1300.0      NaN\n",
       "South              NaN    960.0\n",
       "West            1800.0   1720.0"
      ]
     },
     "execution_count": 54,
     "metadata": {},
     "output_type": "execute_result"
    }
   ],
   "source": [
    "pivot_df=pd.pivot_table(df, values='Energy_Consumed_MWh', \n",
    "               index='Region', columns='Billing_Cycle', aggfunc='mean')\n",
    "\n",
    "pivot_df"
   ]
  },
  {
   "cell_type": "markdown",
   "id": "1c60164b-832b-4606-be92-6eae8ec8a33e",
   "metadata": {},
   "source": [
    "# Rolling Mean"
   ]
  },
  {
   "cell_type": "code",
   "execution_count": 55,
   "id": "b5c564c6-641f-4f51-9be2-3c82ea745f87",
   "metadata": {},
   "outputs": [],
   "source": [
    "# calculate Rolling mean \n",
    "df = pd.DataFrame({'value': [10, 20, 30, 40, 50]})"
   ]
  },
  {
   "cell_type": "code",
   "execution_count": 56,
   "id": "254a3fe3-c259-4b76-a301-8d70738a6b0a",
   "metadata": {},
   "outputs": [
    {
     "data": {
      "text/html": [
       "<div>\n",
       "<style scoped>\n",
       "    .dataframe tbody tr th:only-of-type {\n",
       "        vertical-align: middle;\n",
       "    }\n",
       "\n",
       "    .dataframe tbody tr th {\n",
       "        vertical-align: top;\n",
       "    }\n",
       "\n",
       "    .dataframe thead th {\n",
       "        text-align: right;\n",
       "    }\n",
       "</style>\n",
       "<table border=\"1\" class=\"dataframe\">\n",
       "  <thead>\n",
       "    <tr style=\"text-align: right;\">\n",
       "      <th></th>\n",
       "      <th>value</th>\n",
       "    </tr>\n",
       "  </thead>\n",
       "  <tbody>\n",
       "    <tr>\n",
       "      <th>0</th>\n",
       "      <td>10</td>\n",
       "    </tr>\n",
       "    <tr>\n",
       "      <th>1</th>\n",
       "      <td>20</td>\n",
       "    </tr>\n",
       "    <tr>\n",
       "      <th>2</th>\n",
       "      <td>30</td>\n",
       "    </tr>\n",
       "    <tr>\n",
       "      <th>3</th>\n",
       "      <td>40</td>\n",
       "    </tr>\n",
       "    <tr>\n",
       "      <th>4</th>\n",
       "      <td>50</td>\n",
       "    </tr>\n",
       "  </tbody>\n",
       "</table>\n",
       "</div>"
      ],
      "text/plain": [
       "   value\n",
       "0     10\n",
       "1     20\n",
       "2     30\n",
       "3     40\n",
       "4     50"
      ]
     },
     "execution_count": 56,
     "metadata": {},
     "output_type": "execute_result"
    }
   ],
   "source": [
    "df"
   ]
  },
  {
   "cell_type": "code",
   "execution_count": 57,
   "id": "fc4c4ed7-7576-4f4c-ad94-562e87b21b0a",
   "metadata": {},
   "outputs": [],
   "source": [
    "df['rolling_mean'] = df['value'].rolling(window=3).mean()"
   ]
  },
  {
   "cell_type": "code",
   "execution_count": 58,
   "id": "72312ec7-daeb-450a-9f72-1a9a7573959e",
   "metadata": {},
   "outputs": [
    {
     "data": {
      "text/html": [
       "<div>\n",
       "<style scoped>\n",
       "    .dataframe tbody tr th:only-of-type {\n",
       "        vertical-align: middle;\n",
       "    }\n",
       "\n",
       "    .dataframe tbody tr th {\n",
       "        vertical-align: top;\n",
       "    }\n",
       "\n",
       "    .dataframe thead th {\n",
       "        text-align: right;\n",
       "    }\n",
       "</style>\n",
       "<table border=\"1\" class=\"dataframe\">\n",
       "  <thead>\n",
       "    <tr style=\"text-align: right;\">\n",
       "      <th></th>\n",
       "      <th>value</th>\n",
       "      <th>rolling_mean</th>\n",
       "    </tr>\n",
       "  </thead>\n",
       "  <tbody>\n",
       "    <tr>\n",
       "      <th>0</th>\n",
       "      <td>10</td>\n",
       "      <td>NaN</td>\n",
       "    </tr>\n",
       "    <tr>\n",
       "      <th>1</th>\n",
       "      <td>20</td>\n",
       "      <td>NaN</td>\n",
       "    </tr>\n",
       "    <tr>\n",
       "      <th>2</th>\n",
       "      <td>30</td>\n",
       "      <td>20.0</td>\n",
       "    </tr>\n",
       "    <tr>\n",
       "      <th>3</th>\n",
       "      <td>40</td>\n",
       "      <td>30.0</td>\n",
       "    </tr>\n",
       "    <tr>\n",
       "      <th>4</th>\n",
       "      <td>50</td>\n",
       "      <td>40.0</td>\n",
       "    </tr>\n",
       "  </tbody>\n",
       "</table>\n",
       "</div>"
      ],
      "text/plain": [
       "   value  rolling_mean\n",
       "0     10           NaN\n",
       "1     20           NaN\n",
       "2     30          20.0\n",
       "3     40          30.0\n",
       "4     50          40.0"
      ]
     },
     "execution_count": 58,
     "metadata": {},
     "output_type": "execute_result"
    }
   ],
   "source": [
    "df"
   ]
  },
  {
   "cell_type": "code",
   "execution_count": 59,
   "id": "123cf88c-cbe0-4c1a-ae35-7f208a84d292",
   "metadata": {},
   "outputs": [],
   "source": [
    "#Rolling with min_periods\n",
    "df['rolling_mean_min1'] = df['value'].rolling(window=3, min_periods=1).mean()\n",
    "# Useful when you want early values instead of NaN."
   ]
  },
  {
   "cell_type": "code",
   "execution_count": 60,
   "id": "d3abc18d-15ba-42c5-997f-463a73edbf88",
   "metadata": {},
   "outputs": [
    {
     "data": {
      "text/html": [
       "<div>\n",
       "<style scoped>\n",
       "    .dataframe tbody tr th:only-of-type {\n",
       "        vertical-align: middle;\n",
       "    }\n",
       "\n",
       "    .dataframe tbody tr th {\n",
       "        vertical-align: top;\n",
       "    }\n",
       "\n",
       "    .dataframe thead th {\n",
       "        text-align: right;\n",
       "    }\n",
       "</style>\n",
       "<table border=\"1\" class=\"dataframe\">\n",
       "  <thead>\n",
       "    <tr style=\"text-align: right;\">\n",
       "      <th></th>\n",
       "      <th>value</th>\n",
       "      <th>rolling_mean</th>\n",
       "      <th>rolling_mean_min1</th>\n",
       "    </tr>\n",
       "  </thead>\n",
       "  <tbody>\n",
       "    <tr>\n",
       "      <th>0</th>\n",
       "      <td>10</td>\n",
       "      <td>NaN</td>\n",
       "      <td>10.0</td>\n",
       "    </tr>\n",
       "    <tr>\n",
       "      <th>1</th>\n",
       "      <td>20</td>\n",
       "      <td>NaN</td>\n",
       "      <td>15.0</td>\n",
       "    </tr>\n",
       "    <tr>\n",
       "      <th>2</th>\n",
       "      <td>30</td>\n",
       "      <td>20.0</td>\n",
       "      <td>20.0</td>\n",
       "    </tr>\n",
       "    <tr>\n",
       "      <th>3</th>\n",
       "      <td>40</td>\n",
       "      <td>30.0</td>\n",
       "      <td>30.0</td>\n",
       "    </tr>\n",
       "    <tr>\n",
       "      <th>4</th>\n",
       "      <td>50</td>\n",
       "      <td>40.0</td>\n",
       "      <td>40.0</td>\n",
       "    </tr>\n",
       "  </tbody>\n",
       "</table>\n",
       "</div>"
      ],
      "text/plain": [
       "   value  rolling_mean  rolling_mean_min1\n",
       "0     10           NaN               10.0\n",
       "1     20           NaN               15.0\n",
       "2     30          20.0               20.0\n",
       "3     40          30.0               30.0\n",
       "4     50          40.0               40.0"
      ]
     },
     "execution_count": 60,
     "metadata": {},
     "output_type": "execute_result"
    }
   ],
   "source": [
    "df"
   ]
  },
  {
   "cell_type": "code",
   "execution_count": 61,
   "id": "ae0bb7c5-6523-4293-b9b1-c92635651b08",
   "metadata": {},
   "outputs": [],
   "source": [
    "#Centered Rolling Window\n",
    "df['centered_mean'] = df['value'].rolling(window=3, center=True).mean()\n",
    "# Labels the result at the center of the window.\n"
   ]
  },
  {
   "cell_type": "code",
   "execution_count": 62,
   "id": "4544648a-29a3-42d6-bfda-fa9154942fa0",
   "metadata": {},
   "outputs": [
    {
     "data": {
      "text/html": [
       "<div>\n",
       "<style scoped>\n",
       "    .dataframe tbody tr th:only-of-type {\n",
       "        vertical-align: middle;\n",
       "    }\n",
       "\n",
       "    .dataframe tbody tr th {\n",
       "        vertical-align: top;\n",
       "    }\n",
       "\n",
       "    .dataframe thead th {\n",
       "        text-align: right;\n",
       "    }\n",
       "</style>\n",
       "<table border=\"1\" class=\"dataframe\">\n",
       "  <thead>\n",
       "    <tr style=\"text-align: right;\">\n",
       "      <th></th>\n",
       "      <th>value</th>\n",
       "      <th>rolling_mean</th>\n",
       "      <th>rolling_mean_min1</th>\n",
       "      <th>centered_mean</th>\n",
       "    </tr>\n",
       "  </thead>\n",
       "  <tbody>\n",
       "    <tr>\n",
       "      <th>0</th>\n",
       "      <td>10</td>\n",
       "      <td>NaN</td>\n",
       "      <td>10.0</td>\n",
       "      <td>NaN</td>\n",
       "    </tr>\n",
       "    <tr>\n",
       "      <th>1</th>\n",
       "      <td>20</td>\n",
       "      <td>NaN</td>\n",
       "      <td>15.0</td>\n",
       "      <td>20.0</td>\n",
       "    </tr>\n",
       "    <tr>\n",
       "      <th>2</th>\n",
       "      <td>30</td>\n",
       "      <td>20.0</td>\n",
       "      <td>20.0</td>\n",
       "      <td>30.0</td>\n",
       "    </tr>\n",
       "    <tr>\n",
       "      <th>3</th>\n",
       "      <td>40</td>\n",
       "      <td>30.0</td>\n",
       "      <td>30.0</td>\n",
       "      <td>40.0</td>\n",
       "    </tr>\n",
       "    <tr>\n",
       "      <th>4</th>\n",
       "      <td>50</td>\n",
       "      <td>40.0</td>\n",
       "      <td>40.0</td>\n",
       "      <td>NaN</td>\n",
       "    </tr>\n",
       "  </tbody>\n",
       "</table>\n",
       "</div>"
      ],
      "text/plain": [
       "   value  rolling_mean  rolling_mean_min1  centered_mean\n",
       "0     10           NaN               10.0            NaN\n",
       "1     20           NaN               15.0           20.0\n",
       "2     30          20.0               20.0           30.0\n",
       "3     40          30.0               30.0           40.0\n",
       "4     50          40.0               40.0            NaN"
      ]
     },
     "execution_count": 62,
     "metadata": {},
     "output_type": "execute_result"
    }
   ],
   "source": [
    "df"
   ]
  },
  {
   "cell_type": "code",
   "execution_count": 63,
   "id": "dd20d598-f84e-4ca2-9469-42b62f194673",
   "metadata": {},
   "outputs": [],
   "source": [
    "# time based rolling window \n",
    "df = pd.DataFrame({\n",
    "    'date': pd.date_range(start='2023-01-01', periods=5, freq='D'),\n",
    "    'value': [10, 20, 30, 40, 50]\n",
    "})"
   ]
  },
  {
   "cell_type": "code",
   "execution_count": 64,
   "id": "2fe4883f-abb1-419a-b69e-48c6c4dcd7f1",
   "metadata": {},
   "outputs": [
    {
     "data": {
      "text/html": [
       "<div>\n",
       "<style scoped>\n",
       "    .dataframe tbody tr th:only-of-type {\n",
       "        vertical-align: middle;\n",
       "    }\n",
       "\n",
       "    .dataframe tbody tr th {\n",
       "        vertical-align: top;\n",
       "    }\n",
       "\n",
       "    .dataframe thead th {\n",
       "        text-align: right;\n",
       "    }\n",
       "</style>\n",
       "<table border=\"1\" class=\"dataframe\">\n",
       "  <thead>\n",
       "    <tr style=\"text-align: right;\">\n",
       "      <th></th>\n",
       "      <th>date</th>\n",
       "      <th>value</th>\n",
       "    </tr>\n",
       "  </thead>\n",
       "  <tbody>\n",
       "    <tr>\n",
       "      <th>0</th>\n",
       "      <td>2023-01-01</td>\n",
       "      <td>10</td>\n",
       "    </tr>\n",
       "    <tr>\n",
       "      <th>1</th>\n",
       "      <td>2023-01-02</td>\n",
       "      <td>20</td>\n",
       "    </tr>\n",
       "    <tr>\n",
       "      <th>2</th>\n",
       "      <td>2023-01-03</td>\n",
       "      <td>30</td>\n",
       "    </tr>\n",
       "    <tr>\n",
       "      <th>3</th>\n",
       "      <td>2023-01-04</td>\n",
       "      <td>40</td>\n",
       "    </tr>\n",
       "    <tr>\n",
       "      <th>4</th>\n",
       "      <td>2023-01-05</td>\n",
       "      <td>50</td>\n",
       "    </tr>\n",
       "  </tbody>\n",
       "</table>\n",
       "</div>"
      ],
      "text/plain": [
       "        date  value\n",
       "0 2023-01-01     10\n",
       "1 2023-01-02     20\n",
       "2 2023-01-03     30\n",
       "3 2023-01-04     40\n",
       "4 2023-01-05     50"
      ]
     },
     "execution_count": 64,
     "metadata": {},
     "output_type": "execute_result"
    }
   ],
   "source": [
    "df"
   ]
  },
  {
   "cell_type": "code",
   "execution_count": 65,
   "id": "31b8ef0d-8381-438e-8bbf-fd30df3d7967",
   "metadata": {},
   "outputs": [],
   "source": [
    "df.set_index('date', inplace=True)\n",
    "df['time_roll'] = df['value'].rolling('2D').mean()"
   ]
  },
  {
   "cell_type": "code",
   "execution_count": 66,
   "id": "689591ce-e177-4a37-8c83-d4b881e76f79",
   "metadata": {},
   "outputs": [
    {
     "data": {
      "text/html": [
       "<div>\n",
       "<style scoped>\n",
       "    .dataframe tbody tr th:only-of-type {\n",
       "        vertical-align: middle;\n",
       "    }\n",
       "\n",
       "    .dataframe tbody tr th {\n",
       "        vertical-align: top;\n",
       "    }\n",
       "\n",
       "    .dataframe thead th {\n",
       "        text-align: right;\n",
       "    }\n",
       "</style>\n",
       "<table border=\"1\" class=\"dataframe\">\n",
       "  <thead>\n",
       "    <tr style=\"text-align: right;\">\n",
       "      <th></th>\n",
       "      <th>value</th>\n",
       "      <th>time_roll</th>\n",
       "    </tr>\n",
       "    <tr>\n",
       "      <th>date</th>\n",
       "      <th></th>\n",
       "      <th></th>\n",
       "    </tr>\n",
       "  </thead>\n",
       "  <tbody>\n",
       "    <tr>\n",
       "      <th>2023-01-01</th>\n",
       "      <td>10</td>\n",
       "      <td>10.0</td>\n",
       "    </tr>\n",
       "    <tr>\n",
       "      <th>2023-01-02</th>\n",
       "      <td>20</td>\n",
       "      <td>15.0</td>\n",
       "    </tr>\n",
       "    <tr>\n",
       "      <th>2023-01-03</th>\n",
       "      <td>30</td>\n",
       "      <td>25.0</td>\n",
       "    </tr>\n",
       "    <tr>\n",
       "      <th>2023-01-04</th>\n",
       "      <td>40</td>\n",
       "      <td>35.0</td>\n",
       "    </tr>\n",
       "    <tr>\n",
       "      <th>2023-01-05</th>\n",
       "      <td>50</td>\n",
       "      <td>45.0</td>\n",
       "    </tr>\n",
       "  </tbody>\n",
       "</table>\n",
       "</div>"
      ],
      "text/plain": [
       "            value  time_roll\n",
       "date                        \n",
       "2023-01-01     10       10.0\n",
       "2023-01-02     20       15.0\n",
       "2023-01-03     30       25.0\n",
       "2023-01-04     40       35.0\n",
       "2023-01-05     50       45.0"
      ]
     },
     "execution_count": 66,
     "metadata": {},
     "output_type": "execute_result"
    }
   ],
   "source": [
    "df"
   ]
  },
  {
   "cell_type": "markdown",
   "id": "0fabde45-8eac-470f-a089-d3a5b4dbe90f",
   "metadata": {},
   "source": [
    "# Expanding Mean"
   ]
  },
  {
   "cell_type": "code",
   "execution_count": 67,
   "id": "0bbcf34d-4f2c-4770-824d-6489f0b38eca",
   "metadata": {},
   "outputs": [],
   "source": [
    "df = pd.DataFrame({'value': [10, 20, 30, 40, 50]})\n",
    "df['expanding_mean'] = df['value'].expanding().mean()"
   ]
  },
  {
   "cell_type": "code",
   "execution_count": 68,
   "id": "5495c5ea-3b57-43f6-b40a-fbb418752f00",
   "metadata": {},
   "outputs": [
    {
     "data": {
      "text/html": [
       "<div>\n",
       "<style scoped>\n",
       "    .dataframe tbody tr th:only-of-type {\n",
       "        vertical-align: middle;\n",
       "    }\n",
       "\n",
       "    .dataframe tbody tr th {\n",
       "        vertical-align: top;\n",
       "    }\n",
       "\n",
       "    .dataframe thead th {\n",
       "        text-align: right;\n",
       "    }\n",
       "</style>\n",
       "<table border=\"1\" class=\"dataframe\">\n",
       "  <thead>\n",
       "    <tr style=\"text-align: right;\">\n",
       "      <th></th>\n",
       "      <th>value</th>\n",
       "      <th>expanding_mean</th>\n",
       "    </tr>\n",
       "  </thead>\n",
       "  <tbody>\n",
       "    <tr>\n",
       "      <th>0</th>\n",
       "      <td>10</td>\n",
       "      <td>10.0</td>\n",
       "    </tr>\n",
       "    <tr>\n",
       "      <th>1</th>\n",
       "      <td>20</td>\n",
       "      <td>15.0</td>\n",
       "    </tr>\n",
       "    <tr>\n",
       "      <th>2</th>\n",
       "      <td>30</td>\n",
       "      <td>20.0</td>\n",
       "    </tr>\n",
       "    <tr>\n",
       "      <th>3</th>\n",
       "      <td>40</td>\n",
       "      <td>25.0</td>\n",
       "    </tr>\n",
       "    <tr>\n",
       "      <th>4</th>\n",
       "      <td>50</td>\n",
       "      <td>30.0</td>\n",
       "    </tr>\n",
       "  </tbody>\n",
       "</table>\n",
       "</div>"
      ],
      "text/plain": [
       "   value  expanding_mean\n",
       "0     10            10.0\n",
       "1     20            15.0\n",
       "2     30            20.0\n",
       "3     40            25.0\n",
       "4     50            30.0"
      ]
     },
     "execution_count": 68,
     "metadata": {},
     "output_type": "execute_result"
    }
   ],
   "source": [
    "df"
   ]
  },
  {
   "cell_type": "code",
   "execution_count": 69,
   "id": "56fa5dfc-8aa0-4792-8fd5-3f50febfebae",
   "metadata": {},
   "outputs": [],
   "source": [
    "#Expanding Sum with min_periods\n",
    "df['expanding_sum_min3'] = df['value'].expanding(min_periods=3).sum()\n",
    "# Returns NaN until at least 3 values are available."
   ]
  },
  {
   "cell_type": "code",
   "execution_count": 70,
   "id": "a2329e68-dad6-4183-af28-502d4514455e",
   "metadata": {},
   "outputs": [
    {
     "data": {
      "text/html": [
       "<div>\n",
       "<style scoped>\n",
       "    .dataframe tbody tr th:only-of-type {\n",
       "        vertical-align: middle;\n",
       "    }\n",
       "\n",
       "    .dataframe tbody tr th {\n",
       "        vertical-align: top;\n",
       "    }\n",
       "\n",
       "    .dataframe thead th {\n",
       "        text-align: right;\n",
       "    }\n",
       "</style>\n",
       "<table border=\"1\" class=\"dataframe\">\n",
       "  <thead>\n",
       "    <tr style=\"text-align: right;\">\n",
       "      <th></th>\n",
       "      <th>value</th>\n",
       "      <th>expanding_mean</th>\n",
       "      <th>expanding_sum_min3</th>\n",
       "    </tr>\n",
       "  </thead>\n",
       "  <tbody>\n",
       "    <tr>\n",
       "      <th>0</th>\n",
       "      <td>10</td>\n",
       "      <td>10.0</td>\n",
       "      <td>NaN</td>\n",
       "    </tr>\n",
       "    <tr>\n",
       "      <th>1</th>\n",
       "      <td>20</td>\n",
       "      <td>15.0</td>\n",
       "      <td>NaN</td>\n",
       "    </tr>\n",
       "    <tr>\n",
       "      <th>2</th>\n",
       "      <td>30</td>\n",
       "      <td>20.0</td>\n",
       "      <td>60.0</td>\n",
       "    </tr>\n",
       "    <tr>\n",
       "      <th>3</th>\n",
       "      <td>40</td>\n",
       "      <td>25.0</td>\n",
       "      <td>100.0</td>\n",
       "    </tr>\n",
       "    <tr>\n",
       "      <th>4</th>\n",
       "      <td>50</td>\n",
       "      <td>30.0</td>\n",
       "      <td>150.0</td>\n",
       "    </tr>\n",
       "  </tbody>\n",
       "</table>\n",
       "</div>"
      ],
      "text/plain": [
       "   value  expanding_mean  expanding_sum_min3\n",
       "0     10            10.0                 NaN\n",
       "1     20            15.0                 NaN\n",
       "2     30            20.0                60.0\n",
       "3     40            25.0               100.0\n",
       "4     50            30.0               150.0"
      ]
     },
     "execution_count": 70,
     "metadata": {},
     "output_type": "execute_result"
    }
   ],
   "source": [
    "df"
   ]
  },
  {
   "cell_type": "code",
   "execution_count": 71,
   "id": "9386476f-5653-4b1e-8d2a-bf4ce709ce26",
   "metadata": {},
   "outputs": [],
   "source": [
    "df = pd.DataFrame({\n",
    "    'A': [1, 2, 3],\n",
    "    'B': [4, 5, 6]\n",
    "})"
   ]
  },
  {
   "cell_type": "code",
   "execution_count": 72,
   "id": "1b922b3b-2f7b-4a88-81e8-a45a32af189f",
   "metadata": {},
   "outputs": [
    {
     "data": {
      "text/html": [
       "<div>\n",
       "<style scoped>\n",
       "    .dataframe tbody tr th:only-of-type {\n",
       "        vertical-align: middle;\n",
       "    }\n",
       "\n",
       "    .dataframe tbody tr th {\n",
       "        vertical-align: top;\n",
       "    }\n",
       "\n",
       "    .dataframe thead th {\n",
       "        text-align: right;\n",
       "    }\n",
       "</style>\n",
       "<table border=\"1\" class=\"dataframe\">\n",
       "  <thead>\n",
       "    <tr style=\"text-align: right;\">\n",
       "      <th></th>\n",
       "      <th>A</th>\n",
       "      <th>B</th>\n",
       "    </tr>\n",
       "  </thead>\n",
       "  <tbody>\n",
       "    <tr>\n",
       "      <th>0</th>\n",
       "      <td>1.0</td>\n",
       "      <td>4.0</td>\n",
       "    </tr>\n",
       "    <tr>\n",
       "      <th>1</th>\n",
       "      <td>3.0</td>\n",
       "      <td>9.0</td>\n",
       "    </tr>\n",
       "    <tr>\n",
       "      <th>2</th>\n",
       "      <td>6.0</td>\n",
       "      <td>15.0</td>\n",
       "    </tr>\n",
       "  </tbody>\n",
       "</table>\n",
       "</div>"
      ],
      "text/plain": [
       "     A     B\n",
       "0  1.0   4.0\n",
       "1  3.0   9.0\n",
       "2  6.0  15.0"
      ]
     },
     "execution_count": 72,
     "metadata": {},
     "output_type": "execute_result"
    }
   ],
   "source": [
    "df.expanding().sum()"
   ]
  },
  {
   "cell_type": "code",
   "execution_count": null,
   "id": "f0cfd75d-ce13-43dc-b933-5b89f5a82052",
   "metadata": {},
   "outputs": [],
   "source": []
  }
 ],
 "metadata": {
  "kernelspec": {
   "display_name": "Python 3 (ipykernel)",
   "language": "python",
   "name": "python3"
  },
  "language_info": {
   "codemirror_mode": {
    "name": "ipython",
    "version": 3
   },
   "file_extension": ".py",
   "mimetype": "text/x-python",
   "name": "python",
   "nbconvert_exporter": "python",
   "pygments_lexer": "ipython3",
   "version": "3.12.7"
  }
 },
 "nbformat": 4,
 "nbformat_minor": 5
}
