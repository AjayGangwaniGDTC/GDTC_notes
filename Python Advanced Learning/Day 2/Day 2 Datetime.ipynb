{
 "cells": [
  {
   "cell_type": "markdown",
   "id": "73e89348-7fd3-4920-943c-6a38d48c75f5",
   "metadata": {},
   "source": [
    "# Python Datetime module"
   ]
  },
  {
   "cell_type": "code",
   "execution_count": null,
   "id": "55e99fca-7a7a-4f90-b725-988fdd92cbd0",
   "metadata": {},
   "outputs": [],
   "source": [
    "#datetime.datetime\n",
    "#module datetime have class called datetime\n",
    "#datetime class have few more classes\n",
    "#1 date\n",
    "#2 time\n",
    "#3 date-time\n",
    "#4 timedelt\n",
    "#5 tzinfo\n",
    "#6 timezone"
   ]
  },
  {
   "cell_type": "code",
   "execution_count": null,
   "id": "eb9410cf-6080-4b40-96a1-2e16e0c933a2",
   "metadata": {},
   "outputs": [],
   "source": [
    "# class datetime.date(year, month, day)\n",
    "# If we give unrealistic dates it will give ValueError Exception"
   ]
  },
  {
   "cell_type": "markdown",
   "id": "4f1ad004-eefb-40ec-b17b-95ce959b2e43",
   "metadata": {},
   "source": [
    "# Date Class"
   ]
  },
  {
   "cell_type": "code",
   "execution_count": 1,
   "id": "a1faff3e-053e-42f7-817a-8b9b038627ba",
   "metadata": {},
   "outputs": [
    {
     "name": "stdout",
     "output_type": "stream",
     "text": [
      "1996-06-12\n"
     ]
    }
   ],
   "source": [
    "from datetime import date\n",
    "mydate = date(1996,6,12)\n",
    "print(mydate)"
   ]
  },
  {
   "cell_type": "code",
   "execution_count": 2,
   "id": "62369a28-9996-46c6-862d-f134baf71e44",
   "metadata": {},
   "outputs": [
    {
     "data": {
      "text/plain": [
       "datetime.date(2025, 6, 24)"
      ]
     },
     "execution_count": 2,
     "metadata": {},
     "output_type": "execute_result"
    }
   ],
   "source": [
    "today=date.today()\n",
    "today"
   ]
  },
  {
   "cell_type": "code",
   "execution_count": 3,
   "id": "b728579a-6dca-4ec2-980a-cdf90da5319f",
   "metadata": {},
   "outputs": [
    {
     "name": "stdout",
     "output_type": "stream",
     "text": [
      "Current year 2025\n",
      "Current month 6\n",
      "Current day 24\n"
     ]
    }
   ],
   "source": [
    "today = date.today()\n",
    "print(\"Current year\",today.year)\n",
    "print(\"Current month\",today.month)\n",
    "print(\"Current day\",today.day)"
   ]
  },
  {
   "cell_type": "code",
   "execution_count": 4,
   "id": "ab8b5a3f-47df-451a-a710-e9ceee930cfe",
   "metadata": {},
   "outputs": [],
   "source": [
    "from datetime import datetime\n",
    "datetimedata = datetime.fromtimestamp(2324521585)"
   ]
  },
  {
   "cell_type": "code",
   "execution_count": 6,
   "id": "86ab587b-2d75-4d52-adc5-73eae78f537c",
   "metadata": {},
   "outputs": [
    {
     "name": "stdout",
     "output_type": "stream",
     "text": [
      "2043-08-30 09:56:25\n"
     ]
    }
   ],
   "source": [
    "print(datetimedata)"
   ]
  },
  {
   "cell_type": "code",
   "execution_count": 7,
   "id": "64a24a99-0feb-4ed8-8e88-6bf9531a3607",
   "metadata": {},
   "outputs": [],
   "source": [
    "today = date.today()"
   ]
  },
  {
   "cell_type": "code",
   "execution_count": 8,
   "id": "487aa49e-4549-4475-a55b-712c6927b520",
   "metadata": {},
   "outputs": [],
   "source": [
    "strdate = date.isoformat(today)"
   ]
  },
  {
   "cell_type": "code",
   "execution_count": 10,
   "id": "5304de4a-6ed4-49f1-a15e-f13b86f44a77",
   "metadata": {},
   "outputs": [
    {
     "name": "stdout",
     "output_type": "stream",
     "text": [
      "Date converted in string 2025-06-24\n",
      "<class 'str'>\n"
     ]
    }
   ],
   "source": [
    "print(\"Date converted in string \"+strdate)\n",
    "print(type(strdate))"
   ]
  },
  {
   "cell_type": "markdown",
   "id": "5cdb9994-2831-42f4-8068-b8119891b651",
   "metadata": {},
   "source": [
    "1. ctime()\n",
    "2. fromisocalendar()\n",
    "3. fromisoformat()\n",
    "4. fromordinal()\n",
    "5. fromtimestamp()\n",
    "6. iscalendar()\n",
    "7. isoweekday()\n",
    "8. isoformat()\n",
    "9. replace()\n",
    "10. strftime()\n",
    "11. timetuple()\n",
    "12. today()\n",
    "13. toordinal\n",
    "\n",
    "different methods in date class"
   ]
  },
  {
   "cell_type": "code",
   "execution_count": 1,
   "id": "30719b51-972a-41da-a8db-9ee9b876f6b1",
   "metadata": {},
   "outputs": [],
   "source": [
    "from datetime import date"
   ]
  },
  {
   "cell_type": "code",
   "execution_count": 6,
   "id": "2b292b02-1fcd-4972-8f76-76b837395295",
   "metadata": {},
   "outputs": [
    {
     "data": {
      "text/plain": [
       "datetime.date(2002, 3, 11)"
      ]
     },
     "execution_count": 6,
     "metadata": {},
     "output_type": "execute_result"
    }
   ],
   "source": [
    "date.fromordinal(730920) #gives date a ordinal starting from 1 and for each day ordinal is incremented by 1. the ordinals are given according to gregorian calendar and the gregorian calendar starts from 1.1.0001"
   ]
  },
  {
   "cell_type": "code",
   "execution_count": 23,
   "id": "9c96124d-8d6b-415f-a9fe-b7aea4a53b8c",
   "metadata": {},
   "outputs": [],
   "source": [
    "a=date.fromisoformat('2025-06-25')\n",
    "b=date.fromisoformat('20250625')"
   ]
  },
  {
   "cell_type": "code",
   "execution_count": 24,
   "id": "97e78103-2ecb-412c-af33-74b4b54fe476",
   "metadata": {},
   "outputs": [
    {
     "data": {
      "text/plain": [
       "datetime.date(2025, 6, 25)"
      ]
     },
     "execution_count": 24,
     "metadata": {},
     "output_type": "execute_result"
    }
   ],
   "source": [
    "a"
   ]
  },
  {
   "cell_type": "code",
   "execution_count": 25,
   "id": "cad2fa6c-3669-45f1-ae4b-aa0d5f8558e1",
   "metadata": {},
   "outputs": [
    {
     "data": {
      "text/plain": [
       "datetime.date(2025, 6, 25)"
      ]
     },
     "execution_count": 25,
     "metadata": {},
     "output_type": "execute_result"
    }
   ],
   "source": [
    "b"
   ]
  },
  {
   "cell_type": "code",
   "execution_count": 28,
   "id": "8147b5e0-4db4-4d90-b421-f0dc3607de6d",
   "metadata": {},
   "outputs": [
    {
     "data": {
      "text/plain": [
       "datetime.date(1970, 1, 2)"
      ]
     },
     "execution_count": 28,
     "metadata": {},
     "output_type": "execute_result"
    }
   ],
   "source": [
    "date.fromtimestamp(86401)"
   ]
  },
  {
   "cell_type": "code",
   "execution_count": 32,
   "id": "5804204e-b8c6-45a9-8c08-11433e0e7c8d",
   "metadata": {},
   "outputs": [
    {
     "data": {
      "text/plain": [
       "datetime.date(2025, 1, 23)"
      ]
     },
     "execution_count": 32,
     "metadata": {},
     "output_type": "execute_result"
    }
   ],
   "source": [
    "date.fromisocalendar(2025, 4, 4)"
   ]
  },
  {
   "cell_type": "code",
   "execution_count": 42,
   "id": "516394b4-f921-47c0-83c0-0228a32287c1",
   "metadata": {},
   "outputs": [
    {
     "data": {
      "text/plain": [
       "datetime.date(2024, 6, 25)"
      ]
     },
     "execution_count": 42,
     "metadata": {},
     "output_type": "execute_result"
    }
   ],
   "source": [
    "d=date(2025, 6, 25)\n",
    "d.replace(year=2024)"
   ]
  },
  {
   "cell_type": "markdown",
   "id": "76b443a8-1f65-4dc1-a394-acdf51a08e89",
   "metadata": {},
   "source": [
    "# Time Class\n"
   ]
  },
  {
   "cell_type": "code",
   "execution_count": 43,
   "id": "740e5936-e965-4704-8574-63047c26da6d",
   "metadata": {},
   "outputs": [],
   "source": [
    "from datetime import time"
   ]
  },
  {
   "cell_type": "code",
   "execution_count": 44,
   "id": "8c4bf7d1-6a65-4a9d-8352-1f21a2f02dd4",
   "metadata": {},
   "outputs": [],
   "source": [
    "mytime = time(13, 24, 56)"
   ]
  },
  {
   "cell_type": "code",
   "execution_count": 45,
   "id": "c98199da-1183-4a9b-b1b0-2ad16c379c9d",
   "metadata": {},
   "outputs": [
    {
     "name": "stdout",
     "output_type": "stream",
     "text": [
      "13:24:56\n"
     ]
    }
   ],
   "source": [
    "print(mytime)"
   ]
  },
  {
   "cell_type": "code",
   "execution_count": 46,
   "id": "1e9622d9-cd5e-4520-aaaa-467d87f85300",
   "metadata": {},
   "outputs": [],
   "source": [
    "mytime=time(13)"
   ]
  },
  {
   "cell_type": "code",
   "execution_count": 47,
   "id": "806d34ee-d5b6-4a66-980b-3e932221f923",
   "metadata": {},
   "outputs": [
    {
     "data": {
      "text/plain": [
       "datetime.time(13, 0)"
      ]
     },
     "execution_count": 47,
     "metadata": {},
     "output_type": "execute_result"
    }
   ],
   "source": [
    "mytime"
   ]
  },
  {
   "cell_type": "code",
   "execution_count": 48,
   "id": "ec12d721-ebd4-4321-8ffb-251f645dedb6",
   "metadata": {},
   "outputs": [
    {
     "data": {
      "text/plain": [
       "datetime.time"
      ]
     },
     "execution_count": 48,
     "metadata": {},
     "output_type": "execute_result"
    }
   ],
   "source": [
    "type(mytime)"
   ]
  },
  {
   "cell_type": "code",
   "execution_count": 49,
   "id": "4312a88b-239c-42e0-82f8-7f3480492035",
   "metadata": {},
   "outputs": [],
   "source": [
    "mytime = time(2,30,0)"
   ]
  },
  {
   "cell_type": "code",
   "execution_count": 50,
   "id": "96c746c3-a9f5-4574-8287-da684ca3275d",
   "metadata": {},
   "outputs": [
    {
     "data": {
      "text/plain": [
       "30"
      ]
     },
     "execution_count": 50,
     "metadata": {},
     "output_type": "execute_result"
    }
   ],
   "source": [
    "mytime.minute"
   ]
  },
  {
   "cell_type": "code",
   "execution_count": 51,
   "id": "4bd34acf-dc85-4009-99fa-d699c0aa125f",
   "metadata": {},
   "outputs": [
    {
     "data": {
      "text/plain": [
       "2"
      ]
     },
     "execution_count": 51,
     "metadata": {},
     "output_type": "execute_result"
    }
   ],
   "source": [
    "mytime.hour"
   ]
  },
  {
   "cell_type": "code",
   "execution_count": 52,
   "id": "587ce89f-96c3-4842-891b-55cccf883f66",
   "metadata": {},
   "outputs": [
    {
     "data": {
      "text/plain": [
       "0"
      ]
     },
     "execution_count": 52,
     "metadata": {},
     "output_type": "execute_result"
    }
   ],
   "source": [
    "mytime.second\n"
   ]
  },
  {
   "cell_type": "code",
   "execution_count": 53,
   "id": "63ffd40a-4e4c-4a7e-a5ce-70acd9d13578",
   "metadata": {},
   "outputs": [
    {
     "data": {
      "text/plain": [
       "0"
      ]
     },
     "execution_count": 53,
     "metadata": {},
     "output_type": "execute_result"
    }
   ],
   "source": [
    "mytime.microsecond"
   ]
  },
  {
   "cell_type": "code",
   "execution_count": 54,
   "id": "123d8129-d871-4c10-9dcf-4f50d4ff3234",
   "metadata": {},
   "outputs": [],
   "source": [
    "strftime = mytime.isoformat()"
   ]
  },
  {
   "cell_type": "code",
   "execution_count": 55,
   "id": "5e64a6a5-1176-4690-a1d5-d2d45633dded",
   "metadata": {},
   "outputs": [
    {
     "data": {
      "text/plain": [
       "'02:30:00'"
      ]
     },
     "execution_count": 55,
     "metadata": {},
     "output_type": "execute_result"
    }
   ],
   "source": [
    "strftime"
   ]
  },
  {
   "cell_type": "code",
   "execution_count": 56,
   "id": "a53099e0-484a-475b-87c0-afe540015dee",
   "metadata": {},
   "outputs": [
    {
     "data": {
      "text/plain": [
       "str"
      ]
     },
     "execution_count": 56,
     "metadata": {},
     "output_type": "execute_result"
    }
   ],
   "source": [
    "type(strftime)"
   ]
  },
  {
   "cell_type": "code",
   "execution_count": 57,
   "id": "f70340a5-ef62-44f3-9d23-ffb849314474",
   "metadata": {},
   "outputs": [
    {
     "name": "stdout",
     "output_type": "stream",
     "text": [
      "Before fallback: 2024-11-03 05:30:00+00:00\n",
      "After fallback: 2024-11-03 06:30:00+00:00\n"
     ]
    }
   ],
   "source": [
    "from datetime import datetime, timedelta, timezone\n",
    "from zoneinfo import ZoneInfo\n",
    "\n",
    "# Ambiguous time: 1:30 AM on DST fall-back day\n",
    "dt1 = datetime(2024, 11, 3, 1, 30, tzinfo=ZoneInfo(\"America/New_York\"), fold=0)\n",
    "dt2 = datetime(2024, 11, 3, 1, 30, tzinfo=ZoneInfo(\"America/New_York\"), fold=1)\n",
    "\n",
    "#Convert to UTC to see the difference\n",
    "print(\"Before fallback:\",dt1.astimezone(timezone.utc))\n",
    "print(\"After fallback:\",dt2.astimezone(timezone.utc))"
   ]
  },
  {
   "cell_type": "markdown",
   "id": "942b5417-8c89-4d18-a285-b137d22f5aa6",
   "metadata": {},
   "source": [
    "# Timedelta Class\n"
   ]
  },
  {
   "cell_type": "code",
   "execution_count": null,
   "id": "3e9f9159-5517-4136-b352-7d48a2b834bd",
   "metadata": {},
   "outputs": [],
   "source": [
    "# to perform arithmetic operations we use timedelta\n",
    "# ALWAYS return date\n",
    "# it have default value for all parameters and that is 0"
   ]
  }
 ],
 "metadata": {
  "kernelspec": {
   "display_name": "Python 3 (ipykernel)",
   "language": "python",
   "name": "python3"
  },
  "language_info": {
   "codemirror_mode": {
    "name": "ipython",
    "version": 3
   },
   "file_extension": ".py",
   "mimetype": "text/x-python",
   "name": "python",
   "nbconvert_exporter": "python",
   "pygments_lexer": "ipython3",
   "version": "3.12.7"
  }
 },
 "nbformat": 4,
 "nbformat_minor": 5
}
