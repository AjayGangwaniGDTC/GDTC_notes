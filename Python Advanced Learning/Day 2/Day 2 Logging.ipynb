{
 "cells": [
  {
   "cell_type": "code",
   "execution_count": 1,
   "id": "473a7f9f-63b9-4717-8020-e516d8fa99dc",
   "metadata": {},
   "outputs": [
    {
     "name": "stderr",
     "output_type": "stream",
     "text": [
      "24/06/2025 11:47 - DEBUG - name = xyz\n"
     ]
    }
   ],
   "source": [
    "import logging\n",
    "\n",
    "logging.basicConfig(format=\"{asctime} - {levelname} - {msg}\",\n",
    "                    style='{',\n",
    "                    datefmt='%d/%m/%Y %H:%M',\n",
    "                    level=logging.DEBUG)\n",
    "name = \"xyz\"\n",
    "logging.debug(f\"name = {name}\")"
   ]
  },
  {
   "cell_type": "code",
   "execution_count": null,
   "id": "68e02b56-3efc-4a29-b9de-7f366ff8be43",
   "metadata": {},
   "outputs": [],
   "source": []
  }
 ],
 "metadata": {
  "kernelspec": {
   "display_name": "Python 3 (ipykernel)",
   "language": "python",
   "name": "python3"
  },
  "language_info": {
   "codemirror_mode": {
    "name": "ipython",
    "version": 3
   },
   "file_extension": ".py",
   "mimetype": "text/x-python",
   "name": "python",
   "nbconvert_exporter": "python",
   "pygments_lexer": "ipython3",
   "version": "3.12.7"
  }
 },
 "nbformat": 4,
 "nbformat_minor": 5
}
