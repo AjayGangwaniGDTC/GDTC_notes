{
 "cells": [
  {
   "cell_type": "code",
   "execution_count": 1,
   "id": "4c53234e-a39e-403f-956c-2e10acdc9a55",
   "metadata": {},
   "outputs": [],
   "source": [
    "import os"
   ]
  },
  {
   "cell_type": "code",
   "execution_count": 2,
   "id": "e57ffdfe-307e-49f0-b2ee-94fb97248b2d",
   "metadata": {},
   "outputs": [],
   "source": [
    "cwd=os.getcwd() #get current directory"
   ]
  },
  {
   "cell_type": "code",
   "execution_count": 3,
   "id": "c2bfa088-0c06-45ad-a7b8-f2a270f3207c",
   "metadata": {},
   "outputs": [
    {
     "data": {
      "text/plain": [
       "'C:\\\\Users\\\\AjayGangwani\\\\Python Advanced Learning'"
      ]
     },
     "execution_count": 3,
     "metadata": {},
     "output_type": "execute_result"
    }
   ],
   "source": [
    "cwd"
   ]
  },
  {
   "cell_type": "code",
   "execution_count": 5,
   "id": "de64862d-51a1-4ce1-93fd-0a3541ed1588",
   "metadata": {},
   "outputs": [],
   "source": [
    "#Change Directory\n",
    "os.chdir(\"../\")"
   ]
  },
  {
   "cell_type": "code",
   "execution_count": 6,
   "id": "aeda3b16-2d10-4401-9a79-aa31a01296f3",
   "metadata": {},
   "outputs": [],
   "source": [
    "#make directory\n",
    "os.mkdir(\"testosmodule\")"
   ]
  },
  {
   "cell_type": "code",
   "execution_count": 9,
   "id": "f79529c8-dcd0-41e6-a6ed-2694760a85e3",
   "metadata": {},
   "outputs": [],
   "source": [
    "os.makedirs(\"test1\", mode=0o777)"
   ]
  },
  {
   "cell_type": "code",
   "execution_count": 10,
   "id": "9ab9bc2e-fc82-440a-be29-a3b73476951b",
   "metadata": {},
   "outputs": [],
   "source": [
    "os.chdir(\"Python Advanced Learning\")"
   ]
  },
  {
   "cell_type": "code",
   "execution_count": 11,
   "id": "9ddfde90-efe5-4c1f-97c8-229c08f069ab",
   "metadata": {},
   "outputs": [
    {
     "data": {
      "text/plain": [
       "'C:\\\\Users\\\\AjayGangwani\\\\Python Advanced Learning'"
      ]
     },
     "execution_count": 11,
     "metadata": {},
     "output_type": "execute_result"
    }
   ],
   "source": [
    "os.getcwd()"
   ]
  },
  {
   "cell_type": "code",
   "execution_count": 12,
   "id": "9e1a6497-797e-4dbc-8e00-a1eb50f18ed7",
   "metadata": {},
   "outputs": [],
   "source": [
    "data = os.listdir()"
   ]
  },
  {
   "cell_type": "code",
   "execution_count": 13,
   "id": "0c6380e8-2d19-4766-a5b3-c1e5fe139cbd",
   "metadata": {},
   "outputs": [
    {
     "data": {
      "text/plain": [
       "['.ipynb_checkpoints',\n",
       " 'audittrail.log',\n",
       " 'Day 1 Logging Part 2 user activity.ipynb',\n",
       " 'Day 1 Logging With Decorators.ipynb',\n",
       " 'Day 1 Logging.ipynb',\n",
       " 'Day 1 Tasks.ipynb',\n",
       " 'Day 1 Working With Decorators.ipynb',\n",
       " 'Day 2 Logging.ipynb',\n",
       " 'Day 2 OS Module.ipynb',\n",
       " 'execution.log',\n",
       " 'sampleLogfile.log',\n",
       " 'spellbooklogfile.log',\n",
       " 'user_activity.log']"
      ]
     },
     "execution_count": 13,
     "metadata": {},
     "output_type": "execute_result"
    }
   ],
   "source": [
    "data"
   ]
  },
  {
   "cell_type": "code",
   "execution_count": 14,
   "id": "1b82958d-140f-4018-a22f-ebefb65ca769",
   "metadata": {},
   "outputs": [],
   "source": [
    "os.mkdir(\"testmodule\")"
   ]
  },
  {
   "cell_type": "code",
   "execution_count": 17,
   "id": "5b3843e7-c646-474b-9022-a6a6236775b6",
   "metadata": {},
   "outputs": [],
   "source": [
    "with open(\"samplefile.txt\", \"w\") as o:\n",
    "    pass"
   ]
  },
  {
   "cell_type": "code",
   "execution_count": 18,
   "id": "7fe19bc7-3c42-4a7f-9255-c0b1cd0b49cd",
   "metadata": {},
   "outputs": [],
   "source": [
    "os.remove(\"samplefile.txt\") #remove the file\n",
    "os.rmdir(\"testmodule\") #removes the folder"
   ]
  },
  {
   "cell_type": "code",
   "execution_count": 20,
   "id": "a1c8f66f-a9c4-4534-b722-b1fff05c0e4c",
   "metadata": {},
   "outputs": [],
   "source": [
    "os.rmdir(\"C:\\\\Users\\\\AjayGangwani\\\\test1\")\n",
    "os.rmdir(\"C:\\\\Users\\\\AjayGangwani\\\\testosmodule\")"
   ]
  },
  {
   "cell_type": "code",
   "execution_count": 21,
   "id": "3570b519-e26f-4318-9ac8-f4134c181215",
   "metadata": {},
   "outputs": [
    {
     "data": {
      "text/plain": [
       "'nt'"
      ]
     },
     "execution_count": 21,
     "metadata": {},
     "output_type": "execute_result"
    }
   ],
   "source": [
    "os.name"
   ]
  },
  {
   "cell_type": "code",
   "execution_count": 22,
   "id": "14283f88-5c36-4b9e-8744-33e184bcb15e",
   "metadata": {},
   "outputs": [
    {
     "name": "stdout",
     "output_type": "stream",
     "text": [
      "Problem reading the filedata.txt\n"
     ]
    }
   ],
   "source": [
    "try:\n",
    "    filename=\"data.txt\"\n",
    "    f = open(filename, 'r')\n",
    "    text=f.read()\n",
    "    f.close()\n",
    "    print(text)\n",
    "except IOError:\n",
    "    print(\"Problem reading the file\" + filename)"
   ]
  },
  {
   "cell_type": "code",
   "execution_count": null,
   "id": "894bda80-e425-40aa-b706-0e70026e3aea",
   "metadata": {},
   "outputs": [],
   "source": [
    "os.close(\"filename/directoryname\")"
   ]
  },
  {
   "cell_type": "code",
   "execution_count": null,
   "id": "3d761178-73e4-4e7c-96e9-b30284165d89",
   "metadata": {},
   "outputs": [],
   "source": [
    "os.rename(\"current\", \"newname\")"
   ]
  },
  {
   "cell_type": "code",
   "execution_count": 25,
   "id": "a1e9c303-f61f-45b5-850d-febc511fd748",
   "metadata": {},
   "outputs": [],
   "source": [
    "result=os.path.exists(\"Pictures\")"
   ]
  },
  {
   "cell_type": "code",
   "execution_count": 26,
   "id": "007da4cb-a8d2-4a57-bad5-a691525f2666",
   "metadata": {},
   "outputs": [
    {
     "data": {
      "text/plain": [
       "False"
      ]
     },
     "execution_count": 26,
     "metadata": {},
     "output_type": "execute_result"
    }
   ],
   "source": [
    "result"
   ]
  },
  {
   "cell_type": "code",
   "execution_count": 27,
   "id": "2a6601a5-cda2-42e0-973d-02d571439d87",
   "metadata": {},
   "outputs": [
    {
     "data": {
      "text/plain": [
       "154"
      ]
     },
     "execution_count": 27,
     "metadata": {},
     "output_type": "execute_result"
    }
   ],
   "source": [
    "result = os.path.getsize(\"user_activity.log\")\n",
    "result"
   ]
  },
  {
   "cell_type": "code",
   "execution_count": 31,
   "id": "cad3cbe2-ac65-439b-86ae-66d92becf2be",
   "metadata": {},
   "outputs": [],
   "source": [
    "result=os.environ"
   ]
  },
  {
   "cell_type": "code",
   "execution_count": 32,
   "id": "d50d9dad-2248-4a94-ab15-0eddb0b80211",
   "metadata": {},
   "outputs": [
    {
     "name": "stdout",
     "output_type": "stream",
     "text": [
      "{'ALLUSERSPROFILE': 'C:\\\\ProgramData', 'APPDATA': 'C:\\\\Users\\\\AjayGangwani\\\\AppData\\\\Roaming', 'COMMONPROGRAMFILES': 'C:\\\\Program Files\\\\Common Files', 'COMMONPROGRAMFILES(X86)': 'C:\\\\Program Files (x86)\\\\Common Files', 'COMMONPROGRAMW6432': 'C:\\\\Program Files\\\\Common Files', 'COMPUTERNAME': 'LP143', 'COMSPEC': 'C:\\\\WINDOWS\\\\system32\\\\cmd.exe', 'CONDA_DEFAULT_ENV': 'base', 'CONDA_EXE': 'C:\\\\Users\\\\AjayGangwani\\\\anaconda3\\\\Scripts\\\\conda.exe', 'CONDA_PREFIX': 'C:\\\\Users\\\\AjayGangwani\\\\anaconda3', 'CONDA_PROMPT_MODIFIER': '(base) ', 'CONDA_PYTHON_EXE': 'C:\\\\Users\\\\AjayGangwani\\\\anaconda3\\\\python.exe', 'CONDA_ROOT': 'C:\\\\Users\\\\AjayGangwani\\\\anaconda3', 'CONDA_SHLVL': '1', 'DRIVERDATA': 'C:\\\\Windows\\\\System32\\\\Drivers\\\\DriverData', 'EFC_27956_1262719628': '1', 'EFC_27956_1592913036': '1', 'EFC_27956_2283032206': '1', 'EFC_27956_2775293581': '1', 'EFC_27956_3789132940': '1', 'HOMEDRIVE': 'C:', 'HOMEPATH': '\\\\Users\\\\AjayGangwani', 'IGCCSVC_DB': 'AQAAANCMnd8BFdERjHoAwE/Cl+sBAAAAhr3/Qgsx1UODlsQCKTT3AQQAAAACAAAAAAAQZgAAAAEAACAAAACuJRJdff7ViYMF1+8rLJV248Unga1cYCc8JtEO/vgb4gAAAAAOgAAAAAIAACAAAABNaY6nszgdF9dWaobAWMpM0VF7tEQ/dQFAUUQaq1H0sWAAAAC2P76FpqDfWoiS28PvpKiesCggHK13gEqs40mOwxVwjoG4KbP5Fp26Q2/qvumGbfNQkTSsliMMhJ1wdD7mFPZu/o92E67HotkOMbFsTT6S+4UScO3nGeArP1et27YWu9JAAAAA++lCAlnOU9ClY6jPmq3GzQjdS5lZ1npZZQCQTOyG4rFC9PNhHlL8du2Ro5f4wu+3OldCBPzJa+/HYIyw6lRY0A==', 'IPY_INTERRUPT_EVENT': '6276', 'JPY_INTERRUPT_EVENT': '6276', 'JPY_PARENT_PID': '5116', 'JPY_SESSION_NAME': 'C:\\\\Users\\\\AjayGangwani\\\\Python Advanced Learning\\\\Untitled.ipynb', 'LOCALAPPDATA': 'C:\\\\Users\\\\AjayGangwani\\\\AppData\\\\Local', 'LOGONSERVER': '\\\\\\\\LP143', 'NUMBER_OF_PROCESSORS': '12', 'ONEDRIVE': 'C:\\\\Users\\\\AjayGangwani\\\\OneDrive', 'OS': 'Windows_NT', 'PATH': 'C:\\\\Users\\\\AjayGangwani\\\\anaconda3;C:\\\\Users\\\\AjayGangwani\\\\anaconda3\\\\Library\\\\mingw-w64\\\\bin;C:\\\\Users\\\\AjayGangwani\\\\anaconda3\\\\Library\\\\usr\\\\bin;C:\\\\Users\\\\AjayGangwani\\\\anaconda3\\\\Library\\\\bin;C:\\\\Users\\\\AjayGangwani\\\\anaconda3\\\\Scripts;C:\\\\Users\\\\AjayGangwani\\\\anaconda3\\\\bin;C:\\\\Users\\\\AjayGangwani\\\\anaconda3\\\\condabin;C:\\\\Users\\\\AjayGangwani\\\\anaconda3;C:\\\\Users\\\\AjayGangwani\\\\anaconda3\\\\Library\\\\mingw-w64\\\\bin;C:\\\\Users\\\\AjayGangwani\\\\anaconda3\\\\Library\\\\usr\\\\bin;C:\\\\Users\\\\AjayGangwani\\\\anaconda3\\\\Library\\\\bin;C:\\\\Users\\\\AjayGangwani\\\\anaconda3\\\\Scripts;C:\\\\WINDOWS\\\\system32;C:\\\\WINDOWS;C:\\\\WINDOWS\\\\System32\\\\Wbem;C:\\\\WINDOWS\\\\System32\\\\WindowsPowerShell\\\\v1.0;C:\\\\WINDOWS\\\\System32\\\\OpenSSH;C:\\\\Program Files\\\\Microsoft VS Code\\\\bin;C:\\\\Program Files\\\\Microsoft SQL Server\\\\150\\\\Tools\\\\Binn;C:\\\\Program Files\\\\Microsoft SQL Server\\\\Client SDK\\\\ODBC\\\\170\\\\Tools\\\\Binn;C:\\\\Program Files\\\\dotnet;C:\\\\Program Files (x86)\\\\Microsoft SQL Server\\\\160\\\\DTS\\\\Binn;C:\\\\Program Files\\\\Azure Data Studio\\\\bin;C:\\\\Program Files (x86)\\\\Microsoft SQL Server\\\\160\\\\Tools\\\\Binn;C:\\\\Program Files\\\\Microsoft SQL Server\\\\160\\\\Tools\\\\Binn;C:\\\\Program Files\\\\Microsoft SQL Server\\\\160\\\\DTS\\\\Binn;C:\\\\Program Files\\\\nodejs;C:\\\\Users\\\\AjayGangwani\\\\AppData\\\\Local\\\\Programs\\\\Python\\\\Python313\\\\Scripts;C:\\\\Users\\\\AjayGangwani\\\\AppData\\\\Local\\\\Programs\\\\Python\\\\Python313;C:\\\\Users\\\\AjayGangwani\\\\AppData\\\\Local\\\\Microsoft\\\\WindowsApps;.', 'PATHEXT': '.COM;.EXE;.BAT;.CMD;.VBS;.VBE;.JS;.JSE;.WSF;.WSH;.MSC', 'PROCESSOR_ARCHITECTURE': 'AMD64', 'PROCESSOR_IDENTIFIER': 'Intel64 Family 6 Model 154 Stepping 4, GenuineIntel', 'PROCESSOR_LEVEL': '6', 'PROCESSOR_REVISION': '9a04', 'PROGRAMDATA': 'C:\\\\ProgramData', 'PROGRAMFILES': 'C:\\\\Program Files', 'PROGRAMFILES(X86)': 'C:\\\\Program Files (x86)', 'PROGRAMW6432': 'C:\\\\Program Files', 'PROMPT': '(base) $P$G', 'PSMODULEPATH': 'C:\\\\Program Files\\\\WindowsPowerShell\\\\Modules;C:\\\\WINDOWS\\\\system32\\\\WindowsPowerShell\\\\v1.0\\\\Modules;C:\\\\Program Files (x86)\\\\Microsoft SQL Server\\\\160\\\\Tools\\\\PowerShell\\\\Modules\\\\', 'PUBLIC': 'C:\\\\Users\\\\Public', 'PYDEVD_USE_FRAME_EVAL': 'NO', 'SESSIONNAME': 'Console', 'SSL_CERT_FILE': 'C:\\\\Users\\\\AjayGangwani\\\\anaconda3\\\\Library\\\\ssl\\\\cacert.pem', 'SYSTEMDRIVE': 'C:', 'SYSTEMROOT': 'C:\\\\WINDOWS', 'TEMP': 'C:\\\\Users\\\\AJAYGA~1\\\\AppData\\\\Local\\\\Temp', 'TMP': 'C:\\\\Users\\\\AJAYGA~1\\\\AppData\\\\Local\\\\Temp', 'USERDOMAIN': 'AzureAD', 'USERDOMAIN_ROAMINGPROFILE': 'AzureAD', 'USERNAME': 'AjayGangwani', 'USERPROFILE': 'C:\\\\Users\\\\AjayGangwani', 'WINDIR': 'C:\\\\WINDOWS', 'ZES_ENABLE_SYSMAN': '1', '__CONDA_OPENSLL_CERT_FILE_SET': '\"1\"', 'TERM': 'xterm-color', 'CLICOLOR': '1', 'FORCE_COLOR': '1', 'CLICOLOR_FORCE': '1', 'PAGER': 'cat', 'GIT_PAGER': 'cat', 'MPLBACKEND': 'module://matplotlib_inline.backend_inline'}\n"
     ]
    }
   ],
   "source": [
    "print(dict(result))"
   ]
  },
  {
   "cell_type": "code",
   "execution_count": 34,
   "id": "1137e4d9-152f-4666-be5b-80a8c96761c9",
   "metadata": {},
   "outputs": [
    {
     "name": "stdout",
     "output_type": "stream",
     "text": [
      "{'ALLUSERSPROFILE': 'C:\\\\ProgramData',\n",
      " 'APPDATA': 'C:\\\\Users\\\\AjayGangwani\\\\AppData\\\\Roaming',\n",
      " 'CLICOLOR': '1',\n",
      " 'CLICOLOR_FORCE': '1',\n",
      " 'COMMONPROGRAMFILES': 'C:\\\\Program Files\\\\Common Files',\n",
      " 'COMMONPROGRAMFILES(X86)': 'C:\\\\Program Files (x86)\\\\Common Files',\n",
      " 'COMMONPROGRAMW6432': 'C:\\\\Program Files\\\\Common Files',\n",
      " 'COMPUTERNAME': 'LP143',\n",
      " 'COMSPEC': 'C:\\\\WINDOWS\\\\system32\\\\cmd.exe',\n",
      " 'CONDA_DEFAULT_ENV': 'base',\n",
      " 'CONDA_EXE': 'C:\\\\Users\\\\AjayGangwani\\\\anaconda3\\\\Scripts\\\\conda.exe',\n",
      " 'CONDA_PREFIX': 'C:\\\\Users\\\\AjayGangwani\\\\anaconda3',\n",
      " 'CONDA_PROMPT_MODIFIER': '(base) ',\n",
      " 'CONDA_PYTHON_EXE': 'C:\\\\Users\\\\AjayGangwani\\\\anaconda3\\\\python.exe',\n",
      " 'CONDA_ROOT': 'C:\\\\Users\\\\AjayGangwani\\\\anaconda3',\n",
      " 'CONDA_SHLVL': '1',\n",
      " 'DRIVERDATA': 'C:\\\\Windows\\\\System32\\\\Drivers\\\\DriverData',\n",
      " 'EFC_27956_1262719628': '1',\n",
      " 'EFC_27956_1592913036': '1',\n",
      " 'EFC_27956_2283032206': '1',\n",
      " 'EFC_27956_2775293581': '1',\n",
      " 'EFC_27956_3789132940': '1',\n",
      " 'FORCE_COLOR': '1',\n",
      " 'GIT_PAGER': 'cat',\n",
      " 'HOMEDRIVE': 'C:',\n",
      " 'HOMEPATH': '\\\\Users\\\\AjayGangwani',\n",
      " 'IGCCSVC_DB': 'AQAAANCMnd8BFdERjHoAwE/Cl+sBAAAAhr3/Qgsx1UODlsQCKTT3AQQAAAACAAAAAAAQZgAAAAEAACAAAACuJRJdff7ViYMF1+8rLJV248Unga1cYCc8JtEO/vgb4gAAAAAOgAAAAAIAACAAAABNaY6nszgdF9dWaobAWMpM0VF7tEQ/dQFAUUQaq1H0sWAAAAC2P76FpqDfWoiS28PvpKiesCggHK13gEqs40mOwxVwjoG4KbP5Fp26Q2/qvumGbfNQkTSsliMMhJ1wdD7mFPZu/o92E67HotkOMbFsTT6S+4UScO3nGeArP1et27YWu9JAAAAA++lCAlnOU9ClY6jPmq3GzQjdS5lZ1npZZQCQTOyG4rFC9PNhHlL8du2Ro5f4wu+3OldCBPzJa+/HYIyw6lRY0A==',\n",
      " 'IPY_INTERRUPT_EVENT': '6276',\n",
      " 'JPY_INTERRUPT_EVENT': '6276',\n",
      " 'JPY_PARENT_PID': '5116',\n",
      " 'JPY_SESSION_NAME': 'C:\\\\Users\\\\AjayGangwani\\\\Python Advanced '\n",
      "                     'Learning\\\\Untitled.ipynb',\n",
      " 'LOCALAPPDATA': 'C:\\\\Users\\\\AjayGangwani\\\\AppData\\\\Local',\n",
      " 'LOGONSERVER': '\\\\\\\\LP143',\n",
      " 'MPLBACKEND': 'module://matplotlib_inline.backend_inline',\n",
      " 'NUMBER_OF_PROCESSORS': '12',\n",
      " 'ONEDRIVE': 'C:\\\\Users\\\\AjayGangwani\\\\OneDrive',\n",
      " 'OS': 'Windows_NT',\n",
      " 'PAGER': 'cat',\n",
      " 'PATH': 'C:\\\\Users\\\\AjayGangwani\\\\anaconda3;C:\\\\Users\\\\AjayGangwani\\\\anaconda3\\\\Library\\\\mingw-w64\\\\bin;C:\\\\Users\\\\AjayGangwani\\\\anaconda3\\\\Library\\\\usr\\\\bin;C:\\\\Users\\\\AjayGangwani\\\\anaconda3\\\\Library\\\\bin;C:\\\\Users\\\\AjayGangwani\\\\anaconda3\\\\Scripts;C:\\\\Users\\\\AjayGangwani\\\\anaconda3\\\\bin;C:\\\\Users\\\\AjayGangwani\\\\anaconda3\\\\condabin;C:\\\\Users\\\\AjayGangwani\\\\anaconda3;C:\\\\Users\\\\AjayGangwani\\\\anaconda3\\\\Library\\\\mingw-w64\\\\bin;C:\\\\Users\\\\AjayGangwani\\\\anaconda3\\\\Library\\\\usr\\\\bin;C:\\\\Users\\\\AjayGangwani\\\\anaconda3\\\\Library\\\\bin;C:\\\\Users\\\\AjayGangwani\\\\anaconda3\\\\Scripts;C:\\\\WINDOWS\\\\system32;C:\\\\WINDOWS;C:\\\\WINDOWS\\\\System32\\\\Wbem;C:\\\\WINDOWS\\\\System32\\\\WindowsPowerShell\\\\v1.0;C:\\\\WINDOWS\\\\System32\\\\OpenSSH;C:\\\\Program '\n",
      "         'Files\\\\Microsoft VS Code\\\\bin;C:\\\\Program Files\\\\Microsoft SQL '\n",
      "         'Server\\\\150\\\\Tools\\\\Binn;C:\\\\Program Files\\\\Microsoft SQL '\n",
      "         'Server\\\\Client SDK\\\\ODBC\\\\170\\\\Tools\\\\Binn;C:\\\\Program '\n",
      "         'Files\\\\dotnet;C:\\\\Program Files (x86)\\\\Microsoft SQL '\n",
      "         'Server\\\\160\\\\DTS\\\\Binn;C:\\\\Program Files\\\\Azure Data '\n",
      "         'Studio\\\\bin;C:\\\\Program Files (x86)\\\\Microsoft SQL '\n",
      "         'Server\\\\160\\\\Tools\\\\Binn;C:\\\\Program Files\\\\Microsoft SQL '\n",
      "         'Server\\\\160\\\\Tools\\\\Binn;C:\\\\Program Files\\\\Microsoft SQL '\n",
      "         'Server\\\\160\\\\DTS\\\\Binn;C:\\\\Program '\n",
      "         'Files\\\\nodejs;C:\\\\Users\\\\AjayGangwani\\\\AppData\\\\Local\\\\Programs\\\\Python\\\\Python313\\\\Scripts;C:\\\\Users\\\\AjayGangwani\\\\AppData\\\\Local\\\\Programs\\\\Python\\\\Python313;C:\\\\Users\\\\AjayGangwani\\\\AppData\\\\Local\\\\Microsoft\\\\WindowsApps;.',\n",
      " 'PATHEXT': '.COM;.EXE;.BAT;.CMD;.VBS;.VBE;.JS;.JSE;.WSF;.WSH;.MSC',\n",
      " 'PROCESSOR_ARCHITECTURE': 'AMD64',\n",
      " 'PROCESSOR_IDENTIFIER': 'Intel64 Family 6 Model 154 Stepping 4, GenuineIntel',\n",
      " 'PROCESSOR_LEVEL': '6',\n",
      " 'PROCESSOR_REVISION': '9a04',\n",
      " 'PROGRAMDATA': 'C:\\\\ProgramData',\n",
      " 'PROGRAMFILES': 'C:\\\\Program Files',\n",
      " 'PROGRAMFILES(X86)': 'C:\\\\Program Files (x86)',\n",
      " 'PROGRAMW6432': 'C:\\\\Program Files',\n",
      " 'PROMPT': '(base) $P$G',\n",
      " 'PSMODULEPATH': 'C:\\\\Program '\n",
      "                 'Files\\\\WindowsPowerShell\\\\Modules;C:\\\\WINDOWS\\\\system32\\\\WindowsPowerShell\\\\v1.0\\\\Modules;C:\\\\Program '\n",
      "                 'Files (x86)\\\\Microsoft SQL '\n",
      "                 'Server\\\\160\\\\Tools\\\\PowerShell\\\\Modules\\\\',\n",
      " 'PUBLIC': 'C:\\\\Users\\\\Public',\n",
      " 'PYDEVD_USE_FRAME_EVAL': 'NO',\n",
      " 'SESSIONNAME': 'Console',\n",
      " 'SSL_CERT_FILE': 'C:\\\\Users\\\\AjayGangwani\\\\anaconda3\\\\Library\\\\ssl\\\\cacert.pem',\n",
      " 'SYSTEMDRIVE': 'C:',\n",
      " 'SYSTEMROOT': 'C:\\\\WINDOWS',\n",
      " 'TEMP': 'C:\\\\Users\\\\AJAYGA~1\\\\AppData\\\\Local\\\\Temp',\n",
      " 'TERM': 'xterm-color',\n",
      " 'TMP': 'C:\\\\Users\\\\AJAYGA~1\\\\AppData\\\\Local\\\\Temp',\n",
      " 'USERDOMAIN': 'AzureAD',\n",
      " 'USERDOMAIN_ROAMINGPROFILE': 'AzureAD',\n",
      " 'USERNAME': 'AjayGangwani',\n",
      " 'USERPROFILE': 'C:\\\\Users\\\\AjayGangwani',\n",
      " 'WINDIR': 'C:\\\\WINDOWS',\n",
      " 'ZES_ENABLE_SYSMAN': '1',\n",
      " '__CONDA_OPENSLL_CERT_FILE_SET': '\"1\"'}\n"
     ]
    }
   ],
   "source": [
    "import pprint\n",
    "pprint.pprint(dict(result))"
   ]
  },
  {
   "cell_type": "code",
   "execution_count": 36,
   "id": "328bec0f-7197-4fa2-86a4-f61b124df3d7",
   "metadata": {},
   "outputs": [
    {
     "data": {
      "text/plain": [
       "'C:\\\\Users\\\\AjayGangwani\\\\anaconda3;C:\\\\Users\\\\AjayGangwani\\\\anaconda3\\\\Library\\\\mingw-w64\\\\bin;C:\\\\Users\\\\AjayGangwani\\\\anaconda3\\\\Library\\\\usr\\\\bin;C:\\\\Users\\\\AjayGangwani\\\\anaconda3\\\\Library\\\\bin;C:\\\\Users\\\\AjayGangwani\\\\anaconda3\\\\Scripts;C:\\\\Users\\\\AjayGangwani\\\\anaconda3\\\\bin;C:\\\\Users\\\\AjayGangwani\\\\anaconda3\\\\condabin;C:\\\\Users\\\\AjayGangwani\\\\anaconda3;C:\\\\Users\\\\AjayGangwani\\\\anaconda3\\\\Library\\\\mingw-w64\\\\bin;C:\\\\Users\\\\AjayGangwani\\\\anaconda3\\\\Library\\\\usr\\\\bin;C:\\\\Users\\\\AjayGangwani\\\\anaconda3\\\\Library\\\\bin;C:\\\\Users\\\\AjayGangwani\\\\anaconda3\\\\Scripts;C:\\\\WINDOWS\\\\system32;C:\\\\WINDOWS;C:\\\\WINDOWS\\\\System32\\\\Wbem;C:\\\\WINDOWS\\\\System32\\\\WindowsPowerShell\\\\v1.0;C:\\\\WINDOWS\\\\System32\\\\OpenSSH;C:\\\\Program Files\\\\Microsoft VS Code\\\\bin;C:\\\\Program Files\\\\Microsoft SQL Server\\\\150\\\\Tools\\\\Binn;C:\\\\Program Files\\\\Microsoft SQL Server\\\\Client SDK\\\\ODBC\\\\170\\\\Tools\\\\Binn;C:\\\\Program Files\\\\dotnet;C:\\\\Program Files (x86)\\\\Microsoft SQL Server\\\\160\\\\DTS\\\\Binn;C:\\\\Program Files\\\\Azure Data Studio\\\\bin;C:\\\\Program Files (x86)\\\\Microsoft SQL Server\\\\160\\\\Tools\\\\Binn;C:\\\\Program Files\\\\Microsoft SQL Server\\\\160\\\\Tools\\\\Binn;C:\\\\Program Files\\\\Microsoft SQL Server\\\\160\\\\DTS\\\\Binn;C:\\\\Program Files\\\\nodejs;C:\\\\Users\\\\AjayGangwani\\\\AppData\\\\Local\\\\Programs\\\\Python\\\\Python313\\\\Scripts;C:\\\\Users\\\\AjayGangwani\\\\AppData\\\\Local\\\\Programs\\\\Python\\\\Python313;C:\\\\Users\\\\AjayGangwani\\\\AppData\\\\Local\\\\Microsoft\\\\WindowsApps;.'"
      ]
     },
     "execution_count": 36,
     "metadata": {},
     "output_type": "execute_result"
    }
   ],
   "source": [
    "os.environ['PATH']"
   ]
  },
  {
   "cell_type": "code",
   "execution_count": 48,
   "id": "42bf0b38-fef1-49f6-9578-3237c243b325",
   "metadata": {},
   "outputs": [],
   "source": [
    "data={dir:True for dir in os.environ['PATH'].split(\";\")}"
   ]
  },
  {
   "cell_type": "code",
   "execution_count": 49,
   "id": "0fb2f4c0-8034-4b8c-a78c-46c77f0e3af6",
   "metadata": {},
   "outputs": [
    {
     "data": {
      "text/plain": [
       "{'C:\\\\Users\\\\AjayGangwani\\\\anaconda3': True,\n",
       " 'C:\\\\Users\\\\AjayGangwani\\\\anaconda3\\\\Library\\\\mingw-w64\\\\bin': True,\n",
       " 'C:\\\\Users\\\\AjayGangwani\\\\anaconda3\\\\Library\\\\usr\\\\bin': True,\n",
       " 'C:\\\\Users\\\\AjayGangwani\\\\anaconda3\\\\Library\\\\bin': True,\n",
       " 'C:\\\\Users\\\\AjayGangwani\\\\anaconda3\\\\Scripts': True,\n",
       " 'C:\\\\Users\\\\AjayGangwani\\\\anaconda3\\\\bin': True,\n",
       " 'C:\\\\Users\\\\AjayGangwani\\\\anaconda3\\\\condabin': True,\n",
       " 'C:\\\\WINDOWS\\\\system32': True,\n",
       " 'C:\\\\WINDOWS': True,\n",
       " 'C:\\\\WINDOWS\\\\System32\\\\Wbem': True,\n",
       " 'C:\\\\WINDOWS\\\\System32\\\\WindowsPowerShell\\\\v1.0': True,\n",
       " 'C:\\\\WINDOWS\\\\System32\\\\OpenSSH': True,\n",
       " 'C:\\\\Program Files\\\\Microsoft VS Code\\\\bin': True,\n",
       " 'C:\\\\Program Files\\\\Microsoft SQL Server\\\\150\\\\Tools\\\\Binn': True,\n",
       " 'C:\\\\Program Files\\\\Microsoft SQL Server\\\\Client SDK\\\\ODBC\\\\170\\\\Tools\\\\Binn': True,\n",
       " 'C:\\\\Program Files\\\\dotnet': True,\n",
       " 'C:\\\\Program Files (x86)\\\\Microsoft SQL Server\\\\160\\\\DTS\\\\Binn': True,\n",
       " 'C:\\\\Program Files\\\\Azure Data Studio\\\\bin': True,\n",
       " 'C:\\\\Program Files (x86)\\\\Microsoft SQL Server\\\\160\\\\Tools\\\\Binn': True,\n",
       " 'C:\\\\Program Files\\\\Microsoft SQL Server\\\\160\\\\Tools\\\\Binn': True,\n",
       " 'C:\\\\Program Files\\\\Microsoft SQL Server\\\\160\\\\DTS\\\\Binn': True,\n",
       " 'C:\\\\Program Files\\\\nodejs': True,\n",
       " 'C:\\\\Users\\\\AjayGangwani\\\\AppData\\\\Local\\\\Programs\\\\Python\\\\Python313\\\\Scripts': True,\n",
       " 'C:\\\\Users\\\\AjayGangwani\\\\AppData\\\\Local\\\\Programs\\\\Python\\\\Python313': True,\n",
       " 'C:\\\\Users\\\\AjayGangwani\\\\AppData\\\\Local\\\\Microsoft\\\\WindowsApps': True,\n",
       " '.': True}"
      ]
     },
     "execution_count": 49,
     "metadata": {},
     "output_type": "execute_result"
    }
   ],
   "source": [
    "data"
   ]
  },
  {
   "cell_type": "code",
   "execution_count": null,
   "id": "16770d87-b796-4430-ad8a-e42250c8ff3b",
   "metadata": {},
   "outputs": [],
   "source": []
  }
 ],
 "metadata": {
  "kernelspec": {
   "display_name": "Python 3 (ipykernel)",
   "language": "python",
   "name": "python3"
  },
  "language_info": {
   "codemirror_mode": {
    "name": "ipython",
    "version": 3
   },
   "file_extension": ".py",
   "mimetype": "text/x-python",
   "name": "python",
   "nbconvert_exporter": "python",
   "pygments_lexer": "ipython3",
   "version": "3.12.7"
  }
 },
 "nbformat": 4,
 "nbformat_minor": 5
}
