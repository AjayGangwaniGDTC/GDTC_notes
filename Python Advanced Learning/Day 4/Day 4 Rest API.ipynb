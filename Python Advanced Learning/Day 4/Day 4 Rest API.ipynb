{
 "cells": [
  {
   "cell_type": "markdown",
   "id": "84137d1a-2507-412d-be27-b967fc524b38",
   "metadata": {},
   "source": [
    "# REST API\n",
    "Representational State Transfer Application Interface\n",
    "\n",
    "Works on HTTP protocol\n",
    "designed to work on distributed architecture\n",
    "and it is capable to manage request methods like\n",
    "GET\n",
    "POST\n",
    "PUT\n",
    "DELETE\n",
    "PATCH\n",
    "it generates response\n",
    "response can be in any of the given forms HTML,XML,Json\n",
    "\n",
    "Key Feature of REST API\n",
    "Stateless: http is stateless so rest api is also stateless\n",
    "client server architecture\n",
    "Casheable\n",
    "Uniform Interface: need to follow URL patterns as we into HTTPS\n",
    "Layered System: it can have multiple API layers"
   ]
  },
  {
   "cell_type": "code",
   "execution_count": 5,
   "id": "de33dc4e-d73f-44c6-9d4d-b3920dea2f2d",
   "metadata": {},
   "outputs": [
    {
     "name": "stdout",
     "output_type": "stream",
     "text": [
      "Requirement already satisfied: requests in c:\\users\\ajaygangwani\\anaconda3\\lib\\site-packages (2.32.3)\n",
      "Requirement already satisfied: charset-normalizer<4,>=2 in c:\\users\\ajaygangwani\\anaconda3\\lib\\site-packages (from requests) (3.3.2)\n",
      "Requirement already satisfied: idna<4,>=2.5 in c:\\users\\ajaygangwani\\anaconda3\\lib\\site-packages (from requests) (3.7)\n",
      "Requirement already satisfied: urllib3<3,>=1.21.1 in c:\\users\\ajaygangwani\\anaconda3\\lib\\site-packages (from requests) (2.2.3)\n",
      "Requirement already satisfied: certifi>=2017.4.17 in c:\\users\\ajaygangwani\\anaconda3\\lib\\site-packages (from requests) (2024.8.30)\n"
     ]
    }
   ],
   "source": [
    "!pip install requests\n",
    "import requests"
   ]
  },
  {
   "cell_type": "code",
   "execution_count": 13,
   "id": "411b98ce-b98a-4a13-a6a8-e9865773f93d",
   "metadata": {},
   "outputs": [],
   "source": [
    "def fetchone():\n",
    "    url = \"https://jsonplaceholder.typicode.com/posts/1\"    #Step 1: API endpoint\n",
    "    response = requests.get(url)                            #Step 2: Send HTTP GET request\n",
    "    print(\"Status:\", response.status_code)                  #Step 3: Check status code(ok=200)\n",
    "    data = response.json()                                  #Step 4: Convert response JSON to Python dict\n",
    "    print(data)\n",
    "    for i in data.items():\n",
    "        print(i)\n",
    "\n",
    "def fetchmany():\n",
    "    response = requests.get(\"https://jsonplaceholder.typicode.com/posts\") \n",
    "    if response.status_code == 200:\n",
    "        posts = response.json()\n",
    "        for post in posts:\n",
    "            print(f\"{post['title']}\")\n",
    "    else:\n",
    "        print(\"Invalid server request...! \")"
   ]
  },
  {
   "cell_type": "code",
   "execution_count": 15,
   "id": "5d006f96-4013-455b-b0af-78da8f14f4ac",
   "metadata": {},
   "outputs": [
    {
     "name": "stdout",
     "output_type": "stream",
     "text": [
      "Status: 200\n",
      "{'userId': 1, 'id': 1, 'title': 'sunt aut facere repellat provident occaecati excepturi optio reprehenderit', 'body': 'quia et suscipit\\nsuscipit recusandae consequuntur expedita et cum\\nreprehenderit molestiae ut ut quas totam\\nnostrum rerum est autem sunt rem eveniet architecto'}\n",
      "('userId', 1)\n",
      "('id', 1)\n",
      "('title', 'sunt aut facere repellat provident occaecati excepturi optio reprehenderit')\n",
      "('body', 'quia et suscipit\\nsuscipit recusandae consequuntur expedita et cum\\nreprehenderit molestiae ut ut quas totam\\nnostrum rerum est autem sunt rem eveniet architecto')\n"
     ]
    }
   ],
   "source": [
    "fetchone()\n"
   ]
  },
  {
   "cell_type": "code",
   "execution_count": 16,
   "id": "69f3bf41-0eec-4436-b5d3-a51b81108352",
   "metadata": {},
   "outputs": [
    {
     "name": "stdout",
     "output_type": "stream",
     "text": [
      "sunt aut facere repellat provident occaecati excepturi optio reprehenderit\n",
      "qui est esse\n",
      "ea molestias quasi exercitationem repellat qui ipsa sit aut\n",
      "eum et est occaecati\n",
      "nesciunt quas odio\n",
      "dolorem eum magni eos aperiam quia\n",
      "magnam facilis autem\n",
      "dolorem dolore est ipsam\n",
      "nesciunt iure omnis dolorem tempora et accusantium\n",
      "optio molestias id quia eum\n",
      "et ea vero quia laudantium autem\n",
      "in quibusdam tempore odit est dolorem\n",
      "dolorum ut in voluptas mollitia et saepe quo animi\n",
      "voluptatem eligendi optio\n",
      "eveniet quod temporibus\n",
      "sint suscipit perspiciatis velit dolorum rerum ipsa laboriosam odio\n",
      "fugit voluptas sed molestias voluptatem provident\n",
      "voluptate et itaque vero tempora molestiae\n",
      "adipisci placeat illum aut reiciendis qui\n",
      "doloribus ad provident suscipit at\n",
      "asperiores ea ipsam voluptatibus modi minima quia sint\n",
      "dolor sint quo a velit explicabo quia nam\n",
      "maxime id vitae nihil numquam\n",
      "autem hic labore sunt dolores incidunt\n",
      "rem alias distinctio quo quis\n",
      "est et quae odit qui non\n",
      "quasi id et eos tenetur aut quo autem\n",
      "delectus ullam et corporis nulla voluptas sequi\n",
      "iusto eius quod necessitatibus culpa ea\n",
      "a quo magni similique perferendis\n",
      "ullam ut quidem id aut vel consequuntur\n",
      "doloremque illum aliquid sunt\n",
      "qui explicabo molestiae dolorem\n",
      "magnam ut rerum iure\n",
      "id nihil consequatur molestias animi provident\n",
      "fuga nam accusamus voluptas reiciendis itaque\n",
      "provident vel ut sit ratione est\n",
      "explicabo et eos deleniti nostrum ab id repellendus\n",
      "eos dolorem iste accusantium est eaque quam\n",
      "enim quo cumque\n",
      "non est facere\n",
      "commodi ullam sint et excepturi error explicabo praesentium voluptas\n",
      "eligendi iste nostrum consequuntur adipisci praesentium sit beatae perferendis\n",
      "optio dolor molestias sit\n",
      "ut numquam possimus omnis eius suscipit laudantium iure\n",
      "aut quo modi neque nostrum ducimus\n",
      "quibusdam cumque rem aut deserunt\n",
      "ut voluptatem illum ea doloribus itaque eos\n",
      "laborum non sunt aut ut assumenda perspiciatis voluptas\n",
      "repellendus qui recusandae incidunt voluptates tenetur qui omnis exercitationem\n",
      "soluta aliquam aperiam consequatur illo quis voluptas\n",
      "qui enim et consequuntur quia animi quis voluptate quibusdam\n",
      "ut quo aut ducimus alias\n",
      "sit asperiores ipsam eveniet odio non quia\n",
      "sit vel voluptatem et non libero\n",
      "qui et at rerum necessitatibus\n",
      "sed ab est est\n",
      "voluptatum itaque dolores nisi et quasi\n",
      "qui commodi dolor at maiores et quis id accusantium\n",
      "consequatur placeat omnis quisquam quia reprehenderit fugit veritatis facere\n",
      "voluptatem doloribus consectetur est ut ducimus\n",
      "beatae enim quia vel\n",
      "voluptas blanditiis repellendus animi ducimus error sapiente et suscipit\n",
      "et fugit quas eum in in aperiam quod\n",
      "consequatur id enim sunt et et\n",
      "repudiandae ea animi iusto\n",
      "aliquid eos sed fuga est maxime repellendus\n",
      "odio quis facere architecto reiciendis optio\n",
      "fugiat quod pariatur odit minima\n",
      "voluptatem laborum magni\n",
      "et iusto veniam et illum aut fuga\n",
      "sint hic doloribus consequatur eos non id\n",
      "consequuntur deleniti eos quia temporibus ab aliquid at\n",
      "enim unde ratione doloribus quas enim ut sit sapiente\n",
      "dignissimos eum dolor ut enim et delectus in\n",
      "doloremque officiis ad et non perferendis\n",
      "necessitatibus quasi exercitationem odio\n",
      "quam voluptatibus rerum veritatis\n",
      "pariatur consequatur quia magnam autem omnis non amet\n",
      "labore in ex et explicabo corporis aut quas\n",
      "tempora rem veritatis voluptas quo dolores vero\n",
      "laudantium voluptate suscipit sunt enim enim\n",
      "odit et voluptates doloribus alias odio et\n",
      "optio ipsam molestias necessitatibus occaecati facilis veritatis dolores aut\n",
      "dolore veritatis porro provident adipisci blanditiis et sunt\n",
      "placeat quia et porro iste\n",
      "nostrum quis quasi placeat\n",
      "sapiente omnis fugit eos\n",
      "sint soluta et vel magnam aut ut sed qui\n",
      "ad iusto omnis odit dolor voluptatibus\n",
      "aut amet sed\n",
      "ratione ex tenetur perferendis\n",
      "beatae soluta recusandae\n",
      "qui qui voluptates illo iste minima\n",
      "id minus libero illum nam ad officiis\n",
      "quaerat velit veniam amet cupiditate aut numquam ut sequi\n",
      "quas fugiat ut perspiciatis vero provident\n",
      "laboriosam dolor voluptates\n",
      "temporibus sit alias delectus eligendi possimus magni\n",
      "at nam consequatur ea labore ea harum\n"
     ]
    }
   ],
   "source": [
    "fetchmany()"
   ]
  },
  {
   "cell_type": "code",
   "execution_count": 17,
   "id": "64de05c6-d593-43ee-b887-39cdc1cf8b87",
   "metadata": {},
   "outputs": [
    {
     "name": "stdout",
     "output_type": "stream",
     "text": [
      "201\n",
      "Record inserted\n",
      "{'title': 'My First Post', 'body': 'Learning REST APIs in Python!', 'userId': 1, 'id': 101}\n"
     ]
    }
   ],
   "source": [
    "def createData():\n",
    "    url=\"https://jsonplaceholder.typicode.com/posts\"\n",
    "    new_post = {\n",
    "        \"title\": \"My First Post\",\n",
    "        \"body\": \"Learning REST APIs in Python!\",\n",
    "        \"userId\": 1\n",
    "    }\n",
    "    response = requests.post(url, json=new_post)\n",
    "    if(response.status_code==201):\n",
    "        print(response.status_code)\n",
    "        print(\"Record inserted\")\n",
    "        print(response.json())\n",
    "    else:\n",
    "        print(\"Invalid Server request\")\n",
    "\n",
    "createData()"
   ]
  },
  {
   "cell_type": "code",
   "execution_count": 18,
   "id": "d6b20707-56fc-4926-b2e9-851385884d61",
   "metadata": {},
   "outputs": [
    {
     "name": "stdout",
     "output_type": "stream",
     "text": [
      "200\n",
      "{'id': 1, 'title': 'Updated Title', 'body': 'Updated content using PUT', 'userId': 1}\n"
     ]
    }
   ],
   "source": [
    "updated_post = {\n",
    "    \"id\": 1,\n",
    "    \"title\": \"Updated Title\",\n",
    "    \"body\": \"Updated content using PUT\",\n",
    "    \"userId\": 1\n",
    "}\n",
    "response = requests.put(\"https://jsonplaceholder.typicode.com/posts/1\", json=updated_post)\n",
    "print(response.status_code)\n",
    "print(response.json())"
   ]
  },
  {
   "cell_type": "code",
   "execution_count": 19,
   "id": "91e10ecc-9428-49e2-a795-ec44db18af44",
   "metadata": {},
   "outputs": [
    {
     "name": "stdout",
     "output_type": "stream",
     "text": [
      "200\n",
      "{'userId': 1, 'id': 1, 'title': 'Patched Title', 'body': 'quia et suscipit\\nsuscipit recusandae consequuntur expedita et cum\\nreprehenderit molestiae ut ut quas totam\\nnostrum rerum est autem sunt rem eveniet architecto'}\n"
     ]
    }
   ],
   "source": [
    "partial_update = {\n",
    "    \"title\": \"Patched Title\"\n",
    "}\n",
    "\n",
    "response = requests.patch(\"https://jsonplaceholder.typicode.com/posts/1\", json=partial_update)\n",
    "print(response.status_code)\n",
    "print(response.json())"
   ]
  },
  {
   "cell_type": "code",
   "execution_count": 20,
   "id": "ba0c9bd8-ee87-458e-a516-1adc45bad0bd",
   "metadata": {},
   "outputs": [
    {
     "name": "stdout",
     "output_type": "stream",
     "text": [
      "200\n"
     ]
    }
   ],
   "source": [
    "response = requests.delete(\"https://jsonplaceholder.typicode.com/posts/1\")\n",
    "print(response.status_code) #200 or 204 = success"
   ]
  },
  {
   "cell_type": "code",
   "execution_count": 23,
   "id": "e7d4fc00-e2f5-45ef-8f96-52d0800baf03",
   "metadata": {},
   "outputs": [
    {
     "name": "stdout",
     "output_type": "stream",
     "text": [
      "{'userId': 1, 'id': 1, 'title': 'sunt aut facere repellat provident occaecati excepturi optio reprehenderit', 'body': 'quia et suscipit\\nsuscipit recusandae consequuntur expedita et cum\\nreprehenderit molestiae ut ut quas totam\\nnostrum rerum est autem sunt rem eveniet architecto'}\n"
     ]
    }
   ],
   "source": [
    "try:\n",
    "    url = \"https://jsonplaceholder.typicode.com/posts/1\"\n",
    "    response = requests.get(url, timeout=5)\n",
    "    response.raise_for_status()\n",
    "    print(response.json())\n",
    "except requests.exceptions.HTTPError as err:\n",
    "    print(f\"HTTP error: {err}\")\n",
    "except requests.exceptions.ConnectionError:\n",
    "    print(\"Network Issue.\")\n",
    "except Exception as e:\n",
    "    print(f\"Unknown error: {e}\")"
   ]
  },
  {
   "cell_type": "code",
   "execution_count": 32,
   "id": "7c52496b-6ed5-4022-b8ec-9fe37abeb19e",
   "metadata": {},
   "outputs": [
    {
     "name": "stdout",
     "output_type": "stream",
     "text": [
      "200\n",
      "<class 'dict'>\n",
      "Index(['period', 'stateId', 'stateDescription', 'producertypeid',\n",
      "       'producerTypeDescription', 'energysourceid', 'energySourceDescription'],\n",
      "      dtype='object')\n"
     ]
    }
   ],
   "source": [
    "import requests\n",
    "import json\n",
    "api_key = \"0L1krdePYrx0Md6DNVesr53iVGqlGhfycwFyofwY\"\n",
    "url = \"https://api.eia.gov/v2/electricity/state-electricity-profiles/capability/data/\"\n",
    "params={\n",
    "    \"api_key\": api_key,\n",
    "    \"frequency\": \"annual\",\n",
    "    \"start\": \"2022\",\n",
    "    \"end\": \"2023\",\n",
    "    \"facets[stateId][]\": \"CA\"\n",
    "}\n",
    "response=requests.get(url,params,timeout=10)\n",
    "print(response.status_code)\n",
    "data=response.json()\n",
    "print(type(data))\n",
    "record=data.get('response', {}).get('data', {})\n",
    "# print(record)\n",
    "\n",
    "# Converting the data into Json File\n",
    "with open(\"electricity.json\", \"w\") as file:\n",
    "    json.dump(data, file, indent=4)\n",
    "\n",
    "#Converting the Json data into CSV\n",
    "import pandas as pd\n",
    "df = pd.DataFrame(record)\n",
    "df.to_csv(\"api_eia_record.csv\", index=False)\n",
    "print(df.columns)"
   ]
  },
  {
   "cell_type": "code",
   "execution_count": null,
   "id": "0ce2d4f9-9a2d-47c6-a6e7-0bfc94f080ef",
   "metadata": {},
   "outputs": [],
   "source": []
  }
 ],
 "metadata": {
  "kernelspec": {
   "display_name": "Python 3 (ipykernel)",
   "language": "python",
   "name": "python3"
  },
  "language_info": {
   "codemirror_mode": {
    "name": "ipython",
    "version": 3
   },
   "file_extension": ".py",
   "mimetype": "text/x-python",
   "name": "python",
   "nbconvert_exporter": "python",
   "pygments_lexer": "ipython3",
   "version": "3.12.7"
  }
 },
 "nbformat": 4,
 "nbformat_minor": 5
}
