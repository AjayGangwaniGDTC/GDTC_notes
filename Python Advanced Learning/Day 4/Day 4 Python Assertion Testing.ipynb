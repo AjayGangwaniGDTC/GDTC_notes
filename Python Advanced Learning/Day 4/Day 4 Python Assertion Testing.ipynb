{
 "cells": [
  {
   "cell_type": "markdown",
   "id": "ebd5ed20-fa99-48b4-ab7e-89799c10f28c",
   "metadata": {},
   "source": [
    "# Working with Python Testing\n"
   ]
  },
  {
   "cell_type": "markdown",
   "id": "b271a34a-f1c6-4ec2-8011-07b3e3625490",
   "metadata": {},
   "source": [
    "## assert"
   ]
  },
  {
   "cell_type": "code",
   "execution_count": 1,
   "id": "e0efd5d4-178b-460e-bf5c-88a9b90d0756",
   "metadata": {},
   "outputs": [],
   "source": [
    "def square(n):\n",
    "    return n*n"
   ]
  },
  {
   "cell_type": "code",
   "execution_count": 2,
   "id": "024732fa-857d-47b8-bc45-95c1b4522c38",
   "metadata": {},
   "outputs": [],
   "source": [
    "assert square(3) == 9"
   ]
  },
  {
   "cell_type": "code",
   "execution_count": 3,
   "id": "b6cf5a6a-51d2-4156-9e05-9d03319e3196",
   "metadata": {},
   "outputs": [
    {
     "ename": "AssertionError",
     "evalue": "",
     "output_type": "error",
     "traceback": [
      "\u001b[1;31m---------------------------------------------------------------------------\u001b[0m",
      "\u001b[1;31mAssertionError\u001b[0m                            Traceback (most recent call last)",
      "Cell \u001b[1;32mIn[3], line 1\u001b[0m\n\u001b[1;32m----> 1\u001b[0m \u001b[38;5;28;01massert\u001b[39;00m square(\u001b[38;5;241m3\u001b[39m) \u001b[38;5;241m==\u001b[39m \u001b[38;5;241m7\u001b[39m\n",
      "\u001b[1;31mAssertionError\u001b[0m: "
     ]
    }
   ],
   "source": [
    "assert square(3) == 7"
   ]
  },
  {
   "cell_type": "code",
   "execution_count": 6,
   "id": "0e058511-80b9-4303-afd3-16bc16ab5e6d",
   "metadata": {},
   "outputs": [
    {
     "ename": "AssertionError",
     "evalue": "",
     "output_type": "error",
     "traceback": [
      "\u001b[1;31m---------------------------------------------------------------------------\u001b[0m",
      "\u001b[1;31mAssertionError\u001b[0m                            Traceback (most recent call last)",
      "Cell \u001b[1;32mIn[6], line 4\u001b[0m\n\u001b[0;32m      2\u001b[0m     \u001b[38;5;28;01mreturn\u001b[39;00m n\u001b[38;5;241m%\u001b[39m\u001b[38;5;241m2\u001b[39m \u001b[38;5;241m==\u001b[39m \u001b[38;5;241m0\u001b[39m\n\u001b[0;32m      3\u001b[0m \u001b[38;5;28;01massert\u001b[39;00m is_even(\u001b[38;5;241m4\u001b[39m) \u001b[38;5;241m==\u001b[39m \u001b[38;5;28;01mTrue\u001b[39;00m\n\u001b[1;32m----> 4\u001b[0m \u001b[38;5;28;01massert\u001b[39;00m is_even(\u001b[38;5;241m7\u001b[39m) \u001b[38;5;241m==\u001b[39m \u001b[38;5;28;01mTrue\u001b[39;00m\n",
      "\u001b[1;31mAssertionError\u001b[0m: "
     ]
    }
   ],
   "source": [
    "def is_even(n):\n",
    "    return n%2 == 0\n",
    "assert is_even(4) == True\n",
    "assert is_even(7) == True"
   ]
  },
  {
   "cell_type": "code",
   "execution_count": 7,
   "id": "bcef0e69-9095-4382-8e20-00135dbe5f14",
   "metadata": {},
   "outputs": [],
   "source": [
    "l = [12,2,3]\n",
    "assert len(l) == 3"
   ]
  },
  {
   "cell_type": "code",
   "execution_count": 8,
   "id": "d400ec1d-ecd4-4e17-8000-98ec206e6e3b",
   "metadata": {},
   "outputs": [
    {
     "ename": "AssertionError",
     "evalue": "",
     "output_type": "error",
     "traceback": [
      "\u001b[1;31m---------------------------------------------------------------------------\u001b[0m",
      "\u001b[1;31mAssertionError\u001b[0m                            Traceback (most recent call last)",
      "Cell \u001b[1;32mIn[8], line 1\u001b[0m\n\u001b[1;32m----> 1\u001b[0m \u001b[38;5;28;01massert\u001b[39;00m \u001b[38;5;28mlen\u001b[39m(l) \u001b[38;5;241m==\u001b[39m \u001b[38;5;241m2\u001b[39m\n",
      "\u001b[1;31mAssertionError\u001b[0m: "
     ]
    }
   ],
   "source": [
    "assert len(l) == 2"
   ]
  },
  {
   "cell_type": "code",
   "execution_count": 9,
   "id": "9c336c84-7a53-432b-80c0-38c64bc67c48",
   "metadata": {},
   "outputs": [],
   "source": [
    "def divide(a,b):\n",
    "    if b == 0:\n",
    "        return None\n",
    "    return a/b\n",
    "\n",
    "assert divide(10,2)==5\n",
    "assert divide(10,0) is None"
   ]
  },
  {
   "cell_type": "code",
   "execution_count": 11,
   "id": "400810b8-9059-4edd-a61c-12c3b1ebacd8",
   "metadata": {},
   "outputs": [],
   "source": [
    "data=[10,20,30,40,50]\n",
    "for d in data:\n",
    "    assert d>0, \"All are positive number\""
   ]
  },
  {
   "cell_type": "code",
   "execution_count": 12,
   "id": "57419b3e-5d27-4e1a-ad90-a1315279e936",
   "metadata": {},
   "outputs": [
    {
     "ename": "AssertionError",
     "evalue": "",
     "output_type": "error",
     "traceback": [
      "\u001b[1;31m---------------------------------------------------------------------------\u001b[0m",
      "\u001b[1;31mAssertionError\u001b[0m                            Traceback (most recent call last)",
      "Cell \u001b[1;32mIn[12], line 5\u001b[0m\n\u001b[0;32m      2\u001b[0m     \u001b[38;5;28;01mreturn\u001b[39;00m \u001b[38;5;124mf\u001b[39m\u001b[38;5;124m\"\u001b[39m\u001b[38;5;124mHello, \u001b[39m\u001b[38;5;132;01m{\u001b[39;00mname\u001b[38;5;241m.\u001b[39mtitle()\u001b[38;5;132;01m}\u001b[39;00m\u001b[38;5;124m.....!\u001b[39m\u001b[38;5;124m\"\u001b[39m\n\u001b[0;32m      4\u001b[0m result \u001b[38;5;241m=\u001b[39m greeting(\u001b[38;5;124m\"\u001b[39m\u001b[38;5;124mShreeja\u001b[39m\u001b[38;5;124m\"\u001b[39m)\n\u001b[1;32m----> 5\u001b[0m \u001b[38;5;28;01massert\u001b[39;00m result \u001b[38;5;241m==\u001b[39m \u001b[38;5;124m\"\u001b[39m\u001b[38;5;124mHello, Shreeja...!\u001b[39m\u001b[38;5;124m\"\u001b[39m\n\u001b[0;32m      6\u001b[0m \u001b[38;5;28;01massert\u001b[39;00m result \u001b[38;5;241m==\u001b[39m \u001b[38;5;124m\"\u001b[39m\u001b[38;5;124mHello, Kavya...!\u001b[39m\u001b[38;5;124m\"\u001b[39m\n",
      "\u001b[1;31mAssertionError\u001b[0m: "
     ]
    }
   ],
   "source": [
    "def greeting(name):\n",
    "    return f\"Hello, {name.title()}.....!\"\n",
    "\n",
    "result = greeting(\"Shreeja\")\n",
    "assert result == \"Hello, Shreeja...!\"\n",
    "assert result == \"Hello, Kavya...!\"\n"
   ]
  },
  {
   "cell_type": "code",
   "execution_count": 13,
   "id": "332a9953-7c6e-41a9-93e1-c4a2198795bb",
   "metadata": {},
   "outputs": [
    {
     "ename": "AssertionError",
     "evalue": "",
     "output_type": "error",
     "traceback": [
      "\u001b[1;31m---------------------------------------------------------------------------\u001b[0m",
      "\u001b[1;31mAssertionError\u001b[0m                            Traceback (most recent call last)",
      "Cell \u001b[1;32mIn[13], line 6\u001b[0m\n\u001b[0;32m      4\u001b[0m \u001b[38;5;28;01massert\u001b[39;00m add_and_double(\u001b[38;5;241m2\u001b[39m,\u001b[38;5;241m3\u001b[39m) \u001b[38;5;241m==\u001b[39m \u001b[38;5;241m10\u001b[39m\n\u001b[0;32m      5\u001b[0m \u001b[38;5;28;01massert\u001b[39;00m add_and_double(\u001b[38;5;241m2\u001b[39m,\u001b[38;5;241m-\u001b[39m\u001b[38;5;241m2\u001b[39m) \u001b[38;5;241m==\u001b[39m \u001b[38;5;241m0\u001b[39m\n\u001b[1;32m----> 6\u001b[0m \u001b[38;5;28;01massert\u001b[39;00m add_and_double(\u001b[38;5;241m3\u001b[39m,\u001b[38;5;241m2\u001b[39m) \u001b[38;5;241m==\u001b[39m \u001b[38;5;241m5\u001b[39m\n",
      "\u001b[1;31mAssertionError\u001b[0m: "
     ]
    }
   ],
   "source": [
    "def add_and_double(x,y):\n",
    "    return (x+y)*2\n",
    "\n",
    "assert add_and_double(2,3) == 10\n",
    "assert add_and_double(2,-2) == 0\n",
    "assert add_and_double(3,2) == 5\n"
   ]
  },
  {
   "cell_type": "code",
   "execution_count": 14,
   "id": "b2ea9f15-8960-450a-ae51-90f52548f539",
   "metadata": {},
   "outputs": [
    {
     "ename": "AssertionError",
     "evalue": "",
     "output_type": "error",
     "traceback": [
      "\u001b[1;31m---------------------------------------------------------------------------\u001b[0m",
      "\u001b[1;31mAssertionError\u001b[0m                            Traceback (most recent call last)",
      "Cell \u001b[1;32mIn[14], line 4\u001b[0m\n\u001b[0;32m      2\u001b[0m \u001b[38;5;28;01massert\u001b[39;00m \u001b[38;5;124m\"\u001b[39m\u001b[38;5;124mname\u001b[39m\u001b[38;5;124m\"\u001b[39m \u001b[38;5;129;01min\u001b[39;00m user\n\u001b[0;32m      3\u001b[0m \u001b[38;5;28;01massert\u001b[39;00m user[\u001b[38;5;124m\"\u001b[39m\u001b[38;5;124mrole\u001b[39m\u001b[38;5;124m\"\u001b[39m]\u001b[38;5;241m==\u001b[39m\u001b[38;5;124m\"\u001b[39m\u001b[38;5;124mHR\u001b[39m\u001b[38;5;124m\"\u001b[39m\n\u001b[1;32m----> 4\u001b[0m \u001b[38;5;28;01massert\u001b[39;00m user[\u001b[38;5;124m\"\u001b[39m\u001b[38;5;124mrole\u001b[39m\u001b[38;5;124m\"\u001b[39m]\u001b[38;5;241m==\u001b[39m\u001b[38;5;124m\"\u001b[39m\u001b[38;5;124mAdmin\u001b[39m\u001b[38;5;124m\"\u001b[39m\n",
      "\u001b[1;31mAssertionError\u001b[0m: "
     ]
    }
   ],
   "source": [
    "user={'name':'kavya','role':'HR'}\n",
    "assert \"name\" in user\n",
    "assert user[\"role\"]==\"HR\"\n",
    "assert user[\"role\"]==\"Admin\""
   ]
  },
  {
   "cell_type": "code",
   "execution_count": null,
   "id": "07ea3a86-3730-46c1-bea0-fddf614f7eeb",
   "metadata": {},
   "outputs": [],
   "source": []
  }
 ],
 "metadata": {
  "kernelspec": {
   "display_name": "Python 3 (ipykernel)",
   "language": "python",
   "name": "python3"
  },
  "language_info": {
   "codemirror_mode": {
    "name": "ipython",
    "version": 3
   },
   "file_extension": ".py",
   "mimetype": "text/x-python",
   "name": "python",
   "nbconvert_exporter": "python",
   "pygments_lexer": "ipython3",
   "version": "3.12.7"
  }
 },
 "nbformat": 4,
 "nbformat_minor": 5
}
