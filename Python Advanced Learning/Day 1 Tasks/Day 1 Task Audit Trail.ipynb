{
 "cells": [
  {
   "cell_type": "markdown",
   "id": "140499e4-d28b-46d7-9936-1be8230d03ca",
   "metadata": {},
   "source": [
    "# Task 4: Audit Trail"
   ]
  },
  {
   "cell_type": "markdown",
   "id": "9407a9c2-0f3f-471a-a892-9b5e885bf796",
   "metadata": {},
   "source": [
    "Story: In a corporate LMS, you want to log who performed which action and when—like “User A updated Course B on Date C.”"
   ]
  },
  {
   "cell_type": "code",
   "execution_count": 1,
   "id": "2ba2a252-23e4-4d01-8862-e07bad1a9e44",
   "metadata": {},
   "outputs": [],
   "source": [
    "import functools\n",
    "import logging\n",
    "import datetime"
   ]
  },
  {
   "cell_type": "code",
   "execution_count": 2,
   "id": "1159e1c5-f036-493f-bd74-0ca31023d7fc",
   "metadata": {},
   "outputs": [],
   "source": [
    "logging.basicConfig(filename=\"audittrail.log\",\n",
    "                    format='%(asctime)s - %(levelname)s - %(message)s',\n",
    "                    filemode='a+',\n",
    "                   level=logging.DEBUG)\n",
    "\n",
    "def log_action(log_level):\n",
    "    def decorator(func):\n",
    "        @functools.wraps(func)\n",
    "        def wrapper(*args,**kwargs):\n",
    "            user = kwargs.get('user_name', None)\n",
    "            course_name = kwargs.get('course', None)\n",
    "            msg = f\"User {user} have executed function {func.__name__}() and updated the course {course_name}\"\n",
    "            result = func(*args,**kwargs)\n",
    "\n",
    "            if log_level=='INFO':\n",
    "                logging.info(f\"{log_level}, {msg}\")\n",
    "            elif log_level=='DEBUG':\n",
    "                logging.debug(f\"{log_level}, {msg}\")\n",
    "            elif log_level=='WARNING':\n",
    "                logging.debug(f\"{log_level}, {msg}\")\n",
    "            elif log_level=='ERROR':\n",
    "                logging.error(f\"{log_level}, {msg}\")\n",
    "            elif log_level=='CRITICAL':\n",
    "                logging.critical(f\"{log_level}, {msg}\")\n",
    "            else:\n",
    "                logging.info(\"Wrong level selected\")\n",
    "            return result\n",
    "        return wrapper\n",
    "    return decorator\n",
    "                "
   ]
  },
  {
   "cell_type": "code",
   "execution_count": 3,
   "id": "9ebb2839-d5ab-473a-8ed0-be948ad79a0b",
   "metadata": {},
   "outputs": [],
   "source": [
    "@log_action(log_level='ERROR')\n",
    "def user_action(user_name, course):\n",
    "    print(f\"Hello user {user_name} you have successfully modified the course {course_name}\")"
   ]
  },
  {
   "cell_type": "code",
   "execution_count": 4,
   "id": "97fdf387-73b3-430f-a5d7-85a6410ac8b3",
   "metadata": {},
   "outputs": [
    {
     "name": "stdin",
     "output_type": "stream",
     "text": [
      "Enter your name:  Ajay\n",
      "Enter the course name you want to modify:  Python\n"
     ]
    },
    {
     "name": "stdout",
     "output_type": "stream",
     "text": [
      "Hello user Ajay you have successfully modified the course Python\n"
     ]
    }
   ],
   "source": [
    "user = input(\"Enter your name: \")\n",
    "course_name = input(\"Enter the course name you want to modify: \")\n",
    "user_action(user_name = user, course = course_name)"
   ]
  },
  {
   "cell_type": "code",
   "execution_count": null,
   "id": "1901a7c2-ff3b-4a02-9e08-8ee72429a983",
   "metadata": {},
   "outputs": [],
   "source": []
  }
 ],
 "metadata": {
  "kernelspec": {
   "display_name": "Python 3 (ipykernel)",
   "language": "python",
   "name": "python3"
  },
  "language_info": {
   "codemirror_mode": {
    "name": "ipython",
    "version": 3
   },
   "file_extension": ".py",
   "mimetype": "text/x-python",
   "name": "python",
   "nbconvert_exporter": "python",
   "pygments_lexer": "ipython3",
   "version": "3.12.7"
  }
 },
 "nbformat": 4,
 "nbformat_minor": 5
}
