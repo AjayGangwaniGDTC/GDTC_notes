{
 "cells": [
  {
   "cell_type": "markdown",
   "id": "b62a937d-2066-431c-b0ad-4e20ef66ca92",
   "metadata": {},
   "source": [
    "# Task 1: Security Gatekeeper"
   ]
  },
  {
   "cell_type": "markdown",
   "id": "a7e02575-86d8-4dcf-9230-bccc4aefed52",
   "metadata": {},
   "source": [
    "Story: You're building a corporate training portal. Each page (function) is protected by a role-based access system. \n",
    "Only users with the correct roles—like admin, trainer, or learner—should access certain features."
   ]
  },
  {
   "cell_type": "code",
   "execution_count": 1,
   "id": "073afa43-2499-4806-aa5b-17a5db7a00e7",
   "metadata": {},
   "outputs": [],
   "source": [
    "courses_dict = {}\n",
    "courses_enrolled = {}"
   ]
  },
  {
   "cell_type": "code",
   "execution_count": 9,
   "id": "2ee73dd9-0bd1-4fb1-9742-e39868879cd9",
   "metadata": {},
   "outputs": [
    {
     "name": "stdin",
     "output_type": "stream",
     "text": [
      "Enter the integer corresponding to your role \n",
      "1. Trainer \n",
      "2. Learner \n",
      "3. Admin\n",
      " 3\n",
      "Please enter corresponding integer to what you wanted to do \n",
      "1. Add Course \n",
      "2. Enroll in a course \n",
      "3. Access admin previliges\n",
      " 3\n"
     ]
    },
    {
     "name": "stdout",
     "output_type": "stream",
     "text": [
      " Access granted for role: admin\n",
      "The courses taught by instructors are\n",
      "Instructor: Courses\n",
      "{'Ajay': ['Python', 'SQL'], 'Sunny': ['SQL', 'Python Advanced', 'Numpy']}\n",
      "\n",
      " The students enrolled in the courses are\n",
      "Student: {Instructor: Courses}\n",
      "{'Sumit': {'Ajay': 'Python'}}\n"
     ]
    }
   ],
   "source": [
    "def role_required(role):\n",
    "    def decorator(func):\n",
    "        def wrapper(*args, **kwargs):\n",
    "            user_role = kwargs.get('user_role', None)\n",
    "            if user_role == role:\n",
    "                print(f\" Access granted for role: {role}\")\n",
    "                return func(*args, **kwargs)\n",
    "            else:\n",
    "                print(f\" Access denied. Required role: {role}, but got: {user_role}\")\n",
    "        return wrapper\n",
    "    return decorator\n",
    "\n",
    "@role_required(\"trainer\")\n",
    "def course_addition(**kwargs):\n",
    "    lst = []\n",
    "    n = int(input(\"Enter the number of courses you want to add:\"))\n",
    "    key = input(\"Enter instructor name:\")\n",
    "    for i in range(n):\n",
    "        value = input(\"Enter the name of the course:\")\n",
    "        lst.append(value)\n",
    "        print(lst)\n",
    "\n",
    "    courses_dict[key] = lst\n",
    "    print(f\"The courses you have added are '{lst}' with the instructor '{key}'\")\n",
    "\n",
    "@role_required(\"learner\")\n",
    "def course_enrollment(**kwargs):\n",
    "    if not courses_dict:\n",
    "        print(\"Please wait for the instructor to add courses\")\n",
    "        return\n",
    "        \n",
    "    print(\"The list of the courses trained by trainer are as follows\")\n",
    "    print(\"Trainer: Course\")\n",
    "    for k, v in courses_dict.items():\n",
    "        for item in v:\n",
    "            print(f\"{k}: {item}\")\n",
    "\n",
    "    student = input(\"Enter Your Name:\")\n",
    "    instructor = input(\"Write the instructor name whose course you want to enroll:\")\n",
    "    course = input(f\"Enter the name of the course for the instructor {instructor}:\")\n",
    "    if(instructor in courses_dict and course in courses_dict[instructor]):\n",
    "        if student in courses_enrolled:\n",
    "            courses_enrolled[student][instructor] = course\n",
    "        else:\n",
    "            courses_enrolled[student] = {instructor: course}\n",
    "        print(f\"You have successfully enrolled in the {course} course by the instructor {instructor}\")\n",
    "        print(\"Your Enrollments:\")\n",
    "        for k,v in courses_enrolled.items():\n",
    "            print(f\"{k}: {v}\")\n",
    "    else:\n",
    "        print(\"Please enter the correct instructor or course name\")\n",
    "\n",
    "@role_required('admin')\n",
    "def admin_privileges(**kwargs):\n",
    "    print(\"The courses taught by instructors are\")\n",
    "    print(\"Instructor: Courses\")\n",
    "    print(courses_dict)\n",
    "\n",
    "    print(\"\\n The students enrolled in the courses are\")\n",
    "    print(\"Student: {Instructor: Courses}\")\n",
    "    print(courses_enrolled)\n",
    "\n",
    "choice = int(input(\"Enter the integer corresponding to your role \\n1. Trainer \\n2. Learner \\n3. Admin\\n\"))\n",
    "match choice:\n",
    "    case 1:\n",
    "        role = \"trainer\"\n",
    "    case 2:\n",
    "        role = \"learner\"\n",
    "    case 3: \n",
    "        role = \"admin\"\n",
    "    case _:\n",
    "        print(\"Invalid choice\")\n",
    "        exit()\n",
    "        \n",
    "option = int(input(\"Please enter corresponding integer to what you wanted to do \\n1. Add Course \\n2. Enroll in a course \\n3. Access admin previliges\\n\"))\n",
    "match option:\n",
    "    case 1:\n",
    "        course_addition(user_role=role)\n",
    "    case 2:\n",
    "        course_enrollment(user_role=role)\n",
    "    case 3:\n",
    "        admin_privileges(user_role=role)\n",
    "    case _:\n",
    "        print(\"Invalid Option\")\n"
   ]
  }
 ],
 "metadata": {
  "kernelspec": {
   "display_name": "Python 3 (ipykernel)",
   "language": "python",
   "name": "python3"
  },
  "language_info": {
   "codemirror_mode": {
    "name": "ipython",
    "version": 3
   },
   "file_extension": ".py",
   "mimetype": "text/x-python",
   "name": "python",
   "nbconvert_exporter": "python",
   "pygments_lexer": "ipython3",
   "version": "3.12.7"
  }
 },
 "nbformat": 4,
 "nbformat_minor": 5
}
