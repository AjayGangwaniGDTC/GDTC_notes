{
 "cells": [
  {
   "cell_type": "markdown",
   "id": "633eb10d-aaf7-4eb7-a619-ffbadd65846e",
   "metadata": {},
   "source": [
    "# Task 5: Retry Potion"
   ]
  },
  {
   "cell_type": "markdown",
   "id": "3ca332d6-4a18-4c06-b60f-7dee82a054e8",
   "metadata": {},
   "source": [
    "Story: A data fetch spell from your training API sometimes fails due to unstable magic (i.e., the network). But retrying often works."
   ]
  },
  {
   "cell_type": "code",
   "execution_count": 2,
   "id": "7b83deac-f881-4fc8-bbc5-65ad26e22925",
   "metadata": {},
   "outputs": [],
   "source": [
    "import functools\n",
    "import logging\n",
    "import time"
   ]
  },
  {
   "cell_type": "code",
   "execution_count": 3,
   "id": "5a742201-a3df-4454-9d9d-1ed7aa3038aa",
   "metadata": {},
   "outputs": [],
   "source": [
    "def retry_on_failure(retries):\n",
    "    def decorator(func):\n",
    "        @functools.wraps(func)\n",
    "        def wrapper(*args, **kwargs):\n",
    "            last_exec = None\n",
    "            for i in range(retries):\n",
    "                try:\n",
    "                    return func(*args, **kwargs)\n",
    "                except Exception as e:\n",
    "                    print(\"API call failed please wait retrying\")\n",
    "                    last_exec=e\n",
    "                    time.sleep(2)\n",
    "            return last_exec\n",
    "        return wrapper\n",
    "    return decorator"
   ]
  },
  {
   "cell_type": "code",
   "execution_count": 4,
   "id": "b3e01ac8-fa44-4924-b781-9cc8f6264dd5",
   "metadata": {},
   "outputs": [],
   "source": [
    "@retry_on_failure(retries=5)\n",
    "def api_call():\n",
    "    raise ValueError(\"API call fail\")"
   ]
  },
  {
   "cell_type": "code",
   "execution_count": 5,
   "id": "3c97d630-b02b-4e06-a728-9b1681b0425c",
   "metadata": {},
   "outputs": [
    {
     "name": "stdout",
     "output_type": "stream",
     "text": [
      "API call failed please wait retrying\n",
      "API call failed please wait retrying\n",
      "API call failed please wait retrying\n",
      "API call failed please wait retrying\n",
      "API call failed please wait retrying\n"
     ]
    },
    {
     "data": {
      "text/plain": [
       "ValueError('API call fail')"
      ]
     },
     "execution_count": 5,
     "metadata": {},
     "output_type": "execute_result"
    }
   ],
   "source": [
    "api_call()"
   ]
  },
  {
   "cell_type": "code",
   "execution_count": null,
   "id": "e1842b85-4242-4647-a2fc-6fd6f3176809",
   "metadata": {},
   "outputs": [],
   "source": []
  }
 ],
 "metadata": {
  "kernelspec": {
   "display_name": "Python 3 (ipykernel)",
   "language": "python",
   "name": "python3"
  },
  "language_info": {
   "codemirror_mode": {
    "name": "ipython",
    "version": 3
   },
   "file_extension": ".py",
   "mimetype": "text/x-python",
   "name": "python",
   "nbconvert_exporter": "python",
   "pygments_lexer": "ipython3",
   "version": "3.12.7"
  }
 },
 "nbformat": 4,
 "nbformat_minor": 5
}
