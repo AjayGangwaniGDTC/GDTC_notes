{
 "cells": [
  {
   "cell_type": "markdown",
   "id": "66d3e561-b4f0-4611-b3c0-9c951b437b29",
   "metadata": {},
   "source": [
    "# Task 2: Task Tracker"
   ]
  },
  {
   "cell_type": "markdown",
   "id": "08603d29-54c0-4349-aaf6-f9c52c6e04e3",
   "metadata": {},
   "source": [
    "Story: Your project manager wants to monitor how long different training tasks take to complete—like uploading materials, running scripts, or exporting reports."
   ]
  },
  {
   "cell_type": "code",
   "execution_count": 2,
   "id": "566d686c-4c9c-4b77-b4ad-d3b7413b6364",
   "metadata": {},
   "outputs": [],
   "source": [
    "import functools\n",
    "import time"
   ]
  },
  {
   "cell_type": "code",
   "execution_count": 3,
   "id": "cc089693-62d1-4177-8ee6-6a367d62141d",
   "metadata": {},
   "outputs": [],
   "source": [
    "def timer(func):\n",
    "    @functools.wraps(func)\n",
    "    def wrapper_timer(*args,**kwargs):\n",
    "        start_time=time.perf_counter()\n",
    "        value=func(*args,**kwargs)\n",
    "        end_time=time.perf_counter()\n",
    "        run_time=start_time-end_time\n",
    "        print(f\"Finished {func.__name__}() with in {run_time} sec\")\n",
    "        return value\n",
    "    return wrapper_timer"
   ]
  },
  {
   "cell_type": "code",
   "execution_count": 4,
   "id": "e90b8752-af45-4a62-86b1-f722a8fb3a1f",
   "metadata": {},
   "outputs": [],
   "source": [
    "@timer\n",
    "def table(n):\n",
    "    for i in range(1, 11):\n",
    "        print(f\"{n} * {i} = {n * i}\")\n",
    "\n",
    "@timer\n",
    "def age_comparison(age):\n",
    "    if age >= 0 and age < 10:\n",
    "        print(\"You are a kid\")\n",
    "    elif age >= 10 and age < 18:\n",
    "        print(\"You are a teenager\")\n",
    "    elif age >= 18 and age < 60:\n",
    "        print(\"You are an adult\")\n",
    "    elif age >= 60:\n",
    "        print(\"You are senior citizen\")\n",
    "    else:\n",
    "        print(\"Enter a valid choice\")"
   ]
  },
  {
   "cell_type": "code",
   "execution_count": 5,
   "id": "282ce6ec-8de2-4b76-820f-e5a53ed459a8",
   "metadata": {},
   "outputs": [
    {
     "name": "stdout",
     "output_type": "stream",
     "text": [
      "100 * 1 = 100\n",
      "100 * 2 = 200\n",
      "100 * 3 = 300\n",
      "100 * 4 = 400\n",
      "100 * 5 = 500\n",
      "100 * 6 = 600\n",
      "100 * 7 = 700\n",
      "100 * 8 = 800\n",
      "100 * 9 = 900\n",
      "100 * 10 = 1000\n",
      "Finished table() with in -0.0010006000520661473 sec\n"
     ]
    }
   ],
   "source": [
    "table(100)"
   ]
  },
  {
   "cell_type": "code",
   "execution_count": 6,
   "id": "c81ab016-d84e-48e0-aae9-760158c2c226",
   "metadata": {},
   "outputs": [
    {
     "name": "stdout",
     "output_type": "stream",
     "text": [
      "Enter a valid choice\n",
      "Finished age_comparison() with in -6.0699996538460255e-05 sec\n"
     ]
    }
   ],
   "source": [
    "age_comparison(-1)"
   ]
  },
  {
   "cell_type": "code",
   "execution_count": null,
   "id": "c4e6a5a3-db22-4e7c-bfdf-ca04b661dbef",
   "metadata": {},
   "outputs": [],
   "source": []
  }
 ],
 "metadata": {
  "kernelspec": {
   "display_name": "Python 3 (ipykernel)",
   "language": "python",
   "name": "python3"
  },
  "language_info": {
   "codemirror_mode": {
    "name": "ipython",
    "version": 3
   },
   "file_extension": ".py",
   "mimetype": "text/x-python",
   "name": "python",
   "nbconvert_exporter": "python",
   "pygments_lexer": "ipython3",
   "version": "3.12.7"
  }
 },
 "nbformat": 4,
 "nbformat_minor": 5
}
