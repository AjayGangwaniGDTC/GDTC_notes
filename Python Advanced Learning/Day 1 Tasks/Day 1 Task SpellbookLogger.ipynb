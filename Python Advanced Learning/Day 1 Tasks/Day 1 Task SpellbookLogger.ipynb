{
 "cells": [
  {
   "cell_type": "markdown",
   "id": "bb938881-f6f0-4f60-b798-91a83e6eaba4",
   "metadata": {},
   "source": [
    "# Task 3: Spellbook Logger\n"
   ]
  },
  {
   "cell_type": "markdown",
   "id": "284a4f4d-9c93-4d24-b16f-e7170099c1e2",
   "metadata": {},
   "source": [
    "Story: Inspired by your earlier exercise—the spellbook logs every spell (function), when it was cast, and if it failed."
   ]
  },
  {
   "cell_type": "code",
   "execution_count": 1,
   "id": "c346709f-fe7c-47c6-a0d5-c7b0f25fd9d4",
   "metadata": {},
   "outputs": [],
   "source": [
    "import logging \n",
    "import datetime"
   ]
  },
  {
   "cell_type": "code",
   "execution_count": 2,
   "id": "ab93b7b5-b0fc-4170-92c6-a2c8f2a4827a",
   "metadata": {},
   "outputs": [],
   "source": [
    "logging.basicConfig(filename=\"spellbooklogfile.log\",\n",
    "                    format='%(asctime)s - %(levelname)s - %(message)s',\n",
    "                    filemode='a+',\n",
    "                    level=logging.INFO)\n",
    "\n",
    "def log_function(func):\n",
    "    def wrapper(*args,**kwargs):\n",
    "        timestamp = datetime.datetime.now()\n",
    "        logging.info(f\"Timestamp:{timestamp}, Spell_Cast:{func.__name__}()\")\n",
    "\n",
    "        try:\n",
    "            result = func(*args, **kwargs)\n",
    "            logging.info(f\"Success: {func.__name__} executed successfuly\")\n",
    "            return result\n",
    "        except Exception as e:\n",
    "            logging.error(f\"Error in function {func.__name__}: {e}\")\n",
    "            return None\n",
    "\n",
    "    return wrapper"
   ]
  },
  {
   "cell_type": "code",
   "execution_count": 3,
   "id": "d1712921-ed63-4398-8c60-fbb418d56957",
   "metadata": {},
   "outputs": [],
   "source": [
    "@log_function\n",
    "def mindBoggler():\n",
    "    print(\"Mind Boggling Spell...\")\n",
    "\n",
    "@log_function\n",
    "def division(a, b):\n",
    "    return a/b"
   ]
  },
  {
   "cell_type": "code",
   "execution_count": 4,
   "id": "8e2d8637-0ef4-4bc2-b785-fe34873fae11",
   "metadata": {},
   "outputs": [
    {
     "name": "stdout",
     "output_type": "stream",
     "text": [
      "Mind Boggling Spell...\n"
     ]
    }
   ],
   "source": [
    "mindBoggler()"
   ]
  },
  {
   "cell_type": "code",
   "execution_count": 5,
   "id": "a5c08552-3b4b-4a41-b7c1-50ea24066497",
   "metadata": {},
   "outputs": [],
   "source": [
    "division(10, 0)"
   ]
  },
  {
   "cell_type": "code",
   "execution_count": null,
   "id": "3b448e50-e460-4349-84ef-659ad639af7f",
   "metadata": {},
   "outputs": [],
   "source": []
  }
 ],
 "metadata": {
  "kernelspec": {
   "display_name": "Python 3 (ipykernel)",
   "language": "python",
   "name": "python3"
  },
  "language_info": {
   "codemirror_mode": {
    "name": "ipython",
    "version": 3
   },
   "file_extension": ".py",
   "mimetype": "text/x-python",
   "name": "python",
   "nbconvert_exporter": "python",
   "pygments_lexer": "ipython3",
   "version": "3.12.7"
  }
 },
 "nbformat": 4,
 "nbformat_minor": 5
}
