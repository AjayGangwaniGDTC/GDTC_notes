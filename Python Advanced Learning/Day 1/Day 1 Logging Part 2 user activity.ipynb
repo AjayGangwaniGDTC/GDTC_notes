{
 "cells": [
  {
   "cell_type": "code",
   "execution_count": 6,
   "id": "b4b7a1e4-e5a1-47a6-b472-9eea82ccd7a6",
   "metadata": {},
   "outputs": [],
   "source": [
    "log_dict = {}"
   ]
  },
  {
   "cell_type": "code",
   "execution_count": 9,
   "id": "75cbe3fc-a376-418f-8743-0027d72e9fb5",
   "metadata": {},
   "outputs": [
    {
     "name": "stdin",
     "output_type": "stream",
     "text": [
      "Enter your username: Ajay\n",
      "Enter your password: xyz\n"
     ]
    }
   ],
   "source": [
    "import logging\n",
    "\n",
    "logging.basicConfig(filename='user_activity.log',\n",
    "                    level=logging.INFO,\n",
    "                    format=\"%(asctime)s - %(message)s\",\n",
    "                    filemode=\"w+\")\n",
    "\n",
    "logger1 = logging.getLogger()\n",
    "\n",
    "def login(username, pwd):\n",
    "    if username not in log_dict.keys():\n",
    "        log_dict[username] = password\n",
    "        logger1.info(f\"User '{username}' successfully logged in.\")\n",
    "    elif log_dict[username] == password:\n",
    "        logger1.info(f\"User '{username}' successfully logged in.\")\n",
    "    else:\n",
    "        logger1.warning(f\"Failed login attempt for user '{username}' due to invalid credentials\")\n",
    "        \n",
    "user_name = input(\"Enter your username:\")\n",
    "password = input(\"Enter your password:\")\n",
    "\n",
    "login(user_name, password)"
   ]
  },
  {
   "cell_type": "code",
   "execution_count": null,
   "id": "714d270d-9087-49d8-aa42-e1c832d43ca8",
   "metadata": {},
   "outputs": [],
   "source": []
  }
 ],
 "metadata": {
  "kernelspec": {
   "display_name": "Python 3 (ipykernel)",
   "language": "python",
   "name": "python3"
  },
  "language_info": {
   "codemirror_mode": {
    "name": "ipython",
    "version": 3
   },
   "file_extension": ".py",
   "mimetype": "text/x-python",
   "name": "python",
   "nbconvert_exporter": "python",
   "pygments_lexer": "ipython3",
   "version": "3.12.7"
  }
 },
 "nbformat": 4,
 "nbformat_minor": 5
}
