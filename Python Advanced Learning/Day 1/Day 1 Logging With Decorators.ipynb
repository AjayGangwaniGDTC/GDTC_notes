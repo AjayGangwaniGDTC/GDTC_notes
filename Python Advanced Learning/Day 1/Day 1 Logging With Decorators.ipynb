{
 "cells": [
  {
   "cell_type": "code",
   "execution_count": 1,
   "id": "3c1e21b9-7e6f-40c0-a077-ce7ce91b851f",
   "metadata": {},
   "outputs": [
    {
     "name": "stdout",
     "output_type": "stream",
     "text": [
      "Processing data...\n"
     ]
    }
   ],
   "source": [
    "import logging\n",
    "import datetime\n",
    "\n",
    "logging.basicConfig(filename=\"execution.log\", level=logging.INFO)\n",
    "\n",
    "logger = logging.getLogger()\n",
    "\n",
    "def log_execution(func):\n",
    "    def wrapper(*args, **kwargs):\n",
    "        start_time = datetime.datetime.now()\n",
    "        result = func(*args,**kwargs)\n",
    "        end_time = datetime.datetime.now()\n",
    "        logging.info(f\"{func.__name__} executed in {end_time-start_time}\")\n",
    "        return result\n",
    "    return wrapper\n",
    "\n",
    "@log_execution\n",
    "def sample_function():\n",
    "    print(\"Processing data...\")\n",
    "\n",
    "sample_function()"
   ]
  },
  {
   "cell_type": "code",
   "execution_count": 3,
   "id": "0a0b28f6-f835-4b8d-91d0-a8e4bd5b4205",
   "metadata": {},
   "outputs": [],
   "source": [
    "logger.removeHandler(logger)"
   ]
  },
  {
   "cell_type": "code",
   "execution_count": null,
   "id": "dc78947e-c551-4a4a-81fc-3cf4353d4817",
   "metadata": {},
   "outputs": [],
   "source": []
  }
 ],
 "metadata": {
  "kernelspec": {
   "display_name": "Python 3 (ipykernel)",
   "language": "python",
   "name": "python3"
  },
  "language_info": {
   "codemirror_mode": {
    "name": "ipython",
    "version": 3
   },
   "file_extension": ".py",
   "mimetype": "text/x-python",
   "name": "python",
   "nbconvert_exporter": "python",
   "pygments_lexer": "ipython3",
   "version": "3.12.7"
  }
 },
 "nbformat": 4,
 "nbformat_minor": 5
}
