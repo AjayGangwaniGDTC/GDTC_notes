{
 "cells": [
  {
   "cell_type": "markdown",
   "id": "3502e8a3-c1a0-4305-bda4-78c241b21243",
   "metadata": {},
   "source": [
    "# First-Class Objects\n"
   ]
  },
  {
   "cell_type": "code",
   "execution_count": null,
   "id": "d5a67394-2bd2-4ffb-9f2f-9598c03f8973",
   "metadata": {},
   "outputs": [],
   "source": [
    "int()\n",
    "str()\n",
    "float()\n",
    "#function is possible to pass as an argument because python is OOP\n",
    "#each function we create will be an object\n",
    "#each function will be treated as first class object"
   ]
  },
  {
   "cell_type": "code",
   "execution_count": 2,
   "id": "b253b634-d108-46b3-bf04-ee0af6dd283c",
   "metadata": {},
   "outputs": [],
   "source": [
    "def say_hello(name):\n",
    "    return f\"hello {name}\"\n",
    "\n",
    "def be_nice(name):\n",
    "    return f\"Yo {name}, together we are nice...!\"\n",
    "\n",
    "def greet_jay(greeter_func):\n",
    "    return greeter_func(\"Jay\")"
   ]
  },
  {
   "cell_type": "code",
   "execution_count": 3,
   "id": "1abf1765-cbd8-4d7f-88ed-a8c75f7d2425",
   "metadata": {},
   "outputs": [
    {
     "data": {
      "text/plain": [
       "'hello Jay'"
      ]
     },
     "execution_count": 3,
     "metadata": {},
     "output_type": "execute_result"
    }
   ],
   "source": [
    "greet_jay(say_hello)"
   ]
  },
  {
   "cell_type": "code",
   "execution_count": 8,
   "id": "695abc60-c933-44ed-b168-1a737f3973f8",
   "metadata": {},
   "outputs": [
    {
     "data": {
      "text/plain": [
       "'Yo Jay, together we are nice...!'"
      ]
     },
     "execution_count": 8,
     "metadata": {},
     "output_type": "execute_result"
    }
   ],
   "source": [
    "greet_jay(be_nice)"
   ]
  },
  {
   "cell_type": "markdown",
   "id": "443c27f2-f5f0-44b2-934c-8668739148d8",
   "metadata": {},
   "source": [
    "# Inner Function"
   ]
  },
  {
   "cell_type": "code",
   "execution_count": 6,
   "id": "6a34d518-f4cc-4b44-a7d9-28f410fa59c2",
   "metadata": {},
   "outputs": [],
   "source": [
    "def parent():\n",
    "    print(\"Parent from parent function\")\n",
    "\n",
    "    def first_child():\n",
    "        print(\"First Child\") \n",
    "\n",
    "    def second_child():\n",
    "        print(\"Second Child\")\n",
    "\n",
    "    second_child()\n",
    "    first_child()"
   ]
  },
  {
   "cell_type": "code",
   "execution_count": 7,
   "id": "253a7067-bc40-4955-986a-cf516cf60fa9",
   "metadata": {},
   "outputs": [
    {
     "name": "stdout",
     "output_type": "stream",
     "text": [
      "Parent from parent function\n",
      "Second Child\n",
      "First Child\n"
     ]
    }
   ],
   "source": [
    "parent()"
   ]
  },
  {
   "cell_type": "code",
   "execution_count": 16,
   "id": "abecffc3-76c2-4a2b-aafc-035611713137",
   "metadata": {},
   "outputs": [],
   "source": [
    "def parent(flag):\n",
    "    print(\"Parent from parent function\")\n",
    "\n",
    "    def first_child():\n",
    "        print(\"First Child\")\n",
    "\n",
    "    def second_child():\n",
    "        print(\"Second Child\")\n",
    "\n",
    "    if flag==1:\n",
    "        return first_child\n",
    "    else:\n",
    "        return second_child"
   ]
  },
  {
   "cell_type": "code",
   "execution_count": 17,
   "id": "e684fb38-2dc2-4e6a-8e09-1ea376b8fda4",
   "metadata": {},
   "outputs": [
    {
     "name": "stdout",
     "output_type": "stream",
     "text": [
      "Parent from parent function\n",
      "First Child\n"
     ]
    }
   ],
   "source": [
    "first=parent(1)\n",
    "first()"
   ]
  },
  {
   "cell_type": "code",
   "execution_count": 18,
   "id": "66909a1b-363e-4842-9b11-94508b29f762",
   "metadata": {},
   "outputs": [
    {
     "name": "stdout",
     "output_type": "stream",
     "text": [
      "Parent from parent function\n",
      "Second Child\n"
     ]
    }
   ],
   "source": [
    "second=parent(2)\n",
    "second()"
   ]
  },
  {
   "cell_type": "code",
   "execution_count": 19,
   "id": "df2b5c44-64be-402a-baea-7715275141f5",
   "metadata": {},
   "outputs": [
    {
     "data": {
      "text/plain": [
       "function"
      ]
     },
     "execution_count": 19,
     "metadata": {},
     "output_type": "execute_result"
    }
   ],
   "source": [
    "type(first)"
   ]
  },
  {
   "cell_type": "code",
   "execution_count": 20,
   "id": "1fb958d1-1111-4403-b3a3-00733ed67f0e",
   "metadata": {},
   "outputs": [
    {
     "data": {
      "text/plain": [
       "<function __main__.parent.<locals>.first_child()>"
      ]
     },
     "execution_count": 20,
     "metadata": {},
     "output_type": "execute_result"
    }
   ],
   "source": [
    "first"
   ]
  },
  {
   "cell_type": "markdown",
   "id": "81da90c1-63f2-46ae-91f4-a306dc05221d",
   "metadata": {},
   "source": [
    "# First Decorator\n"
   ]
  },
  {
   "cell_type": "code",
   "execution_count": 23,
   "id": "5c4e4651-444f-4ff4-9910-dc44028c24de",
   "metadata": {},
   "outputs": [],
   "source": [
    "def decorator(func):\n",
    "    def wrapper():\n",
    "        print(\"something happening before call of function\")\n",
    "        func()\n",
    "        print(\"something happening after call of function\")\n",
    "    return wrapper\n",
    "\n",
    "def say_hi():\n",
    "    print(\"hie....!\")\n",
    "\n",
    "say_hi=decorator(say_hi)"
   ]
  },
  {
   "cell_type": "code",
   "execution_count": 24,
   "id": "ce48a7f8-b602-4ef5-a9ca-55fe37fd04de",
   "metadata": {},
   "outputs": [
    {
     "name": "stdout",
     "output_type": "stream",
     "text": [
      "something happening before call of function\n",
      "hie....!\n",
      "something happening after call of function\n"
     ]
    }
   ],
   "source": [
    "say_hi()"
   ]
  },
  {
   "cell_type": "code",
   "execution_count": 25,
   "id": "7797cebb-167e-4059-816d-aea9e44a98f9",
   "metadata": {},
   "outputs": [
    {
     "data": {
      "text/plain": [
       "<function __main__.decorator.<locals>.wrapper()>"
      ]
     },
     "execution_count": 25,
     "metadata": {},
     "output_type": "execute_result"
    }
   ],
   "source": [
    "say_hi"
   ]
  },
  {
   "cell_type": "code",
   "execution_count": 15,
   "id": "873742d6-a7aa-4eba-996a-764609cd5127",
   "metadata": {},
   "outputs": [],
   "source": [
    "def do_twice(func):\n",
    "    def wrapper_do_twice(*args, **kwargs):\n",
    "        func(n)\n",
    "        func()\n",
    "    return wrapper_do_twice"
   ]
  },
  {
   "cell_type": "code",
   "execution_count": 6,
   "id": "fbdee9c4-58fe-42a3-8b9b-63dea47a7419",
   "metadata": {},
   "outputs": [],
   "source": [
    "@do_twice\n",
    "def say_whee():\n",
    "    print(\"Whee......!\")"
   ]
  },
  {
   "cell_type": "code",
   "execution_count": 30,
   "id": "53fc4da0-04e9-4e65-aaa9-5dc404fb83bd",
   "metadata": {},
   "outputs": [
    {
     "name": "stdout",
     "output_type": "stream",
     "text": [
      "Whee......!\n",
      "Whee......!\n"
     ]
    }
   ],
   "source": [
    "say_whee()"
   ]
  },
  {
   "cell_type": "code",
   "execution_count": 5,
   "id": "0fc4e8de-513c-402b-aaa0-bf4ff3f80708",
   "metadata": {},
   "outputs": [],
   "source": [
    "import functools\n",
    "import time"
   ]
  },
  {
   "cell_type": "code",
   "execution_count": 38,
   "id": "76f9ab00-7bf7-4e6b-add3-83a8f71cab42",
   "metadata": {},
   "outputs": [],
   "source": [
    "def timer(func):\n",
    "    '''print runtime time for code of execution wherever we use decorator'''\n",
    "    @functools.wraps(func)\n",
    "    def wrapper_timer(*args, **kwargs):\n",
    "        start_time = time.perf_counter()\n",
    "        value = func(*args, **kwargs)\n",
    "        end_time = time.perf_counter()\n",
    "        run_time = end_time - start_time\n",
    "        print(f\"Finished {func.__name__}() in {run_time} sec\")\n",
    "        return value\n",
    "    return wrapper_timer"
   ]
  },
  {
   "cell_type": "code",
   "execution_count": 39,
   "id": "273500d5-9d8f-4607-b2b8-455d88f071c3",
   "metadata": {},
   "outputs": [],
   "source": [
    "@timer\n",
    "def time_consumedtocalculate(n_time):\n",
    "    for _ in range(n_time):\n",
    "        sum([n**2 for n in range(10000)])"
   ]
  },
  {
   "cell_type": "code",
   "execution_count": 40,
   "id": "1d428fb8-9783-4c3a-b449-e7b19d436da6",
   "metadata": {},
   "outputs": [
    {
     "name": "stdout",
     "output_type": "stream",
     "text": [
      "Finished time_consumedtocalculate() in 3.584664799971506 sec\n"
     ]
    }
   ],
   "source": [
    "time_consumedtocalculate(2000)"
   ]
  },
  {
   "cell_type": "code",
   "execution_count": 7,
   "id": "44140eea-6ac1-4205-99c9-ab7efcf7bc60",
   "metadata": {},
   "outputs": [],
   "source": [
    "def debug(func):\n",
    "    @functools.wraps(func)\n",
    "    def wrapper_debug(*args,**kwargs):\n",
    "        args_repr=[repr(a) for a in args]\n",
    "        kwargs_repr=[f\"{k}={repr(v)}\" for k,v in kwargs.items()]\n",
    "        signature=\", \".join(args_repr+kwargs_repr)\n",
    "        print(f\"Calling {func.__name__}({signature})\")\n",
    "        value = func(*args,**kwargs)\n",
    "        print(f\"{func.__name__}() returned {repr(value)}\")\n",
    "        return value\n",
    "    return wrapper_debug"
   ]
  },
  {
   "cell_type": "code",
   "execution_count": null,
   "id": "d9ea81d0-99d9-427f-bc6a-aaea772e9a67",
   "metadata": {},
   "outputs": [],
   "source": []
  },
  {
   "cell_type": "code",
   "execution_count": null,
   "id": "0c5a123c-afcb-4d05-acbb-73a6e1bae400",
   "metadata": {},
   "outputs": [],
   "source": []
  },
  {
   "cell_type": "code",
   "execution_count": 48,
   "id": "3563032d-88c5-43a3-965b-e0fbdc0f691b",
   "metadata": {},
   "outputs": [
    {
     "name": "stdout",
     "output_type": "stream",
     "text": [
      "Access granted for the role: trainer\n",
      "Course Advanced Python uploaded successfully\n",
      "Access denied. Required role trainer, but got student\n",
      "Access denied. Required role admin, but got student\n",
      "Access granted for the role: admin\n",
      "Viewing admin reports.\n"
     ]
    }
   ],
   "source": [
    "def role_required(role):\n",
    "    def decorator(func):\n",
    "        @functools.wraps(func)\n",
    "        def wrapper(*args,**kwargs):\n",
    "            user_role = kwargs.get('user_role', None)\n",
    "            if user_role == role:\n",
    "                print(f\"Access granted for the role: {role}\")\n",
    "                return func(*args,**kwargs)\n",
    "            else:\n",
    "                print(f\"Access denied. Required role {role}, but got {user_role}\")\n",
    "        return wrapper\n",
    "    return decorator\n",
    "\n",
    "@role_required(\"trainer\")\n",
    "def upload_course(course_name, **kwargs):\n",
    "    print(f\"Course {course_name} uploaded successfully\")\n",
    "\n",
    "@role_required(\"admin\")\n",
    "def view_reports(**kwargs):\n",
    "    print(\"Viewing admin reports.\")\n",
    "\n",
    "#Test Cases\n",
    "upload_course(course_name=\"Advanced Python\", user_role=\"trainer\")\n",
    "upload_course(course_name=\"Advanced Python\", user_role=\"student\")\n",
    "view_reports(user_role=\"student\")\n",
    "view_reports(user_role=\"admin\")"
   ]
  },
  {
   "cell_type": "code",
   "execution_count": 11,
   "id": "7a798c3b-0aa6-4f79-a026-60643a56a6ee",
   "metadata": {},
   "outputs": [],
   "source": [
    "@debug\n",
    "@do_twice\n",
    "def greet_name(name):\n",
    "    print(f\"Hello {name}\")"
   ]
  },
  {
   "cell_type": "code",
   "execution_count": 16,
   "id": "a2fb2e42-0c91-4a76-b1f9-5e0e88377dfc",
   "metadata": {},
   "outputs": [
    {
     "name": "stdout",
     "output_type": "stream",
     "text": [
      "Calling wrapper_do_twice('Ajay')\n"
     ]
    },
    {
     "ename": "TypeError",
     "evalue": "do_twice.<locals>.wrapper_do_twice() takes 0 positional arguments but 1 was given",
     "output_type": "error",
     "traceback": [
      "\u001b[1;31m---------------------------------------------------------------------------\u001b[0m",
      "\u001b[1;31mTypeError\u001b[0m                                 Traceback (most recent call last)",
      "Cell \u001b[1;32mIn[16], line 1\u001b[0m\n\u001b[1;32m----> 1\u001b[0m greet_name(\u001b[38;5;124m\"\u001b[39m\u001b[38;5;124mAjay\u001b[39m\u001b[38;5;124m\"\u001b[39m)\n",
      "Cell \u001b[1;32mIn[7], line 8\u001b[0m, in \u001b[0;36mdebug.<locals>.wrapper_debug\u001b[1;34m(*args, **kwargs)\u001b[0m\n\u001b[0;32m      6\u001b[0m signature\u001b[38;5;241m=\u001b[39m\u001b[38;5;124m\"\u001b[39m\u001b[38;5;124m, \u001b[39m\u001b[38;5;124m\"\u001b[39m\u001b[38;5;241m.\u001b[39mjoin(args_repr\u001b[38;5;241m+\u001b[39mkwargs_repr)\n\u001b[0;32m      7\u001b[0m \u001b[38;5;28mprint\u001b[39m(\u001b[38;5;124mf\u001b[39m\u001b[38;5;124m\"\u001b[39m\u001b[38;5;124mCalling \u001b[39m\u001b[38;5;132;01m{\u001b[39;00mfunc\u001b[38;5;241m.\u001b[39m\u001b[38;5;18m__name__\u001b[39m\u001b[38;5;132;01m}\u001b[39;00m\u001b[38;5;124m(\u001b[39m\u001b[38;5;132;01m{\u001b[39;00msignature\u001b[38;5;132;01m}\u001b[39;00m\u001b[38;5;124m)\u001b[39m\u001b[38;5;124m\"\u001b[39m)\n\u001b[1;32m----> 8\u001b[0m value \u001b[38;5;241m=\u001b[39m func(\u001b[38;5;241m*\u001b[39margs,\u001b[38;5;241m*\u001b[39m\u001b[38;5;241m*\u001b[39mkwargs)\n\u001b[0;32m      9\u001b[0m \u001b[38;5;28mprint\u001b[39m(\u001b[38;5;124mf\u001b[39m\u001b[38;5;124m\"\u001b[39m\u001b[38;5;132;01m{\u001b[39;00mfunc\u001b[38;5;241m.\u001b[39m\u001b[38;5;18m__name__\u001b[39m\u001b[38;5;132;01m}\u001b[39;00m\u001b[38;5;124m() returned \u001b[39m\u001b[38;5;132;01m{\u001b[39;00m\u001b[38;5;28mrepr\u001b[39m(value)\u001b[38;5;132;01m}\u001b[39;00m\u001b[38;5;124m\"\u001b[39m)\n\u001b[0;32m     10\u001b[0m \u001b[38;5;28;01mreturn\u001b[39;00m value\n",
      "\u001b[1;31mTypeError\u001b[0m: do_twice.<locals>.wrapper_do_twice() takes 0 positional arguments but 1 was given"
     ]
    }
   ],
   "source": [
    "greet_name(\"Ajay\")"
   ]
  },
  {
   "cell_type": "code",
   "execution_count": null,
   "id": "ba34edc3-7358-4ba4-9169-75fbba2ced67",
   "metadata": {},
   "outputs": [],
   "source": []
  }
 ],
 "metadata": {
  "kernelspec": {
   "display_name": "Python 3 (ipykernel)",
   "language": "python",
   "name": "python3"
  },
  "language_info": {
   "codemirror_mode": {
    "name": "ipython",
    "version": 3
   },
   "file_extension": ".py",
   "mimetype": "text/x-python",
   "name": "python",
   "nbconvert_exporter": "python",
   "pygments_lexer": "ipython3",
   "version": "3.12.7"
  }
 },
 "nbformat": 4,
 "nbformat_minor": 5
}
