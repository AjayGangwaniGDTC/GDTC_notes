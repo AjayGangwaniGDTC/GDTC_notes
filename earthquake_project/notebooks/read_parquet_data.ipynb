{
 "cells": [
  {
   "cell_type": "code",
   "execution_count": 1,
   "id": "9abd49e8-2fa1-4112-bab4-cfa664d5cdc4",
   "metadata": {},
   "outputs": [
    {
     "name": "stdout",
     "output_type": "stream",
     "text": [
      "Collecting findspark\n",
      "  Downloading findspark-2.0.1-py2.py3-none-any.whl.metadata (352 bytes)\n",
      "Downloading findspark-2.0.1-py2.py3-none-any.whl (4.4 kB)\n",
      "Installing collected packages: findspark\n",
      "Successfully installed findspark-2.0.1\n",
      "Requirement already satisfied: pyspark in /usr/local/spark/python (3.5.0)\n",
      "Collecting py4j==0.10.9.7 (from pyspark)\n",
      "  Downloading py4j-0.10.9.7-py2.py3-none-any.whl.metadata (1.5 kB)\n",
      "Downloading py4j-0.10.9.7-py2.py3-none-any.whl (200 kB)\n",
      "\u001b[2K   \u001b[90m━━━━━━━━━━━━━━━━━━━━━━━━━━━━━━━━━━━━━━━━\u001b[0m \u001b[32m200.5/200.5 kB\u001b[0m \u001b[31m3.9 MB/s\u001b[0m eta \u001b[36m0:00:00\u001b[0ma \u001b[36m0:00:01\u001b[0m\n",
      "\u001b[?25hInstalling collected packages: py4j\n",
      "Successfully installed py4j-0.10.9.7\n"
     ]
    }
   ],
   "source": [
    "!pip install findspark\n",
    "!pip install pyspark"
   ]
  },
  {
   "cell_type": "code",
   "execution_count": 2,
   "id": "d6cbbc39-238b-4496-833b-68625a2109d6",
   "metadata": {},
   "outputs": [
    {
     "name": "stdout",
     "output_type": "stream",
     "text": [
      "Collecting h3\n",
      "  Downloading h3-4.3.1-cp311-cp311-manylinux2014_x86_64.manylinux_2_17_x86_64.manylinux_2_28_x86_64.whl.metadata (18 kB)\n",
      "Downloading h3-4.3.1-cp311-cp311-manylinux2014_x86_64.manylinux_2_17_x86_64.manylinux_2_28_x86_64.whl (1.0 MB)\n",
      "\u001b[2K   \u001b[90m━━━━━━━━━━━━━━━━━━━━━━━━━━━━━━━━━━━━━━━━\u001b[0m \u001b[32m1.0/1.0 MB\u001b[0m \u001b[31m11.5 MB/s\u001b[0m eta \u001b[36m0:00:00\u001b[0ma \u001b[36m0:00:01\u001b[0m\n",
      "\u001b[?25hInstalling collected packages: h3\n",
      "Successfully installed h3-4.3.1\n"
     ]
    }
   ],
   "source": [
    "!pip install h3"
   ]
  },
  {
   "cell_type": "code",
   "execution_count": 3,
   "id": "95eb8e90-5197-49e4-87e8-07957caf5877",
   "metadata": {},
   "outputs": [],
   "source": [
    "import findspark\n",
    "findspark.init()"
   ]
  },
  {
   "cell_type": "code",
   "execution_count": null,
   "id": "c4b56d61-2ae9-4b62-9692-bd0ca794a2d4",
   "metadata": {},
   "outputs": [],
   "source": [
    "import pandas as pd\n",
    "from pyspark.sql import SparkSession\n",
    "from pyspark.sql.functions import col, cast\n",
    "spark = SparkSession.builder.appName(\"Read Parquet From Data\").config(\"spark.jars.packages\", \"org.postgresql:postgresql:42.6.0\").getOrCreate()\n"
   ]
  },
  {
   "cell_type": "code",
   "execution_count": 5,
   "id": "59610bad-a341-4070-9b3c-9dc53d3df204",
   "metadata": {},
   "outputs": [],
   "source": [
    "spark.conf.set(\"spark.sql.legacy.parquet.nanosAsLong\", \"true\")"
   ]
  },
  {
   "cell_type": "code",
   "execution_count": 6,
   "id": "195aadd7-fae5-41e1-8610-0d3cfd6bbbe1",
   "metadata": {},
   "outputs": [
    {
     "name": "stdout",
     "output_type": "stream",
     "text": [
      "+------------+--------------------+---------+-------------------+----------+---------+--------+----------+-------+------+----+\n",
      "|          id|               place|magnitude|               time|  latitude|longitude|  status|      type|tsunami| depth|year|\n",
      "+------------+--------------------+---------+-------------------+----------+---------+--------+----------+-------+------+----+\n",
      "|  us1000bykk|3 km W of Marshal...|      3.2|2018-01-01 00:39:31|   36.1511| -97.6653|reviewed|earthquake|   NULL| 6.059|2018|\n",
      "|  us1000byl4|18 km NE of Hasak...|      4.6|2018-01-01 01:12:41|   35.8275| 140.9963|reviewed|earthquake|   NULL| 46.84|2018|\n",
      "|  nc72946846|19km WSW of Hayfo...|     3.76|2018-01-01 01:19:06|40.4846667|  -123.39|reviewed|earthquake|   NULL| 30.44|2018|\n",
      "|  us1000byld|13 km NNE of Erde...|      4.3|2018-01-01 01:42:02|   40.5104|  27.8564|reviewed|earthquake|   NULL| 11.78|2018|\n",
      "|  us1000bylw|Chagos Archipelag...|      5.1|2018-01-01 01:57:49|   -8.1161|  68.0644|reviewed|earthquake|   NULL|  10.0|2018|\n",
      "|  us1000bymc|southern East Pac...|      5.1|2018-01-01 02:29:02|  -53.0266|-118.3468|reviewed|earthquake|   NULL|  10.0|2018|\n",
      "|  us2000ck04|82 km N of Batang...|      4.2|2018-01-01 02:33:56|   -5.7409| 110.6514|reviewed|earthquake|   NULL|542.41|2018|\n",
      "|  us1000bym9|76 km ESE of Copi...|      4.2|2018-01-01 02:36:00|  -27.5647| -69.5867|reviewed|earthquake|   NULL| 111.3|2018|\n",
      "|  us2000ck03|59 km ESE of Yuji...|      4.2|2018-01-01 02:38:43|   22.9826| 121.0258|reviewed|earthquake|   NULL|  10.0|2018|\n",
      "|  us1000c0jd|     Chiapas, Mexico|      4.4|2018-01-01 02:52:37|   16.2525| -92.8963|reviewed|earthquake|   NULL|207.46|2018|\n",
      "|ak017grzuwec|46 km W of Lake L...|      2.9|2018-01-01 03:03:23|   62.3394|-147.4324|reviewed|earthquake|   NULL|  44.3|2018|\n",
      "|ak017gs0jz5k|55 km W of Nanwal...|      3.6|2018-01-01 04:20:23|   59.3419|-152.8955|reviewed|earthquake|   NULL|  76.4|2018|\n",
      "|  us1000byp8|293 km N of Saipa...|      4.8|2018-01-01 05:18:50|   17.8573| 145.8866|reviewed|earthquake|   NULL|156.61|2018|\n",
      "|  us2000ck1k|Pagan region, Nor...|      4.2|2018-01-01 05:49:14|   18.5434| 145.5894|reviewed|earthquake|   NULL|181.19|2018|\n",
      "|  us1000bypf|113 km SE of Kimb...|      4.6|2018-01-01 06:10:47|   -6.2365| 150.8961|reviewed|earthquake|   NULL|  35.0|2018|\n",
      "|  us1000byph|114 km SE of Goro...|      4.5|2018-01-01 06:22:30|   -0.2797| 123.6999|reviewed|earthquake|   NULL|127.24|2018|\n",
      "|pr2018001000|        Mona Passage|     2.51|2018-01-01 06:26:31|   18.3251| -67.2765|reviewed|earthquake|   NULL|  21.0|2018|\n",
      "|  ci37844303|4km SE of Ontario...|     3.09|2018-01-01 07:05:34|34.0316667| -117.593|reviewed|earthquake|   NULL|  4.08|2018|\n",
      "|  us1000bypr|77 km N of Khand?...|      4.2|2018-01-01 07:46:06|   37.6336|  72.4779|reviewed|earthquake|   NULL|201.07|2018|\n",
      "|  ci37844527|45km ENE of Manea...|     3.09|2018-01-01 09:48:57|31.8491667|-116.1185|reviewed|earthquake|   NULL| 12.31|2018|\n",
      "+------------+--------------------+---------+-------------------+----------+---------+--------+----------+-------+------+----+\n",
      "only showing top 20 rows\n",
      "\n"
     ]
    }
   ],
   "source": [
    "df = spark.read.parquet(\"../data/\")\n",
    "df.show()"
   ]
  },
  {
   "cell_type": "code",
   "execution_count": 7,
   "id": "3e224dbf-3282-42d0-8bc8-2363a781c4a3",
   "metadata": {},
   "outputs": [
    {
     "data": {
      "text/plain": [
       "1016786"
      ]
     },
     "execution_count": 7,
     "metadata": {},
     "output_type": "execute_result"
    }
   ],
   "source": [
    "df.count()"
   ]
  },
  {
   "cell_type": "code",
   "execution_count": 8,
   "id": "6ef06077-6fb8-4425-ae5e-e06ce937dd40",
   "metadata": {},
   "outputs": [
    {
     "name": "stdout",
     "output_type": "stream",
     "text": [
      "root\n",
      " |-- id: string (nullable = true)\n",
      " |-- place: string (nullable = true)\n",
      " |-- magnitude: double (nullable = true)\n",
      " |-- time: timestamp_ntz (nullable = true)\n",
      " |-- latitude: double (nullable = true)\n",
      " |-- longitude: double (nullable = true)\n",
      " |-- status: string (nullable = true)\n",
      " |-- type: string (nullable = true)\n",
      " |-- tsunami: long (nullable = true)\n",
      " |-- depth: double (nullable = true)\n",
      " |-- year: integer (nullable = true)\n",
      "\n"
     ]
    }
   ],
   "source": [
    "df.printSchema()"
   ]
  },
  {
   "cell_type": "code",
   "execution_count": 11,
   "id": "eb4e00e2-f403-4930-8ef4-9ba3fb03786b",
   "metadata": {},
   "outputs": [],
   "source": [
    "pandas_df = df.select(\"*\").toPandas()"
   ]
  },
  {
   "cell_type": "code",
   "execution_count": 12,
   "id": "b65fd886-d107-4f9a-a141-86768c5afd76",
   "metadata": {},
   "outputs": [
    {
     "data": {
      "text/html": [
       "<div>\n",
       "<style scoped>\n",
       "    .dataframe tbody tr th:only-of-type {\n",
       "        vertical-align: middle;\n",
       "    }\n",
       "\n",
       "    .dataframe tbody tr th {\n",
       "        vertical-align: top;\n",
       "    }\n",
       "\n",
       "    .dataframe thead th {\n",
       "        text-align: right;\n",
       "    }\n",
       "</style>\n",
       "<table border=\"1\" class=\"dataframe\">\n",
       "  <thead>\n",
       "    <tr style=\"text-align: right;\">\n",
       "      <th></th>\n",
       "      <th>id</th>\n",
       "      <th>place</th>\n",
       "      <th>magnitude</th>\n",
       "      <th>time</th>\n",
       "      <th>latitude</th>\n",
       "      <th>longitude</th>\n",
       "      <th>status</th>\n",
       "      <th>type</th>\n",
       "      <th>tsunami</th>\n",
       "      <th>depth</th>\n",
       "      <th>year</th>\n",
       "    </tr>\n",
       "  </thead>\n",
       "  <tbody>\n",
       "    <tr>\n",
       "      <th>1013640</th>\n",
       "      <td>iscgem901491</td>\n",
       "      <td>9 km SE of Fayzabad, Afghanistan</td>\n",
       "      <td>5.62</td>\n",
       "      <td>1940-07-17 11:44:49</td>\n",
       "      <td>37.065000</td>\n",
       "      <td>70.664000</td>\n",
       "      <td>reviewed</td>\n",
       "      <td>earthquake</td>\n",
       "      <td>0.0</td>\n",
       "      <td>15.000</td>\n",
       "      <td>1940</td>\n",
       "    </tr>\n",
       "    <tr>\n",
       "      <th>1013769</th>\n",
       "      <td>ci3365482</td>\n",
       "      <td>9km SSW of Borrego Springs, CA</td>\n",
       "      <td>4.06</td>\n",
       "      <td>1940-10-21 06:49:33</td>\n",
       "      <td>33.176333</td>\n",
       "      <td>-116.410000</td>\n",
       "      <td>reviewed</td>\n",
       "      <td>earthquake</td>\n",
       "      <td>0.0</td>\n",
       "      <td>6.000</td>\n",
       "      <td>1940</td>\n",
       "    </tr>\n",
       "    <tr>\n",
       "      <th>1013770</th>\n",
       "      <td>ci3365483</td>\n",
       "      <td>8km W of Ocotillo Wells, CA</td>\n",
       "      <td>3.29</td>\n",
       "      <td>1940-10-21 07:19:45</td>\n",
       "      <td>33.144000</td>\n",
       "      <td>-116.219167</td>\n",
       "      <td>reviewed</td>\n",
       "      <td>earthquake</td>\n",
       "      <td>0.0</td>\n",
       "      <td>6.000</td>\n",
       "      <td>1940</td>\n",
       "    </tr>\n",
       "    <tr>\n",
       "      <th>1013771</th>\n",
       "      <td>iscgem901664</td>\n",
       "      <td>12 km NNW of Gura Teghii, Romania</td>\n",
       "      <td>6.63</td>\n",
       "      <td>1940-10-22 06:37:01</td>\n",
       "      <td>45.590000</td>\n",
       "      <td>26.383000</td>\n",
       "      <td>reviewed</td>\n",
       "      <td>earthquake</td>\n",
       "      <td>0.0</td>\n",
       "      <td>130.000</td>\n",
       "      <td>1940</td>\n",
       "    </tr>\n",
       "    <tr>\n",
       "      <th>1013772</th>\n",
       "      <td>ushis1338</td>\n",
       "      <td>0 km E of Rio Dell, California</td>\n",
       "      <td>4.50</td>\n",
       "      <td>1940-10-22 11:01:00</td>\n",
       "      <td>40.500000</td>\n",
       "      <td>-124.100000</td>\n",
       "      <td>reviewed</td>\n",
       "      <td>earthquake</td>\n",
       "      <td>0.0</td>\n",
       "      <td>NaN</td>\n",
       "      <td>1940</td>\n",
       "    </tr>\n",
       "    <tr>\n",
       "      <th>...</th>\n",
       "      <td>...</td>\n",
       "      <td>...</td>\n",
       "      <td>...</td>\n",
       "      <td>...</td>\n",
       "      <td>...</td>\n",
       "      <td>...</td>\n",
       "      <td>...</td>\n",
       "      <td>...</td>\n",
       "      <td>...</td>\n",
       "      <td>...</td>\n",
       "      <td>...</td>\n",
       "    </tr>\n",
       "    <tr>\n",
       "      <th>759795</th>\n",
       "      <td>us6000qha6</td>\n",
       "      <td>17 km SSW of Avsallar, Turkey</td>\n",
       "      <td>3.80</td>\n",
       "      <td>2025-06-01 23:01:28</td>\n",
       "      <td>36.489000</td>\n",
       "      <td>31.676100</td>\n",
       "      <td>reviewed</td>\n",
       "      <td>earthquake</td>\n",
       "      <td>NaN</td>\n",
       "      <td>39.036</td>\n",
       "      <td>2025</td>\n",
       "    </tr>\n",
       "    <tr>\n",
       "      <th>759794</th>\n",
       "      <td>ak0256znvhh3</td>\n",
       "      <td>17 km NNW of Perryville, Alaska</td>\n",
       "      <td>2.80</td>\n",
       "      <td>2025-06-01 22:41:02</td>\n",
       "      <td>56.048300</td>\n",
       "      <td>-159.291200</td>\n",
       "      <td>reviewed</td>\n",
       "      <td>earthquake</td>\n",
       "      <td>NaN</td>\n",
       "      <td>99.300</td>\n",
       "      <td>2025</td>\n",
       "    </tr>\n",
       "    <tr>\n",
       "      <th>759793</th>\n",
       "      <td>us6000qha2</td>\n",
       "      <td>35 km SE of Rasht, Tajikistan</td>\n",
       "      <td>4.10</td>\n",
       "      <td>2025-06-01 22:39:11</td>\n",
       "      <td>38.823500</td>\n",
       "      <td>70.682900</td>\n",
       "      <td>reviewed</td>\n",
       "      <td>earthquake</td>\n",
       "      <td>NaN</td>\n",
       "      <td>10.000</td>\n",
       "      <td>2025</td>\n",
       "    </tr>\n",
       "    <tr>\n",
       "      <th>759806</th>\n",
       "      <td>us6000qkus</td>\n",
       "      <td>25 km E of Cayarani, Peru</td>\n",
       "      <td>4.30</td>\n",
       "      <td>2025-06-02 03:33:32</td>\n",
       "      <td>-14.636700</td>\n",
       "      <td>-71.783900</td>\n",
       "      <td>reviewed</td>\n",
       "      <td>earthquake</td>\n",
       "      <td>NaN</td>\n",
       "      <td>124.435</td>\n",
       "      <td>2025</td>\n",
       "    </tr>\n",
       "    <tr>\n",
       "      <th>756056</th>\n",
       "      <td>us6000q6iw</td>\n",
       "      <td>200 km ESE of Kimbe, Papua New Guinea</td>\n",
       "      <td>4.40</td>\n",
       "      <td>2025-04-05 21:37:21</td>\n",
       "      <td>-6.433100</td>\n",
       "      <td>151.717900</td>\n",
       "      <td>reviewed</td>\n",
       "      <td>earthquake</td>\n",
       "      <td>NaN</td>\n",
       "      <td>10.000</td>\n",
       "      <td>2025</td>\n",
       "    </tr>\n",
       "  </tbody>\n",
       "</table>\n",
       "<p>1016786 rows × 11 columns</p>\n",
       "</div>"
      ],
      "text/plain": [
       "                   id                                  place  magnitude  \\\n",
       "1013640  iscgem901491       9 km SE of Fayzabad, Afghanistan       5.62   \n",
       "1013769     ci3365482         9km SSW of Borrego Springs, CA       4.06   \n",
       "1013770     ci3365483            8km W of Ocotillo Wells, CA       3.29   \n",
       "1013771  iscgem901664      12 km NNW of Gura Teghii, Romania       6.63   \n",
       "1013772     ushis1338         0 km E of Rio Dell, California       4.50   \n",
       "...               ...                                    ...        ...   \n",
       "759795     us6000qha6          17 km SSW of Avsallar, Turkey       3.80   \n",
       "759794   ak0256znvhh3        17 km NNW of Perryville, Alaska       2.80   \n",
       "759793     us6000qha2          35 km SE of Rasht, Tajikistan       4.10   \n",
       "759806     us6000qkus              25 km E of Cayarani, Peru       4.30   \n",
       "756056     us6000q6iw  200 km ESE of Kimbe, Papua New Guinea       4.40   \n",
       "\n",
       "                       time   latitude   longitude    status        type  \\\n",
       "1013640 1940-07-17 11:44:49  37.065000   70.664000  reviewed  earthquake   \n",
       "1013769 1940-10-21 06:49:33  33.176333 -116.410000  reviewed  earthquake   \n",
       "1013770 1940-10-21 07:19:45  33.144000 -116.219167  reviewed  earthquake   \n",
       "1013771 1940-10-22 06:37:01  45.590000   26.383000  reviewed  earthquake   \n",
       "1013772 1940-10-22 11:01:00  40.500000 -124.100000  reviewed  earthquake   \n",
       "...                     ...        ...         ...       ...         ...   \n",
       "759795  2025-06-01 23:01:28  36.489000   31.676100  reviewed  earthquake   \n",
       "759794  2025-06-01 22:41:02  56.048300 -159.291200  reviewed  earthquake   \n",
       "759793  2025-06-01 22:39:11  38.823500   70.682900  reviewed  earthquake   \n",
       "759806  2025-06-02 03:33:32 -14.636700  -71.783900  reviewed  earthquake   \n",
       "756056  2025-04-05 21:37:21  -6.433100  151.717900  reviewed  earthquake   \n",
       "\n",
       "         tsunami    depth  year  \n",
       "1013640      0.0   15.000  1940  \n",
       "1013769      0.0    6.000  1940  \n",
       "1013770      0.0    6.000  1940  \n",
       "1013771      0.0  130.000  1940  \n",
       "1013772      0.0      NaN  1940  \n",
       "...          ...      ...   ...  \n",
       "759795       NaN   39.036  2025  \n",
       "759794       NaN   99.300  2025  \n",
       "759793       NaN   10.000  2025  \n",
       "759806       NaN  124.435  2025  \n",
       "756056       NaN   10.000  2025  \n",
       "\n",
       "[1016786 rows x 11 columns]"
      ]
     },
     "execution_count": 12,
     "metadata": {},
     "output_type": "execute_result"
    }
   ],
   "source": [
    "pandas_df.sort_values(\"year\")"
   ]
  },
  {
   "cell_type": "code",
   "execution_count": 13,
   "id": "467e7f16-1630-439c-a6f5-92609ab4143b",
   "metadata": {},
   "outputs": [],
   "source": [
    "import pandas as pd\n",
    "\n",
    "us_states = [\n",
    "    'alabama', 'al', 'alaska', 'ak', 'arizona', 'az', 'arkansas', 'ar', 'california', 'ca', 'colorado', 'co',\n",
    "    'connecticut', 'ct', 'delaware', 'de', 'District of Columbia', 'dc', 'florida', 'fl', 'georgia', 'ga',\n",
    "    'hawaii', 'hi', 'idaho', 'id', 'illinois', 'il', 'indiana', 'in', 'iowa', 'ia', 'kansas', 'ks',\n",
    "    'kentucky', 'ky', 'louisiana', 'la', 'maine', 'me', 'maryland', 'md', 'massachusetts', 'ma', 'michigan', 'mi',\n",
    "    'minnesota', 'mn', 'mississippi', 'ms', 'missouri', 'mo', 'montana', 'mt', 'nebraska', 'ne', 'nevada', 'nv',\n",
    "    'new hampshire', 'nh', 'new jersey', 'nj', 'new mexico', 'nm', 'new york', 'ny', 'north carolina', 'nc', \n",
    "    'north dakota', 'nd', 'ohio', 'oh', 'oklahoma', 'ok', 'oregon', 'or', 'pennsylvania', 'pa', 'rhode island', 'ri',\n",
    "    'south carolina', 'sc', 'south dakota', 'sd', 'tennessee', 'tn', 'texas', 'tx', 'utah', 'ut', 'vermont', 'vt',\n",
    "    'virginia', 'va' 'washington', 'wa', 'west virginia', 'wv', 'wisconsin', 'wi', 'wyoming', 'wy'\n",
    "]\n",
    "\n",
    "def extract_country(place):\n",
    "    if pd.isnull(place):\n",
    "        return \"Unknown\"\n",
    "\n",
    "    parts = [part.strip().lower() for part in place.split(',')]\n",
    "    \n",
    "    if len(parts) > 1:\n",
    "        token = parts[-1]\n",
    "    elif len(parts) > 2:\n",
    "        token = parts[-2]\n",
    "    else:\n",
    "        token = parts[0].split()[-1]  \n",
    "\n",
    "    if token in us_states:\n",
    "        return \"United States\"\n",
    "    \n",
    "    return parts[-1].title()  # return title-cased raw token\n",
    "\n",
    "# Apply function\n",
    "pandas_df['country'] = pandas_df['place'].apply(extract_country)"
   ]
  },
  {
   "cell_type": "code",
   "execution_count": 14,
   "id": "764fe8b8-2c23-497e-88fe-5952f348d4f5",
   "metadata": {},
   "outputs": [
    {
     "data": {
      "text/html": [
       "<div>\n",
       "<style scoped>\n",
       "    .dataframe tbody tr th:only-of-type {\n",
       "        vertical-align: middle;\n",
       "    }\n",
       "\n",
       "    .dataframe tbody tr th {\n",
       "        vertical-align: top;\n",
       "    }\n",
       "\n",
       "    .dataframe thead th {\n",
       "        text-align: right;\n",
       "    }\n",
       "</style>\n",
       "<table border=\"1\" class=\"dataframe\">\n",
       "  <thead>\n",
       "    <tr style=\"text-align: right;\">\n",
       "      <th></th>\n",
       "      <th>id</th>\n",
       "      <th>place</th>\n",
       "      <th>magnitude</th>\n",
       "      <th>time</th>\n",
       "      <th>latitude</th>\n",
       "      <th>longitude</th>\n",
       "      <th>status</th>\n",
       "      <th>type</th>\n",
       "      <th>tsunami</th>\n",
       "      <th>depth</th>\n",
       "      <th>year</th>\n",
       "      <th>country</th>\n",
       "    </tr>\n",
       "  </thead>\n",
       "  <tbody>\n",
       "    <tr>\n",
       "      <th>0</th>\n",
       "      <td>us1000bykk</td>\n",
       "      <td>3 km W of Marshall, Oklahoma</td>\n",
       "      <td>3.20</td>\n",
       "      <td>2018-01-01 00:39:31</td>\n",
       "      <td>36.151100</td>\n",
       "      <td>-97.665300</td>\n",
       "      <td>reviewed</td>\n",
       "      <td>earthquake</td>\n",
       "      <td>NaN</td>\n",
       "      <td>6.059</td>\n",
       "      <td>2018</td>\n",
       "      <td>United States</td>\n",
       "    </tr>\n",
       "    <tr>\n",
       "      <th>1</th>\n",
       "      <td>us1000byl4</td>\n",
       "      <td>18 km NE of Hasaki, Japan</td>\n",
       "      <td>4.60</td>\n",
       "      <td>2018-01-01 01:12:41</td>\n",
       "      <td>35.827500</td>\n",
       "      <td>140.996300</td>\n",
       "      <td>reviewed</td>\n",
       "      <td>earthquake</td>\n",
       "      <td>NaN</td>\n",
       "      <td>46.840</td>\n",
       "      <td>2018</td>\n",
       "      <td>Japan</td>\n",
       "    </tr>\n",
       "    <tr>\n",
       "      <th>2</th>\n",
       "      <td>nc72946846</td>\n",
       "      <td>19km WSW of Hayfork, CA</td>\n",
       "      <td>3.76</td>\n",
       "      <td>2018-01-01 01:19:06</td>\n",
       "      <td>40.484667</td>\n",
       "      <td>-123.390000</td>\n",
       "      <td>reviewed</td>\n",
       "      <td>earthquake</td>\n",
       "      <td>NaN</td>\n",
       "      <td>30.440</td>\n",
       "      <td>2018</td>\n",
       "      <td>United States</td>\n",
       "    </tr>\n",
       "    <tr>\n",
       "      <th>3</th>\n",
       "      <td>us1000byld</td>\n",
       "      <td>13 km NNE of Erdek, Turkey</td>\n",
       "      <td>4.30</td>\n",
       "      <td>2018-01-01 01:42:02</td>\n",
       "      <td>40.510400</td>\n",
       "      <td>27.856400</td>\n",
       "      <td>reviewed</td>\n",
       "      <td>earthquake</td>\n",
       "      <td>NaN</td>\n",
       "      <td>11.780</td>\n",
       "      <td>2018</td>\n",
       "      <td>Turkey</td>\n",
       "    </tr>\n",
       "    <tr>\n",
       "      <th>4</th>\n",
       "      <td>us1000bylw</td>\n",
       "      <td>Chagos Archipelago region</td>\n",
       "      <td>5.10</td>\n",
       "      <td>2018-01-01 01:57:49</td>\n",
       "      <td>-8.116100</td>\n",
       "      <td>68.064400</td>\n",
       "      <td>reviewed</td>\n",
       "      <td>earthquake</td>\n",
       "      <td>NaN</td>\n",
       "      <td>10.000</td>\n",
       "      <td>2018</td>\n",
       "      <td>Chagos Archipelago Region</td>\n",
       "    </tr>\n",
       "    <tr>\n",
       "      <th>...</th>\n",
       "      <td>...</td>\n",
       "      <td>...</td>\n",
       "      <td>...</td>\n",
       "      <td>...</td>\n",
       "      <td>...</td>\n",
       "      <td>...</td>\n",
       "      <td>...</td>\n",
       "      <td>...</td>\n",
       "      <td>...</td>\n",
       "      <td>...</td>\n",
       "      <td>...</td>\n",
       "      <td>...</td>\n",
       "    </tr>\n",
       "    <tr>\n",
       "      <th>1016781</th>\n",
       "      <td>iscgem899245</td>\n",
       "      <td>48 km S of Kimbe, Papua New Guinea</td>\n",
       "      <td>6.92</td>\n",
       "      <td>1945-12-27 04:41:10</td>\n",
       "      <td>-5.989000</td>\n",
       "      <td>150.192000</td>\n",
       "      <td>reviewed</td>\n",
       "      <td>earthquake</td>\n",
       "      <td>0.0</td>\n",
       "      <td>55.000</td>\n",
       "      <td>1945</td>\n",
       "      <td>Papua New Guinea</td>\n",
       "    </tr>\n",
       "    <tr>\n",
       "      <th>1016782</th>\n",
       "      <td>iscgem899246</td>\n",
       "      <td>32 km SSW of Kimbe, Papua New Guinea</td>\n",
       "      <td>7.46</td>\n",
       "      <td>1945-12-28 17:48:57</td>\n",
       "      <td>-5.826000</td>\n",
       "      <td>150.043000</td>\n",
       "      <td>reviewed</td>\n",
       "      <td>earthquake</td>\n",
       "      <td>0.0</td>\n",
       "      <td>60.000</td>\n",
       "      <td>1945</td>\n",
       "      <td>Papua New Guinea</td>\n",
       "    </tr>\n",
       "    <tr>\n",
       "      <th>1016783</th>\n",
       "      <td>iscgem899247</td>\n",
       "      <td>98 km E of Kimbe, Papua New Guinea</td>\n",
       "      <td>6.20</td>\n",
       "      <td>1945-12-29 09:50:46</td>\n",
       "      <td>-5.643000</td>\n",
       "      <td>151.025000</td>\n",
       "      <td>reviewed</td>\n",
       "      <td>earthquake</td>\n",
       "      <td>0.0</td>\n",
       "      <td>35.000</td>\n",
       "      <td>1945</td>\n",
       "      <td>Papua New Guinea</td>\n",
       "    </tr>\n",
       "    <tr>\n",
       "      <th>1016784</th>\n",
       "      <td>iscgem899249</td>\n",
       "      <td>108 km SE of Kimbe, Papua New Guinea</td>\n",
       "      <td>6.28</td>\n",
       "      <td>1945-12-30 00:48:40</td>\n",
       "      <td>-6.156000</td>\n",
       "      <td>150.914000</td>\n",
       "      <td>reviewed</td>\n",
       "      <td>earthquake</td>\n",
       "      <td>0.0</td>\n",
       "      <td>35.000</td>\n",
       "      <td>1945</td>\n",
       "      <td>Papua New Guinea</td>\n",
       "    </tr>\n",
       "    <tr>\n",
       "      <th>1016785</th>\n",
       "      <td>ci3360120</td>\n",
       "      <td>13km NW of Santa Barbara Is., CA</td>\n",
       "      <td>2.57</td>\n",
       "      <td>1945-12-30 11:17:28</td>\n",
       "      <td>33.557500</td>\n",
       "      <td>-119.158667</td>\n",
       "      <td>reviewed</td>\n",
       "      <td>earthquake</td>\n",
       "      <td>0.0</td>\n",
       "      <td>6.000</td>\n",
       "      <td>1945</td>\n",
       "      <td>United States</td>\n",
       "    </tr>\n",
       "  </tbody>\n",
       "</table>\n",
       "<p>1016786 rows × 12 columns</p>\n",
       "</div>"
      ],
      "text/plain": [
       "                   id                                 place  magnitude  \\\n",
       "0          us1000bykk          3 km W of Marshall, Oklahoma       3.20   \n",
       "1          us1000byl4             18 km NE of Hasaki, Japan       4.60   \n",
       "2          nc72946846               19km WSW of Hayfork, CA       3.76   \n",
       "3          us1000byld            13 km NNE of Erdek, Turkey       4.30   \n",
       "4          us1000bylw             Chagos Archipelago region       5.10   \n",
       "...               ...                                   ...        ...   \n",
       "1016781  iscgem899245    48 km S of Kimbe, Papua New Guinea       6.92   \n",
       "1016782  iscgem899246  32 km SSW of Kimbe, Papua New Guinea       7.46   \n",
       "1016783  iscgem899247    98 km E of Kimbe, Papua New Guinea       6.20   \n",
       "1016784  iscgem899249  108 km SE of Kimbe, Papua New Guinea       6.28   \n",
       "1016785     ci3360120      13km NW of Santa Barbara Is., CA       2.57   \n",
       "\n",
       "                       time   latitude   longitude    status        type  \\\n",
       "0       2018-01-01 00:39:31  36.151100  -97.665300  reviewed  earthquake   \n",
       "1       2018-01-01 01:12:41  35.827500  140.996300  reviewed  earthquake   \n",
       "2       2018-01-01 01:19:06  40.484667 -123.390000  reviewed  earthquake   \n",
       "3       2018-01-01 01:42:02  40.510400   27.856400  reviewed  earthquake   \n",
       "4       2018-01-01 01:57:49  -8.116100   68.064400  reviewed  earthquake   \n",
       "...                     ...        ...         ...       ...         ...   \n",
       "1016781 1945-12-27 04:41:10  -5.989000  150.192000  reviewed  earthquake   \n",
       "1016782 1945-12-28 17:48:57  -5.826000  150.043000  reviewed  earthquake   \n",
       "1016783 1945-12-29 09:50:46  -5.643000  151.025000  reviewed  earthquake   \n",
       "1016784 1945-12-30 00:48:40  -6.156000  150.914000  reviewed  earthquake   \n",
       "1016785 1945-12-30 11:17:28  33.557500 -119.158667  reviewed  earthquake   \n",
       "\n",
       "         tsunami   depth  year                    country  \n",
       "0            NaN   6.059  2018              United States  \n",
       "1            NaN  46.840  2018                      Japan  \n",
       "2            NaN  30.440  2018              United States  \n",
       "3            NaN  11.780  2018                     Turkey  \n",
       "4            NaN  10.000  2018  Chagos Archipelago Region  \n",
       "...          ...     ...   ...                        ...  \n",
       "1016781      0.0  55.000  1945           Papua New Guinea  \n",
       "1016782      0.0  60.000  1945           Papua New Guinea  \n",
       "1016783      0.0  35.000  1945           Papua New Guinea  \n",
       "1016784      0.0  35.000  1945           Papua New Guinea  \n",
       "1016785      0.0   6.000  1945              United States  \n",
       "\n",
       "[1016786 rows x 12 columns]"
      ]
     },
     "execution_count": 14,
     "metadata": {},
     "output_type": "execute_result"
    }
   ],
   "source": [
    "pandas_df"
   ]
  },
  {
   "cell_type": "code",
   "execution_count": 15,
   "id": "617065cd-d153-4c84-b3f0-b0306560b8ca",
   "metadata": {},
   "outputs": [],
   "source": [
    "df_with_country = spark.createDataFrame(pandas_df)"
   ]
  },
  {
   "cell_type": "code",
   "execution_count": 16,
   "id": "c594b045-f941-4df3-91bf-632eeb8a28ce",
   "metadata": {},
   "outputs": [
    {
     "name": "stdout",
     "output_type": "stream",
     "text": [
      "+------------+--------------------+---------+-------------------+----------+---------+--------+----------+-------+------+----+--------------------+\n",
      "|          id|               place|magnitude|               time|  latitude|longitude|  status|      type|tsunami| depth|year|             country|\n",
      "+------------+--------------------+---------+-------------------+----------+---------+--------+----------+-------+------+----+--------------------+\n",
      "|  us1000bykk|3 km W of Marshal...|      3.2|2018-01-01 00:39:31|   36.1511| -97.6653|reviewed|earthquake|    NaN| 6.059|2018|       United States|\n",
      "|  us1000byl4|18 km NE of Hasak...|      4.6|2018-01-01 01:12:41|   35.8275| 140.9963|reviewed|earthquake|    NaN| 46.84|2018|               Japan|\n",
      "|  nc72946846|19km WSW of Hayfo...|     3.76|2018-01-01 01:19:06|40.4846667|  -123.39|reviewed|earthquake|    NaN| 30.44|2018|       United States|\n",
      "|  us1000byld|13 km NNE of Erde...|      4.3|2018-01-01 01:42:02|   40.5104|  27.8564|reviewed|earthquake|    NaN| 11.78|2018|              Turkey|\n",
      "|  us1000bylw|Chagos Archipelag...|      5.1|2018-01-01 01:57:49|   -8.1161|  68.0644|reviewed|earthquake|    NaN|  10.0|2018|Chagos Archipelag...|\n",
      "|  us1000bymc|southern East Pac...|      5.1|2018-01-01 02:29:02|  -53.0266|-118.3468|reviewed|earthquake|    NaN|  10.0|2018|Southern East Pac...|\n",
      "|  us2000ck04|82 km N of Batang...|      4.2|2018-01-01 02:33:56|   -5.7409| 110.6514|reviewed|earthquake|    NaN|542.41|2018|           Indonesia|\n",
      "|  us1000bym9|76 km ESE of Copi...|      4.2|2018-01-01 02:36:00|  -27.5647| -69.5867|reviewed|earthquake|    NaN| 111.3|2018|               Chile|\n",
      "|  us2000ck03|59 km ESE of Yuji...|      4.2|2018-01-01 02:38:43|   22.9826| 121.0258|reviewed|earthquake|    NaN|  10.0|2018|              Taiwan|\n",
      "|  us1000c0jd|     Chiapas, Mexico|      4.4|2018-01-01 02:52:37|   16.2525| -92.8963|reviewed|earthquake|    NaN|207.46|2018|              Mexico|\n",
      "|ak017grzuwec|46 km W of Lake L...|      2.9|2018-01-01 03:03:23|   62.3394|-147.4324|reviewed|earthquake|    NaN|  44.3|2018|       United States|\n",
      "|ak017gs0jz5k|55 km W of Nanwal...|      3.6|2018-01-01 04:20:23|   59.3419|-152.8955|reviewed|earthquake|    NaN|  76.4|2018|       United States|\n",
      "|  us1000byp8|293 km N of Saipa...|      4.8|2018-01-01 05:18:50|   17.8573| 145.8866|reviewed|earthquake|    NaN|156.61|2018|Northern Mariana ...|\n",
      "|  us2000ck1k|Pagan region, Nor...|      4.2|2018-01-01 05:49:14|   18.5434| 145.5894|reviewed|earthquake|    NaN|181.19|2018|Northern Mariana ...|\n",
      "|  us1000bypf|113 km SE of Kimb...|      4.6|2018-01-01 06:10:47|   -6.2365| 150.8961|reviewed|earthquake|    NaN|  35.0|2018|    Papua New Guinea|\n",
      "|  us1000byph|114 km SE of Goro...|      4.5|2018-01-01 06:22:30|   -0.2797| 123.6999|reviewed|earthquake|    NaN|127.24|2018|           Indonesia|\n",
      "|pr2018001000|        Mona Passage|     2.51|2018-01-01 06:26:31|   18.3251| -67.2765|reviewed|earthquake|    NaN|  21.0|2018|        Mona Passage|\n",
      "|  ci37844303|4km SE of Ontario...|     3.09|2018-01-01 07:05:34|34.0316667| -117.593|reviewed|earthquake|    NaN|  4.08|2018|       United States|\n",
      "|  us1000bypr|77 km N of Khand?...|      4.2|2018-01-01 07:46:06|   37.6336|  72.4779|reviewed|earthquake|    NaN|201.07|2018|         Afghanistan|\n",
      "|  ci37844527|45km ENE of Manea...|     3.09|2018-01-01 09:48:57|31.8491667|-116.1185|reviewed|earthquake|    NaN| 12.31|2018|                  Mx|\n",
      "+------------+--------------------+---------+-------------------+----------+---------+--------+----------+-------+------+----+--------------------+\n",
      "only showing top 20 rows\n",
      "\n"
     ]
    }
   ],
   "source": [
    "df_with_country.show()"
   ]
  },
  {
   "cell_type": "code",
   "execution_count": 17,
   "id": "b8763c1b-ff6c-4372-964f-e4d305cb6ab5",
   "metadata": {},
   "outputs": [],
   "source": [
    "import h3\n",
    "from pyspark.sql.functions import col, udf\n",
    "import pyspark.sql.functions as F\n",
    "from pyspark.sql.types import StringType\n",
    "\n",
    "def get_h3_index(lat,long):\n",
    "    cell_val=h3.latlng_to_cell(lat,long,res=4)\n",
    "    return cell_val"
   ]
  },
  {
   "cell_type": "code",
   "execution_count": 18,
   "id": "bd5e0d87-d9e9-45c6-9c1e-49e8c7abb411",
   "metadata": {},
   "outputs": [
    {
     "data": {
      "text/plain": [
       "'84000c1ffffffff'"
      ]
     },
     "execution_count": 18,
     "metadata": {},
     "output_type": "execute_result"
    }
   ],
   "source": [
    "get_h3_index(80.9784,29.3582)"
   ]
  },
  {
   "cell_type": "code",
   "execution_count": 19,
   "id": "d46df48f-45a5-44d7-b0bf-5956d5fb7494",
   "metadata": {},
   "outputs": [],
   "source": [
    "df_UDF = udf(lambda x,y: get_h3_index(x,y))"
   ]
  },
  {
   "cell_type": "code",
   "execution_count": 20,
   "id": "2512cec4-e8f1-48a9-8d17-9dc38ca821bc",
   "metadata": {},
   "outputs": [],
   "source": [
    "new_df =df_with_country.withColumn(\"h3_index\",df_UDF(col('latitude'),col('longitude')))"
   ]
  },
  {
   "cell_type": "code",
   "execution_count": 21,
   "id": "8bcdd0c4-71ed-416c-a101-da24d1242107",
   "metadata": {},
   "outputs": [
    {
     "name": "stdout",
     "output_type": "stream",
     "text": [
      "+------------+--------------------+---------+-------------------+----------+---------+--------+----------+-------+------+----+--------------------+---------------+\n",
      "|          id|               place|magnitude|               time|  latitude|longitude|  status|      type|tsunami| depth|year|             country|       h3_index|\n",
      "+------------+--------------------+---------+-------------------+----------+---------+--------+----------+-------+------+----+--------------------+---------------+\n",
      "|  us1000bykk|3 km W of Marshal...|      3.2|2018-01-01 00:39:31|   36.1511| -97.6653|reviewed|earthquake|    NaN| 6.059|2018|       United States|8426c57ffffffff|\n",
      "|  us1000byl4|18 km NE of Hasak...|      4.6|2018-01-01 01:12:41|   35.8275| 140.9963|reviewed|earthquake|    NaN| 46.84|2018|               Japan|842e2dbffffffff|\n",
      "|  nc72946846|19km WSW of Hayfo...|     3.76|2018-01-01 01:19:06|40.4846667|  -123.39|reviewed|earthquake|    NaN| 30.44|2018|       United States|842802dffffffff|\n",
      "|  us1000byld|13 km NNE of Erde...|      4.3|2018-01-01 01:42:02|   40.5104|  27.8564|reviewed|earthquake|    NaN| 11.78|2018|              Turkey|841ecb9ffffffff|\n",
      "|  us1000bylw|Chagos Archipelag...|      5.1|2018-01-01 01:57:49|   -8.1161|  68.0644|reviewed|earthquake|    NaN|  10.0|2018|Chagos Archipelag...|8484e03ffffffff|\n",
      "|  us1000bymc|southern East Pac...|      5.1|2018-01-01 02:29:02|  -53.0266|-118.3468|reviewed|earthquake|    NaN|  10.0|2018|Southern East Pac...|84d3281ffffffff|\n",
      "|  us2000ck04|82 km N of Batang...|      4.2|2018-01-01 02:33:56|   -5.7409| 110.6514|reviewed|earthquake|    NaN|542.41|2018|           Indonesia|848d8adffffffff|\n",
      "|  us1000bym9|76 km ESE of Copi...|      4.2|2018-01-01 02:36:00|  -27.5647| -69.5867|reviewed|earthquake|    NaN| 111.3|2018|               Chile|84b2013ffffffff|\n",
      "|  us2000ck03|59 km ESE of Yuji...|      4.2|2018-01-01 02:38:43|   22.9826| 121.0258|reviewed|earthquake|    NaN|  10.0|2018|              Taiwan|844b84dffffffff|\n",
      "|  us1000c0jd|     Chiapas, Mexico|      4.4|2018-01-01 02:52:37|   16.2525| -92.8963|reviewed|earthquake|    NaN|207.46|2018|              Mexico|846d233ffffffff|\n",
      "|ak017grzuwec|46 km W of Lake L...|      2.9|2018-01-01 03:03:23|   62.3394|-147.4324|reviewed|earthquake|    NaN|  44.3|2018|       United States|840c757ffffffff|\n",
      "|ak017gs0jz5k|55 km W of Nanwal...|      3.6|2018-01-01 04:20:23|   59.3419|-152.8955|reviewed|earthquake|    NaN|  76.4|2018|       United States|840c539ffffffff|\n",
      "|  us1000byp8|293 km N of Saipa...|      4.8|2018-01-01 05:18:50|   17.8573| 145.8866|reviewed|earthquake|    NaN|156.61|2018|Northern Mariana ...|844e62dffffffff|\n",
      "|  us2000ck1k|Pagan region, Nor...|      4.2|2018-01-01 05:49:14|   18.5434| 145.5894|reviewed|earthquake|    NaN|181.19|2018|Northern Mariana ...|844e71bffffffff|\n",
      "|  us1000bypf|113 km SE of Kimb...|      4.6|2018-01-01 06:10:47|   -6.2365| 150.8961|reviewed|earthquake|    NaN|  35.0|2018|    Papua New Guinea|849c945ffffffff|\n",
      "|  us1000byph|114 km SE of Goro...|      4.5|2018-01-01 06:22:30|   -0.2797| 123.6999|reviewed|earthquake|    NaN|127.24|2018|           Indonesia|8468dd7ffffffff|\n",
      "|pr2018001000|        Mona Passage|     2.51|2018-01-01 06:26:31|   18.3251| -67.2765|reviewed|earthquake|    NaN|  21.0|2018|        Mona Passage|844cc09ffffffff|\n",
      "|  ci37844303|4km SE of Ontario...|     3.09|2018-01-01 07:05:34|34.0316667| -117.593|reviewed|earthquake|    NaN|  4.08|2018|       United States|8429a0bffffffff|\n",
      "|  us1000bypr|77 km N of Khand?...|      4.2|2018-01-01 07:46:06|   37.6336|  72.4779|reviewed|earthquake|    NaN|201.07|2018|         Afghanistan|842083bffffffff|\n",
      "|  ci37844527|45km ENE of Manea...|     3.09|2018-01-01 09:48:57|31.8491667|-116.1185|reviewed|earthquake|    NaN| 12.31|2018|                  Mx|8448599ffffffff|\n",
      "+------------+--------------------+---------+-------------------+----------+---------+--------+----------+-------+------+----+--------------------+---------------+\n",
      "only showing top 20 rows\n",
      "\n"
     ]
    }
   ],
   "source": [
    "new_df.show()"
   ]
  },
  {
   "cell_type": "code",
   "execution_count": 22,
   "id": "4df1920a-0c46-4e6b-9467-2b072cfda8a9",
   "metadata": {},
   "outputs": [
    {
     "name": "stdout",
     "output_type": "stream",
     "text": [
      "1016786\n"
     ]
    }
   ],
   "source": [
    "df_normal_count = new_df.select('h3_index')\n",
    "print(df_normal_count.count())"
   ]
  },
  {
   "cell_type": "code",
   "execution_count": 23,
   "id": "afcba6b7-d4c2-4676-9a15-45bd1d4e9fe3",
   "metadata": {},
   "outputs": [
    {
     "data": {
      "text/plain": [
       "39374"
      ]
     },
     "execution_count": 23,
     "metadata": {},
     "output_type": "execute_result"
    }
   ],
   "source": [
    "df_distinct = new_df.select('h3_index').distinct()\n",
    "df_distinct_count = df_distinct.count()\n",
    "df_distinct_count"
   ]
  },
  {
   "cell_type": "code",
   "execution_count": 24,
   "id": "4892fbd5-9336-4cd5-b869-ffb24dd58cf8",
   "metadata": {},
   "outputs": [],
   "source": [
    "new_df_count = new_df.groupBy('h3_index').count()"
   ]
  },
  {
   "cell_type": "code",
   "execution_count": 25,
   "id": "1cc72d3d-1b41-4788-8e89-f3bce34eb646",
   "metadata": {},
   "outputs": [
    {
     "name": "stdout",
     "output_type": "stream",
     "text": [
      "+---------------+-----+\n",
      "|       h3_index|count|\n",
      "+---------------+-----+\n",
      "|844ce3bffffffff|  647|\n",
      "|840cdd7ffffffff|  143|\n",
      "|8425323ffffffff|    9|\n",
      "|84066b9ffffffff|   10|\n",
      "|849b769ffffffff|   25|\n",
      "|846864dffffffff|    9|\n",
      "|840ccedffffffff|   41|\n",
      "|8495501ffffffff|   28|\n",
      "|849a2c7ffffffff|   16|\n",
      "|84686a7ffffffff|  269|\n",
      "|8429935ffffffff|   57|\n",
      "|849b213ffffffff|  121|\n",
      "|844271dffffffff|  111|\n",
      "|8429135ffffffff|   63|\n",
      "|84685d3ffffffff|  120|\n",
      "|8422f3bffffffff|  260|\n",
      "|849a243ffffffff|   83|\n",
      "|8416089ffffffff|   47|\n",
      "|842db1dffffffff|    4|\n",
      "|8473b15ffffffff|   25|\n",
      "+---------------+-----+\n",
      "only showing top 20 rows\n",
      "\n"
     ]
    }
   ],
   "source": [
    "new_df_count.show()"
   ]
  },
  {
   "cell_type": "code",
   "execution_count": 26,
   "id": "025d10e1-7929-431a-9e86-2df8ad8f78ca",
   "metadata": {},
   "outputs": [],
   "source": [
    "agg_df = new_df.groupBy(\"h3_index\").agg(\n",
    "    F.min(\"magnitude\").alias(\"min_magnitude\"),\n",
    "    F.max(\"magnitude\").alias(\"max_magnitude\"),\n",
    "    F.stddev(\"magnitude\").alias(\"std_magnitude\")\n",
    ")"
   ]
  },
  {
   "cell_type": "code",
   "execution_count": 27,
   "id": "a7c5d087-b321-4a6c-a4fe-47187786554c",
   "metadata": {},
   "outputs": [
    {
     "name": "stdout",
     "output_type": "stream",
     "text": [
      "+---------------+-------------+-------------+-------------------+\n",
      "|       h3_index|min_magnitude|max_magnitude|      std_magnitude|\n",
      "+---------------+-------------+-------------+-------------------+\n",
      "|844ce3bffffffff|          2.5|          5.1|0.30190037991380164|\n",
      "|840cdd7ffffffff|          2.5|          6.2| 0.7407640979642962|\n",
      "|8425323ffffffff|          4.1|         5.73| 0.6042580390675641|\n",
      "|84066b9ffffffff|          4.3|          5.4| 0.3973523485382826|\n",
      "|849b769ffffffff|          3.7|          5.4|0.36660605559646725|\n",
      "|846864dffffffff|          4.1|         5.64|0.46494922064433847|\n",
      "|840ccedffffffff|          2.5|          4.2|0.40728128950454845|\n",
      "|8495501ffffffff|          4.0|         5.62| 0.3667763183806553|\n",
      "|849a2c7ffffffff|          3.5|          5.7| 0.5224541447183029|\n",
      "|84686a7ffffffff|          3.6|         6.67| 0.4582175910042792|\n",
      "|8429935ffffffff|          2.5|         4.17| 0.3274951452700309|\n",
      "|849b213ffffffff|          4.0|          6.2| 0.4557724499910002|\n",
      "|844271dffffffff|          3.3|          6.0|0.48407734540141023|\n",
      "|8429135ffffffff|          2.5|         3.83|0.34214677219356937|\n",
      "|84685d3ffffffff|          3.5|          5.9| 0.4924044931496357|\n",
      "|8422f3bffffffff|          2.5|          6.8| 0.7082910271146874|\n",
      "|849a243ffffffff|          4.1|          6.9| 0.4771567027233972|\n",
      "|8416089ffffffff|          3.4|          6.1|0.44346420321990515|\n",
      "|842db1dffffffff|          2.9|          4.7| 0.7632168761236873|\n",
      "|8473b15ffffffff|          4.0|          5.5|0.33625387234449317|\n",
      "+---------------+-------------+-------------+-------------------+\n",
      "only showing top 20 rows\n",
      "\n"
     ]
    }
   ],
   "source": [
    "agg_df.show()"
   ]
  },
  {
   "cell_type": "code",
   "execution_count": 28,
   "id": "66ff2cf0-2dd8-415c-9788-49b102d67df8",
   "metadata": {},
   "outputs": [],
   "source": [
    "new_df = new_df.join(agg_df, on=\"h3_index\", how=\"left\")"
   ]
  },
  {
   "cell_type": "code",
   "execution_count": 29,
   "id": "32930dcc-5343-4c2e-af8d-f8761927c9e6",
   "metadata": {},
   "outputs": [
    {
     "name": "stdout",
     "output_type": "stream",
     "text": [
      "+---------------+------------+--------------------+---------+-------------------+----------+------------+--------+----------+-------+-----+----+-------------+-------------+-------------+-------------------+\n",
      "|       h3_index|          id|               place|magnitude|               time|  latitude|   longitude|  status|      type|tsunami|depth|year|      country|min_magnitude|max_magnitude|      std_magnitude|\n",
      "+---------------+------------+--------------------+---------+-------------------+----------+------------+--------+----------+-------+-----+----+-------------+-------------+-------------+-------------------+\n",
      "|840c539ffffffff|ak017gs0jz5k|55 km W of Nanwal...|      3.6|2018-01-01 04:20:23|   59.3419|   -152.8955|reviewed|earthquake|    NaN| 76.4|2018|United States|          2.5|          6.4| 0.5330689520073465|\n",
      "|840c747ffffffff|ak0164qhpngl|47 km SSW of Cant...|      2.6|2016-04-12 14:30:01|   63.0083|   -149.3622|reviewed|earthquake|    NaN| 76.6|2016|United States|          2.5|          5.0|0.47060079179509523|\n",
      "|840c76dffffffff| ak995vobscl|      Central Alaska|      2.5|1995-01-19 21:01:21|   63.3943|   -151.9203|reviewed|earthquake|    NaN|  6.8|1995|United States|          2.5|          5.2|0.43370858646503285|\n",
      "|841625bffffffff|  usp000egge|55 km ESE of Osso...|      4.2|2006-05-07 19:15:03|    59.109|     164.006|reviewed|earthquake|    NaN| 35.1|2006|       Russia|          4.2|          4.2|               NULL|\n",
      "|841ed29ffffffff|  usp000bhwf|20 km NW of Achar...|      4.5|2002-11-17 23:54:59|     39.93|       19.66|reviewed|earthquake|    NaN| 24.0|2002|       Greece|          2.6|          4.9| 0.4794567199261215|\n",
      "|841ed63ffffffff|  usp000bhwg|13 km WSW of Hima...|      3.4|2002-11-17 23:57:58|     40.06|        19.6|reviewed|earthquake|    NaN|  5.0|2002|      Albania|          2.5|         5.58| 0.5244456750730221|\n",
      "|8420821ffffffff|  usp000anut|40 km SSE of Jurm...|      4.1|2001-09-08 21:19:48|    36.545|      71.044|reviewed|earthquake|    NaN|214.3|2001|  Afghanistan|          3.0|          7.5| 0.4330064772001513|\n",
      "|8426847ffffffff|  usp000dcw5|42 km NNE of Dixo...|      3.0|2005-01-09 18:40:51|    41.387|    -107.346|reviewed|earthquake|    NaN|  5.0|2005|United States|          2.8|          3.5| 0.2422120283277994|\n",
      "|8428315ffffffff|  nc30066498|4 km SW of Cobb, ...|     2.63|1995-01-19 23:24:17|38.7941667|-122.7643333|reviewed|earthquake|    NaN|0.091|1995|United States|          2.5|         5.01|0.35239902469014167|\n",
      "|8428315ffffffff|    nc143508|5 km N of Geyserv...|      3.3|1989-09-03 20:54:42|38.7586667|-122.8968333|reviewed|earthquake|    0.0|4.441|1989|United States|          2.5|         5.01|0.35239902469014167|\n",
      "|8428ce7ffffffff|  uw10534953|80 km WSW of Tofi...|      4.0|2001-09-08 22:50:02|48.8501667|-126.9001667|reviewed|earthquake|    NaN|9.288|2001|       Canada|          2.5|          4.5| 0.6273527146441853|\n",
      "|842d157ffffffff|  usp000dcw4|15 km NNE of K?r?...|      3.4|2005-01-09 18:36:54|    39.274|      34.237|reviewed|earthquake|    NaN|  5.0|2005|       Turkey|          3.4|          3.4|                0.0|\n",
      "|842da63ffffffff|  usp000bhwp|52 km SE of Prota...|      3.3|2002-11-18 01:20:12|     34.64|       34.42|reviewed|earthquake|    NaN| 25.0|2002|       Cyprus|          3.2|          5.4| 0.7149203529842407|\n",
      "|842e1d5ffffffff|  usp0003z66|85 km E of Mutsu,...|      4.4|1989-09-03 15:44:30|    41.324|     142.242|reviewed|earthquake|    0.0| 83.2|1989|        Japan|          3.0|          6.4| 0.5253885622731622|\n",
      "|843c6adffffffff|  usp000bhwt|Southern Qinghai,...|      4.0|2002-11-18 02:52:02|    32.157|      95.557|reviewed|earthquake|    NaN| 33.0|2002|        China|          4.0|          4.7| 0.2926886855802025|\n",
      "|843f633ffffffff|  usp0006rky|20 km NNE of Göce...|      3.4|1995-01-20 00:29:11|    36.934|      29.003|reviewed|earthquake|    NaN| 10.0|1995|       Turkey|          2.8|          5.4|0.39229348169261075|\n",
      "|84400b7ffffffff|  us6000g80u|26 km ESE of Xunc...|      4.7|2021-12-01 03:09:35|    28.391|    104.9714|reviewed|earthquake|    NaN| 10.0|2021|        China|          3.8|          5.8| 0.3437333420571348|\n",
      "|844052dffffffff|  usp0006rkp|104 km SSW of Luo...|      4.3|1995-01-19 20:24:19|    28.597|     103.437|reviewed|earthquake|    NaN| 33.0|1995|        China|          4.1|         5.96| 0.5855119490021041|\n",
      "|8444c81ffffffff|     se60946|4 km ENE of Niota...|      2.5|1989-09-03 15:27:36|    35.535|     -84.499|reviewed|earthquake|    0.0| 18.8|1989|United States|          2.5|          4.4| 0.4211891319826342|\n",
      "|8448599ffffffff|  ci37844527|45km ENE of Manea...|     3.09|2018-01-01 09:48:57|31.8491667|   -116.1185|reviewed|earthquake|    NaN|12.31|2018|           Mx|          2.5|          6.8| 0.5378826337848819|\n",
      "+---------------+------------+--------------------+---------+-------------------+----------+------------+--------+----------+-------+-----+----+-------------+-------------+-------------+-------------------+\n",
      "only showing top 20 rows\n",
      "\n"
     ]
    }
   ],
   "source": [
    "new_df.show()"
   ]
  },
  {
   "cell_type": "code",
   "execution_count": 30,
   "id": "303322a8-896b-4cde-98d1-45bc55f7e7f6",
   "metadata": {},
   "outputs": [
    {
     "name": "stdout",
     "output_type": "stream",
     "text": [
      "1016786\n"
     ]
    }
   ],
   "source": [
    "print(new_df.count())"
   ]
  },
  {
   "cell_type": "code",
   "execution_count": 31,
   "id": "f0322b70-fddb-47bb-b7da-7f3a159206d2",
   "metadata": {},
   "outputs": [
    {
     "name": "stdout",
     "output_type": "stream",
     "text": [
      "+--------+---+-----+---------+----+--------+---------+------+----+-------+-----+----+-------+-------------+-------------+-------------+\n",
      "|h3_index| id|place|magnitude|time|latitude|longitude|status|type|tsunami|depth|year|country|min_magnitude|max_magnitude|std_magnitude|\n",
      "+--------+---+-----+---------+----+--------+---------+------+----+-------+-----+----+-------+-------------+-------------+-------------+\n",
      "|       0|  0|    0|        0|   0|       0|        0|     0|   0|      0|    0|   0|      0|            0|            0|        11911|\n",
      "+--------+---+-----+---------+----+--------+---------+------+----+-------+-----+----+-------+-------------+-------------+-------------+\n",
      "\n"
     ]
    }
   ],
   "source": [
    "null_counts = new_df.select([F.sum(F.col(c).isNull().cast('int')).alias(c) for c in new_df.columns])\n",
    "null_counts.show()"
   ]
  },
  {
   "cell_type": "code",
   "execution_count": 32,
   "id": "d8cb40c8-d0f8-4c73-92c4-c5af11488933",
   "metadata": {},
   "outputs": [],
   "source": [
    "jdbc_url = \"jdbc:postgresql://host.docker.internal:5432/postgres\"\n",
    "connection_props = {\n",
    "    \"user\": \"postgres\",\n",
    "    \"password\": \"admin123\",\n",
    "    \"driver\": \"org.postgresql.Driver\"\n",
    "}"
   ]
  },
  {
   "cell_type": "code",
   "execution_count": 34,
   "id": "11ed8fb9-9651-4edd-ba8c-005d12b905dd",
   "metadata": {},
   "outputs": [],
   "source": [
    "new_df.write.jdbc(url=jdbc_url, table='earthquake_data', mode='overwrite', properties=connection_props)"
   ]
  },
  {
   "cell_type": "code",
   "execution_count": null,
   "id": "f16af110-163f-4bff-9911-0887d4c6291e",
   "metadata": {},
   "outputs": [],
   "source": []
  }
 ],
 "metadata": {
  "kernelspec": {
   "display_name": "Python 3 (ipykernel)",
   "language": "python",
   "name": "python3"
  },
  "language_info": {
   "codemirror_mode": {
    "name": "ipython",
    "version": 3
   },
   "file_extension": ".py",
   "mimetype": "text/x-python",
   "name": "python",
   "nbconvert_exporter": "python",
   "pygments_lexer": "ipython3",
   "version": "3.11.6"
  }
 },
 "nbformat": 4,
 "nbformat_minor": 5
}
